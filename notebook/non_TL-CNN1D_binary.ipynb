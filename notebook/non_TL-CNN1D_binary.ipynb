{
 "cells": [
  {
   "cell_type": "code",
   "execution_count": 1,
   "id": "4fd5d5ec-a86a-47d2-b337-b2f75196b665",
   "metadata": {},
   "outputs": [
    {
     "name": "stderr",
     "output_type": "stream",
     "text": [
      "2024-12-09 00:19:07.421156: E external/local_xla/xla/stream_executor/cuda/cuda_dnn.cc:9261] Unable to register cuDNN factory: Attempting to register factory for plugin cuDNN when one has already been registered\n",
      "2024-12-09 00:19:07.421208: E external/local_xla/xla/stream_executor/cuda/cuda_fft.cc:607] Unable to register cuFFT factory: Attempting to register factory for plugin cuFFT when one has already been registered\n",
      "2024-12-09 00:19:07.423788: E external/local_xla/xla/stream_executor/cuda/cuda_blas.cc:1515] Unable to register cuBLAS factory: Attempting to register factory for plugin cuBLAS when one has already been registered\n",
      "2024-12-09 00:19:07.441217: I tensorflow/core/platform/cpu_feature_guard.cc:182] This TensorFlow binary is optimized to use available CPU instructions in performance-critical operations.\n",
      "To enable the following instructions: AVX2 FMA, in other operations, rebuild TensorFlow with the appropriate compiler flags.\n",
      "2024-12-09 00:19:09.020905: W tensorflow/compiler/tf2tensorrt/utils/py_utils.cc:38] TF-TRT Warning: Could not find TensorRT\n"
     ]
    }
   ],
   "source": [
    "# Imports modules and packages\n",
    "import tensorflow as tf\n",
    "import keras\n",
    "import matplotlib.pyplot as plt\n",
    "import numpy as np\n",
    "import pandas as pd\n",
    "import seaborn as sns\n",
    "\n",
    "from tensorflow.keras import datasets, layers, models\n",
    "from tensorflow.keras.callbacks import EarlyStopping\n",
    "from tensorflow.keras import mixed_precision\n",
    "from sklearn.preprocessing import StandardScaler\n",
    "from sklearn.model_selection import train_test_split\n",
    "from sklearn.metrics import confusion_matrix, classification_report\n",
    "from sklearn import metrics\n",
    "from sklearn.metrics import accuracy_score, precision_score, recall_score, f1_score\n",
    "from keras.models import load_model, Sequential\n",
    "from keras.layers import Dense, Dropout\n",
    "\n",
    "# Disable warns\n",
    "pd.options.mode.chained_assignment = None  # default='warn'\n",
    "\n",
    "# Set seaborn\n",
    "sns.set()"
   ]
  },
  {
   "cell_type": "code",
   "execution_count": 2,
   "id": "778c44a4-6644-4e4d-aa67-c7f537ea1a33",
   "metadata": {},
   "outputs": [
    {
     "name": "stdout",
     "output_type": "stream",
     "text": [
      "2.15.1\n"
     ]
    }
   ],
   "source": [
    "print(tf.__version__)"
   ]
  },
  {
   "cell_type": "markdown",
   "id": "251e7625-8337-4a31-827b-c9aceeb8b00a",
   "metadata": {},
   "source": [
    "### Base4 Train & Base4 test"
   ]
  },
  {
   "cell_type": "code",
   "execution_count": 3,
   "id": "377789a1-7835-4faf-bc26-002d1a08fc54",
   "metadata": {},
   "outputs": [],
   "source": [
    "data_train = pd.read_csv('~/04_Semester_4/revisi/csv_files/UNSW_NB15_base4_train.csv', low_memory=False)"
   ]
  },
  {
   "cell_type": "code",
   "execution_count": 4,
   "id": "010ffc3b-803a-4792-91f7-af07f97830d8",
   "metadata": {},
   "outputs": [],
   "source": [
    "# Select the 'proto' and 'state' values\n",
    "data_train= data_train.loc[(data_train['proto'] == 'tcp') | (data_train['proto'] =='udp') | (data_train['proto'] =='icmp') | (data_train['proto'] =='arp') | (data_train['proto'] =='ipv6-icmp') | (data_train['proto'] =='igmp') | (data_train['proto'] =='rarp'), :]\n",
    "data_train = data_train.loc[(data_train['state'] == 'RST') | (data_train['state'] =='REQ') | (data_train['state'] =='INT') | (data_train['state'] =='FIN') | (data_train['state'] =='CON') | (data_train['state'] =='ECO') | (data_train['state'] =='ACC') | (data_train['state'] =='PAR'), :]\n",
    "\n",
    "# Extracting dataset labels\n",
    "data_labels=data_train[['label']]\n",
    "\n",
    "# Drop the invalid features and select data features\n",
    "data_features=data_train[['proto','srcip','sport','dstip','dsport','spkts','dpkts','sbytes','dbytes','state','stime','ltime','dur']]\n",
    "\n",
    "# Filling NaN values with -1\n",
    "data_features = data_features.fillna(value=-1)"
   ]
  },
  {
   "cell_type": "code",
   "execution_count": 5,
   "id": "60552eb0-3c65-4c4b-81b2-815417d795c6",
   "metadata": {},
   "outputs": [
    {
     "data": {
      "text/plain": [
       "(356047, 15)"
      ]
     },
     "execution_count": 5,
     "metadata": {},
     "output_type": "execute_result"
    }
   ],
   "source": [
    "data_train.shape"
   ]
  },
  {
   "cell_type": "code",
   "execution_count": 6,
   "id": "88223829-12bf-4ba1-b772-0e3ffb623c0d",
   "metadata": {},
   "outputs": [],
   "source": [
    "# Preprocess IP and ports features\n",
    "# IP Source Address\n",
    "data_features['srcip'] = data_features['srcip'].apply(lambda x: x.split(\".\")[-1])\n",
    "data_features['srcip'] = data_features['srcip'].apply(lambda x: x.split(\":\")[-1])\n",
    "data_features['srcip'] = data_features['srcip'].apply(lambda x: int(x, 16))\n",
    "\n",
    "# IP Destination Address\n",
    "data_features['dstip'] = data_features['dstip'].apply(lambda x: x.split(\".\")[-1])\n",
    "data_features['dstip'] = data_features['dstip'].apply(lambda x: x.split(\":\")[-1])\n",
    "data_features['dstip'] = data_features['dstip'].apply(lambda x: int(x, 16))\n",
    "\n",
    "# Ports\n",
    "data_features['sport'] = data_features['sport'].apply(lambda x: x.replace('0x','') if \"0x\" in str(x) else x)\n",
    "data_features['dsport'] = data_features['dsport'].apply(lambda x: x.replace('0x','') if \"0x\" in str(x) else x)\n",
    "\n",
    "# Convert all ports with 0 decimal, and HEX to DEC\n",
    "data_features['sport'] = data_features['sport'].apply(lambda x: str(x)[:-2] if str(x)[-2:] == '.0' else str(x))\n",
    "data_features['sport'] = data_features['sport'].apply(lambda x: -1 if str(x).isalpha()==True else int(x,16))\n",
    "\n",
    "data_features['dsport'] = data_features['dsport'].apply(lambda x: str(x)[:-2] if str(x)[-2:] == '.0' else str(x))\n",
    "data_features['dsport'] = data_features['dsport'].apply(lambda x: \"None\" if x==\"-\" else x)\n",
    "data_features['dsport'] = data_features['dsport'].apply(lambda x: -1 if str(x).isalpha()==True else int(x,16))\n",
    "\n",
    "# Convert some fields to logarithmic\n",
    "log1p_col = ['dur', 'sbytes', 'dbytes', 'spkts']\n",
    "\n",
    "for col in log1p_col:\n",
    "    data_features[col] = data_features[col].apply(np.log1p)\n",
    "\n",
    "# Generate 1 new columns to fit with training\n",
    "#auxCol=data_features['sbytes']\n",
    "#auxCol=0\n",
    "#data_features.insert(13, 'proto_igmp', auxCol, True)\n",
    "\n",
    "# Transform to One hot encoding - FEATURES\n",
    "data_features=pd.get_dummies(data_features)\n",
    "data_labels = pd.get_dummies(data_labels)\n",
    "\n",
    "# Normalize all data features\n",
    "data_features = StandardScaler().fit_transform(data_features)\n",
    "\n",
    "#Add dimension to data features\n",
    "data_features = np.expand_dims(data_features, axis=2)\n",
    "\n",
    "x_train1, y_train1=data_features, data_labels"
   ]
  },
  {
   "cell_type": "code",
   "execution_count": 7,
   "id": "03b6aac8-8d5f-4216-99f7-2813a5b4d4a5",
   "metadata": {},
   "outputs": [
    {
     "name": "stdout",
     "output_type": "stream",
     "text": [
      "(356047, 24, 1)\n",
      "(356047, 1)\n",
      "label\n",
      "0        183969\n",
      "1        172078\n",
      "Name: count, dtype: int64\n"
     ]
    }
   ],
   "source": [
    "print(x_train1.shape)\n",
    "print(y_train1.shape)\n",
    "print(y_train1.value_counts())"
   ]
  },
  {
   "cell_type": "code",
   "execution_count": 8,
   "id": "4d51f8b0-5e56-4289-a7fc-2e8df38df6ac",
   "metadata": {},
   "outputs": [],
   "source": [
    "data = pd.read_csv('~/04_Semester_4/revisi/csv_files/UNSW_NB15_base4_test.csv', low_memory=False)"
   ]
  },
  {
   "cell_type": "code",
   "execution_count": 9,
   "id": "c07b5bc5-2899-47ac-b549-f3e9b4782d07",
   "metadata": {},
   "outputs": [
    {
     "data": {
      "text/plain": [
       "(122910, 15)"
      ]
     },
     "execution_count": 9,
     "metadata": {},
     "output_type": "execute_result"
    }
   ],
   "source": [
    "data.shape"
   ]
  },
  {
   "cell_type": "code",
   "execution_count": 10,
   "id": "cb105d37-aa33-43e6-8549-5652bf689603",
   "metadata": {},
   "outputs": [],
   "source": [
    "# Select the 'proto' and 'state' values that I want\n",
    "data = data.loc[(data['proto'] == 'tcp') | (data['proto'] =='udp') | (data['proto'] =='icmp') | (data['proto'] =='arp') | (data['proto'] =='ipv6-icmp') | (data['proto'] =='igmp') | (data['proto'] =='rarp'), :]\n",
    "data = data.loc[(data['state'] == 'RST') | (data['state'] =='REQ') | (data['state'] =='INT') | (data['state'] =='FIN') | (data['state'] =='CON') | (data['state'] =='ECO') | (data['state'] =='ACC') | (data['state'] =='PAR'), :]\n",
    "\n",
    "# Extracting dataset labels\n",
    "data_labels=data[['label']]\n",
    "\n",
    "# Drop the invalid features and select interested data features\n",
    "data_features=data[['proto','srcip','sport','dstip','dsport','spkts','dpkts','sbytes','dbytes','state','stime','ltime','dur']]\n",
    "\n",
    "# Filling NaN values with -1\n",
    "data_features = data_features.fillna(value=-1)\n",
    "\n",
    "\"\"\"PREPROCESSING\"\"\"\n",
    "\n",
    "# Preprocess IP and ports features\n",
    "# IP Source Address\n",
    "data_features['srcip'] = data_features['srcip'].apply(lambda x: x.split(\".\")[-1])\n",
    "data_features['srcip'] = data_features['srcip'].apply(lambda x: x.split(\":\")[-1])\n",
    "data_features['srcip'] = data_features['srcip'].apply(lambda x: int(x, 16))\n",
    "\n",
    "# IP Destination Address\n",
    "data_features['dstip'] = data_features['dstip'].apply(lambda x: x.split(\".\")[-1])\n",
    "data_features['dstip'] = data_features['dstip'].apply(lambda x: x.split(\":\")[-1])\n",
    "data_features['dstip'] = data_features['dstip'].apply(lambda x: int(x, 16))\n",
    "\n",
    "# Ports\n",
    "data_features['sport'] = data_features['sport'].apply(lambda x: x.replace('0x','') if \"0x\" in str(x) else x)\n",
    "data_features['dsport'] = data_features['dsport'].apply(lambda x: x.replace('0x','') if \"0x\" in str(x) else x)\n",
    "\n",
    "# Convert all ports with 0 decimal, and HEX to DEC\n",
    "data_features['sport'] = data_features['sport'].apply(lambda x: str(x)[:-2] if str(x)[-2:] == '.0' else str(x))\n",
    "data_features['sport'] = data_features['sport'].apply(lambda x: -1 if str(x).isalpha()==True else int(x,16))\n",
    "\n",
    "data_features['dsport'] = data_features['dsport'].apply(lambda x: str(x)[:-2] if str(x)[-2:] == '.0' else str(x))\n",
    "data_features['dsport'] = data_features['dsport'].apply(lambda x: \"None\" if x==\"-\" else x)\n",
    "data_features['dsport'] = data_features['dsport'].apply(lambda x: -1 if str(x).isalpha()==True else int(x,16))\n",
    "\n",
    "# Convert field to int format\n",
    "data_features['srcip'] = data_features['srcip'].astype(int)\n",
    "data_features['sport'] = data_features['sport'].astype(int)\n",
    "data_features['dstip'] = data_features['dstip'].astype(int)\n",
    "data_features['dsport'] = data_features['dsport'].astype(int)\n",
    "\n",
    "# Convert some fields to logarithmic\n",
    "log1p_col = ['dur', 'sbytes', 'dbytes', 'spkts']\n",
    "\n",
    "for col in log1p_col:\n",
    "    data_features[col] = data_features[col].apply(np.log1p)\n",
    "\n",
    "# Generate 1 new columns to fit with training\n",
    "auxCol=data_features['sbytes']\n",
    "auxCol=0\n",
    "data_features.insert(13, 'proto_igmp', auxCol, True)\n",
    "#data_features.insert(14, 'state_PAR', auxCol, True)\n",
    "    \n",
    "# Insert the new column in data labels\n",
    "data_labels = pd.get_dummies(data_labels)\n",
    "\n",
    "# Transform to One hot encoding - FEATURES\n",
    "data_features=pd.get_dummies(data_features)\n",
    "\n",
    "# Normalize all data features\n",
    "data_features = StandardScaler().fit_transform(data_features)\n",
    "\n",
    "#Add dimension to data features\n",
    "data_features = np.expand_dims(data_features, axis=2)\n",
    "\n",
    "x_test1, y_test1=data_features, data_labels"
   ]
  },
  {
   "cell_type": "code",
   "execution_count": 11,
   "id": "3e7518a4-7c10-4d4f-a141-23541a02433a",
   "metadata": {},
   "outputs": [
    {
     "name": "stdout",
     "output_type": "stream",
     "text": [
      "(118675, 24, 1)\n",
      "(118675, 1)\n",
      "label\n",
      "0        61318\n",
      "1        57357\n",
      "Name: count, dtype: int64\n"
     ]
    }
   ],
   "source": [
    "print(x_test1.shape)\n",
    "print(y_test1.shape)\n",
    "print(y_test1.value_counts())"
   ]
  },
  {
   "cell_type": "code",
   "execution_count": 12,
   "id": "06373f4e-e4e8-46cb-bd3d-9df55e916a0f",
   "metadata": {},
   "outputs": [],
   "source": [
    "def clear_session():\n",
    "\n",
    "    # Clear Session\n",
    "    tf.keras.backend.clear_session()\n",
    "\n",
    "    # Memory growth\n",
    "    gpus = tf.config.experimental.list_physical_devices('GPU')\n",
    "\n",
    "    if gpus:\n",
    "        try:\n",
    "\n",
    "            for gpu in gpus:\n",
    "                tf.config.experimental.set_memory_growth(gpu, True)\n",
    "        except RuntimeError as e:\n",
    "            print(e)\n",
    "\n",
    "    return"
   ]
  },
  {
   "cell_type": "code",
   "execution_count": 13,
   "id": "cf640dea-d03f-4868-acf4-e77325ea33c9",
   "metadata": {},
   "outputs": [],
   "source": [
    "# Early Stopping\n",
    "\n",
    "filepath = '~/04_Semester_4/revisi/tmp/non_tl_checkpoint.model.keras' # define where the model is saved\n",
    "callbacks = [\n",
    "        keras.callbacks.EarlyStopping(\n",
    "            monitor = 'val_loss', # Use accuracy to monitor the model\n",
    "            patience = 15 # Stop after 2 steps with lower accuracy\n",
    "        ),\n",
    "        keras.callbacks.ModelCheckpoint(\n",
    "            filepath = filepath, # file where the checkpoint is saved\n",
    "            monitor = 'val_loss', # Don't overwrite the saved model unless val_loss is worse\n",
    "            save_best_only = True)]# Only save model if it is the best"
   ]
  },
  {
   "cell_type": "code",
   "execution_count": 14,
   "id": "f2e13725-5725-4005-bca2-4ee77556792b",
   "metadata": {},
   "outputs": [],
   "source": [
    "# Model building and definition\n",
    "def model_cnn():\n",
    "\n",
    "    # define the inputs\n",
    "    inputs = (24,1)\n",
    "\n",
    "    # define the model architecture\n",
    "    model = Sequential()\n",
    "\n",
    "    # Layer 1 : Conv1D, Normalization, AveragePooling and Dropout\n",
    "    model.add(layers.Conv1D(filters=64,  input_shape=inputs, kernel_size=(24), activation='relu', padding='same'))\n",
    "    model.add(layers.Normalization())\n",
    "    model.add(layers.MaxPooling1D(pool_size=(2),padding='same'))\n",
    "    model.add(layers.SpatialDropout1D(0.05))\n",
    "\n",
    "    # Layer 2 : Conv1D, Normalization, AveragePooling and Dropout\n",
    "    model.add(layers.Conv1D(filters=64, kernel_size=(24), activation='relu', padding='same'))\n",
    "    model.add(layers.Normalization())\n",
    "    model.add(layers.MaxPooling1D(pool_size=(2),padding='same'))\n",
    "    model.add(layers.SpatialDropout1D(0.05)) \n",
    "    \n",
    "    # Flatten layer\n",
    "    model.add(layers.Flatten())\n",
    "\n",
    "    # Fully connected layer\n",
    "    model.add(Dense(512, activation='relu'))\n",
    "\n",
    "    #Adding the output layer\n",
    "    model.add(Dense(1, activation='sigmoid'))\n",
    "\n",
    "    # Adding the optimizer\n",
    "    adam = keras.optimizers.Adam(learning_rate=6e-5)\n",
    "    loss = keras.losses.BinaryCrossentropy()\n",
    "    model.compile(optimizer = adam,\n",
    "                  loss = loss,\n",
    "                  metrics = ['accuracy'])\n",
    "\n",
    "    return model"
   ]
  },
  {
   "cell_type": "code",
   "execution_count": 15,
   "id": "3414760a-35d8-4180-b630-4d7f084ddaa4",
   "metadata": {},
   "outputs": [
    {
     "name": "stderr",
     "output_type": "stream",
     "text": [
      "2024-12-09 00:19:47.638977: I external/local_xla/xla/stream_executor/cuda/cuda_executor.cc:901] successful NUMA node read from SysFS had negative value (-1), but there must be at least one NUMA node, so returning NUMA node zero. See more at https://github.com/torvalds/linux/blob/v6.0/Documentation/ABI/testing/sysfs-bus-pci#L344-L355\n",
      "2024-12-09 00:19:47.745734: I external/local_xla/xla/stream_executor/cuda/cuda_executor.cc:901] successful NUMA node read from SysFS had negative value (-1), but there must be at least one NUMA node, so returning NUMA node zero. See more at https://github.com/torvalds/linux/blob/v6.0/Documentation/ABI/testing/sysfs-bus-pci#L344-L355\n",
      "2024-12-09 00:19:47.746097: I external/local_xla/xla/stream_executor/cuda/cuda_executor.cc:901] successful NUMA node read from SysFS had negative value (-1), but there must be at least one NUMA node, so returning NUMA node zero. See more at https://github.com/torvalds/linux/blob/v6.0/Documentation/ABI/testing/sysfs-bus-pci#L344-L355\n",
      "2024-12-09 00:19:47.747438: I external/local_xla/xla/stream_executor/cuda/cuda_executor.cc:901] successful NUMA node read from SysFS had negative value (-1), but there must be at least one NUMA node, so returning NUMA node zero. See more at https://github.com/torvalds/linux/blob/v6.0/Documentation/ABI/testing/sysfs-bus-pci#L344-L355\n",
      "2024-12-09 00:19:47.747851: I external/local_xla/xla/stream_executor/cuda/cuda_executor.cc:901] successful NUMA node read from SysFS had negative value (-1), but there must be at least one NUMA node, so returning NUMA node zero. See more at https://github.com/torvalds/linux/blob/v6.0/Documentation/ABI/testing/sysfs-bus-pci#L344-L355\n",
      "2024-12-09 00:19:47.748164: I external/local_xla/xla/stream_executor/cuda/cuda_executor.cc:901] successful NUMA node read from SysFS had negative value (-1), but there must be at least one NUMA node, so returning NUMA node zero. See more at https://github.com/torvalds/linux/blob/v6.0/Documentation/ABI/testing/sysfs-bus-pci#L344-L355\n",
      "2024-12-09 00:19:47.815790: I external/local_xla/xla/stream_executor/cuda/cuda_executor.cc:901] successful NUMA node read from SysFS had negative value (-1), but there must be at least one NUMA node, so returning NUMA node zero. See more at https://github.com/torvalds/linux/blob/v6.0/Documentation/ABI/testing/sysfs-bus-pci#L344-L355\n",
      "2024-12-09 00:19:47.816155: I external/local_xla/xla/stream_executor/cuda/cuda_executor.cc:901] successful NUMA node read from SysFS had negative value (-1), but there must be at least one NUMA node, so returning NUMA node zero. See more at https://github.com/torvalds/linux/blob/v6.0/Documentation/ABI/testing/sysfs-bus-pci#L344-L355\n",
      "2024-12-09 00:19:47.816480: I external/local_xla/xla/stream_executor/cuda/cuda_executor.cc:901] successful NUMA node read from SysFS had negative value (-1), but there must be at least one NUMA node, so returning NUMA node zero. See more at https://github.com/torvalds/linux/blob/v6.0/Documentation/ABI/testing/sysfs-bus-pci#L344-L355\n",
      "2024-12-09 00:19:47.816697: I tensorflow/core/common_runtime/gpu/gpu_device.cc:1929] Created device /job:localhost/replica:0/task:0/device:GPU:0 with 1756 MB memory:  -> device: 0, name: NVIDIA GeForce MX110, pci bus id: 0000:01:00.0, compute capability: 5.0\n"
     ]
    },
    {
     "name": "stdout",
     "output_type": "stream",
     "text": [
      "Model: \"sequential\"\n",
      "_________________________________________________________________\n",
      " Layer (type)                Output Shape              Param #   \n",
      "=================================================================\n",
      " conv1d (Conv1D)             (None, 24, 64)            1600      \n",
      "                                                                 \n",
      " normalization (Normalizati  (None, 24, 64)            129       \n",
      " on)                                                             \n",
      "                                                                 \n",
      " max_pooling1d (MaxPooling1  (None, 12, 64)            0         \n",
      " D)                                                              \n",
      "                                                                 \n",
      " spatial_dropout1d (Spatial  (None, 12, 64)            0         \n",
      " Dropout1D)                                                      \n",
      "                                                                 \n",
      " conv1d_1 (Conv1D)           (None, 12, 64)            98368     \n",
      "                                                                 \n",
      " normalization_1 (Normaliza  (None, 12, 64)            129       \n",
      " tion)                                                           \n",
      "                                                                 \n",
      " max_pooling1d_1 (MaxPoolin  (None, 6, 64)             0         \n",
      " g1D)                                                            \n",
      "                                                                 \n",
      " spatial_dropout1d_1 (Spati  (None, 6, 64)             0         \n",
      " alDropout1D)                                                    \n",
      "                                                                 \n",
      " flatten (Flatten)           (None, 384)               0         \n",
      "                                                                 \n",
      " dense (Dense)               (None, 512)               197120    \n",
      "                                                                 \n",
      " dense_1 (Dense)             (None, 1)                 513       \n",
      "                                                                 \n",
      "=================================================================\n",
      "Total params: 297859 (1.14 MB)\n",
      "Trainable params: 297601 (1.14 MB)\n",
      "Non-trainable params: 258 (1.02 KB)\n",
      "_________________________________________________________________\n"
     ]
    }
   ],
   "source": [
    "model_cnn().summary()"
   ]
  },
  {
   "cell_type": "code",
   "execution_count": 17,
   "id": "8ca48270-55d8-4f35-a119-114170fb6535",
   "metadata": {},
   "outputs": [
    {
     "name": "stdout",
     "output_type": "stream",
     "text": [
      "Physical devices cannot be modified after being initialized\n",
      "INFO:tensorflow:Using MirroredStrategy with devices ('/job:localhost/replica:0/task:0/device:GPU:0',)\n",
      "Number of devices: 1\n",
      "Epoch 1/15\n",
      "INFO:tensorflow:Reduce to /job:localhost/replica:0/task:0/device:CPU:0 then broadcast to ('/job:localhost/replica:0/task:0/device:CPU:0',).\n",
      "INFO:tensorflow:Reduce to /job:localhost/replica:0/task:0/device:CPU:0 then broadcast to ('/job:localhost/replica:0/task:0/device:CPU:0',).\n"
     ]
    },
    {
     "name": "stderr",
     "output_type": "stream",
     "text": [
      "2024-12-09 00:20:36.199989: W external/local_tsl/tsl/framework/bfc_allocator.cc:296] Allocator (GPU_0_bfc) ran out of memory trying to allocate 4.27GiB with freed_by_count=0. The caller indicates that this is not a failure, but this may mean that there could be performance gains if more memory were available.\n",
      "2024-12-09 00:20:37.633737: W external/local_tsl/tsl/framework/bfc_allocator.cc:296] Allocator (GPU_0_bfc) ran out of memory trying to allocate 4.27GiB with freed_by_count=0. The caller indicates that this is not a failure, but this may mean that there could be performance gains if more memory were available.\n"
     ]
    },
    {
     "name": "stdout",
     "output_type": "stream",
     "text": [
      "173/174 [============================>.] - ETA: 0s - loss: 0.2513 - accuracy: 0.9579"
     ]
    },
    {
     "name": "stderr",
     "output_type": "stream",
     "text": [
      "2024-12-09 00:21:22.167368: W external/local_tsl/tsl/framework/bfc_allocator.cc:296] Allocator (GPU_0_bfc) ran out of memory trying to allocate 3.66GiB with freed_by_count=0. The caller indicates that this is not a failure, but this may mean that there could be performance gains if more memory were available.\n",
      "2024-12-09 00:21:23.393825: W external/local_tsl/tsl/framework/bfc_allocator.cc:296] Allocator (GPU_0_bfc) ran out of memory trying to allocate 3.66GiB with freed_by_count=0. The caller indicates that this is not a failure, but this may mean that there could be performance gains if more memory were available.\n",
      "2024-12-09 00:21:23.958408: W external/local_tsl/tsl/framework/bfc_allocator.cc:296] Allocator (GPU_0_bfc) ran out of memory trying to allocate 7.04GiB with freed_by_count=0. The caller indicates that this is not a failure, but this may mean that there could be performance gains if more memory were available.\n",
      "2024-12-09 00:21:23.958489: W external/local_tsl/tsl/framework/bfc_allocator.cc:296] Allocator (GPU_0_bfc) ran out of memory trying to allocate 7.04GiB with freed_by_count=0. The caller indicates that this is not a failure, but this may mean that there could be performance gains if more memory were available.\n",
      "2024-12-09 00:21:25.447621: W external/local_tsl/tsl/framework/bfc_allocator.cc:296] Allocator (GPU_0_bfc) ran out of memory trying to allocate 7.04GiB with freed_by_count=0. The caller indicates that this is not a failure, but this may mean that there could be performance gains if more memory were available.\n",
      "2024-12-09 00:21:25.447703: W external/local_tsl/tsl/framework/bfc_allocator.cc:296] Allocator (GPU_0_bfc) ran out of memory trying to allocate 7.04GiB with freed_by_count=0. The caller indicates that this is not a failure, but this may mean that there could be performance gains if more memory were available.\n"
     ]
    },
    {
     "name": "stdout",
     "output_type": "stream",
     "text": [
      "174/174 [==============================] - 60s 286ms/step - loss: 0.2504 - accuracy: 0.9580 - val_loss: 0.0702 - val_accuracy: 0.9799\n",
      "Epoch 2/15\n",
      "174/174 [==============================] - 42s 244ms/step - loss: 0.0541 - accuracy: 0.9834 - val_loss: 0.0438 - val_accuracy: 0.9851\n",
      "Epoch 3/15\n",
      "174/174 [==============================] - 42s 244ms/step - loss: 0.0390 - accuracy: 0.9872 - val_loss: 0.0362 - val_accuracy: 0.9879\n",
      "Epoch 4/15\n",
      "174/174 [==============================] - 43s 247ms/step - loss: 0.0341 - accuracy: 0.9890 - val_loss: 0.0328 - val_accuracy: 0.9894\n",
      "Epoch 5/15\n",
      "174/174 [==============================] - 43s 248ms/step - loss: 0.0310 - accuracy: 0.9900 - val_loss: 0.0302 - val_accuracy: 0.9903\n",
      "Epoch 6/15\n",
      "174/174 [==============================] - 43s 247ms/step - loss: 0.0292 - accuracy: 0.9908 - val_loss: 0.0284 - val_accuracy: 0.9909\n",
      "Epoch 7/15\n",
      "174/174 [==============================] - 43s 248ms/step - loss: 0.0274 - accuracy: 0.9912 - val_loss: 0.0269 - val_accuracy: 0.9912\n",
      "Epoch 8/15\n",
      "174/174 [==============================] - 43s 248ms/step - loss: 0.0261 - accuracy: 0.9915 - val_loss: 0.0259 - val_accuracy: 0.9912\n",
      "Epoch 9/15\n",
      "174/174 [==============================] - 43s 247ms/step - loss: 0.0253 - accuracy: 0.9917 - val_loss: 0.0252 - val_accuracy: 0.9917\n",
      "Epoch 10/15\n",
      "174/174 [==============================] - 43s 247ms/step - loss: 0.0247 - accuracy: 0.9919 - val_loss: 0.0244 - val_accuracy: 0.9919\n",
      "Epoch 11/15\n",
      "174/174 [==============================] - 43s 247ms/step - loss: 0.0238 - accuracy: 0.9921 - val_loss: 0.0246 - val_accuracy: 0.9920\n",
      "Epoch 12/15\n",
      "174/174 [==============================] - 43s 250ms/step - loss: 0.0230 - accuracy: 0.9923 - val_loss: 0.0234 - val_accuracy: 0.9922\n",
      "Epoch 13/15\n",
      "174/174 [==============================] - 43s 247ms/step - loss: 0.0228 - accuracy: 0.9924 - val_loss: 0.0237 - val_accuracy: 0.9923\n",
      "Epoch 14/15\n",
      "174/174 [==============================] - 43s 247ms/step - loss: 0.0225 - accuracy: 0.9925 - val_loss: 0.0225 - val_accuracy: 0.9923\n",
      "Epoch 15/15\n",
      "174/174 [==============================] - 43s 246ms/step - loss: 0.0220 - accuracy: 0.9926 - val_loss: 0.0221 - val_accuracy: 0.9924\n"
     ]
    }
   ],
   "source": [
    "# Clear session and Memory Growth\n",
    "clear_session()\n",
    "\n",
    "# Create a Strategy.\n",
    "mixed_precision.set_global_policy('mixed_float16')\n",
    "\n",
    "if tf.config.list_physical_devices('GPU'):\n",
    "    strategy = tf.distribute.MirroredStrategy()\n",
    "else:  # Use the Default Strategy\n",
    "    strategy = tf.distribute.get_strategy()\n",
    "\n",
    "print(\"Number of devices: {}\".format(strategy.num_replicas_in_sync))\n",
    "\n",
    "# Open a strategy scope.\n",
    "with strategy.scope():\n",
    "\n",
    "    model=model_cnn()\n",
    "\n",
    "    #x_train, x_test, y_train, y_test = train_test_split(data_features, data_labels, train_size=0.75, random_state=42,shuffle=True)\n",
    "\n",
    "\n",
    "# Train the model on all available devices.\n",
    "history = model.fit(x_train1, y_train1, validation_data=(x_test1, y_test1), epochs=15, batch_size=2048, callbacks=callbacks, verbose=1)\n",
    "history1 = history"
   ]
  },
  {
   "cell_type": "code",
   "execution_count": 18,
   "id": "2a52281e-aa58-41d0-986f-5ef25bdf87df",
   "metadata": {},
   "outputs": [
    {
     "name": "stdout",
     "output_type": "stream",
     "text": [
      "3709/3709 [==============================] - 21s 5ms/step - loss: 0.0221 - accuracy: 0.9924\n",
      "test loss, test acc: [0.022120364010334015, 0.9924415349960327]\n"
     ]
    }
   ],
   "source": [
    "#Evaluate the model\n",
    "results1 = model.evaluate(x_test1, y_test1, verbose=1)\n",
    "print(\"test loss, test acc:\", results1)"
   ]
  },
  {
   "cell_type": "code",
   "execution_count": 19,
   "id": "b606fe1c-1499-4ba0-ab29-d4c504a869f2",
   "metadata": {},
   "outputs": [
    {
     "data": {
      "image/png": "[encoded data removed]",
      "text/plain": [
       "<Figure size 640x480 with 1 Axes>"
      ]
     },
     "metadata": {},
     "output_type": "display_data"
    }
   ],
   "source": [
    "# summarize history for loss\n",
    "train_loss = history.history['loss']\n",
    "test_loss = history.history['val_loss']\n",
    "x = list(range(1, len(test_loss) + 1))\n",
    "plt.plot(x, test_loss, color = 'orange', label = 'Test loss')\n",
    "plt.plot(x, train_loss, label = 'Training loss')\n",
    "plt.legend()\n",
    "plt.grid(visible=True)\n",
    "plt.xlabel('Epoch')\n",
    "plt.ylabel('Loss')\n",
    "plt.title('Loss vs. Epoch', weight='bold', fontsize=18)\n",
    "plt.show()"
   ]
  },
  {
   "cell_type": "code",
   "execution_count": 20,
   "id": "71a6eb74-41bb-487c-b622-00cb9f306c24",
   "metadata": {},
   "outputs": [
    {
     "data": {
      "image/png": "[encoded data removed]",
      "text/plain": [
       "<Figure size 640x480 with 1 Axes>"
      ]
     },
     "metadata": {},
     "output_type": "display_data"
    }
   ],
   "source": [
    "# summarize history for accuracy\n",
    "train_acc = history.history['accuracy']\n",
    "test_acc = history.history['val_accuracy']\n",
    "x = list(range(1, len(test_acc) + 1))\n",
    "plt.plot(x, test_acc, color = 'orange', label = 'Test accuracy')\n",
    "plt.plot(x, train_acc, label = 'Training accuracy')\n",
    "plt.legend()\n",
    "plt.grid(visible=True)\n",
    "plt.xlabel('Epoch')\n",
    "plt.ylabel('Accuracy')\n",
    "plt.title('Accuracy vs. Epoch', weight='bold', fontsize=18)\n",
    "plt.show()"
   ]
  },
  {
   "cell_type": "code",
   "execution_count": 21,
   "id": "b0a1a198-3854-44c0-ba02-7022dec8b1b6",
   "metadata": {},
   "outputs": [
    {
     "name": "stdout",
     "output_type": "stream",
     "text": [
      "3709/3709 [==============================] - 14s 4ms/step\n"
     ]
    }
   ],
   "source": [
    "# Prediction\n",
    "#model = load_model('/home/riki/project_dl/finale/model/base5_train_test.keras')\n",
    "predicted1 = model.predict(x_test1)"
   ]
  },
  {
   "cell_type": "code",
   "execution_count": 22,
   "id": "7a4e7a8b-e15c-4a76-b61c-1526b0556177",
   "metadata": {},
   "outputs": [],
   "source": [
    "df1 = pd.DataFrame(y_test1)\n",
    "df1['predicted'] = predicted1"
   ]
  },
  {
   "cell_type": "code",
   "execution_count": 23,
   "id": "dfce1206-cb3a-4811-9a4b-174d86090dc8",
   "metadata": {},
   "outputs": [],
   "source": [
    "cf1 = confusion_matrix(y_test1, np.round(predicted1))"
   ]
  },
  {
   "cell_type": "code",
   "execution_count": 24,
   "id": "ec7c3fb1-f333-4a75-8cb2-b9ab2b7da83f",
   "metadata": {},
   "outputs": [
    {
     "data": {
      "image/png": "[encoded data removed]",
      "text/plain": [
       "<Figure size 640x480 with 1 Axes>"
      ]
     },
     "metadata": {},
     "output_type": "display_data"
    }
   ],
   "source": [
    "cmatrix_df1 = pd.DataFrame(cf1, index = ['Attack', 'Normal'], columns = ['Attack', 'Normal'])\n",
    "plt.title('Confusion matrix dari base4_train & base4_test', weight='bold', fontsize=14)\n",
    "plt.tick_params(length=0)\n",
    "plt.xlabel('Attacks')\n",
    "plt.ylabel('Predicted Attacks')\n",
    "sns.heatmap(cmatrix_df1, annot=True, fmt=\"d\", cbar=False, cmap='Blues')\n",
    "plt.show()"
   ]
  },
  {
   "cell_type": "code",
   "execution_count": 25,
   "id": "000d5b7a-202a-47ae-8480-8faa8eb7b612",
   "metadata": {},
   "outputs": [
    {
     "name": "stdout",
     "output_type": "stream",
     "text": [
      "              precision    recall  f1-score   support\n",
      "\n",
      "           0       1.00      0.99      0.99     61318\n",
      "           1       0.99      1.00      0.99     57357\n",
      "\n",
      "    accuracy                           0.99    118675\n",
      "   macro avg       0.99      0.99      0.99    118675\n",
      "weighted avg       0.99      0.99      0.99    118675\n",
      "\n"
     ]
    }
   ],
   "source": [
    "# Precision, Recall & F1 Score\n",
    "class_report1 = classification_report(y_test1, np.round(predicted1))\n",
    "print(class_report1)"
   ]
  },
  {
   "cell_type": "code",
   "execution_count": 26,
   "id": "aa9c081b-43d7-445c-a73e-6d2f06ee5542",
   "metadata": {},
   "outputs": [
    {
     "data": {
      "image/png": "[encoded data removed]",
      "text/plain": [
       "<Figure size 640x480 with 1 Axes>"
      ]
     },
     "metadata": {},
     "output_type": "display_data"
    }
   ],
   "source": [
    "# Precision, Recall & F1-Score\n",
    "class_report1 = classification_report(y_test1, np.round(predicted1), target_names = ['Attack', 'Normal'],output_dict=True) \n",
    "plt.tick_params(axis='both', which='major', labelsize=10, labelbottom = False, bottom=False, top = False, labeltop=True)\n",
    "plt.tick_params(length=0)\n",
    "sns.heatmap(pd.DataFrame(class_report1).iloc[:-1, :-3].T, square=True, cbar=False,cmap='Blues', annot=True) \n",
    "plt.show()"
   ]
  },
  {
   "cell_type": "code",
   "execution_count": 27,
   "id": "9f60263e-21a5-4be5-89db-e3d0db42cbd7",
   "metadata": {},
   "outputs": [],
   "source": [
    "model.save('~/04_Semester_4/revisi/tmp/base5_train_test.keras')"
   ]
  },
  {
   "cell_type": "code",
   "execution_count": 28,
   "id": "4059e727-d8d8-42f1-8c62-9be165dabc03",
   "metadata": {},
   "outputs": [],
   "source": [
    "# adding normal column in data label\n",
    "normal=data_labels['label']\n",
    "normal=normal.replace(1,2)\n",
    "normal=normal.replace(0,1)\n",
    "normal=normal.replace(2,0)\n",
    "data_labels.insert(1, 'normal', normal)"
   ]
  },
  {
   "cell_type": "code",
   "execution_count": 29,
   "id": "3b0b0f1c-a292-472f-bb1d-d1553229fb0d",
   "metadata": {},
   "outputs": [
    {
     "data": {
      "text/html": [
       "<div>\n",
       "<style scoped>\n",
       "    .dataframe tbody tr th:only-of-type {\n",
       "        vertical-align: middle;\n",
       "    }\n",
       "\n",
       "    .dataframe tbody tr th {\n",
       "        vertical-align: top;\n",
       "    }\n",
       "\n",
       "    .dataframe thead th {\n",
       "        text-align: right;\n",
       "    }\n",
       "</style>\n",
       "<table border=\"1\" class=\"dataframe\">\n",
       "  <thead>\n",
       "    <tr style=\"text-align: right;\">\n",
       "      <th></th>\n",
       "      <th>pred_attack</th>\n",
       "      <th>pred_normal</th>\n",
       "      <th>attack</th>\n",
       "      <th>category</th>\n",
       "      <th>normal</th>\n",
       "    </tr>\n",
       "  </thead>\n",
       "  <tbody>\n",
       "    <tr>\n",
       "      <th>0</th>\n",
       "      <td>1.0</td>\n",
       "      <td>0.0</td>\n",
       "      <td>1</td>\n",
       "      <td>generic</td>\n",
       "      <td>0</td>\n",
       "    </tr>\n",
       "    <tr>\n",
       "      <th>1</th>\n",
       "      <td>0.0</td>\n",
       "      <td>1.0</td>\n",
       "      <td>0</td>\n",
       "      <td>normal</td>\n",
       "      <td>1</td>\n",
       "    </tr>\n",
       "    <tr>\n",
       "      <th>3</th>\n",
       "      <td>1.0</td>\n",
       "      <td>0.0</td>\n",
       "      <td>1</td>\n",
       "      <td>generic</td>\n",
       "      <td>0</td>\n",
       "    </tr>\n",
       "    <tr>\n",
       "      <th>4</th>\n",
       "      <td>0.0</td>\n",
       "      <td>1.0</td>\n",
       "      <td>0</td>\n",
       "      <td>normal</td>\n",
       "      <td>1</td>\n",
       "    </tr>\n",
       "    <tr>\n",
       "      <th>5</th>\n",
       "      <td>1.0</td>\n",
       "      <td>0.0</td>\n",
       "      <td>1</td>\n",
       "      <td>generic</td>\n",
       "      <td>0</td>\n",
       "    </tr>\n",
       "  </tbody>\n",
       "</table>\n",
       "</div>"
      ],
      "text/plain": [
       "   pred_attack  pred_normal  attack category  normal\n",
       "0          1.0          0.0       1  generic       0\n",
       "1          0.0          1.0       0   normal       1\n",
       "3          1.0          0.0       1  generic       0\n",
       "4          0.0          1.0       0   normal       1\n",
       "5          1.0          0.0       1  generic       0"
      ]
     },
     "execution_count": 29,
     "metadata": {},
     "output_type": "execute_result"
    }
   ],
   "source": [
    "df1 = pd.DataFrame(np.round(predicted1))\n",
    "df1.index = data.index\n",
    "df1.columns = ['pred_attack']\n",
    "df1['pred_normal'] = 1- df1['pred_attack']\n",
    "df1['attack']=data['label']\n",
    "df1['category']=data['attack_cat']\n",
    "df1['normal']=data_labels['normal']\n",
    "df1.head()"
   ]
  },
  {
   "cell_type": "code",
   "execution_count": 30,
   "id": "4d3bef2e-a2a0-4965-959e-840126034f72",
   "metadata": {},
   "outputs": [
    {
     "data": {
      "text/plain": [
       "category\n",
       "normal            61318\n",
       "generic           53520\n",
       "reconnaissance     2883\n",
       "dos                 954\n",
       "Name: count, dtype: int64"
      ]
     },
     "execution_count": 30,
     "metadata": {},
     "output_type": "execute_result"
    }
   ],
   "source": [
    "df1.value_counts('category')"
   ]
  },
  {
   "cell_type": "code",
   "execution_count": 31,
   "id": "c5e9248f-b396-4bf7-86ab-11af21311a67",
   "metadata": {},
   "outputs": [],
   "source": [
    "dff1=df1\n",
    "df1=pd.get_dummies(df1)\n",
    "df1=round(df1)"
   ]
  },
  {
   "cell_type": "markdown",
   "id": "38b64598-39f3-41ea-a6c6-3a10482da0f9",
   "metadata": {},
   "source": [
    "normal, exploits, fuzzers, shellcode, worms"
   ]
  },
  {
   "cell_type": "code",
   "execution_count": 32,
   "id": "e4510aff-5db9-4da0-a4a9-10e87665db86",
   "metadata": {},
   "outputs": [],
   "source": [
    "normal=df1.loc[df1['category_normal'] == 1]\n",
    "normal=normal[['pred_attack', 'pred_normal', 'attack', 'normal']]\n",
    "normal_pred=normal[['pred_attack','pred_normal']]\n",
    "normal_check=normal[['attack','normal']]\n",
    "\n",
    "generic=df1.loc[df1['category_generic'] == 1]\n",
    "generic=generic[['pred_attack', 'pred_normal', 'attack', 'normal']]\n",
    "generic_pred=generic[['pred_attack','pred_normal']]\n",
    "generic_check=generic[['attack','normal']]\n",
    "\n",
    "dos=df1.loc[df1['category_dos'] == 1]\n",
    "dos=dos[['pred_attack', 'pred_normal', 'attack', 'normal']]\n",
    "dos_pred=dos[['pred_attack','pred_normal']]\n",
    "dos_check=dos[['attack','normal']]\n",
    "\n",
    "reconnaissance=df1.loc[df1['category_reconnaissance'] == 1]\n",
    "reconnaissance=reconnaissance[['pred_attack', 'pred_normal', 'attack', 'normal']]\n",
    "reconnaissance_pred=reconnaissance[['pred_attack','pred_normal']]\n",
    "reconnaissance_check=reconnaissance[['attack','normal']]"
   ]
  },
  {
   "cell_type": "code",
   "execution_count": 33,
   "id": "f9333ab8-c70a-46f2-b962-f1f4f2b88094",
   "metadata": {},
   "outputs": [],
   "source": [
    "#Correctly detected\n",
    "countdata=pd.DataFrame()\n",
    "normal_c = normal['pred_normal'] * normal['normal']\n",
    "generic_c = generic['pred_attack'] * generic['attack']\n",
    "reconnaissance_c = reconnaissance['pred_attack'] * reconnaissance['attack']\n",
    "dos_c = dos['pred_attack'] * dos['attack']"
   ]
  },
  {
   "cell_type": "code",
   "execution_count": 34,
   "id": "5d659eae-d350-4bf0-a730-678c1d10c449",
   "metadata": {},
   "outputs": [],
   "source": [
    "# Count 0 and 1\n",
    "normal_c0 = (normal_c == 0).sum()\n",
    "normal_c1 = len(normal) - normal_c0\n",
    "\n",
    "reconnaissance_c0 = (reconnaissance_c == 0).sum()\n",
    "reconnaissance_c1 = len(reconnaissance_c) - reconnaissance_c0\n",
    "\n",
    "generic_c0 = (generic_c == 0).sum()\n",
    "generic_c1 = len(generic) - generic_c0\n",
    "\n",
    "dos_c0 = (dos_c == 0).sum()\n",
    "dos_c1 = len(dos) - dos_c0"
   ]
  },
  {
   "cell_type": "code",
   "execution_count": 35,
   "id": "7dcec572-e1f6-4a40-98be-f8aac3c56c25",
   "metadata": {},
   "outputs": [
    {
     "name": "stdout",
     "output_type": "stream",
     "text": [
      "There are 1.37 % of NO detected and 98.63 % of detected samples\n"
     ]
    }
   ],
   "source": [
    "normal_0, normal_1 = normal_c0*100 / len(normal), normal_c1*100 / len(normal)\n",
    "print(\"There are {:.2f} % of NO detected and {:.2f} % of detected samples\".format(normal_0, normal_1))"
   ]
  },
  {
   "cell_type": "code",
   "execution_count": 36,
   "id": "511fbe3d-e9be-412b-afec-d46f1c51a71c",
   "metadata": {},
   "outputs": [
    {
     "name": "stdout",
     "output_type": "stream",
     "text": [
      "There are 0.05 % of NO detected and 99.95 % of detected samples\n"
     ]
    }
   ],
   "source": [
    "generic_0, generic_1 = generic_c0*100 / len(generic), generic_c1*100 / len(generic)\n",
    "print(\"There are {:.2f} % of NO detected and {:.2f} % of detected samples\".format(generic_0, generic_1))"
   ]
  },
  {
   "cell_type": "code",
   "execution_count": 37,
   "id": "53d82e73-3563-4646-a1c0-e6a89d8a02e8",
   "metadata": {},
   "outputs": [
    {
     "name": "stdout",
     "output_type": "stream",
     "text": [
      "There are 0.10 % of NO detected and 99.90 % of detected samples\n"
     ]
    }
   ],
   "source": [
    "reconnaissance_0, reconnaissance_1 = reconnaissance_c0*100 / len(reconnaissance), reconnaissance_c1*100 / len(reconnaissance)\n",
    "print(\"There are {:.2f} % of NO detected and {:.2f} % of detected samples\".format(reconnaissance_0, reconnaissance_1))"
   ]
  },
  {
   "cell_type": "code",
   "execution_count": 38,
   "id": "66c26ab9-1ec8-4d94-8f3a-d89020c3f15e",
   "metadata": {},
   "outputs": [
    {
     "name": "stdout",
     "output_type": "stream",
     "text": [
      "There are 3.25 % of NO detected and 96.75 % of detected samples\n"
     ]
    }
   ],
   "source": [
    "dos_0, dos_1 = dos_c0*100 / len(dos), dos_c1*100 / len(dos)\n",
    "print(\"There are {:.2f} % of NO detected and {:.2f} % of detected samples\".format(dos_0, dos_1))"
   ]
  },
  {
   "cell_type": "code",
   "execution_count": 39,
   "id": "0dfe181a-3a85-4a04-b205-1b7be96618b5",
   "metadata": {},
   "outputs": [],
   "source": [
    "summary1 = pd.DataFrame({\"Traffic\":\n",
    "                   [\"Normal\", \"generic\", \"reconnaissance\", \"dos\"],\n",
    "                   \"Detected %\": [normal_1, generic_1, reconnaissance_1 ,dos_1],\n",
    "                   \"No Detected %\": [normal_0, generic_0, reconnaissance_0 ,dos_0],\n",
    "                   \"Detected Samples\": [normal_c1, generic_c1, reconnaissance_c1 ,dos_c1],\n",
    "                   \"No Detected Samples\": [normal_c0, generic_c0, reconnaissance_c0 ,dos_c0]})"
   ]
  },
  {
   "cell_type": "code",
   "execution_count": 40,
   "id": "6bce8598-f88a-419e-9f27-1e02cb6de3c1",
   "metadata": {},
   "outputs": [],
   "source": [
    "dff1['category_pred'] = np.where(((df1['attack'] == 1) & (df1['pred_attack'] == 1)) | ((df1['normal'] == 1) & (df1['pred_normal'] == 1)), 'Detected', 'No Detected')\n"
   ]
  },
  {
   "cell_type": "code",
   "execution_count": 41,
   "id": "cfca3d78-f86e-4a10-9303-ad6826ca5df0",
   "metadata": {},
   "outputs": [],
   "source": [
    "data_plot1=dff1[['category', 'category_pred']]"
   ]
  },
  {
   "cell_type": "code",
   "execution_count": 42,
   "id": "c3cdad13-3836-448f-8462-1d3ffeab4c17",
   "metadata": {},
   "outputs": [
    {
     "data": {
      "text/html": [
       "<div>\n",
       "<style scoped>\n",
       "    .dataframe tbody tr th:only-of-type {\n",
       "        vertical-align: middle;\n",
       "    }\n",
       "\n",
       "    .dataframe tbody tr th {\n",
       "        vertical-align: top;\n",
       "    }\n",
       "\n",
       "    .dataframe thead th {\n",
       "        text-align: right;\n",
       "    }\n",
       "</style>\n",
       "<table border=\"1\" class=\"dataframe\">\n",
       "  <thead>\n",
       "    <tr style=\"text-align: right;\">\n",
       "      <th></th>\n",
       "      <th>category</th>\n",
       "      <th>category_pred</th>\n",
       "    </tr>\n",
       "  </thead>\n",
       "  <tbody>\n",
       "    <tr>\n",
       "      <th>0</th>\n",
       "      <td>generic</td>\n",
       "      <td>Detected</td>\n",
       "    </tr>\n",
       "    <tr>\n",
       "      <th>1</th>\n",
       "      <td>normal</td>\n",
       "      <td>Detected</td>\n",
       "    </tr>\n",
       "    <tr>\n",
       "      <th>3</th>\n",
       "      <td>generic</td>\n",
       "      <td>Detected</td>\n",
       "    </tr>\n",
       "    <tr>\n",
       "      <th>4</th>\n",
       "      <td>normal</td>\n",
       "      <td>Detected</td>\n",
       "    </tr>\n",
       "    <tr>\n",
       "      <th>5</th>\n",
       "      <td>generic</td>\n",
       "      <td>Detected</td>\n",
       "    </tr>\n",
       "    <tr>\n",
       "      <th>...</th>\n",
       "      <td>...</td>\n",
       "      <td>...</td>\n",
       "    </tr>\n",
       "    <tr>\n",
       "      <th>122905</th>\n",
       "      <td>normal</td>\n",
       "      <td>Detected</td>\n",
       "    </tr>\n",
       "    <tr>\n",
       "      <th>122906</th>\n",
       "      <td>normal</td>\n",
       "      <td>Detected</td>\n",
       "    </tr>\n",
       "    <tr>\n",
       "      <th>122907</th>\n",
       "      <td>generic</td>\n",
       "      <td>Detected</td>\n",
       "    </tr>\n",
       "    <tr>\n",
       "      <th>122908</th>\n",
       "      <td>generic</td>\n",
       "      <td>Detected</td>\n",
       "    </tr>\n",
       "    <tr>\n",
       "      <th>122909</th>\n",
       "      <td>generic</td>\n",
       "      <td>Detected</td>\n",
       "    </tr>\n",
       "  </tbody>\n",
       "</table>\n",
       "<p>118675 rows × 2 columns</p>\n",
       "</div>"
      ],
      "text/plain": [
       "       category category_pred\n",
       "0       generic      Detected\n",
       "1        normal      Detected\n",
       "3       generic      Detected\n",
       "4        normal      Detected\n",
       "5       generic      Detected\n",
       "...         ...           ...\n",
       "122905   normal      Detected\n",
       "122906   normal      Detected\n",
       "122907  generic      Detected\n",
       "122908  generic      Detected\n",
       "122909  generic      Detected\n",
       "\n",
       "[118675 rows x 2 columns]"
      ]
     },
     "execution_count": 42,
     "metadata": {},
     "output_type": "execute_result"
    }
   ],
   "source": [
    "data_plot1"
   ]
  },
  {
   "cell_type": "code",
   "execution_count": 43,
   "id": "f879b16d-3771-498a-806b-b2c4bf8a7d2f",
   "metadata": {},
   "outputs": [
    {
     "data": {
      "image/png": "[encoded data removed]",
      "text/plain": [
       "<Figure size 1500x500 with 1 Axes>"
      ]
     },
     "metadata": {},
     "output_type": "display_data"
    }
   ],
   "source": [
    "# Plotting target label distribution\n",
    "plt.figure(figsize=(15,5))\n",
    "sns.set_theme(style=\"darkgrid\")\n",
    "sns.countplot(x=data_plot1['category'], data=data_plot1, palette='CMRmap', hue=data_plot1['category_pred'])\n",
    "plt.title('Deteksi Serangan di Base4_test', weight='bold', fontsize='18')\n",
    "plt.xticks(weight='bold', fontsize=12)\n",
    "plt.show()"
   ]
  },
  {
   "cell_type": "code",
   "execution_count": 44,
   "id": "35c4c29e-c132-41b9-9b4b-e3ec293d68d5",
   "metadata": {},
   "outputs": [
    {
     "data": {
      "text/html": [
       "<div>\n",
       "<style scoped>\n",
       "    .dataframe tbody tr th:only-of-type {\n",
       "        vertical-align: middle;\n",
       "    }\n",
       "\n",
       "    .dataframe tbody tr th {\n",
       "        vertical-align: top;\n",
       "    }\n",
       "\n",
       "    .dataframe thead th {\n",
       "        text-align: right;\n",
       "    }\n",
       "</style>\n",
       "<table border=\"1\" class=\"dataframe\">\n",
       "  <thead>\n",
       "    <tr style=\"text-align: right;\">\n",
       "      <th></th>\n",
       "      <th>Traffic</th>\n",
       "      <th>Detected %</th>\n",
       "      <th>No Detected %</th>\n",
       "      <th>Detected Samples</th>\n",
       "      <th>No Detected Samples</th>\n",
       "    </tr>\n",
       "  </thead>\n",
       "  <tbody>\n",
       "    <tr>\n",
       "      <th>0</th>\n",
       "      <td>Normal</td>\n",
       "      <td>98.634985</td>\n",
       "      <td>1.365015</td>\n",
       "      <td>60481</td>\n",
       "      <td>837</td>\n",
       "    </tr>\n",
       "    <tr>\n",
       "      <th>1</th>\n",
       "      <td>generic</td>\n",
       "      <td>99.951420</td>\n",
       "      <td>0.048580</td>\n",
       "      <td>53494</td>\n",
       "      <td>26</td>\n",
       "    </tr>\n",
       "    <tr>\n",
       "      <th>2</th>\n",
       "      <td>reconnaissance</td>\n",
       "      <td>99.895942</td>\n",
       "      <td>0.104058</td>\n",
       "      <td>2880</td>\n",
       "      <td>3</td>\n",
       "    </tr>\n",
       "    <tr>\n",
       "      <th>3</th>\n",
       "      <td>dos</td>\n",
       "      <td>96.750524</td>\n",
       "      <td>3.249476</td>\n",
       "      <td>923</td>\n",
       "      <td>31</td>\n",
       "    </tr>\n",
       "  </tbody>\n",
       "</table>\n",
       "</div>"
      ],
      "text/plain": [
       "          Traffic  Detected %  No Detected %  Detected Samples  \\\n",
       "0          Normal   98.634985       1.365015             60481   \n",
       "1         generic   99.951420       0.048580             53494   \n",
       "2  reconnaissance   99.895942       0.104058              2880   \n",
       "3             dos   96.750524       3.249476               923   \n",
       "\n",
       "   No Detected Samples  \n",
       "0                  837  \n",
       "1                   26  \n",
       "2                    3  \n",
       "3                   31  "
      ]
     },
     "execution_count": 44,
     "metadata": {},
     "output_type": "execute_result"
    }
   ],
   "source": [
    "summary1"
   ]
  },
  {
   "cell_type": "code",
   "execution_count": 46,
   "id": "8368eb9f-9c6c-47c3-bc0e-d9b023be1600",
   "metadata": {},
   "outputs": [],
   "source": [
    "summary1.to_csv('~/04_Semester_4/revisi/csv_files/summary_base4_train_test.csv', index=False)"
   ]
  },
  {
   "cell_type": "code",
   "execution_count": 45,
   "id": "191659df-a4f6-4505-9169-1d558d012840",
   "metadata": {},
   "outputs": [],
   "source": [
    "model.save('base4_train_test_24_512.keras')"
   ]
  },
  {
   "cell_type": "markdown",
   "id": "116a4245-6091-49e0-90b5-18b143397661",
   "metadata": {},
   "source": [
    "## Base 4 Train & First Test"
   ]
  },
  {
   "cell_type": "code",
   "execution_count": 46,
   "id": "9e07af28-a805-45b8-bdd1-6b2b965dc3a0",
   "metadata": {},
   "outputs": [],
   "source": [
    "# Load base 5 data train\n",
    "data_train = pd.read_csv('~/04_Semester_4/revisi/csv_files/UNSW_NB15_base4_train.csv', low_memory=False)"
   ]
  },
  {
   "cell_type": "code",
   "execution_count": 47,
   "id": "a0862c1a-91e3-47c3-98ae-6b11f83f2ff6",
   "metadata": {},
   "outputs": [],
   "source": [
    "# Select the 'proto' and 'state' values\n",
    "data_train= data_train.loc[(data_train['proto'] == 'tcp') | (data_train['proto'] =='udp') | (data_train['proto'] =='icmp') | (data_train['proto'] =='arp') | (data_train['proto'] =='ipv6-icmp') | (data_train['proto'] =='igmp') | (data_train['proto'] =='rarp'), :]\n",
    "data_train = data_train.loc[(data_train['state'] == 'RST') | (data_train['state'] =='REQ') | (data_train['state'] =='INT') | (data_train['state'] =='FIN') | (data_train['state'] =='CON') | (data_train['state'] =='ECO') | (data_train['state'] =='ACC') | (data_train['state'] =='PAR'), :]\n",
    "\n",
    "# Extracting dataset labels\n",
    "data_labels=data_train[['label']]\n",
    "\n",
    "# Drop the invalid features and select data features\n",
    "data_features=data_train[['proto','srcip','sport','dstip','dsport','spkts','dpkts','sbytes','dbytes','state','stime','ltime','dur']]\n",
    "\n",
    "# Filling NaN values with -1\n",
    "data_features = data_features.fillna(value=-1)"
   ]
  },
  {
   "cell_type": "code",
   "execution_count": 48,
   "id": "6c16b8c2-8cbd-4153-b720-76cb4d3192d1",
   "metadata": {},
   "outputs": [],
   "source": [
    "# Preprocess IP and ports features\n",
    "# IP Source Address\n",
    "data_features['srcip'] = data_features['srcip'].apply(lambda x: x.split(\".\")[-1])\n",
    "data_features['srcip'] = data_features['srcip'].apply(lambda x: x.split(\":\")[-1])\n",
    "data_features['srcip'] = data_features['srcip'].apply(lambda x: int(x, 16))\n",
    "\n",
    "# IP Destination Address\n",
    "data_features['dstip'] = data_features['dstip'].apply(lambda x: x.split(\".\")[-1])\n",
    "data_features['dstip'] = data_features['dstip'].apply(lambda x: x.split(\":\")[-1])\n",
    "data_features['dstip'] = data_features['dstip'].apply(lambda x: int(x, 16))\n",
    "\n",
    "# Ports\n",
    "data_features['sport'] = data_features['sport'].apply(lambda x: x.replace('0x','') if \"0x\" in str(x) else x)\n",
    "data_features['dsport'] = data_features['dsport'].apply(lambda x: x.replace('0x','') if \"0x\" in str(x) else x)\n",
    "\n",
    "# Convert all ports with 0 decimal, and HEX to DEC\n",
    "data_features['sport'] = data_features['sport'].apply(lambda x: str(x)[:-2] if str(x)[-2:] == '.0' else str(x))\n",
    "data_features['sport'] = data_features['sport'].apply(lambda x: -1 if str(x).isalpha()==True else int(x,16))\n",
    "\n",
    "data_features['dsport'] = data_features['dsport'].apply(lambda x: str(x)[:-2] if str(x)[-2:] == '.0' else str(x))\n",
    "data_features['dsport'] = data_features['dsport'].apply(lambda x: \"None\" if x==\"-\" else x)\n",
    "data_features['dsport'] = data_features['dsport'].apply(lambda x: -1 if str(x).isalpha()==True else int(x,16))\n",
    "\n",
    "# Convert some fields to logarithmic\n",
    "log1p_col = ['dur', 'sbytes', 'dbytes', 'spkts']\n",
    "\n",
    "for col in log1p_col:\n",
    "    data_features[col] = data_features[col].apply(np.log1p)\n",
    "\n",
    "# Generate 1 new columns to fit with training\n",
    "#auxCol=data_features['sbytes']\n",
    "#auxCol=0\n",
    "#data_features.insert(13, 'proto_igmp', auxCol, True)\n",
    "\n",
    "# Transform to One hot encoding - FEATURES\n",
    "data_features=pd.get_dummies(data_features)\n",
    "data_labels = pd.get_dummies(data_labels)\n",
    "\n",
    "# Normalize all data features\n",
    "data_features = StandardScaler().fit_transform(data_features)\n",
    "\n",
    "#Add dimension to data features\n",
    "data_features = np.expand_dims(data_features, axis=2)\n",
    "\n",
    "x_train2, y_train2=data_features, data_labels"
   ]
  },
  {
   "cell_type": "code",
   "execution_count": 49,
   "id": "3e556449-0db4-446d-8aad-32a306e65b42",
   "metadata": {},
   "outputs": [
    {
     "name": "stdout",
     "output_type": "stream",
     "text": [
      "(356047, 24, 1)\n",
      "(356047, 1)\n",
      "label\n",
      "0        183969\n",
      "1        172078\n",
      "Name: count, dtype: int64\n"
     ]
    }
   ],
   "source": [
    "print(x_train2.shape)\n",
    "print(y_train2.shape)\n",
    "print(y_train2.value_counts())"
   ]
  },
  {
   "cell_type": "code",
   "execution_count": 50,
   "id": "0de222e7-645f-45f0-9eac-36a9a9b58107",
   "metadata": {},
   "outputs": [],
   "source": [
    "# Load base 5+ test\n",
    "data = pd.read_csv('~/04_Semester_4/revisi/csv_files/UNSW_NB15_first_test.csv', low_memory=False)"
   ]
  },
  {
   "cell_type": "code",
   "execution_count": 51,
   "id": "8dd65af0-f46d-47fa-b7da-b1fac3ce5e21",
   "metadata": {},
   "outputs": [
    {
     "data": {
      "text/plain": [
       "attack_cat\n",
       "normal            183969\n",
       "generic           160198\n",
       "reconnaissance      8971\n",
       "dos                 2909\n",
       "Name: count, dtype: int64"
      ]
     },
     "execution_count": 51,
     "metadata": {},
     "output_type": "execute_result"
    }
   ],
   "source": [
    "data_train.value_counts('attack_cat')"
   ]
  },
  {
   "cell_type": "code",
   "execution_count": 52,
   "id": "066ad524-fcfd-4645-bf0e-a2d1b90891aa",
   "metadata": {},
   "outputs": [
    {
     "data": {
      "text/plain": [
       "attack_cat\n",
       "normal       75462\n",
       "exploits     44525\n",
       "fuzzers      24246\n",
       "analysis      2677\n",
       "backdoor      2329\n",
       "shellcode     1511\n",
       "worms          174\n",
       "Name: count, dtype: int64"
      ]
     },
     "execution_count": 52,
     "metadata": {},
     "output_type": "execute_result"
    }
   ],
   "source": [
    "data.value_counts('attack_cat')"
   ]
  },
  {
   "cell_type": "code",
   "execution_count": 53,
   "id": "99e0c85c-fe24-412e-b0d5-c6290b38e700",
   "metadata": {},
   "outputs": [],
   "source": [
    "# Select the 'proto' and 'state' values that I want\n",
    "data = data.loc[(data['proto'] == 'tcp') | (data['proto'] =='udp') | (data['proto'] =='icmp') | (data['proto'] =='arp') | (data['proto'] =='ipv6-icmp') | (data['proto'] =='igmp') | (data['proto'] =='rarp'), :]\n",
    "data = data.loc[(data['state'] == 'RST') | (data['state'] =='REQ') | (data['state'] =='INT') | (data['state'] =='FIN') | (data['state'] =='CON') | (data['state'] =='ECO') | (data['state'] =='ACC') | (data['state'] =='PAR'), :]\n",
    "\n",
    "# Extracting dataset labels\n",
    "data_labels=data[['label']]\n",
    "\n",
    "# Drop the invalid features and select interested data features\n",
    "data_features=data[['proto','srcip','sport','dstip','dsport','spkts','dpkts','sbytes','dbytes','state','stime','ltime','dur']]\n",
    "\n",
    "\"\"\"PREPROCESSING\"\"\"\n",
    "\n",
    "# Preprocess IP and ports features\n",
    "# IP Source Address\n",
    "data_features['srcip'] = data_features['srcip'].apply(lambda x: x.split(\".\")[-1])\n",
    "data_features['srcip'] = data_features['srcip'].apply(lambda x: x.split(\":\")[-1])\n",
    "data_features['srcip'] = data_features['srcip'].apply(lambda x: int(x, 16))\n",
    "\n",
    "# IP Destination Address\n",
    "data_features['dstip'] = data_features['dstip'].apply(lambda x: x.split(\".\")[-1])\n",
    "data_features['dstip'] = data_features['dstip'].apply(lambda x: x.split(\":\")[-1])\n",
    "data_features['dstip'] = data_features['dstip'].apply(lambda x: int(x, 16))\n",
    "\n",
    "# Ports\n",
    "data_features['sport'] = data_features['sport'].apply(lambda x: x.replace('0x','') if \"0x\" in str(x) else x)\n",
    "data_features['dsport'] = data_features['dsport'].apply(lambda x: x.replace('0x','') if \"0x\" in str(x) else x)\n",
    "\n",
    "# Convert all ports with 0 decimal, and HEX to DEC\n",
    "data_features['sport'] = data_features['sport'].apply(lambda x: str(x)[:-2] if str(x)[-2:] == '.0' else str(x))\n",
    "data_features['sport'] = data_features['sport'].apply(lambda x: -1 if str(x).isalpha()==True else int(x,16))\n",
    "\n",
    "data_features['dsport'] = data_features['dsport'].apply(lambda x: str(x)[:-2] if str(x)[-2:] == '.0' else str(x))\n",
    "data_features['dsport'] = data_features['dsport'].apply(lambda x: \"None\" if x==\"-\" else x)\n",
    "data_features['dsport'] = data_features['dsport'].apply(lambda x: -1 if str(x).isalpha()==True else int(x,16))\n",
    "\n",
    "# Convert field to int format\n",
    "data_features['srcip'] = data_features['srcip'].astype(int)\n",
    "data_features['sport'] = data_features['sport'].astype(int)\n",
    "data_features['dstip'] = data_features['dstip'].astype(int)\n",
    "data_features['dsport'] = data_features['dsport'].astype(int)\n",
    "\n",
    "# Convert some fields to logarithmic\n",
    "log1p_col = ['dur', 'sbytes', 'dbytes', 'spkts']\n",
    "\n",
    "for col in log1p_col:\n",
    "    data_features[col] = data_features[col].apply(np.log1p)\n",
    "    \n",
    "# Generate 1 new columns to fit with training\n",
    "#auxCol=data_features['sbytes']\n",
    "#auxCol=0\n",
    "#data_features.insert(13, 'proto_igmp', auxCol, True)\n",
    "  \n",
    "# Insert the new column in data labels\n",
    "data_labels = pd.get_dummies(data_labels)\n",
    "\n",
    "# Transform to One hot encoding - FEATURES\n",
    "data_features=pd.get_dummies(data_features)\n",
    "\n",
    "# Normalize all data features\n",
    "data_features = StandardScaler().fit_transform(data_features)\n",
    "\n",
    "#Add dimension to data features\n",
    "data_features = np.expand_dims(data_features, axis=2)\n",
    "\n",
    "x_test2, y_test2 = data_features, data_labels"
   ]
  },
  {
   "cell_type": "code",
   "execution_count": 54,
   "id": "4c19b78f-14ee-45ef-bad0-622f1604fdd5",
   "metadata": {},
   "outputs": [
    {
     "name": "stdout",
     "output_type": "stream",
     "text": [
      "(127810, 24, 1)\n",
      "(127810, 1)\n",
      "label\n",
      "0        75312\n",
      "1        52498\n",
      "Name: count, dtype: int64\n"
     ]
    }
   ],
   "source": [
    "print(x_test2.shape)\n",
    "print(y_test2.shape)\n",
    "print(y_test2.value_counts())"
   ]
  },
  {
   "cell_type": "code",
   "execution_count": 55,
   "id": "73815f4d-4fab-47f2-90f9-1f152a2022f8",
   "metadata": {},
   "outputs": [],
   "source": [
    "# Early Stopping\n",
    "\n",
    "filepath = '~04_Semester_4/revisi/tmp/firsttest_checkpoint.model.keras' # define where the model is saved\n",
    "callbacks = [\n",
    "        keras.callbacks.EarlyStopping(\n",
    "            monitor = 'val_loss', # Use accuracy to monitor the model\n",
    "            patience = 15 # Stop after 2 steps with lower accuracy\n",
    "        ),\n",
    "        keras.callbacks.ModelCheckpoint(\n",
    "            filepath = filepath, # file where the checkpoint is saved\n",
    "            monitor = 'val_loss', # Don't overwrite the saved model unless val_loss is worse\n",
    "            save_best_only = True)]# Only save model if it is the best"
   ]
  },
  {
   "cell_type": "code",
   "execution_count": 56,
   "id": "4e7c7f74-6f20-4fb0-b22a-f30dbbb166ca",
   "metadata": {},
   "outputs": [
    {
     "name": "stdout",
     "output_type": "stream",
     "text": [
      "Physical devices cannot be modified after being initialized\n",
      "INFO:tensorflow:Using MirroredStrategy with devices ('/job:localhost/replica:0/task:0/device:GPU:0',)\n",
      "Number of devices: 1\n",
      "Epoch 1/15\n",
      "174/174 [==============================] - 46s 254ms/step - loss: 0.2457 - accuracy: 0.9538 - val_loss: 0.4773 - val_accuracy: 0.8223\n",
      "Epoch 2/15\n",
      "174/174 [==============================] - 43s 248ms/step - loss: 0.0552 - accuracy: 0.9831 - val_loss: 0.2901 - val_accuracy: 0.8987\n",
      "Epoch 3/15\n",
      "174/174 [==============================] - 43s 249ms/step - loss: 0.0387 - accuracy: 0.9871 - val_loss: 0.2217 - val_accuracy: 0.9364\n",
      "Epoch 4/15\n",
      "174/174 [==============================] - 43s 247ms/step - loss: 0.0336 - accuracy: 0.9891 - val_loss: 0.2045 - val_accuracy: 0.9514\n",
      "Epoch 5/15\n",
      "174/174 [==============================] - 42s 244ms/step - loss: 0.0311 - accuracy: 0.9899 - val_loss: 0.1915 - val_accuracy: 0.9618\n",
      "Epoch 6/15\n",
      "174/174 [==============================] - 43s 248ms/step - loss: 0.0292 - accuracy: 0.9907 - val_loss: 0.1956 - val_accuracy: 0.9599\n",
      "Epoch 7/15\n",
      "174/174 [==============================] - 43s 248ms/step - loss: 0.0278 - accuracy: 0.9910 - val_loss: 0.2063 - val_accuracy: 0.9514\n",
      "Epoch 8/15\n",
      "174/174 [==============================] - 43s 248ms/step - loss: 0.0267 - accuracy: 0.9912 - val_loss: 0.2136 - val_accuracy: 0.9408\n",
      "Epoch 9/15\n",
      "174/174 [==============================] - 43s 248ms/step - loss: 0.0260 - accuracy: 0.9915 - val_loss: 0.2425 - val_accuracy: 0.9076\n",
      "Epoch 10/15\n",
      "174/174 [==============================] - 43s 249ms/step - loss: 0.0251 - accuracy: 0.9917 - val_loss: 0.2464 - val_accuracy: 0.9002\n",
      "Epoch 11/15\n",
      "174/174 [==============================] - 43s 248ms/step - loss: 0.0244 - accuracy: 0.9919 - val_loss: 0.2711 - val_accuracy: 0.8702\n",
      "Epoch 12/15\n",
      "174/174 [==============================] - 43s 248ms/step - loss: 0.0239 - accuracy: 0.9919 - val_loss: 0.2615 - val_accuracy: 0.8815\n",
      "Epoch 13/15\n",
      "174/174 [==============================] - 43s 249ms/step - loss: 0.0234 - accuracy: 0.9922 - val_loss: 0.3047 - val_accuracy: 0.8464\n",
      "Epoch 14/15\n",
      "174/174 [==============================] - 43s 249ms/step - loss: 0.0230 - accuracy: 0.9923 - val_loss: 0.3132 - val_accuracy: 0.8370\n",
      "Epoch 15/15\n",
      "174/174 [==============================] - 43s 249ms/step - loss: 0.0225 - accuracy: 0.9924 - val_loss: 0.3362 - val_accuracy: 0.8239\n"
     ]
    }
   ],
   "source": [
    "# Clear session and Memory Growth\n",
    "clear_session()\n",
    "\n",
    "# Create a Strategy.\n",
    "mixed_precision.set_global_policy('mixed_float16')\n",
    "\n",
    "if tf.config.list_physical_devices('GPU'):\n",
    "    strategy = tf.distribute.MirroredStrategy()\n",
    "else:  # Use the Default Strategy\n",
    "    strategy = tf.distribute.get_strategy()\n",
    "\n",
    "print(\"Number of devices: {}\".format(strategy.num_replicas_in_sync))\n",
    "\n",
    "# Open a strategy scope.\n",
    "with strategy.scope():\n",
    "\n",
    "    model=model_cnn()\n",
    "\n",
    "    #x_train, x_test, y_train, y_test = train_test_split(data_features, data_labels, train_size=0.75, random_state=42,shuffle=True)\n",
    "\n",
    "\n",
    "# Train the model on all available devices.\n",
    "history = model.fit(x_train2, y_train2, validation_data=(x_test2, y_test2), epochs=15, batch_size=2048, callbacks=callbacks)\n",
    "history2 = history"
   ]
  },
  {
   "cell_type": "code",
   "execution_count": 57,
   "id": "46a21b20-e973-4947-8e35-6a06ea89317c",
   "metadata": {},
   "outputs": [
    {
     "name": "stdout",
     "output_type": "stream",
     "text": [
      "3995/3995 [==============================] - 23s 6ms/step - loss: 0.3362 - accuracy: 0.8239\n",
      "test loss, test acc: [0.33624178171157837, 0.8239261507987976]\n"
     ]
    }
   ],
   "source": [
    "#Evaluate the model\n",
    "# 174/174 [==============================] - 42s 244ms/step - loss: 0.0154 - accuracy: 0.9940 - val_loss: 0.3748 - val_accuracy: 0.8247\n",
    "# 174/174 [==============================] - 43s 246ms/step - loss: 0.0162 - accuracy: 0.9938 - val_loss: 0.9160 - val_accuracy: 0.7435\n",
    "\n",
    "results2 = model.evaluate(x_test2, y_test2, verbose=1)\n",
    "print(\"test loss, test acc:\", results2)"
   ]
  },
  {
   "cell_type": "code",
   "execution_count": 58,
   "id": "f5f5327a-8cb1-4ba0-86fc-b308c04b76d4",
   "metadata": {},
   "outputs": [
    {
     "data": {
      "image/png": "[encoded data removed]",
      "text/plain": [
       "<Figure size 640x480 with 1 Axes>"
      ]
     },
     "metadata": {},
     "output_type": "display_data"
    }
   ],
   "source": [
    "# summarize history for loss\n",
    "train_loss = history.history['loss']\n",
    "test_loss = history.history['val_loss']\n",
    "x = list(range(1, len(test_loss) + 1))\n",
    "plt.plot(x, test_loss, color = 'orange', label = 'Test loss')\n",
    "plt.plot(x, train_loss, label = 'Training loss')\n",
    "plt.legend()\n",
    "plt.grid(visible=True)\n",
    "plt.xlabel('Epoch')\n",
    "plt.ylabel('Loss')\n",
    "plt.title('Loss vs. Epoch', weight='bold', fontsize=18)\n",
    "plt.show()"
   ]
  },
  {
   "cell_type": "code",
   "execution_count": 59,
   "id": "cdca6fbe-58fd-4a6a-8476-34fb69695f3b",
   "metadata": {},
   "outputs": [
    {
     "data": {
      "image/png": "[encoded data removed]",
      "text/plain": [
       "<Figure size 640x480 with 1 Axes>"
      ]
     },
     "metadata": {},
     "output_type": "display_data"
    }
   ],
   "source": [
    "# summarize history for accuracy\n",
    "train_acc = history.history['accuracy']\n",
    "test_acc = history.history['val_accuracy']\n",
    "x = list(range(1, len(test_acc) + 1))\n",
    "plt.plot(x, test_acc, color = 'orange', label = 'Test accuracy')\n",
    "plt.plot(x, train_acc, label = 'Training accuracy')\n",
    "plt.legend()\n",
    "plt.grid(visible=True)\n",
    "plt.xlabel('Epoch')\n",
    "plt.ylabel('Accuracy')\n",
    "plt.title('Accuracy vs. Epoch', weight='bold', fontsize=18)\n",
    "plt.show()"
   ]
  },
  {
   "cell_type": "code",
   "execution_count": 60,
   "id": "8ea848ab-91d5-49b2-8841-b4dce09e116e",
   "metadata": {},
   "outputs": [
    {
     "name": "stdout",
     "output_type": "stream",
     "text": [
      "3995/3995 [==============================] - 15s 4ms/step\n"
     ]
    }
   ],
   "source": [
    "# Prediction\n",
    "predicted2 = model.predict(x_test2)"
   ]
  },
  {
   "cell_type": "code",
   "execution_count": 61,
   "id": "262a91e3-2dc4-4169-9ee7-c2126d0279f9",
   "metadata": {},
   "outputs": [],
   "source": [
    "df2 = pd.DataFrame(y_test2)\n",
    "df2['predicted'] = predicted2"
   ]
  },
  {
   "cell_type": "code",
   "execution_count": 62,
   "id": "4544633f-bf6d-4cef-9ea2-7d23e87c3503",
   "metadata": {},
   "outputs": [],
   "source": [
    "cf2 = confusion_matrix(y_test2, np.round(predicted2))"
   ]
  },
  {
   "cell_type": "code",
   "execution_count": 63,
   "id": "6a9de980-854a-4d6d-b2ad-041a354c9edd",
   "metadata": {},
   "outputs": [
    {
     "data": {
      "image/png": "[encoded data removed]",
      "text/plain": [
       "<Figure size 640x480 with 1 Axes>"
      ]
     },
     "metadata": {},
     "output_type": "display_data"
    }
   ],
   "source": [
    "cmatrix_df2 = pd.DataFrame(cf2, index = ['Attack', 'Normal'], columns = ['Attack', 'Normal'])\n",
    "plt.title('Confusion matrix dari First_Test', weight='bold', fontsize=14)\n",
    "plt.tick_params(length=0)\n",
    "plt.xlabel('Attacks')\n",
    "plt.ylabel('Predicted Attacks')\n",
    "sns.heatmap(cmatrix_df2, annot=True, fmt=\"d\", cbar=False, cmap='Blues')\n",
    "plt.show()"
   ]
  },
  {
   "cell_type": "code",
   "execution_count": 64,
   "id": "9033fcf6-f70c-43e6-a7fd-5523ba75d0d9",
   "metadata": {},
   "outputs": [
    {
     "name": "stdout",
     "output_type": "stream",
     "text": [
      "              precision    recall  f1-score   support\n",
      "\n",
      "           0       0.77      0.99      0.87     75312\n",
      "           1       0.97      0.59      0.73     52498\n",
      "\n",
      "    accuracy                           0.82    127810\n",
      "   macro avg       0.87      0.79      0.80    127810\n",
      "weighted avg       0.86      0.82      0.81    127810\n",
      "\n"
     ]
    }
   ],
   "source": [
    "# Precision, Recall & F1 Score\n",
    "class_report2 = classification_report(y_test2, np.round(predicted2))\n",
    "print(class_report2)"
   ]
  },
  {
   "cell_type": "code",
   "execution_count": 65,
   "id": "873f4a2d-9798-481e-a13b-f53c5ba1086c",
   "metadata": {},
   "outputs": [
    {
     "data": {
      "image/png": "[encoded data removed]",
      "text/plain": [
       "<Figure size 640x480 with 1 Axes>"
      ]
     },
     "metadata": {},
     "output_type": "display_data"
    }
   ],
   "source": [
    "# Precision, Recall & F1-Score\n",
    "class_report2 = classification_report(y_test2, np.round(predicted2), target_names = ['Attack', 'Normal'],output_dict=True) \n",
    "plt.tick_params(axis='both', which='major', labelsize=10, labelbottom = False, bottom=False, top = False, labeltop=True)\n",
    "plt.tick_params(length=0)\n",
    "sns.heatmap(pd.DataFrame(class_report2).iloc[:-1, :-3].T, square=True, cbar=False,cmap='Blues', annot=True) \n",
    "plt.show()"
   ]
  },
  {
   "cell_type": "code",
   "execution_count": 66,
   "id": "9f780ff3-7ba3-424f-92ab-a2d9cf24b4e5",
   "metadata": {},
   "outputs": [],
   "source": [
    "model.save('first_test_24_512.keras')"
   ]
  },
  {
   "cell_type": "code",
   "execution_count": 67,
   "id": "29cc3f95-cce5-433d-ac47-d359a0435f27",
   "metadata": {},
   "outputs": [],
   "source": [
    "# adding normal column in data label\n",
    "normal=data_labels['label']\n",
    "normal=normal.replace(1,2)\n",
    "normal=normal.replace(0,1)\n",
    "normal=normal.replace(2,0)\n",
    "data_labels.insert(1, 'normal', normal)"
   ]
  },
  {
   "cell_type": "code",
   "execution_count": 68,
   "id": "83a55272-9c65-4e0a-ba0c-86cb56d0de0b",
   "metadata": {},
   "outputs": [
    {
     "data": {
      "text/html": [
       "<div>\n",
       "<style scoped>\n",
       "    .dataframe tbody tr th:only-of-type {\n",
       "        vertical-align: middle;\n",
       "    }\n",
       "\n",
       "    .dataframe tbody tr th {\n",
       "        vertical-align: top;\n",
       "    }\n",
       "\n",
       "    .dataframe thead th {\n",
       "        text-align: right;\n",
       "    }\n",
       "</style>\n",
       "<table border=\"1\" class=\"dataframe\">\n",
       "  <thead>\n",
       "    <tr style=\"text-align: right;\">\n",
       "      <th></th>\n",
       "      <th>pred_attack</th>\n",
       "      <th>pred_normal</th>\n",
       "      <th>attack</th>\n",
       "      <th>category</th>\n",
       "      <th>normal</th>\n",
       "    </tr>\n",
       "  </thead>\n",
       "  <tbody>\n",
       "    <tr>\n",
       "      <th>0</th>\n",
       "      <td>1.0</td>\n",
       "      <td>0.0</td>\n",
       "      <td>1</td>\n",
       "      <td>exploits</td>\n",
       "      <td>0</td>\n",
       "    </tr>\n",
       "    <tr>\n",
       "      <th>1</th>\n",
       "      <td>1.0</td>\n",
       "      <td>0.0</td>\n",
       "      <td>1</td>\n",
       "      <td>exploits</td>\n",
       "      <td>0</td>\n",
       "    </tr>\n",
       "    <tr>\n",
       "      <th>2</th>\n",
       "      <td>0.0</td>\n",
       "      <td>1.0</td>\n",
       "      <td>1</td>\n",
       "      <td>exploits</td>\n",
       "      <td>0</td>\n",
       "    </tr>\n",
       "    <tr>\n",
       "      <th>3</th>\n",
       "      <td>1.0</td>\n",
       "      <td>0.0</td>\n",
       "      <td>1</td>\n",
       "      <td>exploits</td>\n",
       "      <td>0</td>\n",
       "    </tr>\n",
       "    <tr>\n",
       "      <th>4</th>\n",
       "      <td>1.0</td>\n",
       "      <td>0.0</td>\n",
       "      <td>1</td>\n",
       "      <td>exploits</td>\n",
       "      <td>0</td>\n",
       "    </tr>\n",
       "  </tbody>\n",
       "</table>\n",
       "</div>"
      ],
      "text/plain": [
       "   pred_attack  pred_normal  attack  category  normal\n",
       "0          1.0          0.0       1  exploits       0\n",
       "1          1.0          0.0       1  exploits       0\n",
       "2          0.0          1.0       1  exploits       0\n",
       "3          1.0          0.0       1  exploits       0\n",
       "4          1.0          0.0       1  exploits       0"
      ]
     },
     "execution_count": 68,
     "metadata": {},
     "output_type": "execute_result"
    }
   ],
   "source": [
    "df2 = pd.DataFrame(np.round(predicted2))\n",
    "df2.index = data.index\n",
    "df2.columns = ['pred_attack']\n",
    "df2['pred_normal'] = 1- df2['pred_attack']\n",
    "df2['attack']=data['label']\n",
    "df2['category']=data['attack_cat']\n",
    "df2['normal']=data_labels['normal']\n",
    "df2.head()"
   ]
  },
  {
   "cell_type": "code",
   "execution_count": 69,
   "id": "0587dcbf-be72-453c-956d-b16d75637c51",
   "metadata": {},
   "outputs": [
    {
     "data": {
      "text/plain": [
       "category\n",
       "normal       75312\n",
       "exploits     28317\n",
       "fuzzers      21517\n",
       "shellcode     1511\n",
       "analysis       622\n",
       "backdoor       357\n",
       "worms          174\n",
       "Name: count, dtype: int64"
      ]
     },
     "execution_count": 69,
     "metadata": {},
     "output_type": "execute_result"
    }
   ],
   "source": [
    "df2.value_counts('category')"
   ]
  },
  {
   "cell_type": "code",
   "execution_count": 70,
   "id": "6e6ef09a-39d9-4f0b-ab9b-b706bb4963eb",
   "metadata": {},
   "outputs": [],
   "source": [
    "dff2=df2\n",
    "df2=pd.get_dummies(df2)\n",
    "df2=round(df2)"
   ]
  },
  {
   "cell_type": "code",
   "execution_count": 71,
   "id": "7ceee6b2-9422-44f8-9e28-c8032f08a966",
   "metadata": {},
   "outputs": [],
   "source": [
    "normal=df2.loc[df2['category_normal'] == 1]\n",
    "normal=normal[['pred_attack', 'pred_normal', 'attack', 'normal']]\n",
    "normal_pred=normal[['pred_attack','pred_normal']]\n",
    "normal_check=normal[['attack','normal']]\n",
    "\n",
    "exploits=df2.loc[df2['category_exploits'] == 1]\n",
    "exploits=exploits[['pred_attack', 'pred_normal', 'attack', 'normal']]\n",
    "exploits_pred=exploits[['pred_attack','pred_normal']]\n",
    "exploits_check=exploits[['attack','normal']]\n",
    "\n",
    "fuzzers=df2.loc[df2['category_fuzzers'] == 1]\n",
    "fuzzers=fuzzers[['pred_attack', 'pred_normal', 'attack', 'normal']]\n",
    "fuzzers_pred=fuzzers[['pred_attack','pred_normal']]\n",
    "fuzzers_check=fuzzers[['attack','normal']]\n",
    "\n",
    "analysis=df2.loc[df2['category_analysis'] == 1]\n",
    "analysis=analysis[['pred_attack', 'pred_normal', 'attack', 'normal']]\n",
    "analysis_pred=analysis[['pred_attack','pred_normal']]\n",
    "analysis_check=analysis[['attack','normal']]\n",
    "\n",
    "backdoor=df2.loc[df2['category_backdoor'] == 1]\n",
    "backdoor=backdoor[['pred_attack', 'pred_normal', 'attack', 'normal']]\n",
    "backdoor_pred=backdoor[['pred_attack','pred_normal']]\n",
    "backdoor_check=backdoor[['attack','normal']]\n",
    "\n",
    "shellcode=df2.loc[df2['category_shellcode'] == 1]\n",
    "shellcode=shellcode[['pred_attack', 'pred_normal', 'attack', 'normal']]\n",
    "shellcode_pred=shellcode[['pred_attack','pred_normal']]\n",
    "shellcode_check=shellcode[['attack','normal']]\n",
    "\n",
    "worms=df2.loc[df2['category_worms'] == 1]\n",
    "worms=worms[['pred_attack', 'pred_normal', 'attack', 'normal']]\n",
    "worms_pred=worms[['pred_attack','pred_normal']]\n",
    "worms_check=worms[['attack','normal']]"
   ]
  },
  {
   "cell_type": "code",
   "execution_count": 72,
   "id": "c83972f3-a5e0-42bf-8959-62eeb6ffc0a5",
   "metadata": {},
   "outputs": [],
   "source": [
    "#Correctly detected\n",
    "countdata=pd.DataFrame()\n",
    "normal_c = normal['pred_normal'] * normal['normal']\n",
    "exploits_c = exploits['pred_attack'] * exploits['attack']\n",
    "fuzzers_c = fuzzers['pred_attack'] * fuzzers['attack']\n",
    "analysis_c = analysis['pred_attack'] * analysis['attack']\n",
    "backdoor_c = backdoor['pred_attack'] * backdoor['attack']\n",
    "shellcode_c = shellcode['pred_attack'] * shellcode['attack']\n",
    "worms_c = worms['pred_attack'] * worms['attack']"
   ]
  },
  {
   "cell_type": "code",
   "execution_count": 73,
   "id": "df33b365-bce0-4bf8-bcf2-17ed476d330e",
   "metadata": {},
   "outputs": [],
   "source": [
    "# Count 0 and 1\n",
    "normal_c0 = (normal_c == 0).sum()\n",
    "normal_c1 = len(normal) - normal_c0\n",
    "\n",
    "exploits_c0 = (exploits_c == 0).sum()\n",
    "exploits_c1 = len(exploits) - exploits_c0\n",
    "\n",
    "fuzzers_c0 = (fuzzers_c == 0).sum()\n",
    "fuzzers_c1 = len(fuzzers) - fuzzers_c0\n",
    "\n",
    "analysis_c0 = (analysis_c == 0).sum()\n",
    "analysis_c1 = len(analysis) - analysis_c0\n",
    "\n",
    "backdoor_c0 = (backdoor_c == 0).sum()\n",
    "backdoor_c1 = len(backdoor) - backdoor_c0\n",
    "\n",
    "shellcode_c0 = (shellcode_c == 0).sum()\n",
    "shellcode_c1 = len(shellcode) - shellcode_c0\n",
    "\n",
    "worms_c0 = (worms_c == 0).sum()\n",
    "worms_c1 = len(worms) - worms_c0"
   ]
  },
  {
   "cell_type": "code",
   "execution_count": 74,
   "id": "213bfd63-fbe6-4eeb-a0a9-fd9962b15886",
   "metadata": {},
   "outputs": [
    {
     "name": "stdout",
     "output_type": "stream",
     "text": [
      "There are 1.05 % of NO detected and 98.95 % of detected samples\n"
     ]
    }
   ],
   "source": [
    "normal_0, normal_1 = normal_c0*100 / len(normal), normal_c1*100 / len(normal)\n",
    "print(\"There are {:.2f} % of NO detected and {:.2f} % of detected samples\".format(normal_0, normal_1))"
   ]
  },
  {
   "cell_type": "code",
   "execution_count": 75,
   "id": "2ec669cc-54cf-46c9-93aa-de16f8bda6e4",
   "metadata": {},
   "outputs": [
    {
     "name": "stdout",
     "output_type": "stream",
     "text": [
      "There are 34.47 % of NO detected and 65.53 % of detected samples\n"
     ]
    }
   ],
   "source": [
    "exploits_0, exploits_1 = exploits_c0*100 / len(exploits), exploits_c1*100 / len(exploits)\n",
    "print(\"There are {:.2f} % of NO detected and {:.2f} % of detected samples\".format(exploits_0, exploits_1))"
   ]
  },
  {
   "cell_type": "code",
   "execution_count": 76,
   "id": "d7826379-4a14-41b9-b9a4-1242765ce303",
   "metadata": {},
   "outputs": [
    {
     "name": "stdout",
     "output_type": "stream",
     "text": [
      "There are 51.83 % of NO detected and 48.17 % of detected samples\n"
     ]
    }
   ],
   "source": [
    "fuzzers_0, fuzzers_1 = fuzzers_c0*100 / len(fuzzers), fuzzers_c1*100 / len(fuzzers)\n",
    "print(\"There are {:.2f} % of NO detected and {:.2f} % of detected samples\".format(fuzzers_0, fuzzers_1))"
   ]
  },
  {
   "cell_type": "code",
   "execution_count": 77,
   "id": "74f0a251-4122-4696-a88f-1fcca5a0d898",
   "metadata": {},
   "outputs": [
    {
     "name": "stdout",
     "output_type": "stream",
     "text": [
      "There are 58.36 % of NO detected and 41.64 % of detected samples\n"
     ]
    }
   ],
   "source": [
    "analysis_0, analysis_1 = analysis_c0*100 / len(analysis), analysis_c1*100 / len(analysis)\n",
    "print(\"There are {:.2f} % of NO detected and {:.2f} % of detected samples\".format(analysis_0, analysis_1))"
   ]
  },
  {
   "cell_type": "code",
   "execution_count": 78,
   "id": "c1193c1e-d498-429d-8e25-f68e9327c2d9",
   "metadata": {},
   "outputs": [
    {
     "name": "stdout",
     "output_type": "stream",
     "text": [
      "There are 31.65 % of NO detected and 68.35 % of detected samples\n"
     ]
    }
   ],
   "source": [
    "backdoor_0, backdoor_1 = backdoor_c0*100 / len(backdoor), backdoor_c1*100 / len(backdoor)\n",
    "print(\"There are {:.2f} % of NO detected and {:.2f} % of detected samples\".format(backdoor_0, backdoor_1))"
   ]
  },
  {
   "cell_type": "code",
   "execution_count": 79,
   "id": "ba8b1522-fb67-46bf-872a-ede41cdec2e9",
   "metadata": {},
   "outputs": [
    {
     "name": "stdout",
     "output_type": "stream",
     "text": [
      "There are 14.16 % of NO detected and 85.84 % of detected samples\n"
     ]
    }
   ],
   "source": [
    "shellcode_0, shellcode_1 = shellcode_c0*100 / len(shellcode), shellcode_c1*100 / len(shellcode)\n",
    "print(\"There are {:.2f} % of NO detected and {:.2f} % of detected samples\".format(shellcode_0, shellcode_1))"
   ]
  },
  {
   "cell_type": "code",
   "execution_count": 80,
   "id": "64b45e2a-9ad3-48a2-9e9b-5ead63684281",
   "metadata": {},
   "outputs": [
    {
     "name": "stdout",
     "output_type": "stream",
     "text": [
      "There are 61.49 % of NO detected and 38.51 % of detected samples\n"
     ]
    }
   ],
   "source": [
    "worms_0, worms_1 = worms_c0*100 / len(worms), worms_c1*100 / len(worms)\n",
    "print(\"There are {:.2f} % of NO detected and {:.2f} % of detected samples\".format(worms_0, worms_1))"
   ]
  },
  {
   "cell_type": "markdown",
   "id": "0d380947-ea68-43c6-8c49-38d9cd2a6a07",
   "metadata": {},
   "source": [
    "attack_cat\n",
    "normal       30937\n",
    "fuzzers      24246\n",
    "analysis      2677\n",
    "backdoor      2329\n",
    "shellcode     1511\n",
    "worms          174"
   ]
  },
  {
   "cell_type": "code",
   "execution_count": 81,
   "id": "61858a97-e211-4762-934d-0c0d138d6ffe",
   "metadata": {},
   "outputs": [],
   "source": [
    "summary2 = pd.DataFrame({\"Traffic\":\n",
    "                   [\"Normal\", \"Exploits\",\"Fuzzers\", \"Analysis\", \"Backdoor\", \"Shellcode\", \"Worms\"],\n",
    "                   \"Detected %\": [normal_1, exploits_1, fuzzers_1,analysis_1, backdoor_1, shellcode_1, worms_1],\n",
    "                   \"No Detected %\": [normal_0, exploits_0, fuzzers_0, analysis_0, backdoor_0, shellcode_0, worms_0],\n",
    "                   \"Detected Samples\": [normal_c1, exploits_c1, fuzzers_c1, analysis_c1, backdoor_c1, shellcode_c1, worms_c1],\n",
    "                   \"No Detected Samples\": [normal_c0,  exploits_c0, fuzzers_c0, analysis_c0, backdoor_c0, shellcode_c0, worms_c1]})"
   ]
  },
  {
   "cell_type": "code",
   "execution_count": 82,
   "id": "37f740a9-bbf4-46eb-92f4-a976ffdfb583",
   "metadata": {},
   "outputs": [],
   "source": [
    "dff2['category_pred'] = np.where(((df2['attack'] == 1) & (df2['pred_attack'] == 1)) | ((df2['normal'] == 1) & (df2['pred_normal'] == 1)), 'Detected', 'No Detected')"
   ]
  },
  {
   "cell_type": "code",
   "execution_count": 83,
   "id": "aa65c0df-9083-4b40-9a6d-badab5bac909",
   "metadata": {},
   "outputs": [],
   "source": [
    "data_plot2=dff2[['category', 'category_pred']]"
   ]
  },
  {
   "cell_type": "code",
   "execution_count": 84,
   "id": "de6aa2cf-90a9-4215-b361-c8ab0a1895f9",
   "metadata": {},
   "outputs": [
    {
     "data": {
      "text/html": [
       "<div>\n",
       "<style scoped>\n",
       "    .dataframe tbody tr th:only-of-type {\n",
       "        vertical-align: middle;\n",
       "    }\n",
       "\n",
       "    .dataframe tbody tr th {\n",
       "        vertical-align: top;\n",
       "    }\n",
       "\n",
       "    .dataframe thead th {\n",
       "        text-align: right;\n",
       "    }\n",
       "</style>\n",
       "<table border=\"1\" class=\"dataframe\">\n",
       "  <thead>\n",
       "    <tr style=\"text-align: right;\">\n",
       "      <th></th>\n",
       "      <th>category</th>\n",
       "      <th>category_pred</th>\n",
       "    </tr>\n",
       "  </thead>\n",
       "  <tbody>\n",
       "    <tr>\n",
       "      <th>0</th>\n",
       "      <td>exploits</td>\n",
       "      <td>Detected</td>\n",
       "    </tr>\n",
       "    <tr>\n",
       "      <th>1</th>\n",
       "      <td>exploits</td>\n",
       "      <td>Detected</td>\n",
       "    </tr>\n",
       "    <tr>\n",
       "      <th>2</th>\n",
       "      <td>exploits</td>\n",
       "      <td>No Detected</td>\n",
       "    </tr>\n",
       "    <tr>\n",
       "      <th>3</th>\n",
       "      <td>exploits</td>\n",
       "      <td>Detected</td>\n",
       "    </tr>\n",
       "    <tr>\n",
       "      <th>4</th>\n",
       "      <td>exploits</td>\n",
       "      <td>Detected</td>\n",
       "    </tr>\n",
       "    <tr>\n",
       "      <th>...</th>\n",
       "      <td>...</td>\n",
       "      <td>...</td>\n",
       "    </tr>\n",
       "    <tr>\n",
       "      <th>150919</th>\n",
       "      <td>normal</td>\n",
       "      <td>Detected</td>\n",
       "    </tr>\n",
       "    <tr>\n",
       "      <th>150920</th>\n",
       "      <td>normal</td>\n",
       "      <td>Detected</td>\n",
       "    </tr>\n",
       "    <tr>\n",
       "      <th>150921</th>\n",
       "      <td>normal</td>\n",
       "      <td>Detected</td>\n",
       "    </tr>\n",
       "    <tr>\n",
       "      <th>150922</th>\n",
       "      <td>normal</td>\n",
       "      <td>Detected</td>\n",
       "    </tr>\n",
       "    <tr>\n",
       "      <th>150923</th>\n",
       "      <td>normal</td>\n",
       "      <td>Detected</td>\n",
       "    </tr>\n",
       "  </tbody>\n",
       "</table>\n",
       "<p>127810 rows × 2 columns</p>\n",
       "</div>"
      ],
      "text/plain": [
       "        category category_pred\n",
       "0       exploits      Detected\n",
       "1       exploits      Detected\n",
       "2       exploits   No Detected\n",
       "3       exploits      Detected\n",
       "4       exploits      Detected\n",
       "...          ...           ...\n",
       "150919    normal      Detected\n",
       "150920    normal      Detected\n",
       "150921    normal      Detected\n",
       "150922    normal      Detected\n",
       "150923    normal      Detected\n",
       "\n",
       "[127810 rows x 2 columns]"
      ]
     },
     "execution_count": 84,
     "metadata": {},
     "output_type": "execute_result"
    }
   ],
   "source": [
    "data_plot2"
   ]
  },
  {
   "cell_type": "code",
   "execution_count": 85,
   "id": "26f4060b-a9f0-4566-a9a1-918a03f947c5",
   "metadata": {},
   "outputs": [
    {
     "data": {
      "image/png": "[encoded data removed]",
      "text/plain": [
       "<Figure size 1500x500 with 1 Axes>"
      ]
     },
     "metadata": {},
     "output_type": "display_data"
    }
   ],
   "source": [
    "# Plotting target label distribution\n",
    "plt.figure(figsize=(15,5))\n",
    "sns.set_theme(style=\"darkgrid\")\n",
    "sns.countplot(x=data_plot2['category'], data=data_plot2,palette='CMRmap', hue=data_plot2['category_pred'])\n",
    "plt.title('Deteksi Serangan di first_test', weight='bold', fontsize='18')\n",
    "plt.xticks(weight='bold', fontsize=12)\n",
    "plt.show()"
   ]
  },
  {
   "cell_type": "code",
   "execution_count": 86,
   "id": "17181159-bda0-42e8-8c76-15e8a5652675",
   "metadata": {},
   "outputs": [
    {
     "data": {
      "text/html": [
       "<div>\n",
       "<style scoped>\n",
       "    .dataframe tbody tr th:only-of-type {\n",
       "        vertical-align: middle;\n",
       "    }\n",
       "\n",
       "    .dataframe tbody tr th {\n",
       "        vertical-align: top;\n",
       "    }\n",
       "\n",
       "    .dataframe thead th {\n",
       "        text-align: right;\n",
       "    }\n",
       "</style>\n",
       "<table border=\"1\" class=\"dataframe\">\n",
       "  <thead>\n",
       "    <tr style=\"text-align: right;\">\n",
       "      <th></th>\n",
       "      <th>Traffic</th>\n",
       "      <th>Detected %</th>\n",
       "      <th>No Detected %</th>\n",
       "      <th>Detected Samples</th>\n",
       "      <th>No Detected Samples</th>\n",
       "    </tr>\n",
       "  </thead>\n",
       "  <tbody>\n",
       "    <tr>\n",
       "      <th>0</th>\n",
       "      <td>Normal</td>\n",
       "      <td>98.945719</td>\n",
       "      <td>1.054281</td>\n",
       "      <td>74518</td>\n",
       "      <td>794</td>\n",
       "    </tr>\n",
       "    <tr>\n",
       "      <th>1</th>\n",
       "      <td>Exploits</td>\n",
       "      <td>65.529541</td>\n",
       "      <td>34.470459</td>\n",
       "      <td>18556</td>\n",
       "      <td>9761</td>\n",
       "    </tr>\n",
       "    <tr>\n",
       "      <th>2</th>\n",
       "      <td>Fuzzers</td>\n",
       "      <td>48.171213</td>\n",
       "      <td>51.828787</td>\n",
       "      <td>10365</td>\n",
       "      <td>11152</td>\n",
       "    </tr>\n",
       "    <tr>\n",
       "      <th>3</th>\n",
       "      <td>Analysis</td>\n",
       "      <td>41.639871</td>\n",
       "      <td>58.360129</td>\n",
       "      <td>259</td>\n",
       "      <td>363</td>\n",
       "    </tr>\n",
       "    <tr>\n",
       "      <th>4</th>\n",
       "      <td>Backdoor</td>\n",
       "      <td>68.347339</td>\n",
       "      <td>31.652661</td>\n",
       "      <td>244</td>\n",
       "      <td>113</td>\n",
       "    </tr>\n",
       "    <tr>\n",
       "      <th>5</th>\n",
       "      <td>Shellcode</td>\n",
       "      <td>85.837194</td>\n",
       "      <td>14.162806</td>\n",
       "      <td>1297</td>\n",
       "      <td>214</td>\n",
       "    </tr>\n",
       "    <tr>\n",
       "      <th>6</th>\n",
       "      <td>Worms</td>\n",
       "      <td>38.505747</td>\n",
       "      <td>61.494253</td>\n",
       "      <td>67</td>\n",
       "      <td>67</td>\n",
       "    </tr>\n",
       "  </tbody>\n",
       "</table>\n",
       "</div>"
      ],
      "text/plain": [
       "     Traffic  Detected %  No Detected %  Detected Samples  No Detected Samples\n",
       "0     Normal   98.945719       1.054281             74518                  794\n",
       "1   Exploits   65.529541      34.470459             18556                 9761\n",
       "2    Fuzzers   48.171213      51.828787             10365                11152\n",
       "3   Analysis   41.639871      58.360129               259                  363\n",
       "4   Backdoor   68.347339      31.652661               244                  113\n",
       "5  Shellcode   85.837194      14.162806              1297                  214\n",
       "6      Worms   38.505747      61.494253                67                   67"
      ]
     },
     "execution_count": 86,
     "metadata": {},
     "output_type": "execute_result"
    }
   ],
   "source": [
    "summary2"
   ]
  },
  {
   "cell_type": "code",
   "execution_count": 167,
   "id": "1f9fb7b9-c282-4e36-876d-f24d700ee235",
   "metadata": {},
   "outputs": [],
   "source": [
    "summary2.to_csv('~/04_Semester_4/revisi/csv_files/summary_first_test.csv', index=False)"
   ]
  },
  {
   "cell_type": "code",
   "execution_count": 126,
   "id": "5b4044ab-c71a-4662-b02d-68a5c8a8d850",
   "metadata": {},
   "outputs": [
    {
     "data": {
      "image/png": "[encoded data removed]",
      "text/plain": [
       "<Figure size 640x480 with 1 Axes>"
      ]
     },
     "metadata": {},
     "output_type": "display_data"
    }
   ],
   "source": [
    "# summarize history for accuracy\n",
    "loss_1 = history1.history['val_loss']\n",
    "loss_2 = history2.history['val_loss']\n",
    "x = list(range(1, len(loss_1) + 1))\n",
    "plt.plot(x, loss_1, color = 'orange', label = 'Base5_test loss')\n",
    "plt.plot(x, loss_2, color = 'blue', label = 'first_test loss')\n",
    "plt.legend()\n",
    "plt.grid(visible=True)\n",
    "plt.xlabel('Epoch')\n",
    "plt.ylabel('Loss')\n",
    "plt.title('Loss vs. Epoch', weight='bold', fontsize=18)\n",
    "plt.show()"
   ]
  },
  {
   "cell_type": "code",
   "execution_count": 127,
   "id": "936e1577-092e-47ac-9c3f-e9f4e2fc10df",
   "metadata": {},
   "outputs": [
    {
     "data": {
      "image/png": "[encoded data removed]",
      "text/plain": [
       "<Figure size 640x480 with 1 Axes>"
      ]
     },
     "metadata": {},
     "output_type": "display_data"
    }
   ],
   "source": [
    "# summarize history for loss\n",
    "acc_1 = history1.history['val_accuracy']\n",
    "acc_2 = history2.history['val_accuracy']\n",
    "x = list(range(1, len(acc_1) + 1))\n",
    "plt.plot(x, acc_1, color = 'orange', label = 'Base5 Test accuracy')\n",
    "plt.plot(x, acc_2, color = 'blue', label = 'First Test accuracy')\n",
    "plt.legend()\n",
    "plt.grid(visible=True)\n",
    "plt.xlabel('Epoch')\n",
    "plt.ylabel('Accuracy')\n",
    "plt.title('Accuracy vs. Epoch', weight='bold', fontsize=18)\n",
    "plt.show()"
   ]
  },
  {
   "cell_type": "markdown",
   "id": "4ad2e311-f327-43c5-a567-6394cb18ac2f",
   "metadata": {},
   "source": [
    "### C. Base4 Train & Full Test"
   ]
  },
  {
   "cell_type": "code",
   "execution_count": 128,
   "id": "19cb8793-9aeb-4d37-933a-8e492fc9ac93",
   "metadata": {},
   "outputs": [],
   "source": [
    "x_train3, y_train3 = x_train2, y_train2"
   ]
  },
  {
   "cell_type": "code",
   "execution_count": 129,
   "id": "7141dce8-f1f4-4974-88bc-3a80c77cc789",
   "metadata": {},
   "outputs": [],
   "source": [
    "data = pd.read_csv('~/04_Semester_4/revisi/csv_files/UNSW_NB15_full_test.csv', low_memory=False)"
   ]
  },
  {
   "cell_type": "code",
   "execution_count": 130,
   "id": "940328ae-e8c2-4e5e-96cb-a6c409a63ffa",
   "metadata": {},
   "outputs": [],
   "source": [
    "# Select the 'proto' and 'state' values that I want\n",
    "data = data.loc[(data['proto'] == 'tcp') | (data['proto'] =='udp') | (data['proto'] =='icmp') | (data['proto'] =='arp') | (data['proto'] =='ipv6-icmp') | (data['proto'] =='igmp') | (data['proto'] =='rarp'), :]\n",
    "data = data.loc[(data['state'] == 'RST') | (data['state'] =='REQ') | (data['state'] =='INT') | (data['state'] =='FIN') | (data['state'] =='CON') | (data['state'] =='ECO') | (data['state'] =='ACC') | (data['state'] =='PAR'), :]\n",
    "\n",
    "# Extracting dataset labels\n",
    "data_labels=data[['label']]\n",
    "\n",
    "# Drop the invalid features and select interested data features\n",
    "data_features=data[['proto','srcip','sport','dstip','dsport','spkts','dpkts','sbytes','dbytes','state','stime','ltime','dur']]\n",
    "\n",
    "# Filling NaN values with -1\n",
    "data_features = data_features.fillna(value=-1)\n",
    "\n",
    "\"\"\"PREPROCESSING\"\"\"\n",
    "\n",
    "# Preprocess IP and ports features\n",
    "# IP Source Address\n",
    "data_features['srcip'] = data_features['srcip'].apply(lambda x: x.split(\".\")[-1])\n",
    "data_features['srcip'] = data_features['srcip'].apply(lambda x: x.split(\":\")[-1])\n",
    "data_features['srcip'] = data_features['srcip'].apply(lambda x: int(x, 16))\n",
    "\n",
    "# IP Destination Address\n",
    "data_features['dstip'] = data_features['dstip'].apply(lambda x: x.split(\".\")[-1])\n",
    "data_features['dstip'] = data_features['dstip'].apply(lambda x: x.split(\":\")[-1])\n",
    "data_features['dstip'] = data_features['dstip'].apply(lambda x: int(x, 16))\n",
    "\n",
    "# Ports\n",
    "data_features['sport'] = data_features['sport'].apply(lambda x: x.replace('0x','') if \"0x\" in str(x) else x)\n",
    "data_features['dsport'] = data_features['dsport'].apply(lambda x: x.replace('0x','') if \"0x\" in str(x) else x)\n",
    "\n",
    "# Convert all ports with 0 decimal, and HEX to DEC\n",
    "data_features['sport'] = data_features['sport'].apply(lambda x: str(x)[:-2] if str(x)[-2:] == '.0' else str(x))\n",
    "data_features['sport'] = data_features['sport'].apply(lambda x: -1 if str(x).isalpha()==True else int(x,16))\n",
    "\n",
    "data_features['dsport'] = data_features['dsport'].apply(lambda x: str(x)[:-2] if str(x)[-2:] == '.0' else str(x))\n",
    "data_features['dsport'] = data_features['dsport'].apply(lambda x: \"None\" if x==\"-\" else x)\n",
    "data_features['dsport'] = data_features['dsport'].apply(lambda x: -1 if str(x).isalpha()==True else int(x,16))\n",
    "\n",
    "# Convert field to int format\n",
    "data_features['srcip'] = data_features['srcip'].astype(int)\n",
    "data_features['sport'] = data_features['sport'].astype(int)\n",
    "data_features['dstip'] = data_features['dstip'].astype(int)\n",
    "data_features['dsport'] = data_features['dsport'].astype(int)\n",
    "\n",
    "# Convert some fields to logarithmic\n",
    "log1p_col = ['dur', 'sbytes', 'dbytes', 'spkts']\n",
    "\n",
    "for col in log1p_col:\n",
    "    data_features[col] = data_features[col].apply(np.log1p)\n",
    "\n",
    "\n",
    "    \n",
    "# Insert the new column in data labels\n",
    "data_labels = pd.get_dummies(data_labels)\n",
    "\n",
    "# Transform to One hot encoding - FEATURES\n",
    "data_features=pd.get_dummies(data_features)\n",
    "\n",
    "# Normalize all data features\n",
    "data_features = StandardScaler().fit_transform(data_features)\n",
    "\n",
    "#Add dimension to data features\n",
    "data_features = np.expand_dims(data_features, axis=2)\n",
    "\n",
    "x_test3, y_test3=data_features, data_labels"
   ]
  },
  {
   "cell_type": "code",
   "execution_count": 131,
   "id": "c23131cf-5a63-409e-974e-49ad033886e6",
   "metadata": {},
   "outputs": [
    {
     "name": "stdout",
     "output_type": "stream",
     "text": [
      "(602526, 24, 1)\n",
      "(602526, 1)\n",
      "label\n",
      "0        320593\n",
      "1        281933\n",
      "Name: count, dtype: int64\n"
     ]
    }
   ],
   "source": [
    "print(x_test3.shape)\n",
    "print(y_test3.shape)\n",
    "print(y_test3.value_counts())"
   ]
  },
  {
   "cell_type": "code",
   "execution_count": 132,
   "id": "27933c1c-4128-4cec-ac56-43d9856ecd31",
   "metadata": {},
   "outputs": [
    {
     "name": "stdout",
     "output_type": "stream",
     "text": [
      "18829/18829 [==============================] - 108s 6ms/step - loss: 0.0535 - accuracy: 0.9856\n",
      "test loss, test acc: [0.05349274352192879, 0.9855973124504089]\n"
     ]
    }
   ],
   "source": [
    "#Evaluate the model\n",
    "model1 = model\n",
    "results4 = model1.evaluate(x_test3, y_test3, verbose=1)\n",
    "#test loss, test acc: [0.048502471297979355, 0.9808921217918396]\n",
    "\n",
    "print(\"test loss, test acc:\", results4)"
   ]
  },
  {
   "cell_type": "code",
   "execution_count": null,
   "id": "d0792315-080e-4914-807c-0b149ca54a89",
   "metadata": {},
   "outputs": [],
   "source": [
    "# Clear session and Memory Growth\n",
    "clear_session()\n",
    "\n",
    "# Create a Strategy.\n",
    "mixed_precision.set_global_policy('mixed_float16')\n",
    "\n",
    "if tf.config.list_physical_devices('GPU'):\n",
    "    strategy = tf.distribute.MirroredStrategy()\n",
    "else:  # Use the Default Strategy\n",
    "    strategy = tf.distribute.get_strategy()\n",
    "\n",
    "print(\"Number of devices: {}\".format(strategy.num_replicas_in_sync))\n",
    "\n",
    "# Open a strategy scope.\n",
    "with strategy.scope():\n",
    "\n",
    "    model=model_cnn()\n",
    "\n",
    "    #x_train, x_test, y_train, y_test = train_test_split(data_features, data_labels, train_size=0.75, random_state=42,shuffle=True)\n",
    "\n",
    "\n",
    "# Train the model on all available devices.\n",
    "history = model.fit(x_train3, y_train3, validation_data=(x_test3, y_test3), epochs=15, batch_size=2048, callbacks=callbacks, verbose=1)\n",
    "history1 = history"
   ]
  },
  {
   "cell_type": "code",
   "execution_count": 135,
   "id": "a0ab163d-a74f-4ea3-a906-0a8cf1381665",
   "metadata": {},
   "outputs": [
    {
     "name": "stdout",
     "output_type": "stream",
     "text": [
      "18829/18829 [==============================] - 76s 4ms/step\n"
     ]
    }
   ],
   "source": [
    "# Prediction\n",
    "predicted3 = model1.predict(x_test3)"
   ]
  },
  {
   "cell_type": "code",
   "execution_count": 136,
   "id": "252f23a6-674c-484c-9e3d-96d6a97409f9",
   "metadata": {},
   "outputs": [],
   "source": [
    "df3 = pd.DataFrame(y_test3)\n",
    "df3['predicted'] = predicted3"
   ]
  },
  {
   "cell_type": "code",
   "execution_count": 137,
   "id": "4374b182-6e61-4235-8fc6-fd630431e63f",
   "metadata": {},
   "outputs": [],
   "source": [
    "cf3 = confusion_matrix(y_test3, np.round(predicted3))"
   ]
  },
  {
   "cell_type": "code",
   "execution_count": 138,
   "id": "6f66be3f-fe89-4d86-987d-a493aa7eebf9",
   "metadata": {},
   "outputs": [
    {
     "data": {
      "image/png": "[encoded data removed]",
      "text/plain": [
       "<Figure size 640x480 with 1 Axes>"
      ]
     },
     "metadata": {},
     "output_type": "display_data"
    }
   ],
   "source": [
    "cmatrix_df3 = pd.DataFrame(cf3, index = ['Attack', 'Normal'], columns = ['Attack', 'Normal'])\n",
    "plt.title('Confusion matrix dari full_test', weight='bold', fontsize=14)\n",
    "plt.tick_params(length=0)\n",
    "plt.xlabel('Attacks')\n",
    "plt.ylabel('Predicted Attacks')\n",
    "sns.heatmap(cmatrix_df3, annot=True, fmt=\"d\", cbar=False, cmap='Blues')\n",
    "plt.show()"
   ]
  },
  {
   "cell_type": "code",
   "execution_count": 139,
   "id": "f876a05c-98be-4dea-84a3-dbf1c658cd19",
   "metadata": {},
   "outputs": [
    {
     "data": {
      "image/png": "[encoded data removed]",
      "text/plain": [
       "<Figure size 640x480 with 1 Axes>"
      ]
     },
     "metadata": {},
     "output_type": "display_data"
    }
   ],
   "source": [
    "cmatrix_df3 = pd.DataFrame(cf3, index = ['Attack', 'Normal'], columns = ['Attack', 'Normal'])\n",
    "plt.title('Confusion matrix dari full_test', weight='bold', fontsize=14)\n",
    "plt.tick_params(length=0)\n",
    "plt.xlabel('Attacks')\n",
    "plt.ylabel('Predicted Attacks')\n",
    "sns.heatmap(cmatrix_df3, annot=True, fmt=\"d\", cbar=False, cmap='Blues')\n",
    "plt.show()"
   ]
  },
  {
   "cell_type": "code",
   "execution_count": 140,
   "id": "44cffde7-ad22-4e01-82a8-c0b07e9c572e",
   "metadata": {},
   "outputs": [
    {
     "name": "stdout",
     "output_type": "stream",
     "text": [
      "              precision    recall  f1-score   support\n",
      "\n",
      "           0       0.99      0.99      0.99    320593\n",
      "           1       0.98      0.99      0.98    281933\n",
      "\n",
      "    accuracy                           0.99    602526\n",
      "   macro avg       0.99      0.99      0.99    602526\n",
      "weighted avg       0.99      0.99      0.99    602526\n",
      "\n"
     ]
    }
   ],
   "source": [
    "# Precision, Recall & F1 Score\n",
    "class_report3 = classification_report(y_test3, np.round(predicted3))\n",
    "print(class_report3)"
   ]
  },
  {
   "cell_type": "code",
   "execution_count": 141,
   "id": "b52fd4fb-adbb-4c3b-abc0-85afcd1e0d04",
   "metadata": {},
   "outputs": [
    {
     "data": {
      "image/png": "[encoded data removed]",
      "text/plain": [
       "<Figure size 640x480 with 1 Axes>"
      ]
     },
     "metadata": {},
     "output_type": "display_data"
    }
   ],
   "source": [
    "# Precision, Recall & F1-Score\n",
    "class_report3 = classification_report(y_test3, np.round(predicted3), target_names = ['Attack', 'Normal'],output_dict=True) \n",
    "plt.tick_params(axis='both', which='major', labelsize=10, labelbottom = False, bottom=False, top = False, labeltop=True)\n",
    "plt.tick_params(length=0)\n",
    "sns.heatmap(pd.DataFrame(class_report3).iloc[:-1, :-3].T, square=True, cbar=False,cmap='Blues', annot=True) \n",
    "plt.show()"
   ]
  },
  {
   "cell_type": "code",
   "execution_count": 142,
   "id": "68775fb1-3133-427b-be8f-131ed03de45d",
   "metadata": {},
   "outputs": [
    {
     "data": {
      "text/plain": [
       "{'Attack': {'precision': 0.9869760848318694,\n",
       "  'recall': 0.9859416768301241,\n",
       "  'f1-score': 0.9864586096590465,\n",
       "  'support': 320593.0},\n",
       " 'Normal': {'precision': 0.9840329614658357,\n",
       "  'recall': 0.9852057049015192,\n",
       "  'f1-score': 0.9846189839809146,\n",
       "  'support': 281933.0},\n",
       " 'accuracy': 0.9855973020251408,\n",
       " 'macro avg': {'precision': 0.9855045231488526,\n",
       "  'recall': 0.9855736908658217,\n",
       "  'f1-score': 0.9855387968199806,\n",
       "  'support': 602526.0},\n",
       " 'weighted avg': {'precision': 0.9855989432646075,\n",
       "  'recall': 0.9855973020251408,\n",
       "  'f1-score': 0.9855978149608713,\n",
       "  'support': 602526.0}}"
      ]
     },
     "execution_count": 142,
     "metadata": {},
     "output_type": "execute_result"
    }
   ],
   "source": [
    "class_report3"
   ]
  },
  {
   "cell_type": "code",
   "execution_count": 143,
   "id": "b2955ded-aaa1-4185-8f5c-08309355eea3",
   "metadata": {},
   "outputs": [],
   "source": [
    "# adding normal column in data label\n",
    "normal=data_labels['label']\n",
    "normal=normal.replace(1,2)\n",
    "normal=normal.replace(0,1)\n",
    "normal=normal.replace(2,0)\n",
    "data_labels.insert(1, 'normal', normal)"
   ]
  },
  {
   "cell_type": "code",
   "execution_count": 144,
   "id": "93f3a28d-e24b-4b2b-b0df-8d1d010bae4e",
   "metadata": {},
   "outputs": [
    {
     "data": {
      "text/html": [
       "<div>\n",
       "<style scoped>\n",
       "    .dataframe tbody tr th:only-of-type {\n",
       "        vertical-align: middle;\n",
       "    }\n",
       "\n",
       "    .dataframe tbody tr th {\n",
       "        vertical-align: top;\n",
       "    }\n",
       "\n",
       "    .dataframe thead th {\n",
       "        text-align: right;\n",
       "    }\n",
       "</style>\n",
       "<table border=\"1\" class=\"dataframe\">\n",
       "  <thead>\n",
       "    <tr style=\"text-align: right;\">\n",
       "      <th></th>\n",
       "      <th>pred_attack</th>\n",
       "      <th>pred_normal</th>\n",
       "      <th>attack</th>\n",
       "      <th>category</th>\n",
       "      <th>normal</th>\n",
       "    </tr>\n",
       "  </thead>\n",
       "  <tbody>\n",
       "    <tr>\n",
       "      <th>0</th>\n",
       "      <td>1.0</td>\n",
       "      <td>0.0</td>\n",
       "      <td>1</td>\n",
       "      <td>exploits</td>\n",
       "      <td>0</td>\n",
       "    </tr>\n",
       "    <tr>\n",
       "      <th>1</th>\n",
       "      <td>1.0</td>\n",
       "      <td>0.0</td>\n",
       "      <td>1</td>\n",
       "      <td>exploits</td>\n",
       "      <td>0</td>\n",
       "    </tr>\n",
       "    <tr>\n",
       "      <th>2</th>\n",
       "      <td>1.0</td>\n",
       "      <td>0.0</td>\n",
       "      <td>1</td>\n",
       "      <td>reconnaissance</td>\n",
       "      <td>0</td>\n",
       "    </tr>\n",
       "    <tr>\n",
       "      <th>3</th>\n",
       "      <td>1.0</td>\n",
       "      <td>0.0</td>\n",
       "      <td>1</td>\n",
       "      <td>exploits</td>\n",
       "      <td>0</td>\n",
       "    </tr>\n",
       "    <tr>\n",
       "      <th>4</th>\n",
       "      <td>1.0</td>\n",
       "      <td>0.0</td>\n",
       "      <td>1</td>\n",
       "      <td>exploits</td>\n",
       "      <td>0</td>\n",
       "    </tr>\n",
       "  </tbody>\n",
       "</table>\n",
       "</div>"
      ],
      "text/plain": [
       "   pred_attack  pred_normal  attack        category  normal\n",
       "0          1.0          0.0       1        exploits       0\n",
       "1          1.0          0.0       1        exploits       0\n",
       "2          1.0          0.0       1  reconnaissance       0\n",
       "3          1.0          0.0       1        exploits       0\n",
       "4          1.0          0.0       1        exploits       0"
      ]
     },
     "execution_count": 144,
     "metadata": {},
     "output_type": "execute_result"
    }
   ],
   "source": [
    "df3 = pd.DataFrame(np.round(predicted3))\n",
    "df3.index = y_test3.index\n",
    "df3.columns = ['pred_attack']\n",
    "df3['pred_normal'] = 1- df3['pred_attack']\n",
    "df3['attack']=data['label']\n",
    "df3['category']=data['attack_cat']\n",
    "df3['normal']=data_labels['normal']\n",
    "df3.head()"
   ]
  },
  {
   "cell_type": "code",
   "execution_count": 145,
   "id": "47ef713d-0420-4a04-aa3c-9bc21eee85e1",
   "metadata": {},
   "outputs": [
    {
     "data": {
      "text/plain": [
       "category\n",
       "normal            320593\n",
       "generic           213718\n",
       "exploits           28317\n",
       "fuzzers            21517\n",
       "reconnaissance     11854\n",
       "dos                 3863\n",
       "shellcode           1511\n",
       "analysis             622\n",
       "backdoor             357\n",
       "worms                174\n",
       "Name: count, dtype: int64"
      ]
     },
     "execution_count": 145,
     "metadata": {},
     "output_type": "execute_result"
    }
   ],
   "source": [
    "df3.value_counts('category')"
   ]
  },
  {
   "cell_type": "code",
   "execution_count": 146,
   "id": "9706822a-d7c2-45d7-aa11-c4e1c3db1f17",
   "metadata": {},
   "outputs": [],
   "source": [
    "dff3=df3\n",
    "df3=pd.get_dummies(df3)\n",
    "df3=round(df3)"
   ]
  },
  {
   "cell_type": "code",
   "execution_count": 147,
   "id": "34e2522f-da85-4b5c-a852-8556cbc1a8f6",
   "metadata": {},
   "outputs": [],
   "source": [
    "analysis=df3.loc[df3['category_analysis'] == 1]\n",
    "analysis=analysis[['pred_attack', 'pred_normal', 'attack', 'normal']]\n",
    "analysis_pred=analysis[['pred_attack','pred_normal']]\n",
    "analysis_check=analysis[['attack','normal']]\n",
    "\n",
    "backdoor=df3.loc[df3['category_backdoor'] == 1]\n",
    "backdoor=backdoor[['pred_attack', 'pred_normal', 'attack', 'normal']]\n",
    "backdoor_pred=backdoor[['pred_attack','pred_normal']]\n",
    "backdoor_check=backdoor[['attack','normal']]\n",
    "\n",
    "fuzzers=df3.loc[df3['category_fuzzers'] == 1]\n",
    "fuzzers=fuzzers[['pred_attack', 'pred_normal', 'attack', 'normal']]\n",
    "fuzzers_pred=fuzzers[['pred_attack','pred_normal']]\n",
    "fuzzers_check=fuzzers[['attack','normal']]\n",
    "\n",
    "normal=df3.loc[df3['category_normal'] == 1]\n",
    "normal=normal[['pred_attack', 'pred_normal', 'attack', 'normal']]\n",
    "normal_pred=normal[['pred_attack','pred_normal']]\n",
    "normal_check=normal[['attack','normal']]\n",
    "\n",
    "shellcode=df3.loc[df3['category_shellcode'] == 1]\n",
    "shellcode=shellcode[['pred_attack', 'pred_normal', 'attack', 'normal']]\n",
    "shellcode_pred=shellcode[['pred_attack','pred_normal']]\n",
    "shellcode_check=shellcode[['attack','normal']]\n",
    "\n",
    "worms=df3.loc[df3['category_worms'] == 1]\n",
    "worms=worms[['pred_attack', 'pred_normal', 'attack', 'normal']]\n",
    "worms_pred=worms[['pred_attack','pred_normal']]\n",
    "worms_check=worms[['attack','normal']]\n",
    "\n",
    "generic=df3.loc[df3['category_generic'] == 1]\n",
    "generic=generic[['pred_attack', 'pred_normal', 'attack', 'normal']]\n",
    "generic_pred=generic[['pred_attack','pred_normal']]\n",
    "generic_check=generic[['attack','normal']]\n",
    "\n",
    "exploits=df3.loc[df3['category_exploits'] == 1]\n",
    "exploits=exploits[['pred_attack', 'pred_normal', 'attack', 'normal']]\n",
    "exploits_pred=exploits[['pred_attack','pred_normal']]\n",
    "exploits_check=exploits[['attack','normal']]\n",
    "\n",
    "reconnaissance=df3.loc[df3['category_reconnaissance'] == 1]\n",
    "reconnaissance=reconnaissance[['pred_attack', 'pred_normal', 'attack', 'normal']]\n",
    "reconnaissance_pred=reconnaissance[['pred_attack','pred_normal']]\n",
    "reconnaissance_check=reconnaissance[['attack','normal']]\n",
    "\n",
    "dos=df3.loc[df3['category_dos'] == 1]\n",
    "dos=dos[['pred_attack', 'pred_normal', 'attack', 'normal']]\n",
    "dos_pred=dos[['pred_attack','pred_normal']]\n",
    "dos_check=dos[['attack','normal']]"
   ]
  },
  {
   "cell_type": "code",
   "execution_count": 148,
   "id": "b4da717c-f9b6-4994-a118-05096facac9c",
   "metadata": {},
   "outputs": [],
   "source": [
    "#Correctly detected\n",
    "countdata=pd.DataFrame()\n",
    "normal_c = normal['pred_normal'] * normal['normal']\n",
    "analysis_c = analysis['pred_attack'] * analysis['attack']\n",
    "backdoor_c = backdoor['pred_attack'] * backdoor['attack']\n",
    "fuzzers_c = fuzzers['pred_attack'] * fuzzers['attack']\n",
    "shellcode_c = shellcode['pred_attack'] * shellcode['attack']\n",
    "worms_c = worms['pred_attack'] * worms['attack']\n",
    "generic_c = generic['pred_attack'] * generic['attack']\n",
    "exploits_c = exploits['pred_attack'] * exploits['attack']\n",
    "reconnaissance_c = reconnaissance['pred_attack'] * reconnaissance['attack']\n",
    "dos_c = dos['pred_attack'] * dos['attack']"
   ]
  },
  {
   "cell_type": "code",
   "execution_count": 149,
   "id": "d25c7569-812f-471c-90ef-c378b8c6818b",
   "metadata": {},
   "outputs": [],
   "source": [
    "# Count 0 and 1\n",
    "normal_c0 = (normal_c == 0).sum()\n",
    "normal_c1 = len(normal) - normal_c0\n",
    "\n",
    "analysis_c0 = (analysis_c == 0).sum()\n",
    "analysis_c1 = len(analysis) - analysis_c0\n",
    "\n",
    "backdoor_c0 = (backdoor_c == 0).sum()\n",
    "backdoor_c1 = len(backdoor) - backdoor_c0\n",
    "\n",
    "fuzzers_c0 = (fuzzers_c == 0).sum()\n",
    "fuzzers_c1 = len(fuzzers) - fuzzers_c0\n",
    "\n",
    "shellcode_c0 = (shellcode_c == 0).sum()\n",
    "shellcode_c1 = len(shellcode) - shellcode_c0\n",
    "\n",
    "worms_c0 = (worms_c == 0).sum()\n",
    "worms_c1 = len(worms) - worms_c0\n",
    "\n",
    "generic_c0 = (generic_c == 0).sum()\n",
    "generic_c1 = len(generic) - generic_c0\n",
    "\n",
    "exploits_c0 = (exploits_c == 0).sum()\n",
    "exploits_c1 = len(exploits) - exploits_c0\n",
    "\n",
    "reconnaissance_c0 = (reconnaissance_c == 0).sum()\n",
    "reconnaissance_c1 = len(reconnaissance) - reconnaissance_c0\n",
    "\n",
    "dos_c0 = (dos_c == 0).sum()\n",
    "dos_c1 = len(dos) - dos_c0"
   ]
  },
  {
   "cell_type": "code",
   "execution_count": 150,
   "id": "bd0e8ed0-3f60-47d5-9099-d4817a4b1881",
   "metadata": {},
   "outputs": [
    {
     "name": "stdout",
     "output_type": "stream",
     "text": [
      "There are 1.41 % of NO detected and 98.59 % of detected samples\n"
     ]
    }
   ],
   "source": [
    "normal_0, normal_1 = normal_c0*100 / len(normal), normal_c1*100 / len(normal)\n",
    "print(\"There are {:.2f} % of NO detected and {:.2f} % of detected samples\".format(normal_0, normal_1))"
   ]
  },
  {
   "cell_type": "code",
   "execution_count": 151,
   "id": "d41595a9-44ca-4603-9678-c1986d7efd97",
   "metadata": {},
   "outputs": [
    {
     "name": "stdout",
     "output_type": "stream",
     "text": [
      "There are 2.41 % of NO detected and 97.59 % of detected samples\n"
     ]
    }
   ],
   "source": [
    "analysis_0, analysis_1 = analysis_c0*100 / len(analysis), analysis_c1*100 / len(analysis)\n",
    "print(\"There are {:.2f} % of NO detected and {:.2f} % of detected samples\".format(analysis_0, analysis_1))"
   ]
  },
  {
   "cell_type": "code",
   "execution_count": 152,
   "id": "86b879fd-0b46-42cd-a3c2-243d7242d572",
   "metadata": {},
   "outputs": [
    {
     "name": "stdout",
     "output_type": "stream",
     "text": [
      "There are 17.93 % of NO detected and 82.07 % of detected samples\n"
     ]
    }
   ],
   "source": [
    "backdoor_0, backdoor_1 = backdoor_c0*100 / len(backdoor), backdoor_c1*100 / len(backdoor)\n",
    "print(\"There are {:.2f} % of NO detected and {:.2f} % of detected samples\".format(backdoor_0, backdoor_1))"
   ]
  },
  {
   "cell_type": "code",
   "execution_count": 153,
   "id": "460e3bd6-ff34-4c23-90be-8d8e8059e5f6",
   "metadata": {},
   "outputs": [
    {
     "name": "stdout",
     "output_type": "stream",
     "text": [
      "There are 4.06 % of NO detected and 95.94 % of detected samples\n"
     ]
    }
   ],
   "source": [
    "fuzzers_0, fuzzers_1 = fuzzers_c0*100 / len(fuzzers), fuzzers_c1*100 / len(fuzzers)\n",
    "print(\"There are {:.2f} % of NO detected and {:.2f} % of detected samples\".format(fuzzers_0, fuzzers_1))\n"
   ]
  },
  {
   "cell_type": "code",
   "execution_count": 154,
   "id": "d4d5d553-f7fa-44f2-98dc-84a8718178ab",
   "metadata": {},
   "outputs": [
    {
     "name": "stdout",
     "output_type": "stream",
     "text": [
      "There are 15.35 % of NO detected and 84.65 % of detected samples\n"
     ]
    }
   ],
   "source": [
    "shellcode_0, shellcode_1 = shellcode_c0*100 / len(shellcode), shellcode_c1*100 / len(shellcode)\n",
    "print(\"There are {:.2f} % of NO detected and {:.2f} % of detected samples\".format(shellcode_0, shellcode_1))"
   ]
  },
  {
   "cell_type": "code",
   "execution_count": 155,
   "id": "38df1ba8-1d44-44b5-93c0-570ed474c38d",
   "metadata": {},
   "outputs": [
    {
     "name": "stdout",
     "output_type": "stream",
     "text": [
      "There are 2.87 % of NO detected and 97.13 % of detected samples\n"
     ]
    }
   ],
   "source": [
    "worms_0, worms_1 = worms_c0*100 / len(worms), worms_c1*100 / len(worms)\n",
    "print(\"There are {:.2f} % of NO detected and {:.2f} % of detected samples\".format(worms_0, worms_1))"
   ]
  },
  {
   "cell_type": "code",
   "execution_count": 156,
   "id": "307dbe6d-400f-42c6-980d-09eddebf398b",
   "metadata": {},
   "outputs": [
    {
     "name": "stdout",
     "output_type": "stream",
     "text": [
      "There are 0.08 % of NO detected and 99.92 % of detected samples\n"
     ]
    }
   ],
   "source": [
    "generic_0, generic_1 = generic_c0*100 / len(generic), generic_c1*100 / len(generic)\n",
    "print(\"There are {:.2f} % of NO detected and {:.2f} % of detected samples\".format(generic_0, generic_1))\n"
   ]
  },
  {
   "cell_type": "code",
   "execution_count": 157,
   "id": "71599d7b-1244-4a51-85e6-b661ad506a90",
   "metadata": {},
   "outputs": [
    {
     "name": "stdout",
     "output_type": "stream",
     "text": [
      "There are 9.10 % of NO detected and 90.90 % of detected samples\n"
     ]
    }
   ],
   "source": [
    "exploits_0, exploits_1 = exploits_c0*100 / len(exploits), exploits_c1*100 / len(exploits)\n",
    "print(\"There are {:.2f} % of NO detected and {:.2f} % of detected samples\".format(exploits_0, exploits_1))"
   ]
  },
  {
   "cell_type": "code",
   "execution_count": 158,
   "id": "bb9aa5fc-8c26-4ebc-af3a-8c06cb22d4d7",
   "metadata": {},
   "outputs": [
    {
     "name": "stdout",
     "output_type": "stream",
     "text": [
      "There are 0.16 % of NO detected and 99.84 % of detected samples\n"
     ]
    }
   ],
   "source": [
    "reconnaissance_0, reconnaissance_1 = reconnaissance_c0*100 / len(reconnaissance), reconnaissance_c1*100 / len(reconnaissance)\n",
    "print(\"There are {:.2f} % of NO detected and {:.2f} % of detected samples\".format(reconnaissance_0, reconnaissance_1))"
   ]
  },
  {
   "cell_type": "code",
   "execution_count": 159,
   "id": "1b89e4da-66fe-4cf6-b21e-ce90dd5aadc4",
   "metadata": {},
   "outputs": [
    {
     "name": "stdout",
     "output_type": "stream",
     "text": [
      "There are 5.51 % of NO detected and 94.49 % of detected samples\n"
     ]
    }
   ],
   "source": [
    "dos_0, dos_1 = dos_c0*100 / len(dos), dos_c1*100 / len(dos)\n",
    "print(\"There are {:.2f} % of NO detected and {:.2f} % of detected samples\".format(dos_0, dos_1))"
   ]
  },
  {
   "cell_type": "code",
   "execution_count": 160,
   "id": "deba8483-aa50-4298-a54b-74997dfd0843",
   "metadata": {},
   "outputs": [],
   "source": [
    "summary4 = pd.DataFrame({\"Traffic\":\n",
    "                   [\"Normal\", \"Analysis\", \"Backdoor\", \"Fuzzers\", \"Shellcode\", \"Worms\", \"Generic\", \"Exploits\", \"Reconnaissance\", \"DoS\"],\n",
    "                   \"Detected %\": [normal_1, analysis_1, backdoor_1, fuzzers_1, shellcode_1, worms_1, generic_1, exploits_1, reconnaissance_1, dos_1],\n",
    "                   \"No Detected %\": [normal_0, analysis_0, backdoor_0, fuzzers_0, shellcode_0, worms_0, generic_0, exploits_0, reconnaissance_0, dos_0],\n",
    "                   \"Detected Samples\": [normal_c1, analysis_c1, backdoor_c1, fuzzers_c1, shellcode_c1, worms_c1, generic_c1, exploits_c1, reconnaissance_c1, dos_c1],\n",
    "                   \"No Detected Samples\": [normal_c0, analysis_c0, backdoor_c0, fuzzers_c0, shellcode_c0, worms_c0, generic_c0, exploits_c0, reconnaissance_c0, dos_c0]})"
   ]
  },
  {
   "cell_type": "code",
   "execution_count": 161,
   "id": "6a1bcddd-8bbb-438a-a50b-c98d846eaf4e",
   "metadata": {},
   "outputs": [],
   "source": [
    "dff3['category_pred'] = np.where(((df3['attack'] == 1) & (df3['pred_attack'] == 1)) | ((df3['normal'] == 1) & (df3['pred_normal'] == 1)), 'Detected', 'No Detected')"
   ]
  },
  {
   "cell_type": "code",
   "execution_count": 162,
   "id": "887383a4-2870-4d28-87ed-7ed7b390c7a2",
   "metadata": {},
   "outputs": [],
   "source": [
    "data_plot3=dff3[['category', 'category_pred']]"
   ]
  },
  {
   "cell_type": "code",
   "execution_count": 163,
   "id": "8d279b77-c01f-4d78-a358-28848600a4b9",
   "metadata": {},
   "outputs": [
    {
     "data": {
      "text/html": [
       "<div>\n",
       "<style scoped>\n",
       "    .dataframe tbody tr th:only-of-type {\n",
       "        vertical-align: middle;\n",
       "    }\n",
       "\n",
       "    .dataframe tbody tr th {\n",
       "        vertical-align: top;\n",
       "    }\n",
       "\n",
       "    .dataframe thead th {\n",
       "        text-align: right;\n",
       "    }\n",
       "</style>\n",
       "<table border=\"1\" class=\"dataframe\">\n",
       "  <thead>\n",
       "    <tr style=\"text-align: right;\">\n",
       "      <th></th>\n",
       "      <th>category</th>\n",
       "      <th>category_pred</th>\n",
       "    </tr>\n",
       "  </thead>\n",
       "  <tbody>\n",
       "    <tr>\n",
       "      <th>0</th>\n",
       "      <td>exploits</td>\n",
       "      <td>Detected</td>\n",
       "    </tr>\n",
       "    <tr>\n",
       "      <th>1</th>\n",
       "      <td>exploits</td>\n",
       "      <td>Detected</td>\n",
       "    </tr>\n",
       "    <tr>\n",
       "      <th>2</th>\n",
       "      <td>reconnaissance</td>\n",
       "      <td>Detected</td>\n",
       "    </tr>\n",
       "    <tr>\n",
       "      <th>3</th>\n",
       "      <td>exploits</td>\n",
       "      <td>Detected</td>\n",
       "    </tr>\n",
       "    <tr>\n",
       "      <th>4</th>\n",
       "      <td>exploits</td>\n",
       "      <td>Detected</td>\n",
       "    </tr>\n",
       "    <tr>\n",
       "      <th>...</th>\n",
       "      <td>...</td>\n",
       "      <td>...</td>\n",
       "    </tr>\n",
       "    <tr>\n",
       "      <th>642561</th>\n",
       "      <td>normal</td>\n",
       "      <td>Detected</td>\n",
       "    </tr>\n",
       "    <tr>\n",
       "      <th>642562</th>\n",
       "      <td>normal</td>\n",
       "      <td>Detected</td>\n",
       "    </tr>\n",
       "    <tr>\n",
       "      <th>642563</th>\n",
       "      <td>normal</td>\n",
       "      <td>Detected</td>\n",
       "    </tr>\n",
       "    <tr>\n",
       "      <th>642564</th>\n",
       "      <td>normal</td>\n",
       "      <td>Detected</td>\n",
       "    </tr>\n",
       "    <tr>\n",
       "      <th>642565</th>\n",
       "      <td>normal</td>\n",
       "      <td>Detected</td>\n",
       "    </tr>\n",
       "  </tbody>\n",
       "</table>\n",
       "<p>602526 rows × 2 columns</p>\n",
       "</div>"
      ],
      "text/plain": [
       "              category category_pred\n",
       "0             exploits      Detected\n",
       "1             exploits      Detected\n",
       "2       reconnaissance      Detected\n",
       "3             exploits      Detected\n",
       "4             exploits      Detected\n",
       "...                ...           ...\n",
       "642561          normal      Detected\n",
       "642562          normal      Detected\n",
       "642563          normal      Detected\n",
       "642564          normal      Detected\n",
       "642565          normal      Detected\n",
       "\n",
       "[602526 rows x 2 columns]"
      ]
     },
     "execution_count": 163,
     "metadata": {},
     "output_type": "execute_result"
    }
   ],
   "source": [
    "data_plot3"
   ]
  },
  {
   "cell_type": "code",
   "execution_count": 164,
   "id": "616c231b-a395-4ca3-a1a4-32664dab11b5",
   "metadata": {},
   "outputs": [
    {
     "data": {
      "image/png": "[encoded data removed]",
      "text/plain": [
       "<Figure size 1500x500 with 1 Axes>"
      ]
     },
     "metadata": {},
     "output_type": "display_data"
    }
   ],
   "source": [
    "# Plotting target label distribution\n",
    "plt.figure(figsize=(15,5))\n",
    "sns.set_theme(style=\"darkgrid\")\n",
    "sns.countplot(x=data_plot3['category'], data=data_plot3,palette='CMRmap', hue=data_plot3['category_pred'])\n",
    "plt.title('Deteksi Serangan dari Full_Test dataset', weight='bold', fontsize='18')\n",
    "plt.xticks(weight='bold', fontsize=12)\n",
    "plt.show()"
   ]
  },
  {
   "cell_type": "code",
   "execution_count": 165,
   "id": "8da01faf-2dde-49cc-b124-92f9cc919def",
   "metadata": {},
   "outputs": [
    {
     "data": {
      "text/html": [
       "<div>\n",
       "<style scoped>\n",
       "    .dataframe tbody tr th:only-of-type {\n",
       "        vertical-align: middle;\n",
       "    }\n",
       "\n",
       "    .dataframe tbody tr th {\n",
       "        vertical-align: top;\n",
       "    }\n",
       "\n",
       "    .dataframe thead th {\n",
       "        text-align: right;\n",
       "    }\n",
       "</style>\n",
       "<table border=\"1\" class=\"dataframe\">\n",
       "  <thead>\n",
       "    <tr style=\"text-align: right;\">\n",
       "      <th></th>\n",
       "      <th>Traffic</th>\n",
       "      <th>Detected %</th>\n",
       "      <th>No Detected %</th>\n",
       "      <th>Detected Samples</th>\n",
       "      <th>No Detected Samples</th>\n",
       "    </tr>\n",
       "  </thead>\n",
       "  <tbody>\n",
       "    <tr>\n",
       "      <th>0</th>\n",
       "      <td>Normal</td>\n",
       "      <td>98.594168</td>\n",
       "      <td>1.405832</td>\n",
       "      <td>316086</td>\n",
       "      <td>4507</td>\n",
       "    </tr>\n",
       "    <tr>\n",
       "      <th>1</th>\n",
       "      <td>Analysis</td>\n",
       "      <td>97.588424</td>\n",
       "      <td>2.411576</td>\n",
       "      <td>607</td>\n",
       "      <td>15</td>\n",
       "    </tr>\n",
       "    <tr>\n",
       "      <th>2</th>\n",
       "      <td>Backdoor</td>\n",
       "      <td>82.072829</td>\n",
       "      <td>17.927171</td>\n",
       "      <td>293</td>\n",
       "      <td>64</td>\n",
       "    </tr>\n",
       "    <tr>\n",
       "      <th>3</th>\n",
       "      <td>Fuzzers</td>\n",
       "      <td>95.938095</td>\n",
       "      <td>4.061905</td>\n",
       "      <td>20643</td>\n",
       "      <td>874</td>\n",
       "    </tr>\n",
       "    <tr>\n",
       "      <th>4</th>\n",
       "      <td>Shellcode</td>\n",
       "      <td>84.645930</td>\n",
       "      <td>15.354070</td>\n",
       "      <td>1279</td>\n",
       "      <td>232</td>\n",
       "    </tr>\n",
       "    <tr>\n",
       "      <th>5</th>\n",
       "      <td>Worms</td>\n",
       "      <td>97.126437</td>\n",
       "      <td>2.873563</td>\n",
       "      <td>169</td>\n",
       "      <td>5</td>\n",
       "    </tr>\n",
       "    <tr>\n",
       "      <th>6</th>\n",
       "      <td>Generic</td>\n",
       "      <td>99.919052</td>\n",
       "      <td>0.080948</td>\n",
       "      <td>213545</td>\n",
       "      <td>173</td>\n",
       "    </tr>\n",
       "    <tr>\n",
       "      <th>7</th>\n",
       "      <td>Exploits</td>\n",
       "      <td>90.902991</td>\n",
       "      <td>9.097009</td>\n",
       "      <td>25741</td>\n",
       "      <td>2576</td>\n",
       "    </tr>\n",
       "    <tr>\n",
       "      <th>8</th>\n",
       "      <td>Reconnaissance</td>\n",
       "      <td>99.839717</td>\n",
       "      <td>0.160283</td>\n",
       "      <td>11835</td>\n",
       "      <td>19</td>\n",
       "    </tr>\n",
       "    <tr>\n",
       "      <th>9</th>\n",
       "      <td>DoS</td>\n",
       "      <td>94.486151</td>\n",
       "      <td>5.513849</td>\n",
       "      <td>3650</td>\n",
       "      <td>213</td>\n",
       "    </tr>\n",
       "  </tbody>\n",
       "</table>\n",
       "</div>"
      ],
      "text/plain": [
       "          Traffic  Detected %  No Detected %  Detected Samples  \\\n",
       "0          Normal   98.594168       1.405832            316086   \n",
       "1        Analysis   97.588424       2.411576               607   \n",
       "2        Backdoor   82.072829      17.927171               293   \n",
       "3         Fuzzers   95.938095       4.061905             20643   \n",
       "4       Shellcode   84.645930      15.354070              1279   \n",
       "5           Worms   97.126437       2.873563               169   \n",
       "6         Generic   99.919052       0.080948            213545   \n",
       "7        Exploits   90.902991       9.097009             25741   \n",
       "8  Reconnaissance   99.839717       0.160283             11835   \n",
       "9             DoS   94.486151       5.513849              3650   \n",
       "\n",
       "   No Detected Samples  \n",
       "0                 4507  \n",
       "1                   15  \n",
       "2                   64  \n",
       "3                  874  \n",
       "4                  232  \n",
       "5                    5  \n",
       "6                  173  \n",
       "7                 2576  \n",
       "8                   19  \n",
       "9                  213  "
      ]
     },
     "execution_count": 165,
     "metadata": {},
     "output_type": "execute_result"
    }
   ],
   "source": [
    "summary4"
   ]
  },
  {
   "cell_type": "code",
   "execution_count": 166,
   "id": "4010412b-4228-4604-8312-c2a617bb6dc3",
   "metadata": {},
   "outputs": [],
   "source": [
    "summary4.to_csv('~/04_Semester_4/revisi/csv_files/summary_full_test.csv', index=False)"
   ]
  },
  {
   "cell_type": "code",
   "execution_count": null,
   "id": "73c3cb7d-a422-4cd5-bfd5-5571ebece6ce",
   "metadata": {},
   "outputs": [],
   "source": []
  }
 ],
 "metadata": {
  "kernelspec": {
   "display_name": "python3.11",
   "language": "python",
   "name": "python3.11"
  },
  "language_info": {
   "codemirror_mode": {
    "name": "ipython",
    "version": 3
   },
   "file_extension": ".py",
   "mimetype": "text/x-python",
   "name": "python",
   "nbconvert_exporter": "python",
   "pygments_lexer": "ipython3",
   "version": "3.11.0rc1"
  }
 },
 "nbformat": 4,
 "nbformat_minor": 5
}
