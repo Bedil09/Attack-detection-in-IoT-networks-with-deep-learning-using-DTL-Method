{
 "cells": [
  {
   "cell_type": "markdown",
   "id": "2e9a175d-66a2-4d38-9d1e-6cd301d2ddfd",
   "metadata": {},
   "source": [
    "# Generate The Dataset"
   ]
  },
  {
   "cell_type": "code",
   "execution_count": null,
   "id": "621f4d85-e005-4264-8a70-4ff135dd013a",
   "metadata": {},
   "outputs": [],
   "source": [
    "import numpy as np  # for array\n",
    "import pandas as pd  # for csv files and dataframe\n",
    "import matplotlib.pyplot as plt  # for plotting\n",
    "import seaborn as sns  # plotting\n",
    "\n",
    "import warnings\n",
    "warnings.filterwarnings(\"ignore\")\n",
    "\n",
    "# Set seaborn\n",
    "sns.set()"
   ]
  },
  {
   "cell_type": "markdown",
   "id": "cd3ae948-75a0-4f51-9f92-04edbd129799",
   "metadata": {},
   "source": [
    "import tensorflow as tf\n",
    "print(tf.config.list_physical_devices('GPU'))"
   ]
  },
  {
   "cell_type": "markdown",
   "id": "b280de84-6ebc-4848-bf68-c494450f3de3",
   "metadata": {},
   "source": [
    "## 1. IoTBotnet Dataset"
   ]
  },
  {
   "cell_type": "code",
   "execution_count": null,
   "id": "d6b69f91-fd8f-43f5-b832-74a76e92524b",
   "metadata": {},
   "outputs": [],
   "source": [
    "# Reading datasets\n",
    "# 04_Semester_4/revisi/dataset/UNSW_2018_IoT_Botnet_Full5pc_1.csv\n",
    "dfs = []\n",
    "for i in range(1,5):\n",
    "    path = '~/04_Semester_4/revisi/dataset/UNSW_2018_IoT_Botnet_Full5pc_{}.csv'  # There are 4 input csv files\n",
    "    dfs.append(pd.read_csv(path.format(i), low_memory=False))\n",
    "all_data = pd.concat(dfs).reset_index(drop=True)  # Concat all to a single df"
   ]
  },
  {
   "cell_type": "code",
   "execution_count": null,
   "id": "af568643-875f-4d5d-b283-1d2d1024af17",
   "metadata": {},
   "outputs": [],
   "source": [
    "all_data.head()"
   ]
  },
  {
   "cell_type": "code",
   "execution_count": null,
   "id": "6c707df4-d359-4ad6-9d45-d3e080b0dbb7",
   "metadata": {},
   "outputs": [],
   "source": [
    "all_data.info()"
   ]
  },
  {
   "cell_type": "code",
   "execution_count": null,
   "id": "3df88a4a-3914-4037-81a9-85285fa6190a",
   "metadata": {},
   "outputs": [],
   "source": [
    "all_data.isnull().sum()"
   ]
  },
  {
   "cell_type": "code",
   "execution_count": null,
   "id": "8c60a1c1-f7c9-4f20-ad6d-08abc5d032b1",
   "metadata": {},
   "outputs": [],
   "source": [
    "all_data.value_counts('attack')"
   ]
  },
  {
   "cell_type": "code",
   "execution_count": null,
   "id": "7ac3feac-5177-4d5d-9a0f-f6d1d065fe2a",
   "metadata": {},
   "outputs": [],
   "source": [
    "# Select interested data features\n",
    "data=all_data[['proto','saddr','sport','daddr','dport','spkts','dpkts','sbytes','dbytes','state','stime','ltime','dur','attack','category']]"
   ]
  },
  {
   "cell_type": "code",
   "execution_count": null,
   "id": "d05ee25e-9c71-4f52-b08d-797227a6b73d",
   "metadata": {},
   "outputs": [],
   "source": [
    "# Plotting target label\n",
    "plt.figure(figsize=(15,4))\n",
    "sns.set_theme(style=\"darkgrid\")\n",
    "sns.countplot(x=data['attack'],palette='CMRmap')\n",
    "plt.title('The distribution of the target label in IoT Bot 5% dataset', weight='bold', fontsize='18')\n",
    "plt.show()"
   ]
  },
  {
   "cell_type": "code",
   "execution_count": null,
   "id": "de3722ab-79cf-47cb-b209-425d7121986c",
   "metadata": {},
   "outputs": [],
   "source": [
    "# Plotting target label\n",
    "plt.figure(figsize=(15,4))\n",
    "sns.set_theme(style=\"darkgrid\")\n",
    "sns.countplot(x=data['attack'],palette='CMRmap')\n",
    "plt.title('Distribusi target label di dataset IoT Bot 5%', weight='bold', fontsize='18')\n",
    "plt.show()"
   ]
  },
  {
   "cell_type": "code",
   "execution_count": null,
   "id": "766b29dc-a207-4102-b45a-3438eab002a0",
   "metadata": {},
   "outputs": [],
   "source": [
    "data.value_counts('category')"
   ]
  },
  {
   "cell_type": "code",
   "execution_count": null,
   "id": "974ee33d-348b-4908-af33-1c56673c68e0",
   "metadata": {},
   "outputs": [],
   "source": [
    "# Plotting target label\n",
    "plt.figure(figsize=(15,4))\n",
    "sns.set_theme(style=\"darkgrid\")\n",
    "sns.countplot(x=data['category'],palette='CMRmap')\n",
    "plt.title('Distribusi target Kategori di IoT Bot 5% dataset', weight='bold', fontsize='18')\n",
    "plt.show()"
   ]
  },
  {
   "cell_type": "code",
   "execution_count": null,
   "id": "203787bb-9fb2-4ff9-884c-c9ee80884648",
   "metadata": {},
   "outputs": [],
   "source": [
    "data = pd.read_csv('~/04_Semester_4/revisi/csv_files/IoT_Botnet_Full5pc.csv', low_memory=False)"
   ]
  },
  {
   "cell_type": "code",
   "execution_count": null,
   "id": "960f235c-c1ff-4d82-86e7-889c1791389c",
   "metadata": {},
   "outputs": [],
   "source": [
    "# Shuffle dataframe\n",
    "data=data.sample(frac=1, random_state=99)\n",
    "\n",
    "n=data.shape[0]\n",
    "\n",
    "data_train = data.iloc[:round(0.8*n),:] # 80% of dataset\n",
    "data_test = data.iloc[round(0.8*n):,:] # 20% of datas"
   ]
  },
  {
   "cell_type": "code",
   "execution_count": null,
   "id": "d75c08e5-9eaf-4033-a40c-826c4f67f7c3",
   "metadata": {},
   "outputs": [],
   "source": [
    "# save to csv files\n",
    "data_train.to_csv('~/04_Semester_4/revisi/csv_files/IoT_Botnet_Full5pc_train.csv', index=False)\n",
    "data_test.to_csv('~/04_Semester_4/revisi/csv_files/IoT_Botnet_Full5pc_test.csv', index=False)"
   ]
  },
  {
   "cell_type": "markdown",
   "id": "d26f6fbc-1e63-4435-a001-16eaa156894b",
   "metadata": {},
   "source": [
    "## 2. UNSW-NB15 Dataset"
   ]
  },
  {
   "cell_type": "code",
   "execution_count": null,
   "id": "8f5763cf-a2a3-47df-b084-8a46aacd5c19",
   "metadata": {},
   "outputs": [],
   "source": [
    "# Reading datasets\n",
    "dfs = []\n",
    "for i in range(1,5):\n",
    "    path = '~/04_Semester_4/revisi/dataset/UNSW-NB15_{}.csv'  # There are 4 input csv files\n",
    "    dfs.append(pd.read_csv(path.format(i), header = None))\n",
    "all_data = pd.concat(dfs).reset_index(drop=True)  # Concat all to a single df"
   ]
  },
  {
   "cell_type": "code",
   "execution_count": null,
   "id": "6363a644-57a1-4917-ba42-71d0ae929386",
   "metadata": {},
   "outputs": [],
   "source": [
    "# This csv file contains names of all the features\n",
    "df_col = pd.read_csv('~/04_Semester_4/revisi/dataset/NUSW-NB15_features.csv', encoding='ISO-8859-1')\n",
    "\n",
    "# Making column names lower case, removing spaces\n",
    "df_col['Name'] = df_col['Name'].apply(lambda x: x.strip().replace(' ', '').lower())\n",
    "\n",
    "# Renaming our dataframe with proper column names\n",
    "all_data.columns = df_col['Name']\n",
    "del df_col"
   ]
  },
  {
   "cell_type": "code",
   "execution_count": null,
   "id": "ed7d93f3-134a-4d45-b4f9-888a9b7e8de7",
   "metadata": {},
   "outputs": [],
   "source": [
    "all_data['attack_cat'] = all_data.attack_cat.fillna(value='normal').apply(lambda x: x.strip().lower())"
   ]
  },
  {
   "cell_type": "code",
   "execution_count": null,
   "id": "b6db3af4-824d-4e4a-a017-3b750d7d5f94",
   "metadata": {},
   "outputs": [],
   "source": [
    "all_data['attack_cat'] = all_data['attack_cat'].replace('backdoors','backdoor', regex=True).apply(lambda x: x.strip().lower())"
   ]
  },
  {
   "cell_type": "code",
   "execution_count": null,
   "id": "0b87a043-f87a-4088-8807-fabfdcebfdaf",
   "metadata": {},
   "outputs": [],
   "source": [
    "# Select features\n",
    "all_data=all_data[['proto','srcip','sport','dstip','dsport','spkts','dpkts','sbytes','dbytes','state','stime','ltime','dur', 'label', 'attack_cat']]"
   ]
  },
  {
   "cell_type": "code",
   "execution_count": null,
   "id": "c3ba71ab-8c08-4c53-b7d4-09ea7eef8f50",
   "metadata": {},
   "outputs": [],
   "source": [
    "all_data.head()"
   ]
  },
  {
   "cell_type": "code",
   "execution_count": null,
   "id": "83b44b08-dc71-45e8-9c8d-646115106873",
   "metadata": {},
   "outputs": [],
   "source": [
    "all_data.to_csv('~/04_Semester_4/revisi/csv_files/UNSW-NB15.csv', index=False)"
   ]
  },
  {
   "cell_type": "markdown",
   "id": "622b1455-e847-4322-a1ad-8a6c9c200b69",
   "metadata": {},
   "source": [
    "### A. UNSW-NB15 Base 5"
   ]
  },
  {
   "cell_type": "code",
   "execution_count": null,
   "id": "edbdf2d9-49a8-41c0-85aa-7628d594c584",
   "metadata": {},
   "outputs": [],
   "source": [
    "data = pd.read_csv('~/04_Semester_4/revisi/csv_files/UNSW-NB15.csv', low_memory=False)"
   ]
  },
  {
   "cell_type": "code",
   "execution_count": null,
   "id": "e56fae3d-62f2-4604-98c2-c61c1ea9c3f5",
   "metadata": {},
   "outputs": [],
   "source": [
    "data.head()"
   ]
  },
  {
   "cell_type": "code",
   "execution_count": null,
   "id": "23bba1a9-ae4b-476b-85b5-20b841e52862",
   "metadata": {},
   "outputs": [],
   "source": [
    "# Selecting attack type in different dataframes\n",
    "normal = data.loc[data['attack_cat'] == 'normal', :]\n",
    "generic = data.loc[data['attack_cat'] == 'generic', :]\n",
    "exploits = data.loc[data['attack_cat'] == 'exploits', :]\n",
    "fuzzers = data.loc[data['attack_cat'] == 'fuzzers', :]\n",
    "dos = data.loc[data['attack_cat'] == 'dos', :]\n",
    "reconnaissance = data.loc[data['attack_cat'] == 'reconnaissance', :]\n",
    "analysis = data.loc[data['attack_cat'] == 'analysis', :]\n",
    "backdoor = data.loc[data['attack_cat'] == 'backdoor', :]\n",
    "shellcode = data.loc[data['attack_cat'] == 'shellcode', :]\n",
    "worms = data.loc[data['attack_cat'] == 'worms', :]    "
   ]
  },
  {
   "cell_type": "code",
   "execution_count": null,
   "id": "74be7a2d-a728-4b80-8f5a-d8bba34a0085",
   "metadata": {},
   "outputs": [],
   "source": [
    "def cut_off(data=data):\n",
    "    attacks = data.loc[data['label'] == 1, :]\n",
    "    n_attacks = len(attacks)\n",
    "    no_attacks_all = data.loc[data['label'] == 0, :]\n",
    "    no_attacks = no_attacks_all.sample(n=n_attacks, random_state=42)\n",
    "    data = pd.concat([attacks, no_attacks])\n",
    "    return data"
   ]
  },
  {
   "cell_type": "code",
   "execution_count": null,
   "id": "abc017bc-d06a-45de-9de5-78686db23dbb",
   "metadata": {},
   "outputs": [],
   "source": [
    "data.value_counts('attack_cat')"
   ]
  },
  {
   "cell_type": "code",
   "execution_count": null,
   "id": "d0a3d621-6b37-44e3-926f-5116f381ae9d",
   "metadata": {},
   "outputs": [],
   "source": [
    "# Creating the base4 Dataset  detection of zero-day attack, 3 category\n",
    "#(fuzzers, analysis, backdoor, shellcode, and worms).\n",
    "base4 = pd.concat([normal, generic, dos, reconnaissance])"
   ]
  },
  {
   "cell_type": "code",
   "execution_count": null,
   "id": "85892e05-f99a-4a41-bb7e-ab465dd6e81a",
   "metadata": {},
   "outputs": [],
   "source": [
    "all_0, all_1 = base4['label'].value_counts()[0]*100 / len(base4.index), base4['label'].value_counts()[1]*100 / len(base4.index)\n",
    "\n",
    "print(\"In base4 dataset: there are {} % of normal traffic and {} % of attacks\".format(all_0, all_1))"
   ]
  },
  {
   "cell_type": "code",
   "execution_count": null,
   "id": "22a0fe0e-bdf3-472e-a4f6-2152626601d3",
   "metadata": {},
   "outputs": [],
   "source": [
    "# Balancing the dataset to obtain 50/50% attacks/normal traffic\n",
    "base4=cut_off(base4)"
   ]
  },
  {
   "cell_type": "code",
   "execution_count": null,
   "id": "f104d54a-f55d-4fd6-99e4-07d5601e2953",
   "metadata": {},
   "outputs": [],
   "source": [
    "all_0, all_1 = base4['label'].value_counts()[0]*100 / len(base4.index), base4['label'].value_counts()[1]*100 / len(base4.index)\n",
    "\n",
    "print(\"In base4 dataset: there are {} % of normal traffic and {} % of attacks\".format(all_0, all_1))"
   ]
  },
  {
   "cell_type": "code",
   "execution_count": null,
   "id": "ac9218b3-35bc-416b-bf7e-933ea316c0cd",
   "metadata": {},
   "outputs": [],
   "source": [
    "base4.value_counts('label')"
   ]
  },
  {
   "cell_type": "code",
   "execution_count": null,
   "id": "eaf9b024-1950-4362-a3f5-fb4e6c3a8336",
   "metadata": {},
   "outputs": [],
   "source": [
    "# Plotting target label\n",
    "plt.figure(figsize=(15,4))\n",
    "sns.set_theme(style=\"darkgrid\")\n",
    "sns.countplot(x=base4['label'],palette='CMRmap')\n",
    "plt.title('Distribusi target label di Base 4 dataset', weight='bold', fontsize='18')\n",
    "plt.show()"
   ]
  },
  {
   "cell_type": "code",
   "execution_count": null,
   "id": "7536e51a-f5ea-497e-b66f-7ce01e70979e",
   "metadata": {},
   "outputs": [],
   "source": [
    "# Plotting attack category distribution\n",
    "plt.figure(figsize=(15, 4))\n",
    "sns.set_theme(style=\"darkgrid\")\n",
    "sns.countplot(x=base4['attack_cat'], order = base4['attack_cat'].value_counts().index, palette='CMRmap')\n",
    "plt.title('Distribusi kategori serangan di Base 4 dataset', weight='bold', fontsize='18')\n",
    "plt.yticks(weight='bold', fontsize=12)\n",
    "plt.show()"
   ]
  },
  {
   "cell_type": "code",
   "execution_count": null,
   "id": "eefefb69-66a5-4936-8993-f407cd485645",
   "metadata": {},
   "outputs": [],
   "source": [
    "# Shuffle dataframe\n",
    "base4=base4.sample(frac=1, random_state=42)\n",
    "\n",
    "n=base4.shape[0]\n",
    "\n",
    "base4_train = base4.iloc[:round(0.75*n),:] # 75% of dataset\n",
    "base4_test = base4.iloc[round(0.75*n):,:] # 25% of datas"
   ]
  },
  {
   "cell_type": "markdown",
   "id": "01663638-db55-4574-9317-215001286d3e",
   "metadata": {},
   "source": [
    "### B. Base4 Train"
   ]
  },
  {
   "cell_type": "code",
   "execution_count": null,
   "id": "3297e9f1-6ecc-4deb-b608-d3ab49dbc2d4",
   "metadata": {},
   "outputs": [],
   "source": [
    "all_0, all_1 = base4_train['label'].value_counts()[0]*100 / len(base4_train.index), base4_train['label'].value_counts()[1]*100 / len(base4_train.index)\n",
    "\n",
    "print(\"In Base 4 train dataset: there are {} % of normal traffic and {} % of attacks\".format(all_0, all_1))"
   ]
  },
  {
   "cell_type": "code",
   "execution_count": null,
   "id": "63817bcc-e847-4284-881a-8ed5d8f9b38c",
   "metadata": {},
   "outputs": [],
   "source": [
    "# Plotting target label\n",
    "plt.figure(figsize=(15,4))\n",
    "sns.set_theme(style=\"darkgrid\")\n",
    "sns.countplot(x=base4_train['label'],  palette='CMRmap')\n",
    "plt.title('Distribusi target label di Base 4 train dataset', weight='bold', fontsize='18')\n",
    "plt.show()"
   ]
  },
  {
   "cell_type": "code",
   "execution_count": null,
   "id": "9ca5aa1c-0968-448c-89b1-48c7ec4a2dbc",
   "metadata": {},
   "outputs": [],
   "source": [
    "# Plotting attack category distribution\n",
    "plt.figure(figsize=(15, 4))\n",
    "sns.set_theme(style=\"darkgrid\")\n",
    "sns.countplot(x=base4_train['attack_cat'], order = base4_train['attack_cat'].value_counts().index, palette='CMRmap')\n",
    "plt.title('Distribusi kategori serangan di Base 4 train dataset', weight='bold', fontsize='18')\n",
    "plt.yticks(weight='bold', fontsize=12)\n",
    "plt.show()"
   ]
  },
  {
   "cell_type": "code",
   "execution_count": null,
   "id": "8d4dd895-70d5-4cd3-9bc1-064c62003132",
   "metadata": {},
   "outputs": [],
   "source": [
    "base4_train.value_counts('label')"
   ]
  },
  {
   "cell_type": "markdown",
   "id": "35074f90-9ee1-4432-bcc7-1ba32cba644d",
   "metadata": {},
   "source": [
    "### C. Base4 test"
   ]
  },
  {
   "cell_type": "code",
   "execution_count": null,
   "id": "db4c7426-b7a7-4f0f-8208-ff945fa90ad9",
   "metadata": {},
   "outputs": [],
   "source": [
    "all_0, all_1 = base4_test['label'].value_counts()[0]*100 / len(base4_test.index), base4_test['label'].value_counts()[1]*100 / len(base4_test.index)\n",
    "\n",
    "print(\"In Base 4 test dataset: there are {} % of normal traffic and {} % of attacks\".format(all_0, all_1))"
   ]
  },
  {
   "cell_type": "code",
   "execution_count": null,
   "id": "4f9d1b70-ac11-47c3-a082-be27f83fbe5a",
   "metadata": {},
   "outputs": [],
   "source": [
    "# Plotting target label\n",
    "plt.figure(figsize=(15,4))\n",
    "sns.set_theme(style=\"darkgrid\")\n",
    "sns.countplot(x=base4_test['label'],  palette='CMRmap')\n",
    "plt.title('Distribusi label target di Base 5 test dataset', weight='bold', fontsize='18')\n",
    "plt.show()"
   ]
  },
  {
   "cell_type": "code",
   "execution_count": null,
   "id": "de926cd0-a41d-45a3-a15e-a4b1f25344f1",
   "metadata": {},
   "outputs": [],
   "source": [
    "# Plotting attack category distribution\n",
    "plt.figure(figsize=(15, 4))\n",
    "sns.set_theme(style=\"darkgrid\")\n",
    "sns.countplot(x=base4_test['attack_cat'], order = base4_test['attack_cat'].value_counts().index, palette='CMRmap')\n",
    "plt.title('Distribusi kategori serangan di Base 4 test dataset', weight='bold', fontsize='18')\n",
    "plt.yticks(weight='bold', fontsize=12)\n",
    "plt.show()"
   ]
  },
  {
   "cell_type": "code",
   "execution_count": null,
   "id": "b6e3a6e2-fbb7-4eed-93aa-4601b5e97b72",
   "metadata": {},
   "outputs": [],
   "source": [
    "base4_test['attack_cat'].value_counts()"
   ]
  },
  {
   "cell_type": "markdown",
   "id": "f1b880ba-80e5-4a41-a814-de0c12dfa3fe",
   "metadata": {},
   "source": [
    "### D. first_test"
   ]
  },
  {
   "cell_type": "code",
   "execution_count": null,
   "id": "996b4675-a6f9-4cfc-b8d8-cd154f90f57e",
   "metadata": {},
   "outputs": [],
   "source": [
    "# Creating the Base 5+ test dataset generic, exploits, DoS, and reconnaissance)\n",
    "first_test = pd.concat([normal, exploits, fuzzers, analysis, backdoor, shellcode, worms])"
   ]
  },
  {
   "cell_type": "code",
   "execution_count": null,
   "id": "35b29b96-483b-4e53-bfec-5af7b7829b79",
   "metadata": {},
   "outputs": [],
   "source": [
    "# Balancing the dataset to obtain 50/50% attacks/normal traffic\n",
    "first_test=cut_off(first_test)"
   ]
  },
  {
   "cell_type": "code",
   "execution_count": null,
   "id": "4b2fb55a-8da9-4098-b1f5-e9e014e6d826",
   "metadata": {},
   "outputs": [],
   "source": [
    "all_0, all_1 = first_test['label'].value_counts()[0]*100 / len(first_test.index), first_test['label'].value_counts()[1]*100 / len(first_test.index)\n",
    "\n",
    "print(\"In First test : there are {} % of normal traffic and {} % of attacks\".format(all_0, all_1))"
   ]
  },
  {
   "cell_type": "code",
   "execution_count": null,
   "id": "d9ae1fa5-8fae-43c9-8a5e-b510c0a81d21",
   "metadata": {},
   "outputs": [],
   "source": [
    "# Plotting target label\n",
    "plt.figure(figsize=(15,4))\n",
    "sns.set_theme(style=\"darkgrid\")\n",
    "sns.countplot(x=first_test['label'],  palette='CMRmap')\n",
    "plt.title('Distribusi target label di First_test dataset', weight='bold', fontsize='18')\n",
    "plt.show()"
   ]
  },
  {
   "cell_type": "code",
   "execution_count": null,
   "id": "26aaad29-9253-4694-8dad-a7b08e725df3",
   "metadata": {},
   "outputs": [],
   "source": [
    "# Plotting attack category distribution\n",
    "plt.figure(figsize=(15, 4))\n",
    "sns.set_theme(style=\"darkgrid\")\n",
    "sns.countplot(x=first_test['attack_cat'], order = first_test['attack_cat'].value_counts().index, palette='CMRmap')\n",
    "plt.title('Distribusi kategori serangan di first_test dataset', weight='bold', fontsize='18')\n",
    "plt.yticks(weight='bold', fontsize=12)\n",
    "plt.show()"
   ]
  },
  {
   "cell_type": "code",
   "execution_count": null,
   "id": "9b87c0a2-c35d-4979-9d0a-122a1e4fdf32",
   "metadata": {},
   "outputs": [],
   "source": [
    "first_test['attack_cat'].value_counts()"
   ]
  },
  {
   "cell_type": "markdown",
   "id": "14bbacbf-9a3b-47d4-aa15-ae09af58aa5b",
   "metadata": {},
   "source": [
    "### E. Base Test"
   ]
  },
  {
   "cell_type": "code",
   "execution_count": null,
   "id": "07e0adc8-4820-4ff5-b27e-610831e85a56",
   "metadata": {},
   "outputs": [],
   "source": [
    "# Creating the UNSW-NB15-base test\n",
    "full_test = cut_off(data)"
   ]
  },
  {
   "cell_type": "code",
   "execution_count": null,
   "id": "d422b86b-bcde-445d-87b5-0b45590c05d0",
   "metadata": {},
   "outputs": [],
   "source": [
    "# Plotting target label\n",
    "plt.figure(figsize=(15,4))\n",
    "sns.set_theme(style=\"darkgrid\")\n",
    "sns.countplot(x=full_test['label'],  palette='CMRmap')\n",
    "plt.title('Distribusi label target di full_test dataset', weight='bold', fontsize='18')\n",
    "plt.show()"
   ]
  },
  {
   "cell_type": "code",
   "execution_count": null,
   "id": "7f73ef33-5f20-4be5-a2f3-407775b5f93d",
   "metadata": {},
   "outputs": [],
   "source": [
    "# Plotting attack category distribution\n",
    "plt.figure(figsize=(15, 4))\n",
    "sns.set_theme(style=\"darkgrid\")\n",
    "sns.countplot(x=full_test['attack_cat'], order = full_test['attack_cat'].value_counts().index, palette='CMRmap')\n",
    "plt.title('Distribusi serangan di full_test dataset', weight='bold', fontsize='18')\n",
    "plt.yticks(weight='bold', fontsize=12)\n",
    "plt.show()"
   ]
  },
  {
   "cell_type": "code",
   "execution_count": null,
   "id": "307885ba-b551-4904-a1f4-0b836d8bd05e",
   "metadata": {},
   "outputs": [],
   "source": [
    "full_test.value_counts('attack_cat')"
   ]
  },
  {
   "cell_type": "code",
   "execution_count": null,
   "id": "5af97548-8de6-4e6e-82ad-ec6a4a149d43",
   "metadata": {},
   "outputs": [],
   "source": [
    "base4.to_csv('~/04_Semester_4/revisi/csv_files/UNSW_NB15_base4.csv', index=False)\n",
    "base4_train.to_csv('~/04_Semester_4/revisi/csv_files/UNSW_NB15_base4_train.csv', index=False)\n",
    "base4_test.to_csv('~/04_Semester_4/revisi/csv_files/UNSW_NB15_base4_test.csv', index=False)\n",
    "first_test.to_csv('~/04_Semester_4/revisi/csv_files/UNSW_NB15_first_test.csv', index=False)\n",
    "full_test.to_csv('~/04_Semester_4/revisi/csv_files/UNSW_NB15_full_test.csv', index=False)"
   ]
  },
  {
   "cell_type": "code",
   "execution_count": null,
   "id": "25545a43-8ffe-42d9-976c-062dbf60d09f",
   "metadata": {},
   "outputs": [],
   "source": []
  },
  {
   "cell_type": "code",
   "execution_count": null,
   "id": "c9ecd265-18d1-4e72-a20f-e7593f1052fd",
   "metadata": {},
   "outputs": [],
   "source": []
  },
  {
   "cell_type": "code",
   "execution_count": null,
   "id": "641bfc8d-2bd8-450a-87b3-6a5b515627a2",
   "metadata": {},
   "outputs": [],
   "source": []
  }
 ],
 "metadata": {
  "kernelspec": {
   "display_name": "python3.11",
   "language": "python",
   "name": "python3.11"
  },
  "language_info": {
   "codemirror_mode": {
    "name": "ipython",
    "version": 3
   },
   "file_extension": ".py",
   "mimetype": "text/x-python",
   "name": "python",
   "nbconvert_exporter": "python",
   "pygments_lexer": "ipython3",
   "version": "3.11.0rc1"
  }
 },
 "nbformat": 4,
 "nbformat_minor": 5
}
