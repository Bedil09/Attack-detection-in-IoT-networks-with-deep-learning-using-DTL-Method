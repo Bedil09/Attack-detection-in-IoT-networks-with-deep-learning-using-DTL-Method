{
 "cells": [
  {
   "cell_type": "markdown",
   "id": "270b15e6-b026-4bc3-95d5-10c3d85a5ee5",
   "metadata": {},
   "source": [
    "# CNN1D - TRANSFER LEARNING"
   ]
  },
  {
   "cell_type": "code",
   "execution_count": 1,
   "id": "4fd5d5ec-a86a-47d2-b337-b2f75196b665",
   "metadata": {},
   "outputs": [
    {
     "name": "stderr",
     "output_type": "stream",
     "text": [
      "2024-12-09 06:42:15.667025: E external/local_xla/xla/stream_executor/cuda/cuda_dnn.cc:9261] Unable to register cuDNN factory: Attempting to register factory for plugin cuDNN when one has already been registered\n",
      "2024-12-09 06:42:15.667079: E external/local_xla/xla/stream_executor/cuda/cuda_fft.cc:607] Unable to register cuFFT factory: Attempting to register factory for plugin cuFFT when one has already been registered\n",
      "2024-12-09 06:42:15.669450: E external/local_xla/xla/stream_executor/cuda/cuda_blas.cc:1515] Unable to register cuBLAS factory: Attempting to register factory for plugin cuBLAS when one has already been registered\n",
      "2024-12-09 06:42:15.681070: I tensorflow/core/platform/cpu_feature_guard.cc:182] This TensorFlow binary is optimized to use available CPU instructions in performance-critical operations.\n",
      "To enable the following instructions: AVX2 FMA, in other operations, rebuild TensorFlow with the appropriate compiler flags.\n",
      "2024-12-09 06:42:23.928741: W tensorflow/compiler/tf2tensorrt/utils/py_utils.cc:38] TF-TRT Warning: Could not find TensorRT\n"
     ]
    }
   ],
   "source": [
    "# Imports modules and packages\n",
    "import tensorflow as tf\n",
    "import keras\n",
    "import matplotlib.pyplot as plt\n",
    "import numpy as np\n",
    "import pandas as pd\n",
    "import seaborn as sns\n",
    "\n",
    "from tensorflow.keras import datasets, layers, models\n",
    "from tensorflow.keras.callbacks import EarlyStopping\n",
    "from tensorflow.keras import mixed_precision\n",
    "from sklearn.preprocessing import StandardScaler\n",
    "from sklearn.model_selection import train_test_split\n",
    "from sklearn.metrics import confusion_matrix, classification_report\n",
    "from sklearn import metrics\n",
    "from sklearn.metrics import accuracy_score, precision_score, recall_score, f1_score\n",
    "from keras.models import load_model, Sequential\n",
    "from keras.layers import Dense, Dropout\n",
    "\n",
    "# Disable warns\n",
    "pd.options.mode.chained_assignment = None  # default='warn'\n",
    "\n",
    "# Set seaborn\n",
    "sns.set()"
   ]
  },
  {
   "cell_type": "markdown",
   "id": "251e7625-8337-4a31-827b-c9aceeb8b00a",
   "metadata": {},
   "source": [
    "### Base 4 Train & Base 4 test"
   ]
  },
  {
   "cell_type": "code",
   "execution_count": 2,
   "id": "377789a1-7835-4faf-bc26-002d1a08fc54",
   "metadata": {},
   "outputs": [],
   "source": [
    "data_train = pd.read_csv('~/04_Semester_4/revisi/csv_files/UNSW_NB15_base4_train.csv', low_memory=False)"
   ]
  },
  {
   "cell_type": "code",
   "execution_count": 3,
   "id": "010ffc3b-803a-4792-91f7-af07f97830d8",
   "metadata": {},
   "outputs": [],
   "source": [
    "# Select the 'proto' and 'state' values\n",
    "data_train= data_train.loc[(data_train['proto'] == 'tcp') | (data_train['proto'] =='udp') | (data_train['proto'] =='icmp') | (data_train['proto'] =='arp') | (data_train['proto'] =='ipv6-icmp') | (data_train['proto'] =='igmp') | (data_train['proto'] =='rarp'), :]\n",
    "data_train = data_train.loc[(data_train['state'] == 'RST') | (data_train['state'] =='REQ') | (data_train['state'] =='INT') | (data_train['state'] =='FIN') | (data_train['state'] =='CON') | (data_train['state'] =='ECO') | (data_train['state'] =='ACC') | (data_train['state'] =='PAR'), :]\n",
    "\n",
    "# Extracting dataset labels\n",
    "data_labels=data_train[['label']]\n",
    "\n",
    "# Drop the invalid features and select data features\n",
    "data_features=data_train[['proto','srcip','sport','dstip','dsport','spkts','dpkts','sbytes','dbytes','state','stime','ltime','dur']]"
   ]
  },
  {
   "cell_type": "code",
   "execution_count": 4,
   "id": "60552eb0-3c65-4c4b-81b2-815417d795c6",
   "metadata": {},
   "outputs": [],
   "source": [
    "# Preprocess IP and ports features\n",
    "# IP Source Address\n",
    "data_features['srcip'] = data_features['srcip'].apply(lambda x: x.split(\".\")[-1])\n",
    "data_features['srcip'] = data_features['srcip'].apply(lambda x: x.split(\":\")[-1])\n",
    "data_features['srcip'] = data_features['srcip'].apply(lambda x: int(x, 16))\n",
    "\n",
    "# IP Destination Address\n",
    "data_features['dstip'] = data_features['dstip'].apply(lambda x: x.split(\".\")[-1])\n",
    "data_features['dstip'] = data_features['dstip'].apply(lambda x: x.split(\":\")[-1])\n",
    "data_features['dstip'] = data_features['dstip'].apply(lambda x: int(x, 16))\n",
    "\n",
    "# Ports\n",
    "data_features['sport'] = data_features['sport'].apply(lambda x: x.replace('0x','') if \"0x\" in str(x) else x)\n",
    "data_features['dsport'] = data_features['dsport'].apply(lambda x: x.replace('0x','') if \"0x\" in str(x) else x)\n",
    "\n",
    "# Convert all ports with 0 decimal, and HEX to DEC\n",
    "data_features['sport'] = data_features['sport'].apply(lambda x: str(x)[:-2] if str(x)[-2:] == '.0' else str(x))\n",
    "data_features['sport'] = data_features['sport'].apply(lambda x: -1 if str(x).isalpha()==True else int(x,16))\n",
    "\n",
    "data_features['dsport'] = data_features['dsport'].apply(lambda x: str(x)[:-2] if str(x)[-2:] == '.0' else str(x))\n",
    "data_features['dsport'] = data_features['dsport'].apply(lambda x: \"None\" if x==\"-\" else x)\n",
    "data_features['dsport'] = data_features['dsport'].apply(lambda x: -1 if str(x).isalpha()==True else int(x,16))\n",
    "\n",
    "# Convert some fields to logarithmic\n",
    "log1p_col = ['dur', 'sbytes', 'dbytes', 'spkts']\n",
    "\n",
    "for col in log1p_col:\n",
    "    data_features[col] = data_features[col].apply(np.log1p)\n",
    "\n",
    "# Transform to One hot encoding - FEATURES\n",
    "data_features=pd.get_dummies(data_features)\n",
    "\n",
    "# Normalize all data features\n",
    "data_features = StandardScaler().fit_transform(data_features)\n",
    "\n",
    "#Add dimension to data features\n",
    "data_features = np.expand_dims(data_features, axis=2)\n",
    "\n",
    "x_train1, y_train1=data_features, data_labels"
   ]
  },
  {
   "cell_type": "code",
   "execution_count": 5,
   "id": "03b6aac8-8d5f-4216-99f7-2813a5b4d4a5",
   "metadata": {},
   "outputs": [
    {
     "name": "stdout",
     "output_type": "stream",
     "text": [
      "(356047, 24, 1)\n",
      "(356047, 1)\n",
      "label\n",
      "0        183969\n",
      "1        172078\n",
      "Name: count, dtype: int64\n"
     ]
    }
   ],
   "source": [
    "print(x_train1.shape)\n",
    "print(y_train1.shape)\n",
    "print(y_train1.value_counts())"
   ]
  },
  {
   "cell_type": "code",
   "execution_count": 6,
   "id": "4d51f8b0-5e56-4289-a7fc-2e8df38df6ac",
   "metadata": {},
   "outputs": [],
   "source": [
    "data = pd.read_csv('~/04_Semester_4/revisi/csv_files/UNSW_NB15_base4_test.csv', low_memory=False)"
   ]
  },
  {
   "cell_type": "code",
   "execution_count": 7,
   "id": "c07b5bc5-2899-47ac-b549-f3e9b4782d07",
   "metadata": {},
   "outputs": [
    {
     "data": {
      "text/plain": [
       "(122910, 15)"
      ]
     },
     "execution_count": 7,
     "metadata": {},
     "output_type": "execute_result"
    }
   ],
   "source": [
    "data.shape"
   ]
  },
  {
   "cell_type": "code",
   "execution_count": 8,
   "id": "cb105d37-aa33-43e6-8549-5652bf689603",
   "metadata": {},
   "outputs": [],
   "source": [
    "# Select the 'proto' and 'state' values that I want\n",
    "data = data.loc[(data['proto'] == 'tcp') | (data['proto'] =='udp') | (data['proto'] =='icmp') | (data['proto'] =='arp') | (data['proto'] =='ipv6-icmp') | (data['proto'] =='igmp') | (data['proto'] =='rarp'), :]\n",
    "data = data.loc[(data['state'] == 'RST') | (data['state'] =='REQ') | (data['state'] =='INT') | (data['state'] =='FIN') | (data['state'] =='CON') | (data['state'] =='ECO') | (data['state'] =='ACC') | (data['state'] =='PAR'), :]\n",
    "\n",
    "# Extracting dataset labels\n",
    "data_labels=data[['label']]\n",
    "\n",
    "# Drop the invalid features and select interested data features\n",
    "data_features=data[['proto','srcip','sport','dstip','dsport','spkts','dpkts','sbytes','dbytes','state','stime','ltime','dur']]\n",
    "\n",
    "\"\"\"PREPROCESSING\"\"\"\n",
    "\n",
    "# Preprocess IP and ports features\n",
    "# IP Source Address\n",
    "data_features['srcip'] = data_features['srcip'].apply(lambda x: x.split(\".\")[-1])\n",
    "data_features['srcip'] = data_features['srcip'].apply(lambda x: x.split(\":\")[-1])\n",
    "data_features['srcip'] = data_features['srcip'].apply(lambda x: int(x, 16))\n",
    "\n",
    "# IP Destination Address\n",
    "data_features['dstip'] = data_features['dstip'].apply(lambda x: x.split(\".\")[-1])\n",
    "data_features['dstip'] = data_features['dstip'].apply(lambda x: x.split(\":\")[-1])\n",
    "data_features['dstip'] = data_features['dstip'].apply(lambda x: int(x, 16))\n",
    "\n",
    "# Ports\n",
    "data_features['sport'] = data_features['sport'].apply(lambda x: x.replace('0x','') if \"0x\" in str(x) else x)\n",
    "data_features['dsport'] = data_features['dsport'].apply(lambda x: x.replace('0x','') if \"0x\" in str(x) else x)\n",
    "\n",
    "# Convert all ports with 0 decimal, and HEX to DEC\n",
    "data_features['sport'] = data_features['sport'].apply(lambda x: str(x)[:-2] if str(x)[-2:] == '.0' else str(x))\n",
    "data_features['sport'] = data_features['sport'].apply(lambda x: -1 if str(x).isalpha()==True else int(x,16))\n",
    "\n",
    "data_features['dsport'] = data_features['dsport'].apply(lambda x: str(x)[:-2] if str(x)[-2:] == '.0' else str(x))\n",
    "data_features['dsport'] = data_features['dsport'].apply(lambda x: \"None\" if x==\"-\" else x)\n",
    "data_features['dsport'] = data_features['dsport'].apply(lambda x: -1 if str(x).isalpha()==True else int(x,16))\n",
    "\n",
    "# Convert field to int format\n",
    "data_features['srcip'] = data_features['srcip'].astype(int)\n",
    "data_features['sport'] = data_features['sport'].astype(int)\n",
    "data_features['dstip'] = data_features['dstip'].astype(int)\n",
    "data_features['dsport'] = data_features['dsport'].astype(int)\n",
    "\n",
    "# Convert some fields to logarithmic\n",
    "log1p_col = ['dur', 'sbytes', 'dbytes', 'spkts']\n",
    "\n",
    "for col in log1p_col:\n",
    "    data_features[col] = data_features[col].apply(np.log1p)\n",
    "\n",
    "\n",
    "# Generate 1 new columns to fit with training\n",
    "auxCol=data_features['sbytes']\n",
    "auxCol=0\n",
    "data_features.insert(13, 'proto_igmp', auxCol, True)\n",
    "\n",
    "# Insert the new column in data labels\n",
    "data_labels = pd.get_dummies(data_labels)\n",
    "\n",
    "# Transform to One hot encoding - FEATURES\n",
    "data_features=pd.get_dummies(data_features)\n",
    "\n",
    "# Normalize all data features\n",
    "data_features = StandardScaler().fit_transform(data_features)\n",
    "\n",
    "#Add dimension to data features\n",
    "data_features = np.expand_dims(data_features, axis=2)\n",
    "\n",
    "x_test1, y_test1=data_features, data_labels"
   ]
  },
  {
   "cell_type": "code",
   "execution_count": 9,
   "id": "3e7518a4-7c10-4d4f-a141-23541a02433a",
   "metadata": {},
   "outputs": [
    {
     "name": "stdout",
     "output_type": "stream",
     "text": [
      "(118675, 24, 1)\n",
      "(118675, 1)\n",
      "label\n",
      "0        61318\n",
      "1        57357\n",
      "Name: count, dtype: int64\n"
     ]
    }
   ],
   "source": [
    "print(x_test1.shape)\n",
    "print(y_test1.shape)\n",
    "print(y_test1.value_counts())"
   ]
  },
  {
   "cell_type": "code",
   "execution_count": 10,
   "id": "06373f4e-e4e8-46cb-bd3d-9df55e916a0f",
   "metadata": {},
   "outputs": [],
   "source": [
    "def clear_session():\n",
    "\n",
    "    # Clear Session\n",
    "    tf.keras.backend.clear_session()\n",
    "\n",
    "    # Memory growth\n",
    "    gpus = tf.config.experimental.list_physical_devices('GPU')\n",
    "\n",
    "    if gpus:\n",
    "        try:\n",
    "            for gpu in gpus:\n",
    "                tf.config.experimental.set_memory_growth(gpu, True)\n",
    "        except RuntimeError as e:\n",
    "            print(e)\n",
    "\n",
    "    return"
   ]
  },
  {
   "cell_type": "code",
   "execution_count": 11,
   "id": "cf640dea-d03f-4868-acf4-e77325ea33c9",
   "metadata": {},
   "outputs": [],
   "source": [
    "# Early Stopping\n",
    "# data = pd.read_csv('~/04_Semester_4/revisi/csv_files/UNSW_NB15_base5_test.csv', low_memory=False)\n",
    "filepath = '~/04_Semester_4/revisi/tmp/checkpoint.model2_tl.keras' # define where the model is saved\n",
    "callbacks = [\n",
    "        keras.callbacks.EarlyStopping(\n",
    "            monitor = 'val_loss', # Use accuracy to monitor the model\n",
    "            patience = 5 # Stop after 3 steps with lower accuracy\n",
    "        ),\n",
    "        keras.callbacks.ModelCheckpoint(\n",
    "            filepath = filepath, # file where the checkpoint is saved\n",
    "            monitor = 'val_loss', # Don't overwrite the saved model unless val_loss is worse\n",
    "            save_best_only = True)]# Only save model if it is the best"
   ]
  },
  {
   "cell_type": "code",
   "execution_count": 12,
   "id": "f2e13725-5725-4005-bca2-4ee77556792b",
   "metadata": {},
   "outputs": [],
   "source": [
    "# Model building and definition\n",
    "def model_cnn():\n",
    "\n",
    "    # New model building\n",
    "    model = Sequential()\n",
    "\n",
    "    # Load pretrained mode\n",
    "    pretrained_model_tl = load_model('model_iotbot_24_512.keras')\n",
    "    #04_Semester_4/revisi/model/model_iotbot_10.keras\n",
    "    #http://localhost:8889/lab/tree/04_Semester_4/revisi/model/model_iotbot_10.keras\n",
    "\n",
    "    # Setting all layers to non trainable\n",
    "    pretrained_model_tl.trainable=False\n",
    "\n",
    "    # Removing the last 3 layers to get only the convolutional base\n",
    "    pretrained_model_tl.pop()\n",
    "    pretrained_model_tl.pop()\n",
    "    pretrained_model_tl.pop()\n",
    "        \n",
    "    model.add(pretrained_model_tl)\n",
    "\n",
    "    model.add(layers.Flatten())\n",
    "   \n",
    "    model.add(Dense(512, activation='relu'))\n",
    "    model.add(layers.Dropout(0.4))\n",
    "    \n",
    "    model.add(Dense(256, activation='relu'))\n",
    "    model.add(layers.Dropout(0.3))\n",
    "\n",
    "    model.add(Dense(128, activation='relu'))\n",
    "    model.add(layers.Dropout(0.2))\n",
    "\n",
    "    model.add(Dense(1, activation='sigmoid'))\n",
    "\n",
    "  \n",
    "     # Adding the optimizer\n",
    "    adam = keras.optimizers.Adam(learning_rate=6e-5)\n",
    "    loss = keras.losses.BinaryCrossentropy()\n",
    "\n",
    "\n",
    "    # Compile the model\n",
    "    model.compile(optimizer = adam, \n",
    "                    loss = loss, \n",
    "                    metrics = ['accuracy'])\n",
    "\n",
    "    return model"
   ]
  },
  {
   "cell_type": "code",
   "execution_count": 13,
   "id": "4308391a-6873-44ec-aa60-4312a6dd3d05",
   "metadata": {},
   "outputs": [
    {
     "name": "stdout",
     "output_type": "stream",
     "text": [
      "WARNING:tensorflow:Mixed precision compatibility check (mixed_float16): WARNING\n",
      "Your GPU may run slowly with dtype policy mixed_float16 because it does not have compute capability of at least 7.0. Your GPU:\n",
      "  NVIDIA GeForce MX110, compute capability 5.0\n",
      "See https://developer.nvidia.com/cuda-gpus for a list of GPUs and their compute capabilities.\n",
      "If you will use compatible GPU(s) not attached to this host, e.g. by running a multi-worker model, you can ignore this warning. This message will only be logged once\n"
     ]
    },
    {
     "name": "stderr",
     "output_type": "stream",
     "text": [
      "2024-12-09 06:42:49.469909: I external/local_xla/xla/stream_executor/cuda/cuda_executor.cc:901] successful NUMA node read from SysFS had negative value (-1), but there must be at least one NUMA node, so returning NUMA node zero. See more at https://github.com/torvalds/linux/blob/v6.0/Documentation/ABI/testing/sysfs-bus-pci#L344-L355\n",
      "2024-12-09 06:42:49.569731: I external/local_xla/xla/stream_executor/cuda/cuda_executor.cc:901] successful NUMA node read from SysFS had negative value (-1), but there must be at least one NUMA node, so returning NUMA node zero. See more at https://github.com/torvalds/linux/blob/v6.0/Documentation/ABI/testing/sysfs-bus-pci#L344-L355\n",
      "2024-12-09 06:42:49.570117: I external/local_xla/xla/stream_executor/cuda/cuda_executor.cc:901] successful NUMA node read from SysFS had negative value (-1), but there must be at least one NUMA node, so returning NUMA node zero. See more at https://github.com/torvalds/linux/blob/v6.0/Documentation/ABI/testing/sysfs-bus-pci#L344-L355\n",
      "2024-12-09 06:42:49.571433: I external/local_xla/xla/stream_executor/cuda/cuda_executor.cc:901] successful NUMA node read from SysFS had negative value (-1), but there must be at least one NUMA node, so returning NUMA node zero. See more at https://github.com/torvalds/linux/blob/v6.0/Documentation/ABI/testing/sysfs-bus-pci#L344-L355\n",
      "2024-12-09 06:42:49.571812: I external/local_xla/xla/stream_executor/cuda/cuda_executor.cc:901] successful NUMA node read from SysFS had negative value (-1), but there must be at least one NUMA node, so returning NUMA node zero. See more at https://github.com/torvalds/linux/blob/v6.0/Documentation/ABI/testing/sysfs-bus-pci#L344-L355\n",
      "2024-12-09 06:42:49.572103: I external/local_xla/xla/stream_executor/cuda/cuda_executor.cc:901] successful NUMA node read from SysFS had negative value (-1), but there must be at least one NUMA node, so returning NUMA node zero. See more at https://github.com/torvalds/linux/blob/v6.0/Documentation/ABI/testing/sysfs-bus-pci#L344-L355\n",
      "2024-12-09 06:42:49.638555: I external/local_xla/xla/stream_executor/cuda/cuda_executor.cc:901] successful NUMA node read from SysFS had negative value (-1), but there must be at least one NUMA node, so returning NUMA node zero. See more at https://github.com/torvalds/linux/blob/v6.0/Documentation/ABI/testing/sysfs-bus-pci#L344-L355\n",
      "2024-12-09 06:42:49.638920: I external/local_xla/xla/stream_executor/cuda/cuda_executor.cc:901] successful NUMA node read from SysFS had negative value (-1), but there must be at least one NUMA node, so returning NUMA node zero. See more at https://github.com/torvalds/linux/blob/v6.0/Documentation/ABI/testing/sysfs-bus-pci#L344-L355\n",
      "2024-12-09 06:42:49.639212: I external/local_xla/xla/stream_executor/cuda/cuda_executor.cc:901] successful NUMA node read from SysFS had negative value (-1), but there must be at least one NUMA node, so returning NUMA node zero. See more at https://github.com/torvalds/linux/blob/v6.0/Documentation/ABI/testing/sysfs-bus-pci#L344-L355\n",
      "2024-12-09 06:42:49.639440: I tensorflow/core/common_runtime/gpu/gpu_device.cc:1929] Created device /job:localhost/replica:0/task:0/device:GPU:0 with 1756 MB memory:  -> device: 0, name: NVIDIA GeForce MX110, pci bus id: 0000:01:00.0, compute capability: 5.0\n",
      "2024-12-09 06:42:49.755094: I external/local_xla/xla/stream_executor/cuda/cuda_executor.cc:901] successful NUMA node read from SysFS had negative value (-1), but there must be at least one NUMA node, so returning NUMA node zero. See more at https://github.com/torvalds/linux/blob/v6.0/Documentation/ABI/testing/sysfs-bus-pci#L344-L355\n"
     ]
    },
    {
     "name": "stdout",
     "output_type": "stream",
     "text": [
      "Model: \"sequential\"\n",
      "_________________________________________________________________\n",
      " Layer (type)                Output Shape              Param #   \n",
      "=================================================================\n",
      " sequential (Sequential)     (None, 6, 64)             100226    \n",
      "                                                                 \n",
      " flatten (Flatten)           (None, 384)               0         \n",
      "                                                                 \n",
      " dense (Dense)               (None, 512)               197120    \n",
      "                                                                 \n",
      " dropout (Dropout)           (None, 512)               0         \n",
      "                                                                 \n",
      " dense_1 (Dense)             (None, 256)               131328    \n",
      "                                                                 \n",
      " dropout_1 (Dropout)         (None, 256)               0         \n",
      "                                                                 \n",
      " dense_2 (Dense)             (None, 128)               32896     \n",
      "                                                                 \n",
      " dropout_2 (Dropout)         (None, 128)               0         \n",
      "                                                                 \n",
      " dense_3 (Dense)             (None, 1)                 129       \n",
      "                                                                 \n",
      "=================================================================\n",
      "Total params: 461699 (1.76 MB)\n",
      "Trainable params: 361473 (1.38 MB)\n",
      "Non-trainable params: 100226 (391.02 KB)\n",
      "_________________________________________________________________\n"
     ]
    }
   ],
   "source": [
    "model_cnn().summary()"
   ]
  },
  {
   "cell_type": "code",
   "execution_count": 14,
   "id": "8ca48270-55d8-4f35-a119-114170fb6535",
   "metadata": {},
   "outputs": [
    {
     "name": "stdout",
     "output_type": "stream",
     "text": [
      "Physical devices cannot be modified after being initialized\n",
      "INFO:tensorflow:Using MirroredStrategy with devices ('/job:localhost/replica:0/task:0/device:GPU:0',)\n",
      "Number of devices: 1\n",
      "Epoch 1/30\n",
      "INFO:tensorflow:Reduce to /job:localhost/replica:0/task:0/device:CPU:0 then broadcast to ('/job:localhost/replica:0/task:0/device:CPU:0',).\n",
      "INFO:tensorflow:Reduce to /job:localhost/replica:0/task:0/device:CPU:0 then broadcast to ('/job:localhost/replica:0/task:0/device:CPU:0',).\n",
      "INFO:tensorflow:Reduce to /job:localhost/replica:0/task:0/device:CPU:0 then broadcast to ('/job:localhost/replica:0/task:0/device:CPU:0',).\n",
      "INFO:tensorflow:Reduce to /job:localhost/replica:0/task:0/device:CPU:0 then broadcast to ('/job:localhost/replica:0/task:0/device:CPU:0',).\n",
      "INFO:tensorflow:Reduce to /job:localhost/replica:0/task:0/device:CPU:0 then broadcast to ('/job:localhost/replica:0/task:0/device:CPU:0',).\n",
      "INFO:tensorflow:Reduce to /job:localhost/replica:0/task:0/device:CPU:0 then broadcast to ('/job:localhost/replica:0/task:0/device:CPU:0',).\n",
      "INFO:tensorflow:Reduce to /job:localhost/replica:0/task:0/device:CPU:0 then broadcast to ('/job:localhost/replica:0/task:0/device:CPU:0',).\n",
      "INFO:tensorflow:Reduce to /job:localhost/replica:0/task:0/device:CPU:0 then broadcast to ('/job:localhost/replica:0/task:0/device:CPU:0',).\n"
     ]
    },
    {
     "name": "stderr",
     "output_type": "stream",
     "text": [
      "2024-12-09 06:42:55.330450: I external/local_xla/xla/stream_executor/cuda/cuda_dnn.cc:454] Loaded cuDNN version 8904\n",
      "2024-12-09 06:42:58.810959: I external/local_xla/xla/service/service.cc:168] XLA service 0x75ae105b2cc0 initialized for platform CUDA (this does not guarantee that XLA will be used). Devices:\n",
      "2024-12-09 06:42:58.811008: I external/local_xla/xla/service/service.cc:176]   StreamExecutor device (0): NVIDIA GeForce MX110, Compute Capability 5.0\n",
      "2024-12-09 06:42:58.830809: I tensorflow/compiler/mlir/tensorflow/utils/dump_mlir_util.cc:269] disabling MLIR crash reproducer, set env var `MLIR_CRASH_REPRODUCER_DIRECTORY` to enable.\n",
      "WARNING: All log messages before absl::InitializeLog() is called are written to STDERR\n",
      "I0000 00:00:1733701379.154346   42894 device_compiler.h:186] Compiled cluster using XLA!  This line is logged at most once for the lifetime of the process.\n"
     ]
    },
    {
     "name": "stdout",
     "output_type": "stream",
     "text": [
      "174/174 [==============================] - ETA: 0s - loss: 0.3053 - accuracy: 0.8954INFO:tensorflow:Reduce to /job:localhost/replica:0/task:0/device:CPU:0 then broadcast to ('/job:localhost/replica:0/task:0/device:CPU:0',).\n",
      "INFO:tensorflow:Reduce to /job:localhost/replica:0/task:0/device:CPU:0 then broadcast to ('/job:localhost/replica:0/task:0/device:CPU:0',).\n",
      "174/174 [==============================] - 27s 112ms/step - loss: 0.3053 - accuracy: 0.8954 - val_loss: 0.0839 - val_accuracy: 0.9730\n",
      "Epoch 2/30\n",
      "174/174 [==============================] - 18s 103ms/step - loss: 0.0794 - accuracy: 0.9756 - val_loss: 0.0575 - val_accuracy: 0.9806\n",
      "Epoch 3/30\n",
      "174/174 [==============================] - 18s 101ms/step - loss: 0.0584 - accuracy: 0.9815 - val_loss: 0.0464 - val_accuracy: 0.9860\n",
      "Epoch 4/30\n",
      "174/174 [==============================] - 18s 102ms/step - loss: 0.0505 - accuracy: 0.9841 - val_loss: 0.0428 - val_accuracy: 0.9875\n",
      "Epoch 5/30\n",
      "174/174 [==============================] - 17s 99ms/step - loss: 0.0462 - accuracy: 0.9854 - val_loss: 0.0401 - val_accuracy: 0.9884\n",
      "Epoch 6/30\n",
      "174/174 [==============================] - 17s 100ms/step - loss: 0.0429 - accuracy: 0.9864 - val_loss: 0.0373 - val_accuracy: 0.9889\n",
      "Epoch 7/30\n",
      "174/174 [==============================] - 18s 103ms/step - loss: 0.0406 - accuracy: 0.9871 - val_loss: 0.0355 - val_accuracy: 0.9896\n",
      "Epoch 8/30\n",
      "174/174 [==============================] - 18s 103ms/step - loss: 0.0392 - accuracy: 0.9877 - val_loss: 0.0336 - val_accuracy: 0.9897\n",
      "Epoch 9/30\n",
      "174/174 [==============================] - 18s 103ms/step - loss: 0.0374 - accuracy: 0.9881 - val_loss: 0.0321 - val_accuracy: 0.9905\n",
      "Epoch 10/30\n",
      "174/174 [==============================] - 17s 98ms/step - loss: 0.0359 - accuracy: 0.9887 - val_loss: 0.0311 - val_accuracy: 0.9908\n",
      "Epoch 11/30\n",
      "174/174 [==============================] - 17s 100ms/step - loss: 0.0346 - accuracy: 0.9891 - val_loss: 0.0296 - val_accuracy: 0.9905\n",
      "Epoch 12/30\n",
      "174/174 [==============================] - 18s 105ms/step - loss: 0.0339 - accuracy: 0.9894 - val_loss: 0.0293 - val_accuracy: 0.9912\n",
      "Epoch 13/30\n",
      "174/174 [==============================] - 17s 99ms/step - loss: 0.0332 - accuracy: 0.9896 - val_loss: 0.0286 - val_accuracy: 0.9913\n",
      "Epoch 14/30\n",
      "174/174 [==============================] - 17s 97ms/step - loss: 0.0323 - accuracy: 0.9899 - val_loss: 0.0282 - val_accuracy: 0.9914\n",
      "Epoch 15/30\n",
      "174/174 [==============================] - 17s 98ms/step - loss: 0.0317 - accuracy: 0.9901 - val_loss: 0.0271 - val_accuracy: 0.9916\n",
      "Epoch 16/30\n",
      "174/174 [==============================] - 17s 97ms/step - loss: 0.0308 - accuracy: 0.9901 - val_loss: 0.0271 - val_accuracy: 0.9916\n",
      "Epoch 17/30\n",
      "174/174 [==============================] - 17s 96ms/step - loss: 0.0305 - accuracy: 0.9903 - val_loss: 0.0268 - val_accuracy: 0.9916\n",
      "Epoch 18/30\n",
      "174/174 [==============================] - 17s 97ms/step - loss: 0.0301 - accuracy: 0.9904 - val_loss: 0.0262 - val_accuracy: 0.9918\n",
      "Epoch 19/30\n",
      "174/174 [==============================] - 17s 98ms/step - loss: 0.0292 - accuracy: 0.9906 - val_loss: 0.0261 - val_accuracy: 0.9918\n",
      "Epoch 20/30\n",
      "174/174 [==============================] - 17s 99ms/step - loss: 0.0293 - accuracy: 0.9908 - val_loss: 0.0256 - val_accuracy: 0.9917\n",
      "Epoch 21/30\n",
      "174/174 [==============================] - 17s 97ms/step - loss: 0.0288 - accuracy: 0.9908 - val_loss: 0.0254 - val_accuracy: 0.9919\n",
      "Epoch 22/30\n",
      "174/174 [==============================] - 17s 96ms/step - loss: 0.0287 - accuracy: 0.9909 - val_loss: 0.0250 - val_accuracy: 0.9920\n",
      "Epoch 23/30\n",
      "174/174 [==============================] - 16s 95ms/step - loss: 0.0282 - accuracy: 0.9910 - val_loss: 0.0252 - val_accuracy: 0.9920\n",
      "Epoch 24/30\n",
      "174/174 [==============================] - 17s 98ms/step - loss: 0.0278 - accuracy: 0.9911 - val_loss: 0.0247 - val_accuracy: 0.9920\n",
      "Epoch 25/30\n",
      "174/174 [==============================] - 17s 95ms/step - loss: 0.0276 - accuracy: 0.9911 - val_loss: 0.0253 - val_accuracy: 0.9920\n",
      "Epoch 26/30\n",
      "174/174 [==============================] - 17s 96ms/step - loss: 0.0274 - accuracy: 0.9912 - val_loss: 0.0245 - val_accuracy: 0.9921\n",
      "Epoch 27/30\n",
      "174/174 [==============================] - 17s 97ms/step - loss: 0.0272 - accuracy: 0.9914 - val_loss: 0.0244 - val_accuracy: 0.9921\n",
      "Epoch 28/30\n",
      "174/174 [==============================] - 16s 95ms/step - loss: 0.0270 - accuracy: 0.9913 - val_loss: 0.0247 - val_accuracy: 0.9921\n",
      "Epoch 29/30\n",
      "174/174 [==============================] - 17s 96ms/step - loss: 0.0267 - accuracy: 0.9914 - val_loss: 0.0239 - val_accuracy: 0.9922\n",
      "Epoch 30/30\n",
      "174/174 [==============================] - 17s 95ms/step - loss: 0.0266 - accuracy: 0.9914 - val_loss: 0.0243 - val_accuracy: 0.9921\n"
     ]
    }
   ],
   "source": [
    "# Clear session and Memory Growth\n",
    "clear_session()\n",
    "\n",
    "# Create a Strategy.\n",
    "mixed_precision.set_global_policy('mixed_float16')\n",
    "\n",
    "if tf.config.list_physical_devices('GPU'):\n",
    "    strategy = tf.distribute.MirroredStrategy()\n",
    "else:  # Use the Default Strategy\n",
    "    strategy = tf.distribute.get_strategy()\n",
    "\n",
    "print(\"Number of devices: {}\".format(strategy.num_replicas_in_sync))\n",
    "\n",
    "# Open a strategy scope.\n",
    "with strategy.scope():\n",
    "\n",
    "    model=model_cnn()\n",
    "\n",
    "    #x_train, x_test, y_train, y_test = train_test_split(data_features, data_labels, train_size=0.75, random_state=42,shuffle=True)\n",
    "\n",
    "\n",
    "# Train the model on all available devices.\n",
    "history = model.fit(x_train1, y_train1, validation_data=(x_test1, y_test1), epochs=30, batch_size=2048, callbacks=callbacks)\n",
    "history1 = history"
   ]
  },
  {
   "cell_type": "code",
   "execution_count": 15,
   "id": "2a52281e-aa58-41d0-986f-5ef25bdf87df",
   "metadata": {},
   "outputs": [
    {
     "name": "stdout",
     "output_type": "stream",
     "text": [
      "3709/3709 [==============================] - 22s 6ms/step - loss: 0.0243 - accuracy: 0.9921\n",
      "test loss, test acc: [0.02431614324450493, 0.9920707941055298]\n"
     ]
    }
   ],
   "source": [
    "#Evaluate the model\n",
    "# 174/174 [=============] - 12s 70ms/step - loss: 0.0338 - accuracy: 0.9889 - val_loss: 0.0300 - val_accuracy: 0.9904, 2e-5\n",
    "# 174/174 [=============] - 12s 68ms/step - loss: 0.0269 - accuracy: 0.9912 - val_loss: 0.0241 - val_accuracy: 0.9920, 6e-5\n",
    "# 174/174 [=============] - 12s 69ms/step - loss: 0.0249 - accuracy: 0.9917 - val_loss: 0.0226 - val_accuracy: 0.9922; 1e-4\n",
    "results1 = model.evaluate(x_test1, y_test1, verbose=1)\n",
    "print(\"test loss, test acc:\", results1)"
   ]
  },
  {
   "cell_type": "code",
   "execution_count": 16,
   "id": "b606fe1c-1499-4ba0-ab29-d4c504a869f2",
   "metadata": {},
   "outputs": [
    {
     "data": {
      "image/png": "[encoded data removed]",
      "text/plain": [
       "<Figure size 640x480 with 1 Axes>"
      ]
     },
     "metadata": {},
     "output_type": "display_data"
    }
   ],
   "source": [
    "# summarize history for loss\n",
    "train_loss = history.history['loss']\n",
    "test_loss = history.history['val_loss']\n",
    "x = list(range(1, len(test_loss) + 1))\n",
    "plt.plot(x, test_loss, color = 'orange', label = 'Test loss')\n",
    "plt.plot(x, train_loss, label = 'Training loss')\n",
    "plt.legend()\n",
    "plt.grid(visible=True)\n",
    "plt.xlabel('Epoch')\n",
    "plt.ylabel('Loss')\n",
    "plt.title('Loss vs. Epoch', weight='bold', fontsize=18)\n",
    "plt.show()"
   ]
  },
  {
   "cell_type": "code",
   "execution_count": 17,
   "id": "71a6eb74-41bb-487c-b622-00cb9f306c24",
   "metadata": {},
   "outputs": [
    {
     "data": {
      "image/png": "[encoded data removed]",
      "text/plain": [
       "<Figure size 640x480 with 1 Axes>"
      ]
     },
     "metadata": {},
     "output_type": "display_data"
    }
   ],
   "source": [
    "# summarize history for accuracy\n",
    "train_acc = history.history['accuracy']\n",
    "test_acc = history.history['val_accuracy']\n",
    "x = list(range(1, len(test_acc) + 1))\n",
    "plt.plot(x, test_acc, color = 'orange', label = 'Test accuracy')\n",
    "plt.plot(x, train_acc, label = 'Training accuracy')\n",
    "plt.legend()\n",
    "plt.grid(visible=True)\n",
    "plt.xlabel('Epoch')\n",
    "plt.ylabel('Accuracy')\n",
    "plt.title('Accuracy vs. Epoch', weight='bold', fontsize=18)\n",
    "plt.show()"
   ]
  },
  {
   "cell_type": "code",
   "execution_count": 18,
   "id": "b0a1a198-3854-44c0-ba02-7022dec8b1b6",
   "metadata": {},
   "outputs": [
    {
     "name": "stdout",
     "output_type": "stream",
     "text": [
      "3709/3709 [==============================] - 17s 4ms/step\n"
     ]
    }
   ],
   "source": [
    "# Prediction\n",
    "#model = load_model('/home/riki/project_dl/finale/model/base5_train_test.keras')\n",
    "predicted1 = model.predict(x_test1)"
   ]
  },
  {
   "cell_type": "code",
   "execution_count": 19,
   "id": "7a4e7a8b-e15c-4a76-b61c-1526b0556177",
   "metadata": {},
   "outputs": [],
   "source": [
    "df1 = pd.DataFrame(y_test1)\n",
    "df1['predicted'] = predicted1"
   ]
  },
  {
   "cell_type": "code",
   "execution_count": 20,
   "id": "dfce1206-cb3a-4811-9a4b-174d86090dc8",
   "metadata": {},
   "outputs": [],
   "source": [
    "cf1 = confusion_matrix(y_test1, np.round(predicted1))"
   ]
  },
  {
   "cell_type": "code",
   "execution_count": 21,
   "id": "ec7c3fb1-f333-4a75-8cb2-b9ab2b7da83f",
   "metadata": {},
   "outputs": [
    {
     "data": {
      "image/png": "[encoded data removed]",
      "text/plain": [
       "<Figure size 640x480 with 1 Axes>"
      ]
     },
     "metadata": {},
     "output_type": "display_data"
    }
   ],
   "source": [
    "cmatrix_df1 = pd.DataFrame(cf1, index = ['Normal', 'Attack'], columns = ['Normal', 'Attack'])\n",
    "plt.title('Confusion matrix of the base 4 train & test with TL', weight='bold', fontsize=14)\n",
    "plt.tick_params(length=0)\n",
    "plt.xlabel('Attacks')\n",
    "plt.ylabel('Predicted Attacks')\n",
    "sns.heatmap(cmatrix_df1, annot=True, fmt=\"d\", cbar=False, cmap='Blues')\n",
    "plt.show()"
   ]
  },
  {
   "cell_type": "code",
   "execution_count": 22,
   "id": "000d5b7a-202a-47ae-8480-8faa8eb7b612",
   "metadata": {},
   "outputs": [
    {
     "name": "stdout",
     "output_type": "stream",
     "text": [
      "              precision    recall  f1-score   support\n",
      "\n",
      "           0       1.00      0.99      0.99     61318\n",
      "           1       0.98      1.00      0.99     57357\n",
      "\n",
      "    accuracy                           0.99    118675\n",
      "   macro avg       0.99      0.99      0.99    118675\n",
      "weighted avg       0.99      0.99      0.99    118675\n",
      "\n"
     ]
    }
   ],
   "source": [
    "# Precision, Recall & F1 Score\n",
    "class_report1 = classification_report(y_test1, np.round(predicted1))\n",
    "print(class_report1)"
   ]
  },
  {
   "cell_type": "code",
   "execution_count": 23,
   "id": "aa9c081b-43d7-445c-a73e-6d2f06ee5542",
   "metadata": {},
   "outputs": [
    {
     "data": {
      "image/png": "[encoded data removed]",
      "text/plain": [
       "<Figure size 640x480 with 1 Axes>"
      ]
     },
     "metadata": {},
     "output_type": "display_data"
    }
   ],
   "source": [
    "# Precision, Recall & F1-Score\n",
    "class_report1 = classification_report(y_test1, np.round(predicted1), target_names = ['Normal', 'Attack'],output_dict=True) \n",
    "plt.tick_params(axis='both', which='major', labelsize=10, labelbottom = False, bottom=False, top = False, labeltop=True)\n",
    "plt.tick_params(length=0)\n",
    "sns.heatmap(pd.DataFrame(class_report1).iloc[:-1, :-3].T, square=True, cbar=False,cmap='Blues', annot=True) \n",
    "plt.show()"
   ]
  },
  {
   "cell_type": "code",
   "execution_count": 24,
   "id": "9f60263e-21a5-4be5-89db-e3d0db42cbd7",
   "metadata": {},
   "outputs": [],
   "source": [
    "model.save('model/base5_train_test_tl.keras')"
   ]
  },
  {
   "cell_type": "code",
   "execution_count": 25,
   "id": "4059e727-d8d8-42f1-8c62-9be165dabc03",
   "metadata": {},
   "outputs": [],
   "source": [
    "# adding normal column in data label\n",
    "normal=data_labels['label']\n",
    "normal=normal.replace(1,2)\n",
    "normal=normal.replace(0,1)\n",
    "normal=normal.replace(2,0)\n",
    "data_labels.insert(1, 'normal', normal)"
   ]
  },
  {
   "cell_type": "code",
   "execution_count": 26,
   "id": "3b0b0f1c-a292-472f-bb1d-d1553229fb0d",
   "metadata": {},
   "outputs": [
    {
     "data": {
      "text/html": [
       "<div>\n",
       "<style scoped>\n",
       "    .dataframe tbody tr th:only-of-type {\n",
       "        vertical-align: middle;\n",
       "    }\n",
       "\n",
       "    .dataframe tbody tr th {\n",
       "        vertical-align: top;\n",
       "    }\n",
       "\n",
       "    .dataframe thead th {\n",
       "        text-align: right;\n",
       "    }\n",
       "</style>\n",
       "<table border=\"1\" class=\"dataframe\">\n",
       "  <thead>\n",
       "    <tr style=\"text-align: right;\">\n",
       "      <th></th>\n",
       "      <th>pred_attack</th>\n",
       "      <th>pred_normal</th>\n",
       "      <th>attack</th>\n",
       "      <th>category</th>\n",
       "      <th>normal</th>\n",
       "    </tr>\n",
       "  </thead>\n",
       "  <tbody>\n",
       "    <tr>\n",
       "      <th>0</th>\n",
       "      <td>1.0</td>\n",
       "      <td>0.0</td>\n",
       "      <td>1</td>\n",
       "      <td>generic</td>\n",
       "      <td>0</td>\n",
       "    </tr>\n",
       "    <tr>\n",
       "      <th>1</th>\n",
       "      <td>0.0</td>\n",
       "      <td>1.0</td>\n",
       "      <td>0</td>\n",
       "      <td>normal</td>\n",
       "      <td>1</td>\n",
       "    </tr>\n",
       "    <tr>\n",
       "      <th>3</th>\n",
       "      <td>1.0</td>\n",
       "      <td>0.0</td>\n",
       "      <td>1</td>\n",
       "      <td>generic</td>\n",
       "      <td>0</td>\n",
       "    </tr>\n",
       "    <tr>\n",
       "      <th>4</th>\n",
       "      <td>0.0</td>\n",
       "      <td>1.0</td>\n",
       "      <td>0</td>\n",
       "      <td>normal</td>\n",
       "      <td>1</td>\n",
       "    </tr>\n",
       "    <tr>\n",
       "      <th>5</th>\n",
       "      <td>1.0</td>\n",
       "      <td>0.0</td>\n",
       "      <td>1</td>\n",
       "      <td>generic</td>\n",
       "      <td>0</td>\n",
       "    </tr>\n",
       "  </tbody>\n",
       "</table>\n",
       "</div>"
      ],
      "text/plain": [
       "   pred_attack  pred_normal  attack category  normal\n",
       "0          1.0          0.0       1  generic       0\n",
       "1          0.0          1.0       0   normal       1\n",
       "3          1.0          0.0       1  generic       0\n",
       "4          0.0          1.0       0   normal       1\n",
       "5          1.0          0.0       1  generic       0"
      ]
     },
     "execution_count": 26,
     "metadata": {},
     "output_type": "execute_result"
    }
   ],
   "source": [
    "df1 = pd.DataFrame(np.round(predicted1))\n",
    "df1.index = data.index\n",
    "df1.columns = ['pred_attack']\n",
    "df1['pred_normal'] = 1- df1['pred_attack']\n",
    "df1['attack']=data['label']\n",
    "df1['category']=data['attack_cat']\n",
    "df1['normal']=data_labels['normal']\n",
    "df1.head()"
   ]
  },
  {
   "cell_type": "code",
   "execution_count": 27,
   "id": "4d3bef2e-a2a0-4965-959e-840126034f72",
   "metadata": {},
   "outputs": [
    {
     "data": {
      "text/plain": [
       "category\n",
       "normal            61318\n",
       "generic           53520\n",
       "reconnaissance     2883\n",
       "dos                 954\n",
       "Name: count, dtype: int64"
      ]
     },
     "execution_count": 27,
     "metadata": {},
     "output_type": "execute_result"
    }
   ],
   "source": [
    "df1.value_counts('category')"
   ]
  },
  {
   "cell_type": "code",
   "execution_count": 28,
   "id": "c5e9248f-b396-4bf7-86ab-11af21311a67",
   "metadata": {},
   "outputs": [],
   "source": [
    "dff1=df1\n",
    "df1=pd.get_dummies(df1)\n",
    "df1=round(df1)"
   ]
  },
  {
   "cell_type": "code",
   "execution_count": 29,
   "id": "24facf56-47eb-490c-b1e3-4285704d81f3",
   "metadata": {},
   "outputs": [],
   "source": [
    "normal=df1.loc[df1['category_normal'] == 1]\n",
    "normal=normal[['pred_attack', 'pred_normal', 'attack', 'normal']]\n",
    "normal_pred=normal[['pred_attack','pred_normal']]\n",
    "normal_check=normal[['attack','normal']]\n",
    "\n",
    "generic=df1.loc[df1['category_generic'] == 1]\n",
    "generic=generic[['pred_attack', 'pred_normal', 'attack', 'normal']]\n",
    "generic_pred=generic[['pred_attack','pred_normal']]\n",
    "generic_check=generic[['attack','normal']]\n",
    "\n",
    "dos=df1.loc[df1['category_dos'] == 1]\n",
    "dos=dos[['pred_attack', 'pred_normal', 'attack', 'normal']]\n",
    "dos_pred=dos[['pred_attack','pred_normal']]\n",
    "dos_check=dos[['attack','normal']]\n",
    "\n",
    "reconnaissance=df1.loc[df1['category_reconnaissance'] == 1]\n",
    "reconnaissance=reconnaissance[['pred_attack', 'pred_normal', 'attack', 'normal']]\n",
    "reconnaissance_pred=reconnaissance[['pred_attack','pred_normal']]\n",
    "reconnaissance_check=reconnaissance[['attack','normal']]"
   ]
  },
  {
   "cell_type": "code",
   "execution_count": 30,
   "id": "f9333ab8-c70a-46f2-b962-f1f4f2b88094",
   "metadata": {},
   "outputs": [],
   "source": [
    "#Correctly detected\n",
    "countdata=pd.DataFrame()\n",
    "normal_c = normal['pred_normal'] * normal['normal']\n",
    "generic_c = generic['pred_attack'] * generic['attack']\n",
    "reconnaissance_c = reconnaissance['pred_attack'] * reconnaissance['attack']\n",
    "dos_c = dos['pred_attack'] * dos['attack']"
   ]
  },
  {
   "cell_type": "code",
   "execution_count": 31,
   "id": "5d659eae-d350-4bf0-a730-678c1d10c449",
   "metadata": {},
   "outputs": [],
   "source": [
    "# Count 0 and 1\n",
    "normal_c0 = (normal_c == 0).sum()\n",
    "normal_c1 = len(normal) - normal_c0\n",
    "\n",
    "reconnaissance_c0 = (reconnaissance_c == 0).sum()\n",
    "reconnaissance_c1 = len(reconnaissance_c) - reconnaissance_c0\n",
    "\n",
    "generic_c0 = (generic_c == 0).sum()\n",
    "generic_c1 = len(generic) - generic_c0\n",
    "\n",
    "dos_c0 = (dos_c == 0).sum()\n",
    "dos_c1 = len(dos) - dos_c0"
   ]
  },
  {
   "cell_type": "code",
   "execution_count": 32,
   "id": "7dcec572-e1f6-4a40-98be-f8aac3c56c25",
   "metadata": {},
   "outputs": [
    {
     "name": "stdout",
     "output_type": "stream",
     "text": [
      "There are 1.47 % of NO detected and 98.53 % of detected samples\n"
     ]
    }
   ],
   "source": [
    "normal_0, normal_1 = normal_c0*100 / len(normal), normal_c1*100 / len(normal)\n",
    "print(\"There are {:.2f} % of NO detected and {:.2f} % of detected samples\".format(normal_0, normal_1))"
   ]
  },
  {
   "cell_type": "code",
   "execution_count": 33,
   "id": "66c26ab9-1ec8-4d94-8f3a-d89020c3f15e",
   "metadata": {},
   "outputs": [
    {
     "name": "stdout",
     "output_type": "stream",
     "text": [
      "There are 0.02 % of NO detected and 99.98 % of detected samples\n"
     ]
    }
   ],
   "source": [
    "generic_0, generic_1 = generic_c0*100 / len(generic), generic_c1*100 / len(generic)\n",
    "print(\"There are {:.2f} % of NO detected and {:.2f} % of detected samples\".format(generic_0, generic_1))"
   ]
  },
  {
   "cell_type": "code",
   "execution_count": 34,
   "id": "6489ebf2-bc98-4b1b-85d8-e495ab19e3ad",
   "metadata": {},
   "outputs": [
    {
     "name": "stdout",
     "output_type": "stream",
     "text": [
      "There are 0.03 % of NO detected and 99.97 % of detected samples\n"
     ]
    }
   ],
   "source": [
    "reconnaissance_0, reconnaissance_1 = reconnaissance_c0*100 / len(reconnaissance), reconnaissance_c1*100 / len(reconnaissance)\n",
    "print(\"There are {:.2f} % of NO detected and {:.2f} % of detected samples\".format(reconnaissance_0, reconnaissance_1))"
   ]
  },
  {
   "cell_type": "code",
   "execution_count": 35,
   "id": "2a7592f1-a667-411e-8851-5a7b06d821fd",
   "metadata": {},
   "outputs": [
    {
     "name": "stdout",
     "output_type": "stream",
     "text": [
      "There are 2.73 % of NO detected and 97.27 % of detected samples\n"
     ]
    }
   ],
   "source": [
    "dos_0, dos_1 = dos_c0*100 / len(dos), dos_c1*100 / len(dos)\n",
    "print(\"There are {:.2f} % of NO detected and {:.2f} % of detected samples\".format(dos_0, dos_1))"
   ]
  },
  {
   "cell_type": "code",
   "execution_count": 36,
   "id": "0dfe181a-3a85-4a04-b205-1b7be96618b5",
   "metadata": {},
   "outputs": [],
   "source": [
    "summary1 = pd.DataFrame({\"Traffic\":\n",
    "                   [\"Normal\", \"generic\", \"reconnaissance\", \"dos\"],\n",
    "                   \"Detected %\": [normal_1, generic_1, reconnaissance_1 ,dos_1],\n",
    "                   \"No Detected %\": [normal_0, generic_0, reconnaissance_0 ,dos_0],\n",
    "                   \"Detected Samples\": [normal_c1, generic_c1, reconnaissance_c1 ,dos_c1],\n",
    "                   \"No Detected Samples\": [normal_c0, generic_c0, reconnaissance_c0 ,dos_c0]})"
   ]
  },
  {
   "cell_type": "code",
   "execution_count": 37,
   "id": "6bce8598-f88a-419e-9f27-1e02cb6de3c1",
   "metadata": {},
   "outputs": [],
   "source": [
    "dff1['category_pred'] = np.where(((df1['attack'] == 1) & (df1['pred_attack'] == 1)) | ((df1['normal'] == 1) & (df1['pred_normal'] == 1)), 'Detected', 'No Detected')\n"
   ]
  },
  {
   "cell_type": "code",
   "execution_count": 38,
   "id": "cfca3d78-f86e-4a10-9303-ad6826ca5df0",
   "metadata": {},
   "outputs": [],
   "source": [
    "data_plot1=dff1[['category', 'category_pred']]"
   ]
  },
  {
   "cell_type": "code",
   "execution_count": 39,
   "id": "c3cdad13-3836-448f-8462-1d3ffeab4c17",
   "metadata": {},
   "outputs": [
    {
     "data": {
      "text/html": [
       "<div>\n",
       "<style scoped>\n",
       "    .dataframe tbody tr th:only-of-type {\n",
       "        vertical-align: middle;\n",
       "    }\n",
       "\n",
       "    .dataframe tbody tr th {\n",
       "        vertical-align: top;\n",
       "    }\n",
       "\n",
       "    .dataframe thead th {\n",
       "        text-align: right;\n",
       "    }\n",
       "</style>\n",
       "<table border=\"1\" class=\"dataframe\">\n",
       "  <thead>\n",
       "    <tr style=\"text-align: right;\">\n",
       "      <th></th>\n",
       "      <th>category</th>\n",
       "      <th>category_pred</th>\n",
       "    </tr>\n",
       "  </thead>\n",
       "  <tbody>\n",
       "    <tr>\n",
       "      <th>0</th>\n",
       "      <td>generic</td>\n",
       "      <td>Detected</td>\n",
       "    </tr>\n",
       "    <tr>\n",
       "      <th>1</th>\n",
       "      <td>normal</td>\n",
       "      <td>Detected</td>\n",
       "    </tr>\n",
       "    <tr>\n",
       "      <th>3</th>\n",
       "      <td>generic</td>\n",
       "      <td>Detected</td>\n",
       "    </tr>\n",
       "    <tr>\n",
       "      <th>4</th>\n",
       "      <td>normal</td>\n",
       "      <td>Detected</td>\n",
       "    </tr>\n",
       "    <tr>\n",
       "      <th>5</th>\n",
       "      <td>generic</td>\n",
       "      <td>Detected</td>\n",
       "    </tr>\n",
       "    <tr>\n",
       "      <th>...</th>\n",
       "      <td>...</td>\n",
       "      <td>...</td>\n",
       "    </tr>\n",
       "    <tr>\n",
       "      <th>122905</th>\n",
       "      <td>normal</td>\n",
       "      <td>Detected</td>\n",
       "    </tr>\n",
       "    <tr>\n",
       "      <th>122906</th>\n",
       "      <td>normal</td>\n",
       "      <td>Detected</td>\n",
       "    </tr>\n",
       "    <tr>\n",
       "      <th>122907</th>\n",
       "      <td>generic</td>\n",
       "      <td>Detected</td>\n",
       "    </tr>\n",
       "    <tr>\n",
       "      <th>122908</th>\n",
       "      <td>generic</td>\n",
       "      <td>Detected</td>\n",
       "    </tr>\n",
       "    <tr>\n",
       "      <th>122909</th>\n",
       "      <td>generic</td>\n",
       "      <td>Detected</td>\n",
       "    </tr>\n",
       "  </tbody>\n",
       "</table>\n",
       "<p>118675 rows × 2 columns</p>\n",
       "</div>"
      ],
      "text/plain": [
       "       category category_pred\n",
       "0       generic      Detected\n",
       "1        normal      Detected\n",
       "3       generic      Detected\n",
       "4        normal      Detected\n",
       "5       generic      Detected\n",
       "...         ...           ...\n",
       "122905   normal      Detected\n",
       "122906   normal      Detected\n",
       "122907  generic      Detected\n",
       "122908  generic      Detected\n",
       "122909  generic      Detected\n",
       "\n",
       "[118675 rows x 2 columns]"
      ]
     },
     "execution_count": 39,
     "metadata": {},
     "output_type": "execute_result"
    }
   ],
   "source": [
    "data_plot1"
   ]
  },
  {
   "cell_type": "code",
   "execution_count": 40,
   "id": "f879b16d-3771-498a-806b-b2c4bf8a7d2f",
   "metadata": {},
   "outputs": [
    {
     "data": {
      "image/png": "[encoded data removed]",
      "text/plain": [
       "<Figure size 1500x500 with 1 Axes>"
      ]
     },
     "metadata": {},
     "output_type": "display_data"
    }
   ],
   "source": [
    "# Plotting target label distribution\n",
    "plt.figure(figsize=(15,5))\n",
    "sns.set_theme(style=\"darkgrid\")\n",
    "sns.countplot(x=data_plot1['category'], data=data_plot1, palette='CMRmap', hue=data_plot1['category_pred'])\n",
    "plt.title('Deteksi serangan pada Base 4 Test dengan TL', weight='bold', fontsize='18')\n",
    "plt.xticks(weight='bold', fontsize=12)\n",
    "plt.show()"
   ]
  },
  {
   "cell_type": "code",
   "execution_count": 41,
   "id": "35c4c29e-c132-41b9-9b4b-e3ec293d68d5",
   "metadata": {},
   "outputs": [
    {
     "data": {
      "text/html": [
       "<div>\n",
       "<style scoped>\n",
       "    .dataframe tbody tr th:only-of-type {\n",
       "        vertical-align: middle;\n",
       "    }\n",
       "\n",
       "    .dataframe tbody tr th {\n",
       "        vertical-align: top;\n",
       "    }\n",
       "\n",
       "    .dataframe thead th {\n",
       "        text-align: right;\n",
       "    }\n",
       "</style>\n",
       "<table border=\"1\" class=\"dataframe\">\n",
       "  <thead>\n",
       "    <tr style=\"text-align: right;\">\n",
       "      <th></th>\n",
       "      <th>Traffic</th>\n",
       "      <th>Detected %</th>\n",
       "      <th>No Detected %</th>\n",
       "      <th>Detected Samples</th>\n",
       "      <th>No Detected Samples</th>\n",
       "    </tr>\n",
       "  </thead>\n",
       "  <tbody>\n",
       "    <tr>\n",
       "      <th>0</th>\n",
       "      <td>Normal</td>\n",
       "      <td>98.528980</td>\n",
       "      <td>1.471020</td>\n",
       "      <td>60416</td>\n",
       "      <td>902</td>\n",
       "    </tr>\n",
       "    <tr>\n",
       "      <th>1</th>\n",
       "      <td>generic</td>\n",
       "      <td>99.977578</td>\n",
       "      <td>0.022422</td>\n",
       "      <td>53508</td>\n",
       "      <td>12</td>\n",
       "    </tr>\n",
       "    <tr>\n",
       "      <th>2</th>\n",
       "      <td>reconnaissance</td>\n",
       "      <td>99.965314</td>\n",
       "      <td>0.034686</td>\n",
       "      <td>2882</td>\n",
       "      <td>1</td>\n",
       "    </tr>\n",
       "    <tr>\n",
       "      <th>3</th>\n",
       "      <td>dos</td>\n",
       "      <td>97.274633</td>\n",
       "      <td>2.725367</td>\n",
       "      <td>928</td>\n",
       "      <td>26</td>\n",
       "    </tr>\n",
       "  </tbody>\n",
       "</table>\n",
       "</div>"
      ],
      "text/plain": [
       "          Traffic  Detected %  No Detected %  Detected Samples  \\\n",
       "0          Normal   98.528980       1.471020             60416   \n",
       "1         generic   99.977578       0.022422             53508   \n",
       "2  reconnaissance   99.965314       0.034686              2882   \n",
       "3             dos   97.274633       2.725367               928   \n",
       "\n",
       "   No Detected Samples  \n",
       "0                  902  \n",
       "1                   12  \n",
       "2                    1  \n",
       "3                   26  "
      ]
     },
     "execution_count": 41,
     "metadata": {},
     "output_type": "execute_result"
    }
   ],
   "source": [
    "summary1"
   ]
  },
  {
   "cell_type": "code",
   "execution_count": 42,
   "id": "8368eb9f-9c6c-47c3-bc0e-d9b023be1600",
   "metadata": {},
   "outputs": [],
   "source": [
    "summary1.to_csv('~/04_Semester_4/revisi/csv_files/summary_base5_train_test_tl.csv', index=False)"
   ]
  },
  {
   "cell_type": "markdown",
   "id": "10f78e09-cc9a-4114-8bab-f750827468a9",
   "metadata": {},
   "source": [
    "#04_Semester_4/revisi/model/model_iotbot_10.keras\n",
    "model.save('../model/base5_train_test_tl.keras')"
   ]
  },
  {
   "cell_type": "markdown",
   "id": "116a4245-6091-49e0-90b5-18b143397661",
   "metadata": {},
   "source": [
    "## Base 4 Train & First Test"
   ]
  },
  {
   "cell_type": "code",
   "execution_count": 43,
   "id": "9e07af28-a805-45b8-bdd1-6b2b965dc3a0",
   "metadata": {},
   "outputs": [],
   "source": [
    "# Load base 4 data train\n",
    "data_train = pd.read_csv('~/04_Semester_4/revisi/csv_files/UNSW_NB15_base4_train.csv', low_memory=False)"
   ]
  },
  {
   "cell_type": "code",
   "execution_count": 44,
   "id": "a0862c1a-91e3-47c3-98ae-6b11f83f2ff6",
   "metadata": {},
   "outputs": [],
   "source": [
    "# Select the 'proto' and 'state' values\n",
    "data_train= data_train.loc[(data_train['proto'] == 'tcp') | (data_train['proto'] =='udp') | (data_train['proto'] =='icmp') | (data_train['proto'] =='arp') | (data_train['proto'] =='ipv6-icmp') | (data_train['proto'] =='igmp') | (data_train['proto'] =='rarp'), :]\n",
    "data_train = data_train.loc[(data_train['state'] == 'RST') | (data_train['state'] =='REQ') | (data_train['state'] =='INT') | (data_train['state'] =='FIN') | (data_train['state'] =='CON') | (data_train['state'] =='ECO') | (data_train['state'] =='ACC') | (data_train['state'] =='PAR'), :]\n",
    "\n",
    "# Extracting dataset labels\n",
    "data_labels=data_train[['label']]\n",
    "\n",
    "# Drop the invalid features and select data features\n",
    "data_features=data_train[['proto','srcip','sport','dstip','dsport','spkts','dpkts','sbytes','dbytes','state','stime','ltime','dur']]"
   ]
  },
  {
   "cell_type": "code",
   "execution_count": 45,
   "id": "1cbd014d-f793-4f33-bca5-3bd6ec0971b1",
   "metadata": {},
   "outputs": [],
   "source": [
    "# Preprocess IP and ports features\n",
    "# IP Source Address\n",
    "data_features['srcip'] = data_features['srcip'].apply(lambda x: x.split(\".\")[-1])\n",
    "data_features['srcip'] = data_features['srcip'].apply(lambda x: x.split(\":\")[-1])\n",
    "data_features['srcip'] = data_features['srcip'].apply(lambda x: int(x, 16))\n",
    "\n",
    "# IP Destination Address\n",
    "data_features['dstip'] = data_features['dstip'].apply(lambda x: x.split(\".\")[-1])\n",
    "data_features['dstip'] = data_features['dstip'].apply(lambda x: x.split(\":\")[-1])\n",
    "data_features['dstip'] = data_features['dstip'].apply(lambda x: int(x, 16))\n",
    "\n",
    "# Ports\n",
    "data_features['sport'] = data_features['sport'].apply(lambda x: x.replace('0x','') if \"0x\" in str(x) else x)\n",
    "data_features['dsport'] = data_features['dsport'].apply(lambda x: x.replace('0x','') if \"0x\" in str(x) else x)\n",
    "\n",
    "# Convert all ports with 0 decimal, and HEX to DEC\n",
    "data_features['sport'] = data_features['sport'].apply(lambda x: str(x)[:-2] if str(x)[-2:] == '.0' else str(x))\n",
    "data_features['sport'] = data_features['sport'].apply(lambda x: -1 if str(x).isalpha()==True else int(x,16))\n",
    "\n",
    "data_features['dsport'] = data_features['dsport'].apply(lambda x: str(x)[:-2] if str(x)[-2:] == '.0' else str(x))\n",
    "data_features['dsport'] = data_features['dsport'].apply(lambda x: \"None\" if x==\"-\" else x)\n",
    "data_features['dsport'] = data_features['dsport'].apply(lambda x: -1 if str(x).isalpha()==True else int(x,16))\n",
    "\n",
    "# Convert some fields to logarithmic\n",
    "log1p_col = ['dur', 'sbytes', 'dbytes', 'spkts']\n",
    "\n",
    "for col in log1p_col:\n",
    "    data_features[col] = data_features[col].apply(np.log1p)\n",
    "\n",
    "# Transform to One hot encoding - FEATURES\n",
    "data_features=pd.get_dummies(data_features)\n",
    "\n",
    "# Normalize all data features\n",
    "data_features = StandardScaler().fit_transform(data_features)\n",
    "\n",
    "#Add dimension to data features\n",
    "data_features = np.expand_dims(data_features, axis=2)"
   ]
  },
  {
   "cell_type": "code",
   "execution_count": 46,
   "id": "6c16b8c2-8cbd-4153-b720-76cb4d3192d1",
   "metadata": {},
   "outputs": [],
   "source": [
    "# original dataset\n",
    "x_train2, y_train2 = data_features, data_labels"
   ]
  },
  {
   "cell_type": "code",
   "execution_count": 47,
   "id": "3e556449-0db4-446d-8aad-32a306e65b42",
   "metadata": {},
   "outputs": [
    {
     "name": "stdout",
     "output_type": "stream",
     "text": [
      "(356047, 24, 1)\n",
      "(356047, 1)\n",
      "label\n",
      "0        183969\n",
      "1        172078\n",
      "Name: count, dtype: int64\n"
     ]
    }
   ],
   "source": [
    "print(x_train2.shape)\n",
    "print(y_train2.shape)\n",
    "print(y_train2.value_counts())"
   ]
  },
  {
   "cell_type": "code",
   "execution_count": 48,
   "id": "0de222e7-645f-45f0-9eac-36a9a9b58107",
   "metadata": {},
   "outputs": [],
   "source": [
    "# Load base 5+ test\n",
    "data = pd.read_csv('~/04_Semester_4/revisi/csv_files/UNSW_NB15_first_test.csv', low_memory=False)"
   ]
  },
  {
   "cell_type": "code",
   "execution_count": 49,
   "id": "99e0c85c-fe24-412e-b0d5-c6290b38e700",
   "metadata": {},
   "outputs": [],
   "source": [
    "# Select the 'proto' and 'state' values that I want\n",
    "data = data.loc[(data['proto'] == 'tcp') | (data['proto'] =='udp') | (data['proto'] =='icmp') | (data['proto'] =='arp') | (data['proto'] =='ipv6-icmp') | (data['proto'] =='igmp') | (data['proto'] =='rarp'), :]\n",
    "data = data.loc[(data['state'] == 'RST') | (data['state'] =='REQ') | (data['state'] =='INT') | (data['state'] =='FIN') | (data['state'] =='CON') | (data['state'] =='ECO') | (data['state'] =='ACC') | (data['state'] =='PAR'), :]\n",
    "\n",
    "# Extracting dataset labels\n",
    "data_labels=data[['label']]\n",
    "\n",
    "# Drop the invalid features and select interested data features\n",
    "data_features=data[['proto','srcip','sport','dstip','dsport','spkts','dpkts','sbytes','dbytes','state','stime','ltime','dur']]\n",
    "\n",
    "\"\"\"PREPROCESSING\"\"\"\n",
    "\n",
    "# Preprocess IP and ports features\n",
    "# IP Source Address\n",
    "data_features['srcip'] = data_features['srcip'].apply(lambda x: x.split(\".\")[-1])\n",
    "data_features['srcip'] = data_features['srcip'].apply(lambda x: x.split(\":\")[-1])\n",
    "data_features['srcip'] = data_features['srcip'].apply(lambda x: int(x, 16))\n",
    "\n",
    "# IP Destination Address\n",
    "data_features['dstip'] = data_features['dstip'].apply(lambda x: x.split(\".\")[-1])\n",
    "data_features['dstip'] = data_features['dstip'].apply(lambda x: x.split(\":\")[-1])\n",
    "data_features['dstip'] = data_features['dstip'].apply(lambda x: int(x, 16))\n",
    "\n",
    "# Ports\n",
    "data_features['sport'] = data_features['sport'].apply(lambda x: x.replace('0x','') if \"0x\" in str(x) else x)\n",
    "data_features['dsport'] = data_features['dsport'].apply(lambda x: x.replace('0x','') if \"0x\" in str(x) else x)\n",
    "\n",
    "# Convert all ports with 0 decimal, and HEX to DEC\n",
    "data_features['sport'] = data_features['sport'].apply(lambda x: str(x)[:-2] if str(x)[-2:] == '.0' else str(x))\n",
    "data_features['sport'] = data_features['sport'].apply(lambda x: -1 if str(x).isalpha()==True else int(x,16))\n",
    "\n",
    "data_features['dsport'] = data_features['dsport'].apply(lambda x: str(x)[:-2] if str(x)[-2:] == '.0' else str(x))\n",
    "data_features['dsport'] = data_features['dsport'].apply(lambda x: \"None\" if x==\"-\" else x)\n",
    "data_features['dsport'] = data_features['dsport'].apply(lambda x: -1 if str(x).isalpha()==True else int(x,16))\n",
    "\n",
    "# Convert field to int format\n",
    "data_features['srcip'] = data_features['srcip'].astype(int)\n",
    "data_features['sport'] = data_features['sport'].astype(int)\n",
    "data_features['dstip'] = data_features['dstip'].astype(int)\n",
    "data_features['dsport'] = data_features['dsport'].astype(int)\n",
    "\n",
    "# Convert some fields to logarithmic\n",
    "log1p_col = ['dur', 'sbytes', 'dbytes', 'spkts']\n",
    "\n",
    "for col in log1p_col:\n",
    "    data_features[col] = data_features[col].apply(np.log1p)\n",
    "\n",
    "  \n",
    "# Insert the new column in data labels\n",
    "data_labels = pd.get_dummies(data_labels)\n",
    "\n",
    "# Transform to One hot encoding - FEATURES\n",
    "data_features=pd.get_dummies(data_features)\n",
    "\n",
    "# Normalize all data features\n",
    "data_features = StandardScaler().fit_transform(data_features)\n",
    "\n",
    "#Add dimension to data features\n",
    "data_features = np.expand_dims(data_features, axis=2)\n",
    "\n",
    "x_test2, y_test2 = data_features, data_labels"
   ]
  },
  {
   "cell_type": "code",
   "execution_count": 50,
   "id": "4c19b78f-14ee-45ef-bad0-622f1604fdd5",
   "metadata": {},
   "outputs": [
    {
     "name": "stdout",
     "output_type": "stream",
     "text": [
      "(127810, 24, 1)\n",
      "(127810, 1)\n",
      "label\n",
      "0        75312\n",
      "1        52498\n",
      "Name: count, dtype: int64\n"
     ]
    }
   ],
   "source": [
    "print(x_test2.shape)\n",
    "print(y_test2.shape)\n",
    "print(y_test2.value_counts())"
   ]
  },
  {
   "cell_type": "code",
   "execution_count": 51,
   "id": "cac7f837-7a17-4469-b6c7-58e3194147f0",
   "metadata": {},
   "outputs": [],
   "source": [
    "# Early Stopping\n",
    "\n",
    "filepath = '~/project_dl/finale/tmp/checkpoint.model.keras' # define where the model is saved\n",
    "callbacks = [\n",
    "        keras.callbacks.EarlyStopping(\n",
    "            monitor = 'val_loss', # Use accuracy to monitor the model\n",
    "            patience = 5 # Stop after 3 steps with lower accuracy\n",
    "        ),\n",
    "        keras.callbacks.ModelCheckpoint(\n",
    "            filepath = filepath, # file where the checkpoint is saved\n",
    "            monitor = 'val_loss', # Don't overwrite the saved model unless val_loss is worse\n",
    "            save_best_only = True)]# Only save model if it is the best"
   ]
  },
  {
   "cell_type": "code",
   "execution_count": 52,
   "id": "4e7c7f74-6f20-4fb0-b22a-f30dbbb166ca",
   "metadata": {},
   "outputs": [
    {
     "name": "stdout",
     "output_type": "stream",
     "text": [
      "Physical devices cannot be modified after being initialized\n",
      "INFO:tensorflow:Using MirroredStrategy with devices ('/job:localhost/replica:0/task:0/device:GPU:0',)\n",
      "Number of devices: 1\n",
      "Epoch 1/50\n",
      "174/174 [==============================] - 22s 111ms/step - loss: 0.3053 - accuracy: 0.8956 - val_loss: 0.4781 - val_accuracy: 0.8101\n",
      "Epoch 2/50\n",
      "174/174 [==============================] - 18s 106ms/step - loss: 0.0778 - accuracy: 0.9763 - val_loss: 0.3434 - val_accuracy: 0.8771\n",
      "Epoch 3/50\n",
      "174/174 [==============================] - 18s 104ms/step - loss: 0.0578 - accuracy: 0.9819 - val_loss: 0.2871 - val_accuracy: 0.8983\n",
      "Epoch 4/50\n",
      "174/174 [==============================] - 19s 108ms/step - loss: 0.0505 - accuracy: 0.9841 - val_loss: 0.2789 - val_accuracy: 0.9004\n",
      "Epoch 5/50\n",
      "174/174 [==============================] - 19s 108ms/step - loss: 0.0456 - accuracy: 0.9858 - val_loss: 0.2673 - val_accuracy: 0.9058\n",
      "Epoch 6/50\n",
      "174/174 [==============================] - 18s 103ms/step - loss: 0.0427 - accuracy: 0.9866 - val_loss: 0.2596 - val_accuracy: 0.9060\n",
      "Epoch 7/50\n",
      "174/174 [==============================] - 18s 104ms/step - loss: 0.0404 - accuracy: 0.9874 - val_loss: 0.2361 - val_accuracy: 0.9148\n",
      "Epoch 8/50\n",
      "174/174 [==============================] - 19s 108ms/step - loss: 0.0385 - accuracy: 0.9878 - val_loss: 0.2482 - val_accuracy: 0.9113\n",
      "Epoch 9/50\n",
      "174/174 [==============================] - 18s 105ms/step - loss: 0.0366 - accuracy: 0.9885 - val_loss: 0.2249 - val_accuracy: 0.9218\n",
      "Epoch 10/50\n",
      "174/174 [==============================] - 18s 106ms/step - loss: 0.0352 - accuracy: 0.9889 - val_loss: 0.1992 - val_accuracy: 0.9350\n",
      "Epoch 11/50\n",
      "174/174 [==============================] - 18s 106ms/step - loss: 0.0343 - accuracy: 0.9893 - val_loss: 0.2108 - val_accuracy: 0.9296\n",
      "Epoch 12/50\n",
      "174/174 [==============================] - 18s 103ms/step - loss: 0.0335 - accuracy: 0.9894 - val_loss: 0.2136 - val_accuracy: 0.9303\n",
      "Epoch 13/50\n",
      "174/174 [==============================] - 18s 104ms/step - loss: 0.0327 - accuracy: 0.9898 - val_loss: 0.1935 - val_accuracy: 0.9419\n",
      "Epoch 14/50\n",
      "174/174 [==============================] - 18s 104ms/step - loss: 0.0316 - accuracy: 0.9900 - val_loss: 0.1731 - val_accuracy: 0.9538\n",
      "Epoch 15/50\n",
      "174/174 [==============================] - 18s 105ms/step - loss: 0.0311 - accuracy: 0.9902 - val_loss: 0.1878 - val_accuracy: 0.9456\n",
      "Epoch 16/50\n",
      "174/174 [==============================] - 17s 97ms/step - loss: 0.0304 - accuracy: 0.9903 - val_loss: 0.1735 - val_accuracy: 0.9526\n",
      "Epoch 17/50\n",
      "174/174 [==============================] - 17s 100ms/step - loss: 0.0298 - accuracy: 0.9906 - val_loss: 0.1882 - val_accuracy: 0.9445\n",
      "Epoch 18/50\n",
      "174/174 [==============================] - 17s 99ms/step - loss: 0.0295 - accuracy: 0.9907 - val_loss: 0.1587 - val_accuracy: 0.9586\n",
      "Epoch 19/50\n",
      "174/174 [==============================] - 18s 101ms/step - loss: 0.0293 - accuracy: 0.9907 - val_loss: 0.1563 - val_accuracy: 0.9608\n",
      "Epoch 20/50\n",
      "174/174 [==============================] - 18s 103ms/step - loss: 0.0288 - accuracy: 0.9908 - val_loss: 0.1477 - val_accuracy: 0.9675\n",
      "Epoch 21/50\n",
      "174/174 [==============================] - 17s 99ms/step - loss: 0.0284 - accuracy: 0.9910 - val_loss: 0.1520 - val_accuracy: 0.9657\n",
      "Epoch 22/50\n",
      "174/174 [==============================] - 17s 98ms/step - loss: 0.0284 - accuracy: 0.9910 - val_loss: 0.1508 - val_accuracy: 0.9685\n",
      "Epoch 23/50\n",
      "174/174 [==============================] - 17s 99ms/step - loss: 0.0281 - accuracy: 0.9911 - val_loss: 0.1543 - val_accuracy: 0.9621\n",
      "Epoch 24/50\n",
      "174/174 [==============================] - 17s 97ms/step - loss: 0.0276 - accuracy: 0.9912 - val_loss: 0.1518 - val_accuracy: 0.9668\n",
      "Epoch 25/50\n",
      "174/174 [==============================] - 17s 97ms/step - loss: 0.0275 - accuracy: 0.9912 - val_loss: 0.1494 - val_accuracy: 0.9688\n"
     ]
    }
   ],
   "source": [
    "# Clear session and Memory Growth\n",
    "clear_session()\n",
    "\n",
    "# Create a Strategy.\n",
    "mixed_precision.set_global_policy('mixed_float16')\n",
    "\n",
    "if tf.config.list_physical_devices('GPU'):\n",
    "    strategy = tf.distribute.MirroredStrategy()\n",
    "else:  # Use the Default Strategy\n",
    "    strategy = tf.distribute.get_strategy()\n",
    "\n",
    "print(\"Number of devices: {}\".format(strategy.num_replicas_in_sync))\n",
    "\n",
    "# Open a strategy scope.\n",
    "with strategy.scope():\n",
    "\n",
    "    model1=model_cnn()\n",
    "\n",
    "    #x_train, x_test, y_train, y_test = train_test_split(data_features, data_labels, train_size=0.75, random_state=42,shuffle=True)\n",
    "\n",
    "\n",
    "# Train the model on all available devices. 3e-5\n",
    "history = model1.fit(x_train2, y_train2, validation_data=(x_test2, y_test2), epochs=50, batch_size=2048, callbacks=callbacks)\n",
    "history2 = history"
   ]
  },
  {
   "cell_type": "code",
   "execution_count": 53,
   "id": "46a21b20-e973-4947-8e35-6a06ea89317c",
   "metadata": {},
   "outputs": [
    {
     "name": "stdout",
     "output_type": "stream",
     "text": [
      "3995/3995 [==============================] - 24s 6ms/step - loss: 0.1494 - accuracy: 0.9688\n",
      "test loss, test acc: [0.1494099497795105, 0.9688287377357483]\n"
     ]
    }
   ],
   "source": [
    "#Evaluate the model\n",
    "# 174/174 [==============] - 12s 68ms/step - loss: 0.0234 - accuracy: 0.9919 - val_loss: 0.2111 - val_accuracy: 0.9466, 5e-4, epoch 20\n",
    "# 174/174 [==============] - 12s 67ms/step - loss: 0.0263 - accuracy: 0.9914 - val_loss: 0.2188 - val_accuracy: 0.9380, 1e-4, epoch 22\n",
    "# 174/174 [==============] - 12s 68ms/step - loss: 0.0270 - accuracy: 0.9911 - val_loss: 0.1964 - val_accuracy: 0.9469, 6e-5, epoch 30\n",
    "# 174/174 [==============] - 12s 68ms/step - loss: 0.0306 - accuracy: 0.9901 - val_loss: 0.2595 - val_accuracy: 0.9177, 4e-5, epoch 23\n",
    "# 174/174 [==============] - 12s 66ms/step - loss: 0.0343 - accuracy: 0.9889 - val_loss: 0.2713 - val_accuracy: 0.9055, 2e-5, epoch 30\n",
    "\n",
    "# 348/348 [==============] - 14s 40ms/step - loss: 0.0278 - accuracy: 0.9908 - val_loss: 0.2063 - val_accuracy: 0.9369, 4e-5\n",
    "# 87/87 [================] - 16s 187ms/step - loss: 0.0292 - accuracy: 0.9908 - val_loss: 0.1723 - val_accuracy: 0.9559, 6e-5\n",
    "# 87/87 [================] - 16s 188ms/step - loss: 0.0277 - accuracy: 0.9912 - val_loss: 0.1570 - val_accuracy: 0.9678\n",
    "# 87/87 [================] - 16s 186ms/step - loss: 0.0283 - accuracy: 0.9909 - val_loss: 0.1604 - val_accuracy: 0.9637, 6.5e-5\n",
    "# 87/87 [================] - 16s 188ms/step - loss: 0.0266 - accuracy: 0.9915 - val_loss: 0.1595 - val_accuracy: 0.9667\n",
    "# 87/87 [================] - 16s 190ms/step - loss: 0.0278 - accuracy: 0.9912 - val_loss: 0.1502 - val_accuracy: 0.9669, 7e-5\n",
    "# 87/87 [================] - 16s 184ms/step - loss: 0.0270 - accuracy: 0.9914 - val_loss: 0.1623 - val_accuracy: 0.9654\n",
    "# 87/87 [================] - 16s 186ms/step - loss: 0.0279 - accuracy: 0.9910 - val_loss: 0.1629 - val_accuracy: 0.9679, 7.5e-5\n",
    "# 87/87 [================] - 16s 184ms/step - loss: 0.0276 - accuracy: 0.9911 - val_loss: 0.1593 - val_accuracy: 0.9608, 8e-5\n",
    "\n",
    "# test loss, test acc: [0.15425102412700653, 0.9671387076377869]\n",
    "\n",
    "results2 = model1.evaluate(x_test2, y_test2, verbose=1)\n",
    "print(\"test loss, test acc:\", results2)"
   ]
  },
  {
   "cell_type": "code",
   "execution_count": 54,
   "id": "f5f5327a-8cb1-4ba0-86fc-b308c04b76d4",
   "metadata": {},
   "outputs": [
    {
     "data": {
      "image/png": "[encoded data removed]",
      "text/plain": [
       "<Figure size 640x480 with 1 Axes>"
      ]
     },
     "metadata": {},
     "output_type": "display_data"
    }
   ],
   "source": [
    "# summarize history for loss\n",
    "train_loss = history.history['loss']\n",
    "test_loss = history.history['val_loss']\n",
    "x = list(range(1, len(test_loss) + 1))\n",
    "plt.plot(x, test_loss, color = 'orange', label = 'Test loss')\n",
    "plt.plot(x, train_loss, label = 'Training loss')\n",
    "plt.legend()\n",
    "plt.grid(visible=True)\n",
    "plt.xlabel('Epoch')\n",
    "plt.ylabel('Loss')\n",
    "plt.title('Loss vs. Epoch', weight='bold', fontsize=18)\n",
    "plt.show()"
   ]
  },
  {
   "cell_type": "code",
   "execution_count": 55,
   "id": "cdca6fbe-58fd-4a6a-8476-34fb69695f3b",
   "metadata": {},
   "outputs": [
    {
     "data": {
      "image/png": "[encoded data removed]",
      "text/plain": [
       "<Figure size 640x480 with 1 Axes>"
      ]
     },
     "metadata": {},
     "output_type": "display_data"
    }
   ],
   "source": [
    "# summarize history for accuracy\n",
    "train_acc = history.history['accuracy']\n",
    "test_acc = history.history['val_accuracy']\n",
    "x = list(range(1, len(test_acc) + 1))\n",
    "plt.plot(x, test_acc, color = 'orange', label = 'Test accuracy')\n",
    "plt.plot(x, train_acc, label = 'Training accuracy')\n",
    "plt.legend()\n",
    "plt.grid(visible=True)\n",
    "plt.xlabel('Epoch')\n",
    "plt.ylabel('Accuracy')\n",
    "plt.title('Accuracy vs. Epoch', weight='bold', fontsize=18)\n",
    "plt.show()"
   ]
  },
  {
   "cell_type": "code",
   "execution_count": 56,
   "id": "8ea848ab-91d5-49b2-8841-b4dce09e116e",
   "metadata": {},
   "outputs": [
    {
     "name": "stdout",
     "output_type": "stream",
     "text": [
      "3995/3995 [==============================] - 17s 4ms/step\n"
     ]
    }
   ],
   "source": [
    "# Prediction\n",
    "predicted2 = model1.predict(x_test2)"
   ]
  },
  {
   "cell_type": "code",
   "execution_count": 57,
   "id": "262a91e3-2dc4-4169-9ee7-c2126d0279f9",
   "metadata": {},
   "outputs": [],
   "source": [
    "df2 = pd.DataFrame(y_test2)\n",
    "df2['predicted'] = predicted2"
   ]
  },
  {
   "cell_type": "code",
   "execution_count": 58,
   "id": "4544633f-bf6d-4cef-9ea2-7d23e87c3503",
   "metadata": {},
   "outputs": [],
   "source": [
    "cf2 = confusion_matrix(y_test2, np.round(predicted2))"
   ]
  },
  {
   "cell_type": "code",
   "execution_count": 59,
   "id": "6a9de980-854a-4d6d-b2ad-041a354c9edd",
   "metadata": {},
   "outputs": [
    {
     "data": {
      "image/png": "[encoded data removed]",
      "text/plain": [
       "<Figure size 640x480 with 1 Axes>"
      ]
     },
     "metadata": {},
     "output_type": "display_data"
    }
   ],
   "source": [
    "cmatrix_df2 = pd.DataFrame(cf2, index = ['Attack', 'Normal'], columns = ['Attack', 'Normal'])\n",
    "plt.title('Confusion matrix of the base 5+ test with TL', weight='bold', fontsize=14)\n",
    "plt.tick_params(length=0)\n",
    "plt.xlabel('Attacks')\n",
    "plt.ylabel('Predicted Attacks')\n",
    "sns.heatmap(cmatrix_df2, annot=True, fmt=\"d\", cbar=False, cmap='Blues')\n",
    "plt.show()"
   ]
  },
  {
   "cell_type": "code",
   "execution_count": 60,
   "id": "9033fcf6-f70c-43e6-a7fd-5523ba75d0d9",
   "metadata": {},
   "outputs": [
    {
     "name": "stdout",
     "output_type": "stream",
     "text": [
      "              precision    recall  f1-score   support\n",
      "\n",
      "           0       0.98      0.97      0.97     75312\n",
      "           1       0.95      0.97      0.96     52498\n",
      "\n",
      "    accuracy                           0.97    127810\n",
      "   macro avg       0.97      0.97      0.97    127810\n",
      "weighted avg       0.97      0.97      0.97    127810\n",
      "\n"
     ]
    }
   ],
   "source": [
    "# Precision, Recall & F1 Score\n",
    "class_report2 = classification_report(y_test2, np.round(predicted2))\n",
    "print(class_report2)"
   ]
  },
  {
   "cell_type": "code",
   "execution_count": 61,
   "id": "873f4a2d-9798-481e-a13b-f53c5ba1086c",
   "metadata": {},
   "outputs": [
    {
     "data": {
      "image/png": "[encoded data removed]",
      "text/plain": [
       "<Figure size 640x480 with 1 Axes>"
      ]
     },
     "metadata": {},
     "output_type": "display_data"
    }
   ],
   "source": [
    "# Precision, Recall & F1-Score\n",
    "class_report2 = classification_report(y_test2, np.round(predicted2), target_names = ['Attack', 'Normal'],output_dict=True) \n",
    "plt.tick_params(axis='both', which='major', labelsize=10, labelbottom = False, bottom=False, top = False, labeltop=True)\n",
    "plt.tick_params(length=0)\n",
    "sns.heatmap(pd.DataFrame(class_report2).iloc[:-1, :-3].T, square=True, cbar=False,cmap='Blues', annot=True) \n",
    "plt.show()"
   ]
  },
  {
   "cell_type": "code",
   "execution_count": 62,
   "id": "29cc3f95-cce5-433d-ac47-d359a0435f27",
   "metadata": {},
   "outputs": [],
   "source": [
    "# adding normal column in data label\n",
    "normal=data_labels['label']\n",
    "normal=normal.replace(1,2)\n",
    "normal=normal.replace(0,1)\n",
    "normal=normal.replace(2,0)\n",
    "data_labels.insert(1, 'normal', normal)"
   ]
  },
  {
   "cell_type": "code",
   "execution_count": 63,
   "id": "83a55272-9c65-4e0a-ba0c-86cb56d0de0b",
   "metadata": {},
   "outputs": [
    {
     "data": {
      "text/html": [
       "<div>\n",
       "<style scoped>\n",
       "    .dataframe tbody tr th:only-of-type {\n",
       "        vertical-align: middle;\n",
       "    }\n",
       "\n",
       "    .dataframe tbody tr th {\n",
       "        vertical-align: top;\n",
       "    }\n",
       "\n",
       "    .dataframe thead th {\n",
       "        text-align: right;\n",
       "    }\n",
       "</style>\n",
       "<table border=\"1\" class=\"dataframe\">\n",
       "  <thead>\n",
       "    <tr style=\"text-align: right;\">\n",
       "      <th></th>\n",
       "      <th>pred_attack</th>\n",
       "      <th>pred_normal</th>\n",
       "      <th>attack</th>\n",
       "      <th>category</th>\n",
       "      <th>normal</th>\n",
       "    </tr>\n",
       "  </thead>\n",
       "  <tbody>\n",
       "    <tr>\n",
       "      <th>0</th>\n",
       "      <td>1.0</td>\n",
       "      <td>0.0</td>\n",
       "      <td>1</td>\n",
       "      <td>exploits</td>\n",
       "      <td>0</td>\n",
       "    </tr>\n",
       "    <tr>\n",
       "      <th>1</th>\n",
       "      <td>1.0</td>\n",
       "      <td>0.0</td>\n",
       "      <td>1</td>\n",
       "      <td>exploits</td>\n",
       "      <td>0</td>\n",
       "    </tr>\n",
       "    <tr>\n",
       "      <th>2</th>\n",
       "      <td>1.0</td>\n",
       "      <td>0.0</td>\n",
       "      <td>1</td>\n",
       "      <td>exploits</td>\n",
       "      <td>0</td>\n",
       "    </tr>\n",
       "    <tr>\n",
       "      <th>3</th>\n",
       "      <td>1.0</td>\n",
       "      <td>0.0</td>\n",
       "      <td>1</td>\n",
       "      <td>exploits</td>\n",
       "      <td>0</td>\n",
       "    </tr>\n",
       "    <tr>\n",
       "      <th>4</th>\n",
       "      <td>1.0</td>\n",
       "      <td>0.0</td>\n",
       "      <td>1</td>\n",
       "      <td>exploits</td>\n",
       "      <td>0</td>\n",
       "    </tr>\n",
       "  </tbody>\n",
       "</table>\n",
       "</div>"
      ],
      "text/plain": [
       "   pred_attack  pred_normal  attack  category  normal\n",
       "0          1.0          0.0       1  exploits       0\n",
       "1          1.0          0.0       1  exploits       0\n",
       "2          1.0          0.0       1  exploits       0\n",
       "3          1.0          0.0       1  exploits       0\n",
       "4          1.0          0.0       1  exploits       0"
      ]
     },
     "execution_count": 63,
     "metadata": {},
     "output_type": "execute_result"
    }
   ],
   "source": [
    "df2 = pd.DataFrame(np.round(predicted2))\n",
    "df2.index = data.index\n",
    "df2.columns = ['pred_attack']\n",
    "df2['pred_normal'] = 1- df2['pred_attack']\n",
    "df2['attack']=data['label']\n",
    "df2['category']=data['attack_cat']\n",
    "df2['normal']=data_labels['normal']\n",
    "df2.head()"
   ]
  },
  {
   "cell_type": "code",
   "execution_count": 64,
   "id": "0587dcbf-be72-453c-956d-b16d75637c51",
   "metadata": {},
   "outputs": [
    {
     "data": {
      "text/plain": [
       "category\n",
       "normal       75312\n",
       "exploits     28317\n",
       "fuzzers      21517\n",
       "shellcode     1511\n",
       "analysis       622\n",
       "backdoor       357\n",
       "worms          174\n",
       "Name: count, dtype: int64"
      ]
     },
     "execution_count": 64,
     "metadata": {},
     "output_type": "execute_result"
    }
   ],
   "source": [
    "df2.value_counts('category')"
   ]
  },
  {
   "cell_type": "code",
   "execution_count": 65,
   "id": "6e6ef09a-39d9-4f0b-ab9b-b706bb4963eb",
   "metadata": {},
   "outputs": [],
   "source": [
    "dff2=df2\n",
    "df2=pd.get_dummies(df2)\n",
    "df2=round(df2)"
   ]
  },
  {
   "cell_type": "code",
   "execution_count": 66,
   "id": "7ceee6b2-9422-44f8-9e28-c8032f08a966",
   "metadata": {},
   "outputs": [],
   "source": [
    "normal=df2.loc[df2['category_normal'] == 1]\n",
    "normal=normal[['pred_attack', 'pred_normal', 'attack', 'normal']]\n",
    "normal_pred=normal[['pred_attack','pred_normal']]\n",
    "normal_check=normal[['attack','normal']]\n",
    "\n",
    "exploits=df2.loc[df2['category_exploits'] == 1]\n",
    "exploits=exploits[['pred_attack', 'pred_normal', 'attack', 'normal']]\n",
    "exploits_pred=exploits[['pred_attack','pred_normal']]\n",
    "exploits_check=exploits[['attack','normal']]\n",
    "\n",
    "fuzzers=df2.loc[df2['category_fuzzers'] == 1]\n",
    "fuzzers=fuzzers[['pred_attack', 'pred_normal', 'attack', 'normal']]\n",
    "fuzzers_pred=fuzzers[['pred_attack','pred_normal']]\n",
    "fuzzers_check=fuzzers[['attack','normal']]\n",
    "\n",
    "analysis=df2.loc[df2['category_analysis'] == 1]\n",
    "analysis=analysis[['pred_attack', 'pred_normal', 'attack', 'normal']]\n",
    "analysis_pred=analysis[['pred_attack','pred_normal']]\n",
    "analysis_check=analysis[['attack','normal']]\n",
    "\n",
    "backdoor=df2.loc[df2['category_backdoor'] == 1]\n",
    "backdoor=backdoor[['pred_attack', 'pred_normal', 'attack', 'normal']]\n",
    "backdoor_pred=backdoor[['pred_attack','pred_normal']]\n",
    "backdoor_check=backdoor[['attack','normal']]\n",
    "\n",
    "shellcode=df2.loc[df2['category_shellcode'] == 1]\n",
    "shellcode=shellcode[['pred_attack', 'pred_normal', 'attack', 'normal']]\n",
    "shellcode_pred=shellcode[['pred_attack','pred_normal']]\n",
    "shellcode_check=shellcode[['attack','normal']]\n",
    "\n",
    "worms=df2.loc[df2['category_worms'] == 1]\n",
    "worms=worms[['pred_attack', 'pred_normal', 'attack', 'normal']]\n",
    "worms_pred=worms[['pred_attack','pred_normal']]\n",
    "worms_check=worms[['attack','normal']]"
   ]
  },
  {
   "cell_type": "code",
   "execution_count": 67,
   "id": "c83972f3-a5e0-42bf-8959-62eeb6ffc0a5",
   "metadata": {},
   "outputs": [],
   "source": [
    "#Correctly detected\n",
    "countdata=pd.DataFrame()\n",
    "normal_c = normal['pred_normal'] * normal['normal']\n",
    "exploits_c = exploits['pred_attack'] * exploits['attack']\n",
    "fuzzers_c = fuzzers['pred_attack'] * fuzzers['attack']\n",
    "analysis_c = analysis['pred_attack'] * analysis['attack']\n",
    "backdoor_c = backdoor['pred_attack'] * backdoor['attack']\n",
    "shellcode_c = shellcode['pred_attack'] * shellcode['attack']\n",
    "worms_c = worms['pred_attack'] * worms['attack']"
   ]
  },
  {
   "cell_type": "code",
   "execution_count": 68,
   "id": "df33b365-bce0-4bf8-bcf2-17ed476d330e",
   "metadata": {},
   "outputs": [],
   "source": [
    "# Count 0 and 1\n",
    "normal_c0 = (normal_c == 0).sum()\n",
    "normal_c1 = len(normal) - normal_c0\n",
    "\n",
    "exploits_c0 = (exploits_c == 0).sum()\n",
    "exploits_c1 = len(exploits) - exploits_c0\n",
    "\n",
    "fuzzers_c0 = (fuzzers_c == 0).sum()\n",
    "fuzzers_c1 = len(fuzzers) - fuzzers_c0\n",
    "\n",
    "analysis_c0 = (analysis_c == 0).sum()\n",
    "analysis_c1 = len(analysis) - analysis_c0\n",
    "\n",
    "backdoor_c0 = (backdoor_c == 0).sum()\n",
    "backdoor_c1 = len(backdoor) - backdoor_c0\n",
    "\n",
    "shellcode_c0 = (shellcode_c == 0).sum()\n",
    "shellcode_c1 = len(shellcode) - shellcode_c0\n",
    "\n",
    "worms_c0 = (worms_c == 0).sum()\n",
    "worms_c1 = len(worms) - worms_c0"
   ]
  },
  {
   "cell_type": "code",
   "execution_count": 69,
   "id": "213bfd63-fbe6-4eeb-a0a9-fd9962b15886",
   "metadata": {},
   "outputs": [
    {
     "name": "stdout",
     "output_type": "stream",
     "text": [
      "There are 3.20 % of NO detected and 96.80 % of detected samples\n"
     ]
    }
   ],
   "source": [
    "normal_0, normal_1 = normal_c0*100 / len(normal), normal_c1*100 / len(normal)\n",
    "print(\"There are {:.2f} % of NO detected and {:.2f} % of detected samples\".format(normal_0, normal_1))"
   ]
  },
  {
   "cell_type": "code",
   "execution_count": 70,
   "id": "74f0a251-4122-4696-a88f-1fcca5a0d898",
   "metadata": {},
   "outputs": [
    {
     "name": "stdout",
     "output_type": "stream",
     "text": [
      "There are 0.16 % of NO detected and 99.84 % of detected samples\n"
     ]
    }
   ],
   "source": [
    "analysis_0, analysis_1 = analysis_c0*100 / len(analysis), analysis_c1*100 / len(analysis)\n",
    "print(\"There are {:.2f} % of NO detected and {:.2f} % of detected samples\".format(analysis_0, analysis_1))"
   ]
  },
  {
   "cell_type": "code",
   "execution_count": 71,
   "id": "36af44f7-6326-4c4e-beb4-6f9937e8b5f5",
   "metadata": {},
   "outputs": [
    {
     "name": "stdout",
     "output_type": "stream",
     "text": [
      "There are 1.96 % of NO detected and 98.04 % of detected samples\n"
     ]
    }
   ],
   "source": [
    "backdoor_0, backdoor_1 = backdoor_c0*100 / len(backdoor), backdoor_c1*100 / len(backdoor)\n",
    "print(\"There are {:.2f} % of NO detected and {:.2f} % of detected samples\".format(backdoor_0, backdoor_1))"
   ]
  },
  {
   "cell_type": "code",
   "execution_count": 72,
   "id": "05a44c16-8a45-4210-a209-230c22d1f6b8",
   "metadata": {},
   "outputs": [
    {
     "name": "stdout",
     "output_type": "stream",
     "text": [
      "There are 2.65 % of NO detected and 97.35 % of detected samples\n"
     ]
    }
   ],
   "source": [
    "shellcode_0, shellcode_1 = shellcode_c0*100 / len(shellcode), shellcode_c1*100 / len(shellcode)\n",
    "print(\"There are {:.2f} % of NO detected and {:.2f} % of detected samples\".format(shellcode_0, shellcode_1))"
   ]
  },
  {
   "cell_type": "code",
   "execution_count": 73,
   "id": "8780c243-58fa-4d98-8cb6-ebabbba3320e",
   "metadata": {},
   "outputs": [
    {
     "name": "stdout",
     "output_type": "stream",
     "text": [
      "There are 3.45 % of NO detected and 96.55 % of detected samples\n"
     ]
    }
   ],
   "source": [
    "worms_0, worms_1 = worms_c0*100 / len(worms), worms_c1*100 / len(worms)\n",
    "print(\"There are {:.2f} % of NO detected and {:.2f} % of detected samples\".format(worms_0, worms_1))"
   ]
  },
  {
   "cell_type": "code",
   "execution_count": 74,
   "id": "d7826379-4a14-41b9-b9a4-1242765ce303",
   "metadata": {},
   "outputs": [
    {
     "name": "stdout",
     "output_type": "stream",
     "text": [
      "There are 2.57 % of NO detected and 97.43 % of detected samples\n"
     ]
    }
   ],
   "source": [
    "exploits_0, exploits_1 = exploits_c0*100 / len(exploits), exploits_c1*100 / len(exploits)\n",
    "print(\"There are {:.2f} % of NO detected and {:.2f} % of detected samples\".format(exploits_0, exploits_1))"
   ]
  },
  {
   "cell_type": "code",
   "execution_count": 75,
   "id": "3e7fc3be-5fdf-4fdd-b6b1-bb3caf40a835",
   "metadata": {},
   "outputs": [
    {
     "name": "stdout",
     "output_type": "stream",
     "text": [
      "There are 3.68 % of NO detected and 96.32 % of detected samples\n"
     ]
    }
   ],
   "source": [
    "fuzzers_0, fuzzers_1 = fuzzers_c0*100 / len(fuzzers), fuzzers_c1*100 / len(fuzzers)\n",
    "print(\"There are {:.2f} % of NO detected and {:.2f} % of detected samples\".format(fuzzers_0, fuzzers_1))"
   ]
  },
  {
   "cell_type": "code",
   "execution_count": 76,
   "id": "61858a97-e211-4762-934d-0c0d138d6ffe",
   "metadata": {},
   "outputs": [],
   "source": [
    "summary2 = pd.DataFrame({\"Traffic\":\n",
    "                   [\"Normal\", \"Exploits\",\"Fuzzers\", \"Analysis\", \"Backdoor\", \"Shellcode\", \"Worms\"],\n",
    "                   \"Detected %\": [normal_1, exploits_1, fuzzers_1,analysis_1, backdoor_1, shellcode_1, worms_1],\n",
    "                   \"No Detected %\": [normal_0, exploits_0, fuzzers_0, analysis_0, backdoor_0, shellcode_0, worms_0],\n",
    "                   \"Detected Samples\": [normal_c1, exploits_c1, fuzzers_c1, analysis_c1, backdoor_c1, shellcode_c1, worms_c1],\n",
    "                   \"No Detected Samples\": [normal_c0,  exploits_c0, fuzzers_c0, analysis_c0, backdoor_c0, shellcode_c0, worms_c0]})"
   ]
  },
  {
   "cell_type": "code",
   "execution_count": 77,
   "id": "37f740a9-bbf4-46eb-92f4-a976ffdfb583",
   "metadata": {},
   "outputs": [],
   "source": [
    "dff2['category_pred'] = np.where(((df2['attack'] == 1) & (df2['pred_attack'] == 1)) | ((df2['normal'] == 1) & (df2['pred_normal'] == 1)), 'Detected', 'No Detected')"
   ]
  },
  {
   "cell_type": "code",
   "execution_count": 78,
   "id": "aa65c0df-9083-4b40-9a6d-badab5bac909",
   "metadata": {},
   "outputs": [],
   "source": [
    "data_plot2=dff2[['category', 'category_pred']]"
   ]
  },
  {
   "cell_type": "code",
   "execution_count": 79,
   "id": "de6aa2cf-90a9-4215-b361-c8ab0a1895f9",
   "metadata": {},
   "outputs": [
    {
     "data": {
      "text/html": [
       "<div>\n",
       "<style scoped>\n",
       "    .dataframe tbody tr th:only-of-type {\n",
       "        vertical-align: middle;\n",
       "    }\n",
       "\n",
       "    .dataframe tbody tr th {\n",
       "        vertical-align: top;\n",
       "    }\n",
       "\n",
       "    .dataframe thead th {\n",
       "        text-align: right;\n",
       "    }\n",
       "</style>\n",
       "<table border=\"1\" class=\"dataframe\">\n",
       "  <thead>\n",
       "    <tr style=\"text-align: right;\">\n",
       "      <th></th>\n",
       "      <th>category</th>\n",
       "      <th>category_pred</th>\n",
       "    </tr>\n",
       "  </thead>\n",
       "  <tbody>\n",
       "    <tr>\n",
       "      <th>0</th>\n",
       "      <td>exploits</td>\n",
       "      <td>Detected</td>\n",
       "    </tr>\n",
       "    <tr>\n",
       "      <th>1</th>\n",
       "      <td>exploits</td>\n",
       "      <td>Detected</td>\n",
       "    </tr>\n",
       "    <tr>\n",
       "      <th>2</th>\n",
       "      <td>exploits</td>\n",
       "      <td>Detected</td>\n",
       "    </tr>\n",
       "    <tr>\n",
       "      <th>3</th>\n",
       "      <td>exploits</td>\n",
       "      <td>Detected</td>\n",
       "    </tr>\n",
       "    <tr>\n",
       "      <th>4</th>\n",
       "      <td>exploits</td>\n",
       "      <td>Detected</td>\n",
       "    </tr>\n",
       "    <tr>\n",
       "      <th>...</th>\n",
       "      <td>...</td>\n",
       "      <td>...</td>\n",
       "    </tr>\n",
       "    <tr>\n",
       "      <th>150919</th>\n",
       "      <td>normal</td>\n",
       "      <td>Detected</td>\n",
       "    </tr>\n",
       "    <tr>\n",
       "      <th>150920</th>\n",
       "      <td>normal</td>\n",
       "      <td>Detected</td>\n",
       "    </tr>\n",
       "    <tr>\n",
       "      <th>150921</th>\n",
       "      <td>normal</td>\n",
       "      <td>Detected</td>\n",
       "    </tr>\n",
       "    <tr>\n",
       "      <th>150922</th>\n",
       "      <td>normal</td>\n",
       "      <td>Detected</td>\n",
       "    </tr>\n",
       "    <tr>\n",
       "      <th>150923</th>\n",
       "      <td>normal</td>\n",
       "      <td>Detected</td>\n",
       "    </tr>\n",
       "  </tbody>\n",
       "</table>\n",
       "<p>127810 rows × 2 columns</p>\n",
       "</div>"
      ],
      "text/plain": [
       "        category category_pred\n",
       "0       exploits      Detected\n",
       "1       exploits      Detected\n",
       "2       exploits      Detected\n",
       "3       exploits      Detected\n",
       "4       exploits      Detected\n",
       "...          ...           ...\n",
       "150919    normal      Detected\n",
       "150920    normal      Detected\n",
       "150921    normal      Detected\n",
       "150922    normal      Detected\n",
       "150923    normal      Detected\n",
       "\n",
       "[127810 rows x 2 columns]"
      ]
     },
     "execution_count": 79,
     "metadata": {},
     "output_type": "execute_result"
    }
   ],
   "source": [
    "data_plot2"
   ]
  },
  {
   "cell_type": "code",
   "execution_count": 80,
   "id": "26f4060b-a9f0-4566-a9a1-918a03f947c5",
   "metadata": {},
   "outputs": [
    {
     "data": {
      "image/png": "[encoded data removed]",
      "text/plain": [
       "<Figure size 1500x500 with 1 Axes>"
      ]
     },
     "metadata": {},
     "output_type": "display_data"
    }
   ],
   "source": [
    "# Plotting target label distribution\n",
    "plt.figure(figsize=(15,5))\n",
    "sns.set_theme(style=\"darkgrid\")\n",
    "sns.countplot(x=data_plot2['category'], data=data_plot2,palette='CMRmap', hue=data_plot2['category_pred'])\n",
    "plt.title('Deteksi Serangan pada First Test dengan TL', weight='bold', fontsize='18')\n",
    "plt.xticks(weight='bold', fontsize=12)\n",
    "plt.show()"
   ]
  },
  {
   "cell_type": "code",
   "execution_count": 81,
   "id": "17181159-bda0-42e8-8c76-15e8a5652675",
   "metadata": {},
   "outputs": [
    {
     "data": {
      "text/html": [
       "<div>\n",
       "<style scoped>\n",
       "    .dataframe tbody tr th:only-of-type {\n",
       "        vertical-align: middle;\n",
       "    }\n",
       "\n",
       "    .dataframe tbody tr th {\n",
       "        vertical-align: top;\n",
       "    }\n",
       "\n",
       "    .dataframe thead th {\n",
       "        text-align: right;\n",
       "    }\n",
       "</style>\n",
       "<table border=\"1\" class=\"dataframe\">\n",
       "  <thead>\n",
       "    <tr style=\"text-align: right;\">\n",
       "      <th></th>\n",
       "      <th>Traffic</th>\n",
       "      <th>Detected %</th>\n",
       "      <th>No Detected %</th>\n",
       "      <th>Detected Samples</th>\n",
       "      <th>No Detected Samples</th>\n",
       "    </tr>\n",
       "  </thead>\n",
       "  <tbody>\n",
       "    <tr>\n",
       "      <th>0</th>\n",
       "      <td>Normal</td>\n",
       "      <td>96.801307</td>\n",
       "      <td>3.198693</td>\n",
       "      <td>72903</td>\n",
       "      <td>2409</td>\n",
       "    </tr>\n",
       "    <tr>\n",
       "      <th>1</th>\n",
       "      <td>Exploits</td>\n",
       "      <td>97.425575</td>\n",
       "      <td>2.574425</td>\n",
       "      <td>27588</td>\n",
       "      <td>729</td>\n",
       "    </tr>\n",
       "    <tr>\n",
       "      <th>2</th>\n",
       "      <td>Fuzzers</td>\n",
       "      <td>96.319189</td>\n",
       "      <td>3.680811</td>\n",
       "      <td>20725</td>\n",
       "      <td>792</td>\n",
       "    </tr>\n",
       "    <tr>\n",
       "      <th>3</th>\n",
       "      <td>Analysis</td>\n",
       "      <td>99.839228</td>\n",
       "      <td>0.160772</td>\n",
       "      <td>621</td>\n",
       "      <td>1</td>\n",
       "    </tr>\n",
       "    <tr>\n",
       "      <th>4</th>\n",
       "      <td>Backdoor</td>\n",
       "      <td>98.039216</td>\n",
       "      <td>1.960784</td>\n",
       "      <td>350</td>\n",
       "      <td>7</td>\n",
       "    </tr>\n",
       "    <tr>\n",
       "      <th>5</th>\n",
       "      <td>Shellcode</td>\n",
       "      <td>97.352747</td>\n",
       "      <td>2.647253</td>\n",
       "      <td>1471</td>\n",
       "      <td>40</td>\n",
       "    </tr>\n",
       "    <tr>\n",
       "      <th>6</th>\n",
       "      <td>Worms</td>\n",
       "      <td>96.551724</td>\n",
       "      <td>3.448276</td>\n",
       "      <td>168</td>\n",
       "      <td>6</td>\n",
       "    </tr>\n",
       "  </tbody>\n",
       "</table>\n",
       "</div>"
      ],
      "text/plain": [
       "     Traffic  Detected %  No Detected %  Detected Samples  No Detected Samples\n",
       "0     Normal   96.801307       3.198693             72903                 2409\n",
       "1   Exploits   97.425575       2.574425             27588                  729\n",
       "2    Fuzzers   96.319189       3.680811             20725                  792\n",
       "3   Analysis   99.839228       0.160772               621                    1\n",
       "4   Backdoor   98.039216       1.960784               350                    7\n",
       "5  Shellcode   97.352747       2.647253              1471                   40\n",
       "6      Worms   96.551724       3.448276               168                    6"
      ]
     },
     "execution_count": 81,
     "metadata": {},
     "output_type": "execute_result"
    }
   ],
   "source": [
    "summary2"
   ]
  },
  {
   "cell_type": "code",
   "execution_count": 82,
   "id": "1f9fb7b9-c282-4e36-876d-f24d700ee235",
   "metadata": {},
   "outputs": [],
   "source": [
    "summary2.to_csv('~/04_Semester_4/revisi/csv_files/summary_base5+_test_tl.csv', index=False)"
   ]
  },
  {
   "cell_type": "code",
   "execution_count": 83,
   "id": "00f8106c-69d4-4c0a-88a2-875c59f3cf3c",
   "metadata": {},
   "outputs": [],
   "source": [
    "model1.save('model/base5_test_plus_tl.keras')"
   ]
  },
  {
   "cell_type": "code",
   "execution_count": 84,
   "id": "7b4b7af4-e965-4184-a9cb-4210274adc52",
   "metadata": {},
   "outputs": [],
   "source": [
    "#model.save('/home/riki/project_dl/finale/model/base5+_cnn1d_tl.h5')"
   ]
  },
  {
   "cell_type": "markdown",
   "id": "4ad2e311-f327-43c5-a567-6394cb18ac2f",
   "metadata": {},
   "source": [
    "### C. Base5 Train & Full Test"
   ]
  },
  {
   "cell_type": "code",
   "execution_count": 85,
   "id": "16665b33-6df1-45d8-99c1-76947f41e3bf",
   "metadata": {},
   "outputs": [],
   "source": [
    "x_train3, y_train3 = x_train2, y_train2"
   ]
  },
  {
   "cell_type": "code",
   "execution_count": 86,
   "id": "7141dce8-f1f4-4974-88bc-3a80c77cc789",
   "metadata": {},
   "outputs": [],
   "source": [
    "data = pd.read_csv('~/04_Semester_4/revisi/csv_files/UNSW_NB15_full_test.csv', low_memory=False)"
   ]
  },
  {
   "cell_type": "code",
   "execution_count": 87,
   "id": "940328ae-e8c2-4e5e-96cb-a6c409a63ffa",
   "metadata": {},
   "outputs": [],
   "source": [
    "# Select the 'proto' and 'state' values that I want\n",
    "data = data.loc[(data['proto'] == 'tcp') | (data['proto'] =='udp') | (data['proto'] =='icmp') | (data['proto'] =='arp') | (data['proto'] =='ipv6-icmp') | (data['proto'] =='igmp') | (data['proto'] =='rarp'), :]\n",
    "data = data.loc[(data['state'] == 'RST') | (data['state'] =='REQ') | (data['state'] =='INT') | (data['state'] =='FIN') | (data['state'] =='CON') | (data['state'] =='ECO') | (data['state'] =='ACC') | (data['state'] =='PAR'), :]\n",
    "\n",
    "# Extracting dataset labels\n",
    "data_labels=data[['label']]\n",
    "\n",
    "# Drop the invalid features and select interested data features\n",
    "data_features=data[['proto','srcip','sport','dstip','dsport','spkts','dpkts','sbytes','dbytes','state','stime','ltime','dur']]\n",
    "\n",
    "\"\"\"PREPROCESSING\"\"\"\n",
    "\n",
    "# Preprocess IP and ports features\n",
    "# IP Source Address\n",
    "data_features['srcip'] = data_features['srcip'].apply(lambda x: x.split(\".\")[-1])\n",
    "data_features['srcip'] = data_features['srcip'].apply(lambda x: x.split(\":\")[-1])\n",
    "data_features['srcip'] = data_features['srcip'].apply(lambda x: int(x, 16))\n",
    "\n",
    "# IP Destination Address\n",
    "data_features['dstip'] = data_features['dstip'].apply(lambda x: x.split(\".\")[-1])\n",
    "data_features['dstip'] = data_features['dstip'].apply(lambda x: x.split(\":\")[-1])\n",
    "data_features['dstip'] = data_features['dstip'].apply(lambda x: int(x, 16))\n",
    "\n",
    "# Ports\n",
    "data_features['sport'] = data_features['sport'].apply(lambda x: x.replace('0x','') if \"0x\" in str(x) else x)\n",
    "data_features['dsport'] = data_features['dsport'].apply(lambda x: x.replace('0x','') if \"0x\" in str(x) else x)\n",
    "\n",
    "# Convert all ports with 0 decimal, and HEX to DEC\n",
    "data_features['sport'] = data_features['sport'].apply(lambda x: str(x)[:-2] if str(x)[-2:] == '.0' else str(x))\n",
    "data_features['sport'] = data_features['sport'].apply(lambda x: -1 if str(x).isalpha()==True else int(x,16))\n",
    "\n",
    "data_features['dsport'] = data_features['dsport'].apply(lambda x: str(x)[:-2] if str(x)[-2:] == '.0' else str(x))\n",
    "data_features['dsport'] = data_features['dsport'].apply(lambda x: \"None\" if x==\"-\" else x)\n",
    "data_features['dsport'] = data_features['dsport'].apply(lambda x: -1 if str(x).isalpha()==True else int(x,16))\n",
    "\n",
    "# Convert field to int format\n",
    "data_features['srcip'] = data_features['srcip'].astype(int)\n",
    "data_features['sport'] = data_features['sport'].astype(int)\n",
    "data_features['dstip'] = data_features['dstip'].astype(int)\n",
    "data_features['dsport'] = data_features['dsport'].astype(int)\n",
    "\n",
    "# Convert some fields to logarithmic\n",
    "log1p_col = ['dur', 'sbytes', 'dbytes', 'spkts']\n",
    "\n",
    "for col in log1p_col:\n",
    "    data_features[col] = data_features[col].apply(np.log1p)\n",
    "    \n",
    "# Insert the new column in data labels\n",
    "data_labels = pd.get_dummies(data_labels)\n",
    "\n",
    "# Transform to One hot encoding - FEATURES\n",
    "data_features=pd.get_dummies(data_features)\n",
    "\n",
    "# Normalize all data features\n",
    "data_features = StandardScaler().fit_transform(data_features)\n",
    "\n",
    "#Add dimension to data features\n",
    "data_features = np.expand_dims(data_features, axis=2)\n",
    "\n",
    "x_test3, y_test3=data_features, data_labels"
   ]
  },
  {
   "cell_type": "code",
   "execution_count": 88,
   "id": "c23131cf-5a63-409e-974e-49ad033886e6",
   "metadata": {},
   "outputs": [
    {
     "name": "stdout",
     "output_type": "stream",
     "text": [
      "(602526, 24, 1)\n",
      "(602526, 1)\n",
      "label\n",
      "0        320593\n",
      "1        281933\n",
      "Name: count, dtype: int64\n"
     ]
    }
   ],
   "source": [
    "print(x_test3.shape)\n",
    "print(y_test3.shape)\n",
    "print(y_test3.value_counts())"
   ]
  },
  {
   "cell_type": "code",
   "execution_count": 90,
   "id": "4b04103d-c8ce-4791-9b53-a88067f01c0b",
   "metadata": {},
   "outputs": [
    {
     "name": "stdout",
     "output_type": "stream",
     "text": [
      "Physical devices cannot be modified after being initialized\n",
      "INFO:tensorflow:Using MirroredStrategy with devices ('/job:localhost/replica:0/task:0/device:GPU:0',)\n",
      "Number of devices: 1\n",
      "Epoch 1/50\n",
      "174/174 [==============================] - 35s 186ms/step - loss: 0.2972 - accuracy: 0.9025 - val_loss: 0.1885 - val_accuracy: 0.9321\n",
      "Epoch 2/50\n",
      "174/174 [==============================] - 32s 185ms/step - loss: 0.0779 - accuracy: 0.9763 - val_loss: 0.1237 - val_accuracy: 0.9571\n",
      "Epoch 3/50\n",
      "174/174 [==============================] - 32s 184ms/step - loss: 0.0580 - accuracy: 0.9816 - val_loss: 0.0950 - val_accuracy: 0.9698\n",
      "Epoch 4/50\n",
      "174/174 [==============================] - 31s 181ms/step - loss: 0.0508 - accuracy: 0.9839 - val_loss: 0.0882 - val_accuracy: 0.9731\n",
      "Epoch 5/50\n",
      "174/174 [==============================] - 32s 183ms/step - loss: 0.0460 - accuracy: 0.9855 - val_loss: 0.0777 - val_accuracy: 0.9773\n",
      "Epoch 6/50\n",
      "174/174 [==============================] - 32s 182ms/step - loss: 0.0427 - accuracy: 0.9865 - val_loss: 0.0727 - val_accuracy: 0.9791\n",
      "Epoch 7/50\n",
      "174/174 [==============================] - 32s 182ms/step - loss: 0.0406 - accuracy: 0.9873 - val_loss: 0.0698 - val_accuracy: 0.9800\n",
      "Epoch 8/50\n",
      "174/174 [==============================] - 31s 181ms/step - loss: 0.0385 - accuracy: 0.9879 - val_loss: 0.0654 - val_accuracy: 0.9818\n",
      "Epoch 9/50\n",
      "174/174 [==============================] - 32s 183ms/step - loss: 0.0367 - accuracy: 0.9885 - val_loss: 0.0641 - val_accuracy: 0.9826\n",
      "Epoch 10/50\n",
      "174/174 [==============================] - 31s 181ms/step - loss: 0.0354 - accuracy: 0.9889 - val_loss: 0.0589 - val_accuracy: 0.9844\n",
      "Epoch 11/50\n",
      "174/174 [==============================] - 31s 180ms/step - loss: 0.0342 - accuracy: 0.9893 - val_loss: 0.0596 - val_accuracy: 0.9843\n",
      "Epoch 12/50\n",
      "174/174 [==============================] - 31s 181ms/step - loss: 0.0335 - accuracy: 0.9895 - val_loss: 0.0607 - val_accuracy: 0.9848\n",
      "Epoch 13/50\n",
      "174/174 [==============================] - 32s 182ms/step - loss: 0.0323 - accuracy: 0.9898 - val_loss: 0.0571 - val_accuracy: 0.9859\n",
      "Epoch 14/50\n",
      "174/174 [==============================] - 31s 180ms/step - loss: 0.0316 - accuracy: 0.9900 - val_loss: 0.0554 - val_accuracy: 0.9867\n",
      "Epoch 15/50\n",
      "174/174 [==============================] - 31s 180ms/step - loss: 0.0312 - accuracy: 0.9901 - val_loss: 0.0568 - val_accuracy: 0.9866\n",
      "Epoch 16/50\n",
      "174/174 [==============================] - 31s 181ms/step - loss: 0.0309 - accuracy: 0.9903 - val_loss: 0.0549 - val_accuracy: 0.9866\n",
      "Epoch 17/50\n",
      "174/174 [==============================] - 31s 180ms/step - loss: 0.0301 - accuracy: 0.9905 - val_loss: 0.0520 - val_accuracy: 0.9873\n",
      "Epoch 18/50\n",
      "174/174 [==============================] - 31s 179ms/step - loss: 0.0299 - accuracy: 0.9906 - val_loss: 0.0535 - val_accuracy: 0.9872\n",
      "Epoch 19/50\n",
      "174/174 [==============================] - 31s 180ms/step - loss: 0.0297 - accuracy: 0.9905 - val_loss: 0.0507 - val_accuracy: 0.9878\n",
      "Epoch 20/50\n",
      "174/174 [==============================] - 31s 179ms/step - loss: 0.0291 - accuracy: 0.9909 - val_loss: 0.0523 - val_accuracy: 0.9876\n",
      "Epoch 21/50\n",
      "174/174 [==============================] - 32s 183ms/step - loss: 0.0286 - accuracy: 0.9909 - val_loss: 0.0505 - val_accuracy: 0.9879\n",
      "Epoch 22/50\n",
      "174/174 [==============================] - 31s 179ms/step - loss: 0.0282 - accuracy: 0.9911 - val_loss: 0.0533 - val_accuracy: 0.9871\n",
      "Epoch 23/50\n",
      "174/174 [==============================] - 31s 180ms/step - loss: 0.0281 - accuracy: 0.9911 - val_loss: 0.0512 - val_accuracy: 0.9875\n",
      "Epoch 24/50\n",
      "174/174 [==============================] - 31s 180ms/step - loss: 0.0279 - accuracy: 0.9911 - val_loss: 0.0521 - val_accuracy: 0.9871\n",
      "Epoch 25/50\n",
      "174/174 [==============================] - 31s 180ms/step - loss: 0.0273 - accuracy: 0.9913 - val_loss: 0.0503 - val_accuracy: 0.9877\n",
      "Epoch 26/50\n",
      "174/174 [==============================] - 31s 180ms/step - loss: 0.0272 - accuracy: 0.9912 - val_loss: 0.0497 - val_accuracy: 0.9876\n",
      "Epoch 27/50\n",
      "174/174 [==============================] - 31s 179ms/step - loss: 0.0271 - accuracy: 0.9913 - val_loss: 0.0500 - val_accuracy: 0.9877\n",
      "Epoch 28/50\n",
      "174/174 [==============================] - 31s 179ms/step - loss: 0.0270 - accuracy: 0.9913 - val_loss: 0.0514 - val_accuracy: 0.9876\n",
      "Epoch 29/50\n",
      "174/174 [==============================] - 31s 180ms/step - loss: 0.0268 - accuracy: 0.9913 - val_loss: 0.0470 - val_accuracy: 0.9886\n",
      "Epoch 30/50\n",
      "174/174 [==============================] - 31s 179ms/step - loss: 0.0262 - accuracy: 0.9916 - val_loss: 0.0472 - val_accuracy: 0.9883\n",
      "Epoch 31/50\n",
      "174/174 [==============================] - 31s 178ms/step - loss: 0.0264 - accuracy: 0.9915 - val_loss: 0.0491 - val_accuracy: 0.9877\n",
      "Epoch 32/50\n",
      "174/174 [==============================] - 31s 178ms/step - loss: 0.0260 - accuracy: 0.9914 - val_loss: 0.0497 - val_accuracy: 0.9873\n",
      "Epoch 33/50\n",
      "174/174 [==============================] - 31s 180ms/step - loss: 0.0260 - accuracy: 0.9915 - val_loss: 0.0474 - val_accuracy: 0.9882\n",
      "Epoch 34/50\n",
      "174/174 [==============================] - 31s 179ms/step - loss: 0.0259 - accuracy: 0.9916 - val_loss: 0.0474 - val_accuracy: 0.9885\n"
     ]
    }
   ],
   "source": [
    "# Clear session and Memory Growth\n",
    "clear_session()\n",
    "\n",
    "# Create a Strategy.\n",
    "mixed_precision.set_global_policy('mixed_float16')\n",
    "\n",
    "if tf.config.list_physical_devices('GPU'):\n",
    "    strategy = tf.distribute.MirroredStrategy()\n",
    "else:  # Use the Default Strategy\n",
    "    strategy = tf.distribute.get_strategy()\n",
    "\n",
    "print(\"Number of devices: {}\".format(strategy.num_replicas_in_sync))\n",
    "\n",
    "# Open a strategy scope.\n",
    "with strategy.scope():\n",
    "\n",
    "    model=model_cnn()\n",
    "\n",
    "    #x_train, x_test, y_train, y_test = train_test_split(data_features, data_labels, train_size=0.75, random_state=42,shuffle=True)\n",
    "\n",
    "\n",
    "# Train the model on all available devices.\n",
    "history = model.fit(x_train3, y_train3, validation_data=(x_test3, y_test3), epochs=50, batch_size=2048, callbacks=callbacks)\n",
    "history3 = history"
   ]
  },
  {
   "cell_type": "code",
   "execution_count": 91,
   "id": "20a89c33-93c3-4c51-9c3b-a471c0d33fc1",
   "metadata": {},
   "outputs": [
    {
     "name": "stdout",
     "output_type": "stream",
     "text": [
      "18829/18829 [==============================] - 105s 6ms/step - loss: 0.0474 - accuracy: 0.9885\n",
      "test loss, test acc: [0.047409288585186005, 0.9885216355323792]\n"
     ]
    }
   ],
   "source": [
    "#Evaluate the model\n",
    "# 174/174 [=========] - 20s 116ms/step - loss: 0.0272 - accuracy: 0.9911 - val_loss: 0.0536 - val_accuracy: 0.9886. 6e-5\n",
    "# 174/174 [=========] - 20s 114ms/step - loss: 0.0341 - accuracy: 0.9888 - val_loss: 0.0624 - val_accuracy: 0.9823. 2e-5\n",
    "# 87/87 [===========] 18s 213ms/step - loss: 0.0295 - accuracy: 0.9904 - val_loss: 0.0564 - val_accuracy: 0.9862, 6e-5\n",
    "results4 = model.evaluate(x_test3, y_test3, verbose=1)\n",
    "#test loss, test acc: [0.07396313548088074, 0.9728277325630188]\n",
    "\n",
    "print(\"test loss, test acc:\", results4)"
   ]
  },
  {
   "cell_type": "code",
   "execution_count": 89,
   "id": "cce2b2bc-de32-4876-ad6c-631117026807",
   "metadata": {},
   "outputs": [
    {
     "name": "stdout",
     "output_type": "stream",
     "text": [
      "18829/18829 [==============================] - 113s 6ms/step - loss: 0.0508 - accuracy: 0.9877\n"
     ]
    }
   ],
   "source": [
    "results3 = model1.evaluate(x_test3, y_test3, verbose=1)\n",
    "#test loss, test acc: [0.07396313548088074, 0.9728277325630188]\n",
    "# 18829/18829 [==============================] - 114s 6ms/step - loss: 0.0509 - accuracy: 0.9882, 6e-5\n",
    "# 18829/18829 [==============================] - 105s 6ms/step - loss: 0.0532 - accuracy: 0.9872\n"
   ]
  },
  {
   "cell_type": "code",
   "execution_count": 92,
   "id": "d271cb3d-6b5d-45f9-96b1-c90cd747d107",
   "metadata": {},
   "outputs": [
    {
     "data": {
      "image/png": "[encoded data removed]",
      "text/plain": [
       "<Figure size 640x480 with 1 Axes>"
      ]
     },
     "metadata": {},
     "output_type": "display_data"
    }
   ],
   "source": [
    "# summarize history for loss\n",
    "train_loss = history.history['loss']\n",
    "test_loss = history.history['val_loss']\n",
    "x = list(range(1, len(test_loss) + 1))\n",
    "plt.plot(x, test_loss, color = 'orange', label = 'Test loss')\n",
    "plt.plot(x, train_loss, label = 'Training loss')\n",
    "plt.legend()\n",
    "plt.grid(visible=True)\n",
    "plt.xlabel('Epoch')\n",
    "plt.ylabel('Loss')\n",
    "plt.title('Loss vs. Epoch', weight='bold', fontsize=18)\n",
    "plt.show()"
   ]
  },
  {
   "cell_type": "code",
   "execution_count": 93,
   "id": "29d50c01-d77a-490a-9841-ba01a68fb816",
   "metadata": {},
   "outputs": [
    {
     "data": {
      "image/png": "[encoded data removed]",
      "text/plain": [
       "<Figure size 640x480 with 1 Axes>"
      ]
     },
     "metadata": {},
     "output_type": "display_data"
    }
   ],
   "source": [
    "# summarize history for accuracy\n",
    "train_acc = history.history['accuracy']\n",
    "test_acc = history.history['val_accuracy']\n",
    "x = list(range(1, len(test_acc) + 1))\n",
    "plt.plot(x, test_acc, color = 'orange', label = 'Test accuracy')\n",
    "plt.plot(x, train_acc, label = 'Training accuracy')\n",
    "plt.legend()\n",
    "plt.grid(visible=True)\n",
    "plt.xlabel('Epoch')\n",
    "plt.ylabel('Accuracy')\n",
    "plt.title('Accuracy vs. Epoch', weight='bold', fontsize=18)\n",
    "plt.show()"
   ]
  },
  {
   "cell_type": "markdown",
   "id": "b5ebebdc-99dd-4cea-8870-a5411d43339e",
   "metadata": {},
   "source": [
    "model =  load_model('model/base5_test_plus_tl.keras')"
   ]
  },
  {
   "cell_type": "code",
   "execution_count": 94,
   "id": "a0ab163d-a74f-4ea3-a906-0a8cf1381665",
   "metadata": {},
   "outputs": [
    {
     "name": "stdout",
     "output_type": "stream",
     "text": [
      "18829/18829 [==============================] - 80s 4ms/step\n"
     ]
    }
   ],
   "source": [
    "# Prediction\n",
    "predicted3 = model.predict(x_test3)"
   ]
  },
  {
   "cell_type": "code",
   "execution_count": 95,
   "id": "252f23a6-674c-484c-9e3d-96d6a97409f9",
   "metadata": {},
   "outputs": [],
   "source": [
    "df3 = pd.DataFrame(y_test3)\n",
    "df3['predicted'] = predicted3"
   ]
  },
  {
   "cell_type": "code",
   "execution_count": 96,
   "id": "4374b182-6e61-4235-8fc6-fd630431e63f",
   "metadata": {},
   "outputs": [],
   "source": [
    "cf3 = confusion_matrix(y_test3, np.round(predicted3))"
   ]
  },
  {
   "cell_type": "code",
   "execution_count": 97,
   "id": "0db8e6f0-db16-435d-8dcf-f37581c6ee5c",
   "metadata": {},
   "outputs": [
    {
     "data": {
      "image/png": "[encoded data removed]",
      "text/plain": [
       "<Figure size 640x480 with 1 Axes>"
      ]
     },
     "metadata": {},
     "output_type": "display_data"
    }
   ],
   "source": [
    "cmatrix_df3 = pd.DataFrame(cf3, index = ['Attack', 'Normal'], columns = ['Attack', 'Normal'])\n",
    "plt.title('Confusion matrix dari Full test', weight='bold', fontsize=14)\n",
    "plt.tick_params(length=0)\n",
    "plt.xlabel('Attacks')\n",
    "plt.ylabel('Predicted Attacks')\n",
    "sns.heatmap(cmatrix_df3, annot=True, fmt=\"d\", cbar=False, cmap='Blues')\n",
    "plt.show()"
   ]
  },
  {
   "cell_type": "code",
   "execution_count": 98,
   "id": "44cffde7-ad22-4e01-82a8-c0b07e9c572e",
   "metadata": {},
   "outputs": [
    {
     "name": "stdout",
     "output_type": "stream",
     "text": [
      "              precision    recall  f1-score   support\n",
      "\n",
      "           0       0.99      0.99      0.99    320593\n",
      "           1       0.98      0.99      0.99    281933\n",
      "\n",
      "    accuracy                           0.99    602526\n",
      "   macro avg       0.99      0.99      0.99    602526\n",
      "weighted avg       0.99      0.99      0.99    602526\n",
      "\n"
     ]
    }
   ],
   "source": [
    "# Precision, Recall & F1 Score\n",
    "class_report3 = classification_report(y_test3, np.round(predicted3))\n",
    "print(class_report3)"
   ]
  },
  {
   "cell_type": "code",
   "execution_count": 99,
   "id": "b52fd4fb-adbb-4c3b-abc0-85afcd1e0d04",
   "metadata": {},
   "outputs": [
    {
     "data": {
      "image/png": "[encoded data removed]",
      "text/plain": [
       "<Figure size 640x480 with 1 Axes>"
      ]
     },
     "metadata": {},
     "output_type": "display_data"
    }
   ],
   "source": [
    "# Precision, Recall & F1-Score\n",
    "class_report3 = classification_report(y_test3, np.round(predicted3), target_names = ['Attack', 'Normal'],output_dict=True) \n",
    "plt.tick_params(axis='both', which='major', labelsize=10, labelbottom = False, bottom=False, top = False, labeltop=True)\n",
    "plt.tick_params(length=0)\n",
    "sns.heatmap(pd.DataFrame(class_report3).iloc[:-1, :-3].T, square=True, cbar=False,cmap='Blues', annot=True) \n",
    "plt.show()"
   ]
  },
  {
   "cell_type": "code",
   "execution_count": 100,
   "id": "68775fb1-3133-427b-be8f-131ed03de45d",
   "metadata": {},
   "outputs": [
    {
     "data": {
      "text/plain": [
       "{'Attack': {'precision': 0.992581681590196,\n",
       "  'recall': 0.9857950735044121,\n",
       "  'f1-score': 0.9891767371837608,\n",
       "  'support': 320593.0},\n",
       " 'Normal': {'precision': 0.9839718433787945,\n",
       "  'recall': 0.9916221229866671,\n",
       "  'f1-score': 0.9877821707316211,\n",
       "  'support': 281933.0},\n",
       " 'accuracy': 0.9885216571567036,\n",
       " 'macro avg': {'precision': 0.9882767624844953,\n",
       "  'recall': 0.9887085982455396,\n",
       "  'f1-score': 0.9884794539576909,\n",
       "  'support': 602526.0},\n",
       " 'weighted avg': {'precision': 0.9885529798968996,\n",
       "  'recall': 0.9885216571567036,\n",
       "  'f1-score': 0.9885241938851295,\n",
       "  'support': 602526.0}}"
      ]
     },
     "execution_count": 100,
     "metadata": {},
     "output_type": "execute_result"
    }
   ],
   "source": [
    "class_report3"
   ]
  },
  {
   "cell_type": "code",
   "execution_count": 101,
   "id": "b2955ded-aaa1-4185-8f5c-08309355eea3",
   "metadata": {},
   "outputs": [],
   "source": [
    "# adding normal column in data label\n",
    "normal=data_labels['label']\n",
    "normal=normal.replace(1,2)\n",
    "normal=normal.replace(0,1)\n",
    "normal=normal.replace(2,0)\n",
    "data_labels.insert(1, 'normal', normal)"
   ]
  },
  {
   "cell_type": "code",
   "execution_count": 102,
   "id": "93f3a28d-e24b-4b2b-b0df-8d1d010bae4e",
   "metadata": {},
   "outputs": [
    {
     "data": {
      "text/html": [
       "<div>\n",
       "<style scoped>\n",
       "    .dataframe tbody tr th:only-of-type {\n",
       "        vertical-align: middle;\n",
       "    }\n",
       "\n",
       "    .dataframe tbody tr th {\n",
       "        vertical-align: top;\n",
       "    }\n",
       "\n",
       "    .dataframe thead th {\n",
       "        text-align: right;\n",
       "    }\n",
       "</style>\n",
       "<table border=\"1\" class=\"dataframe\">\n",
       "  <thead>\n",
       "    <tr style=\"text-align: right;\">\n",
       "      <th></th>\n",
       "      <th>pred_attack</th>\n",
       "      <th>pred_normal</th>\n",
       "      <th>attack</th>\n",
       "      <th>category</th>\n",
       "      <th>normal</th>\n",
       "    </tr>\n",
       "  </thead>\n",
       "  <tbody>\n",
       "    <tr>\n",
       "      <th>0</th>\n",
       "      <td>1.0</td>\n",
       "      <td>0.0</td>\n",
       "      <td>1</td>\n",
       "      <td>exploits</td>\n",
       "      <td>0</td>\n",
       "    </tr>\n",
       "    <tr>\n",
       "      <th>1</th>\n",
       "      <td>1.0</td>\n",
       "      <td>0.0</td>\n",
       "      <td>1</td>\n",
       "      <td>exploits</td>\n",
       "      <td>0</td>\n",
       "    </tr>\n",
       "    <tr>\n",
       "      <th>2</th>\n",
       "      <td>1.0</td>\n",
       "      <td>0.0</td>\n",
       "      <td>1</td>\n",
       "      <td>reconnaissance</td>\n",
       "      <td>0</td>\n",
       "    </tr>\n",
       "    <tr>\n",
       "      <th>3</th>\n",
       "      <td>1.0</td>\n",
       "      <td>0.0</td>\n",
       "      <td>1</td>\n",
       "      <td>exploits</td>\n",
       "      <td>0</td>\n",
       "    </tr>\n",
       "    <tr>\n",
       "      <th>4</th>\n",
       "      <td>1.0</td>\n",
       "      <td>0.0</td>\n",
       "      <td>1</td>\n",
       "      <td>exploits</td>\n",
       "      <td>0</td>\n",
       "    </tr>\n",
       "  </tbody>\n",
       "</table>\n",
       "</div>"
      ],
      "text/plain": [
       "   pred_attack  pred_normal  attack        category  normal\n",
       "0          1.0          0.0       1        exploits       0\n",
       "1          1.0          0.0       1        exploits       0\n",
       "2          1.0          0.0       1  reconnaissance       0\n",
       "3          1.0          0.0       1        exploits       0\n",
       "4          1.0          0.0       1        exploits       0"
      ]
     },
     "execution_count": 102,
     "metadata": {},
     "output_type": "execute_result"
    }
   ],
   "source": [
    "df3 = pd.DataFrame(np.round(predicted3))\n",
    "df3.index = y_test3.index\n",
    "df3.columns = ['pred_attack']\n",
    "df3['pred_normal'] = 1- df3['pred_attack']\n",
    "df3['attack']=data['label']\n",
    "df3['category']=data['attack_cat']\n",
    "df3['normal']=data_labels['normal']\n",
    "df3.head()"
   ]
  },
  {
   "cell_type": "code",
   "execution_count": 103,
   "id": "47ef713d-0420-4a04-aa3c-9bc21eee85e1",
   "metadata": {},
   "outputs": [
    {
     "data": {
      "text/plain": [
       "category\n",
       "normal            320593\n",
       "generic           213718\n",
       "exploits           28317\n",
       "fuzzers            21517\n",
       "reconnaissance     11854\n",
       "dos                 3863\n",
       "shellcode           1511\n",
       "analysis             622\n",
       "backdoor             357\n",
       "worms                174\n",
       "Name: count, dtype: int64"
      ]
     },
     "execution_count": 103,
     "metadata": {},
     "output_type": "execute_result"
    }
   ],
   "source": [
    "df3.value_counts('category')"
   ]
  },
  {
   "cell_type": "code",
   "execution_count": 104,
   "id": "9706822a-d7c2-45d7-aa11-c4e1c3db1f17",
   "metadata": {},
   "outputs": [],
   "source": [
    "dff3=df3\n",
    "df3=pd.get_dummies(df3)\n",
    "df3=round(df3)"
   ]
  },
  {
   "cell_type": "code",
   "execution_count": 105,
   "id": "34e2522f-da85-4b5c-a852-8556cbc1a8f6",
   "metadata": {},
   "outputs": [],
   "source": [
    "analysis=df3.loc[df3['category_analysis'] == 1]\n",
    "analysis=analysis[['pred_attack', 'pred_normal', 'attack', 'normal']]\n",
    "analysis_pred=analysis[['pred_attack','pred_normal']]\n",
    "analysis_check=analysis[['attack','normal']]\n",
    "\n",
    "backdoor=df3.loc[df3['category_backdoor'] == 1]\n",
    "backdoor=backdoor[['pred_attack', 'pred_normal', 'attack', 'normal']]\n",
    "backdoor_pred=backdoor[['pred_attack','pred_normal']]\n",
    "backdoor_check=backdoor[['attack','normal']]\n",
    "\n",
    "fuzzers=df3.loc[df3['category_fuzzers'] == 1]\n",
    "fuzzers=fuzzers[['pred_attack', 'pred_normal', 'attack', 'normal']]\n",
    "fuzzers_pred=fuzzers[['pred_attack','pred_normal']]\n",
    "fuzzers_check=fuzzers[['attack','normal']]\n",
    "\n",
    "normal=df3.loc[df3['category_normal'] == 1]\n",
    "normal=normal[['pred_attack', 'pred_normal', 'attack', 'normal']]\n",
    "normal_pred=normal[['pred_attack','pred_normal']]\n",
    "normal_check=normal[['attack','normal']]\n",
    "\n",
    "shellcode=df3.loc[df3['category_shellcode'] == 1]\n",
    "shellcode=shellcode[['pred_attack', 'pred_normal', 'attack', 'normal']]\n",
    "shellcode_pred=shellcode[['pred_attack','pred_normal']]\n",
    "shellcode_check=shellcode[['attack','normal']]\n",
    "\n",
    "worms=df3.loc[df3['category_worms'] == 1]\n",
    "worms=worms[['pred_attack', 'pred_normal', 'attack', 'normal']]\n",
    "worms_pred=worms[['pred_attack','pred_normal']]\n",
    "worms_check=worms[['attack','normal']]\n",
    "\n",
    "generic=df3.loc[df3['category_generic'] == 1]\n",
    "generic=generic[['pred_attack', 'pred_normal', 'attack', 'normal']]\n",
    "generic_pred=generic[['pred_attack','pred_normal']]\n",
    "generic_check=generic[['attack','normal']]\n",
    "\n",
    "exploits=df3.loc[df3['category_exploits'] == 1]\n",
    "exploits=exploits[['pred_attack', 'pred_normal', 'attack', 'normal']]\n",
    "exploits_pred=exploits[['pred_attack','pred_normal']]\n",
    "exploits_check=exploits[['attack','normal']]\n",
    "\n",
    "reconnaissance=df3.loc[df3['category_reconnaissance'] == 1]\n",
    "reconnaissance=reconnaissance[['pred_attack', 'pred_normal', 'attack', 'normal']]\n",
    "reconnaissance_pred=reconnaissance[['pred_attack','pred_normal']]\n",
    "reconnaissance_check=reconnaissance[['attack','normal']]\n",
    "\n",
    "dos=df3.loc[df3['category_dos'] == 1]\n",
    "dos=dos[['pred_attack', 'pred_normal', 'attack', 'normal']]\n",
    "dos_pred=dos[['pred_attack','pred_normal']]\n",
    "dos_check=dos[['attack','normal']]"
   ]
  },
  {
   "cell_type": "code",
   "execution_count": 106,
   "id": "b4da717c-f9b6-4994-a118-05096facac9c",
   "metadata": {},
   "outputs": [],
   "source": [
    "#Correctly detected\n",
    "countdata=pd.DataFrame()\n",
    "normal_c = normal['pred_normal'] * normal['normal']\n",
    "analysis_c = analysis['pred_attack'] * analysis['attack']\n",
    "backdoor_c = backdoor['pred_attack'] * backdoor['attack']\n",
    "fuzzers_c = fuzzers['pred_attack'] * fuzzers['attack']\n",
    "shellcode_c = shellcode['pred_attack'] * shellcode['attack']\n",
    "worms_c = worms['pred_attack'] * worms['attack']\n",
    "generic_c = generic['pred_attack'] * generic['attack']\n",
    "exploits_c = exploits['pred_attack'] * exploits['attack']\n",
    "reconnaissance_c = reconnaissance['pred_attack'] * reconnaissance['attack']\n",
    "dos_c = dos['pred_attack'] * dos['attack']"
   ]
  },
  {
   "cell_type": "code",
   "execution_count": 107,
   "id": "d25c7569-812f-471c-90ef-c378b8c6818b",
   "metadata": {},
   "outputs": [],
   "source": [
    "# Count 0 and 1\n",
    "normal_c0 = (normal_c == 0).sum()\n",
    "normal_c1 = len(normal) - normal_c0\n",
    "\n",
    "analysis_c0 = (analysis_c == 0).sum()\n",
    "analysis_c1 = len(analysis) - analysis_c0\n",
    "\n",
    "backdoor_c0 = (backdoor_c == 0).sum()\n",
    "backdoor_c1 = len(backdoor) - backdoor_c0\n",
    "\n",
    "fuzzers_c0 = (fuzzers_c == 0).sum()\n",
    "fuzzers_c1 = len(fuzzers) - fuzzers_c0\n",
    "\n",
    "shellcode_c0 = (shellcode_c == 0).sum()\n",
    "shellcode_c1 = len(shellcode) - shellcode_c0\n",
    "\n",
    "worms_c0 = (worms_c == 0).sum()\n",
    "worms_c1 = len(worms) - worms_c0\n",
    "\n",
    "generic_c0 = (generic_c == 0).sum()\n",
    "generic_c1 = len(generic) - generic_c0\n",
    "\n",
    "exploits_c0 = (exploits_c == 0).sum()\n",
    "exploits_c1 = len(exploits) - exploits_c0\n",
    "\n",
    "reconnaissance_c0 = (reconnaissance_c == 0).sum()\n",
    "reconnaissance_c1 = len(reconnaissance) - reconnaissance_c0\n",
    "\n",
    "dos_c0 = (dos_c == 0).sum()\n",
    "dos_c1 = len(dos) - dos_c0"
   ]
  },
  {
   "cell_type": "code",
   "execution_count": 108,
   "id": "bd0e8ed0-3f60-47d5-9099-d4817a4b1881",
   "metadata": {},
   "outputs": [
    {
     "name": "stdout",
     "output_type": "stream",
     "text": [
      "There are 1.42 % of NO detected and 98.58 % of detected samples\n"
     ]
    }
   ],
   "source": [
    "normal_0, normal_1 = normal_c0*100 / len(normal), normal_c1*100 / len(normal)\n",
    "print(\"There are {:.2f} % of NO detected and {:.2f} % of detected samples\".format(normal_0, normal_1))"
   ]
  },
  {
   "cell_type": "code",
   "execution_count": 109,
   "id": "d41595a9-44ca-4603-9678-c1986d7efd97",
   "metadata": {},
   "outputs": [
    {
     "name": "stdout",
     "output_type": "stream",
     "text": [
      "There are 0.16 % of NO detected and 99.84 % of detected samples\n"
     ]
    }
   ],
   "source": [
    "analysis_0, analysis_1 = analysis_c0*100 / len(analysis), analysis_c1*100 / len(analysis)\n",
    "print(\"There are {:.2f} % of NO detected and {:.2f} % of detected samples\".format(analysis_0, analysis_1))"
   ]
  },
  {
   "cell_type": "code",
   "execution_count": 110,
   "id": "86b879fd-0b46-42cd-a3c2-243d7242d572",
   "metadata": {},
   "outputs": [
    {
     "name": "stdout",
     "output_type": "stream",
     "text": [
      "There are 10.64 % of NO detected and 89.36 % of detected samples\n"
     ]
    }
   ],
   "source": [
    "backdoor_0, backdoor_1 = backdoor_c0*100 / len(backdoor), backdoor_c1*100 / len(backdoor)\n",
    "print(\"There are {:.2f} % of NO detected and {:.2f} % of detected samples\".format(backdoor_0, backdoor_1))"
   ]
  },
  {
   "cell_type": "code",
   "execution_count": 111,
   "id": "460e3bd6-ff34-4c23-90be-8d8e8059e5f6",
   "metadata": {},
   "outputs": [
    {
     "name": "stdout",
     "output_type": "stream",
     "text": [
      "There are 2.32 % of NO detected and 97.68 % of detected samples\n"
     ]
    }
   ],
   "source": [
    "fuzzers_0, fuzzers_1 = fuzzers_c0*100 / len(fuzzers), fuzzers_c1*100 / len(fuzzers)\n",
    "print(\"There are {:.2f} % of NO detected and {:.2f} % of detected samples\".format(fuzzers_0, fuzzers_1))\n"
   ]
  },
  {
   "cell_type": "code",
   "execution_count": 112,
   "id": "d4d5d553-f7fa-44f2-98dc-84a8718178ab",
   "metadata": {},
   "outputs": [
    {
     "name": "stdout",
     "output_type": "stream",
     "text": [
      "There are 10.06 % of NO detected and 89.94 % of detected samples\n"
     ]
    }
   ],
   "source": [
    "shellcode_0, shellcode_1 = shellcode_c0*100 / len(shellcode), shellcode_c1*100 / len(shellcode)\n",
    "print(\"There are {:.2f} % of NO detected and {:.2f} % of detected samples\".format(shellcode_0, shellcode_1))\n"
   ]
  },
  {
   "cell_type": "code",
   "execution_count": 113,
   "id": "38df1ba8-1d44-44b5-93c0-570ed474c38d",
   "metadata": {},
   "outputs": [
    {
     "name": "stdout",
     "output_type": "stream",
     "text": [
      "There are 2.87 % of NO detected and 97.13 % of detected samples\n"
     ]
    }
   ],
   "source": [
    "worms_0, worms_1 = worms_c0*100 / len(worms), worms_c1*100 / len(worms)\n",
    "print(\"There are {:.2f} % of NO detected and {:.2f} % of detected samples\".format(worms_0, worms_1))"
   ]
  },
  {
   "cell_type": "code",
   "execution_count": 114,
   "id": "307dbe6d-400f-42c6-980d-09eddebf398b",
   "metadata": {},
   "outputs": [
    {
     "name": "stdout",
     "output_type": "stream",
     "text": [
      "There are 0.01 % of NO detected and 99.99 % of detected samples\n"
     ]
    }
   ],
   "source": [
    "generic_0, generic_1 = generic_c0*100 / len(generic), generic_c1*100 / len(generic)\n",
    "print(\"There are {:.2f} % of NO detected and {:.2f} % of detected samples\".format(generic_0, generic_1))\n"
   ]
  },
  {
   "cell_type": "code",
   "execution_count": 115,
   "id": "71599d7b-1244-4a51-85e6-b661ad506a90",
   "metadata": {},
   "outputs": [
    {
     "name": "stdout",
     "output_type": "stream",
     "text": [
      "There are 5.47 % of NO detected and 94.53 % of detected samples\n"
     ]
    }
   ],
   "source": [
    "exploits_0, exploits_1 = exploits_c0*100 / len(exploits), exploits_c1*100 / len(exploits)\n",
    "print(\"There are {:.2f} % of NO detected and {:.2f} % of detected samples\".format(exploits_0, exploits_1))"
   ]
  },
  {
   "cell_type": "code",
   "execution_count": 116,
   "id": "bb9aa5fc-8c26-4ebc-af3a-8c06cb22d4d7",
   "metadata": {},
   "outputs": [
    {
     "name": "stdout",
     "output_type": "stream",
     "text": [
      "There are 0.06 % of NO detected and 99.94 % of detected samples\n"
     ]
    }
   ],
   "source": [
    "reconnaissance_0, reconnaissance_1 = reconnaissance_c0*100 / len(reconnaissance), reconnaissance_c1*100 / len(reconnaissance)\n",
    "print(\"There are {:.2f} % of NO detected and {:.2f} % of detected samples\".format(reconnaissance_0, reconnaissance_1))"
   ]
  },
  {
   "cell_type": "code",
   "execution_count": 117,
   "id": "1b89e4da-66fe-4cf6-b21e-ce90dd5aadc4",
   "metadata": {},
   "outputs": [
    {
     "name": "stdout",
     "output_type": "stream",
     "text": [
      "There are 2.17 % of NO detected and 97.83 % of detected samples\n"
     ]
    }
   ],
   "source": [
    "dos_0, dos_1 = dos_c0*100 / len(dos), dos_c1*100 / len(dos)\n",
    "print(\"There are {:.2f} % of NO detected and {:.2f} % of detected samples\".format(dos_0, dos_1))"
   ]
  },
  {
   "cell_type": "code",
   "execution_count": 118,
   "id": "deba8483-aa50-4298-a54b-74997dfd0843",
   "metadata": {},
   "outputs": [],
   "source": [
    "summary3 = pd.DataFrame({\"Traffic\":\n",
    "                   [\"Normal\", \"Analysis\", \"Backdoor\", \"Fuzzers\", \"Shellcode\", \"Worms\", \"Generic\", \"Exploits\", \"Reconnaissance\", \"DoS\"],\n",
    "                   \"Detected %\": [normal_1, analysis_1, backdoor_1, fuzzers_1, shellcode_1, worms_1, generic_1, exploits_1, reconnaissance_1, dos_1],\n",
    "                   \"No Detected %\": [normal_0, analysis_0, backdoor_0, fuzzers_0, shellcode_0, worms_0, generic_0, exploits_0, reconnaissance_0, dos_0],\n",
    "                   \"Detected Samples\": [normal_c1, analysis_c1, backdoor_c1, fuzzers_c1, shellcode_c1, worms_c1, generic_c1, exploits_c1, reconnaissance_c1, dos_c1],\n",
    "                   \"No Detected Samples\": [normal_c0, analysis_c0, backdoor_c0, fuzzers_c0, shellcode_c0, worms_c0, generic_c0, exploits_c0, reconnaissance_c0, dos_c0]})"
   ]
  },
  {
   "cell_type": "code",
   "execution_count": 119,
   "id": "6a1bcddd-8bbb-438a-a50b-c98d846eaf4e",
   "metadata": {},
   "outputs": [],
   "source": [
    "dff3['category_pred'] = np.where(((df3['attack'] == 1) & (df3['pred_attack'] == 1)) | ((df3['normal'] == 1) & (df3['pred_normal'] == 1)), 'Detected', 'No Detected')"
   ]
  },
  {
   "cell_type": "code",
   "execution_count": 120,
   "id": "887383a4-2870-4d28-87ed-7ed7b390c7a2",
   "metadata": {},
   "outputs": [],
   "source": [
    "data_plot3=dff3[['category', 'category_pred']]"
   ]
  },
  {
   "cell_type": "code",
   "execution_count": 121,
   "id": "8d279b77-c01f-4d78-a358-28848600a4b9",
   "metadata": {},
   "outputs": [
    {
     "data": {
      "text/html": [
       "<div>\n",
       "<style scoped>\n",
       "    .dataframe tbody tr th:only-of-type {\n",
       "        vertical-align: middle;\n",
       "    }\n",
       "\n",
       "    .dataframe tbody tr th {\n",
       "        vertical-align: top;\n",
       "    }\n",
       "\n",
       "    .dataframe thead th {\n",
       "        text-align: right;\n",
       "    }\n",
       "</style>\n",
       "<table border=\"1\" class=\"dataframe\">\n",
       "  <thead>\n",
       "    <tr style=\"text-align: right;\">\n",
       "      <th></th>\n",
       "      <th>category</th>\n",
       "      <th>category_pred</th>\n",
       "    </tr>\n",
       "  </thead>\n",
       "  <tbody>\n",
       "    <tr>\n",
       "      <th>0</th>\n",
       "      <td>exploits</td>\n",
       "      <td>Detected</td>\n",
       "    </tr>\n",
       "    <tr>\n",
       "      <th>1</th>\n",
       "      <td>exploits</td>\n",
       "      <td>Detected</td>\n",
       "    </tr>\n",
       "    <tr>\n",
       "      <th>2</th>\n",
       "      <td>reconnaissance</td>\n",
       "      <td>Detected</td>\n",
       "    </tr>\n",
       "    <tr>\n",
       "      <th>3</th>\n",
       "      <td>exploits</td>\n",
       "      <td>Detected</td>\n",
       "    </tr>\n",
       "    <tr>\n",
       "      <th>4</th>\n",
       "      <td>exploits</td>\n",
       "      <td>Detected</td>\n",
       "    </tr>\n",
       "    <tr>\n",
       "      <th>...</th>\n",
       "      <td>...</td>\n",
       "      <td>...</td>\n",
       "    </tr>\n",
       "    <tr>\n",
       "      <th>642561</th>\n",
       "      <td>normal</td>\n",
       "      <td>Detected</td>\n",
       "    </tr>\n",
       "    <tr>\n",
       "      <th>642562</th>\n",
       "      <td>normal</td>\n",
       "      <td>Detected</td>\n",
       "    </tr>\n",
       "    <tr>\n",
       "      <th>642563</th>\n",
       "      <td>normal</td>\n",
       "      <td>Detected</td>\n",
       "    </tr>\n",
       "    <tr>\n",
       "      <th>642564</th>\n",
       "      <td>normal</td>\n",
       "      <td>Detected</td>\n",
       "    </tr>\n",
       "    <tr>\n",
       "      <th>642565</th>\n",
       "      <td>normal</td>\n",
       "      <td>Detected</td>\n",
       "    </tr>\n",
       "  </tbody>\n",
       "</table>\n",
       "<p>602526 rows × 2 columns</p>\n",
       "</div>"
      ],
      "text/plain": [
       "              category category_pred\n",
       "0             exploits      Detected\n",
       "1             exploits      Detected\n",
       "2       reconnaissance      Detected\n",
       "3             exploits      Detected\n",
       "4             exploits      Detected\n",
       "...                ...           ...\n",
       "642561          normal      Detected\n",
       "642562          normal      Detected\n",
       "642563          normal      Detected\n",
       "642564          normal      Detected\n",
       "642565          normal      Detected\n",
       "\n",
       "[602526 rows x 2 columns]"
      ]
     },
     "execution_count": 121,
     "metadata": {},
     "output_type": "execute_result"
    }
   ],
   "source": [
    "data_plot3"
   ]
  },
  {
   "cell_type": "code",
   "execution_count": 122,
   "id": "616c231b-a395-4ca3-a1a4-32664dab11b5",
   "metadata": {},
   "outputs": [
    {
     "data": {
      "image/png": "[encoded data removed]",
      "text/plain": [
       "<Figure size 1500x500 with 1 Axes>"
      ]
     },
     "metadata": {},
     "output_type": "display_data"
    }
   ],
   "source": [
    "# Plotting target label distribution\n",
    "plt.figure(figsize=(15,5))\n",
    "sns.set_theme(style=\"darkgrid\")\n",
    "sns.countplot(x=data_plot3['category'], data=data_plot3, hue=data_plot3['category_pred'])\n",
    "plt.title('Deteksi Serangan di Full Test Dataset', weight='bold', fontsize='18')\n",
    "plt.xticks(weight='bold', fontsize=12)\n",
    "plt.show()"
   ]
  },
  {
   "cell_type": "code",
   "execution_count": 123,
   "id": "8da01faf-2dde-49cc-b124-92f9cc919def",
   "metadata": {},
   "outputs": [
    {
     "data": {
      "text/html": [
       "<div>\n",
       "<style scoped>\n",
       "    .dataframe tbody tr th:only-of-type {\n",
       "        vertical-align: middle;\n",
       "    }\n",
       "\n",
       "    .dataframe tbody tr th {\n",
       "        vertical-align: top;\n",
       "    }\n",
       "\n",
       "    .dataframe thead th {\n",
       "        text-align: right;\n",
       "    }\n",
       "</style>\n",
       "<table border=\"1\" class=\"dataframe\">\n",
       "  <thead>\n",
       "    <tr style=\"text-align: right;\">\n",
       "      <th></th>\n",
       "      <th>Traffic</th>\n",
       "      <th>Detected %</th>\n",
       "      <th>No Detected %</th>\n",
       "      <th>Detected Samples</th>\n",
       "      <th>No Detected Samples</th>\n",
       "    </tr>\n",
       "  </thead>\n",
       "  <tbody>\n",
       "    <tr>\n",
       "      <th>0</th>\n",
       "      <td>Normal</td>\n",
       "      <td>98.579507</td>\n",
       "      <td>1.420493</td>\n",
       "      <td>316039</td>\n",
       "      <td>4554</td>\n",
       "    </tr>\n",
       "    <tr>\n",
       "      <th>1</th>\n",
       "      <td>Analysis</td>\n",
       "      <td>99.839228</td>\n",
       "      <td>0.160772</td>\n",
       "      <td>621</td>\n",
       "      <td>1</td>\n",
       "    </tr>\n",
       "    <tr>\n",
       "      <th>2</th>\n",
       "      <td>Backdoor</td>\n",
       "      <td>89.355742</td>\n",
       "      <td>10.644258</td>\n",
       "      <td>319</td>\n",
       "      <td>38</td>\n",
       "    </tr>\n",
       "    <tr>\n",
       "      <th>3</th>\n",
       "      <td>Fuzzers</td>\n",
       "      <td>97.676256</td>\n",
       "      <td>2.323744</td>\n",
       "      <td>21017</td>\n",
       "      <td>500</td>\n",
       "    </tr>\n",
       "    <tr>\n",
       "      <th>4</th>\n",
       "      <td>Shellcode</td>\n",
       "      <td>89.940437</td>\n",
       "      <td>10.059563</td>\n",
       "      <td>1359</td>\n",
       "      <td>152</td>\n",
       "    </tr>\n",
       "    <tr>\n",
       "      <th>5</th>\n",
       "      <td>Worms</td>\n",
       "      <td>97.126437</td>\n",
       "      <td>2.873563</td>\n",
       "      <td>169</td>\n",
       "      <td>5</td>\n",
       "    </tr>\n",
       "    <tr>\n",
       "      <th>6</th>\n",
       "      <td>Generic</td>\n",
       "      <td>99.987834</td>\n",
       "      <td>0.012166</td>\n",
       "      <td>213692</td>\n",
       "      <td>26</td>\n",
       "    </tr>\n",
       "    <tr>\n",
       "      <th>7</th>\n",
       "      <td>Exploits</td>\n",
       "      <td>94.529788</td>\n",
       "      <td>5.470212</td>\n",
       "      <td>26768</td>\n",
       "      <td>1549</td>\n",
       "    </tr>\n",
       "    <tr>\n",
       "      <th>8</th>\n",
       "      <td>Reconnaissance</td>\n",
       "      <td>99.940948</td>\n",
       "      <td>0.059052</td>\n",
       "      <td>11847</td>\n",
       "      <td>7</td>\n",
       "    </tr>\n",
       "    <tr>\n",
       "      <th>9</th>\n",
       "      <td>DoS</td>\n",
       "      <td>97.825524</td>\n",
       "      <td>2.174476</td>\n",
       "      <td>3779</td>\n",
       "      <td>84</td>\n",
       "    </tr>\n",
       "  </tbody>\n",
       "</table>\n",
       "</div>"
      ],
      "text/plain": [
       "          Traffic  Detected %  No Detected %  Detected Samples  \\\n",
       "0          Normal   98.579507       1.420493            316039   \n",
       "1        Analysis   99.839228       0.160772               621   \n",
       "2        Backdoor   89.355742      10.644258               319   \n",
       "3         Fuzzers   97.676256       2.323744             21017   \n",
       "4       Shellcode   89.940437      10.059563              1359   \n",
       "5           Worms   97.126437       2.873563               169   \n",
       "6         Generic   99.987834       0.012166            213692   \n",
       "7        Exploits   94.529788       5.470212             26768   \n",
       "8  Reconnaissance   99.940948       0.059052             11847   \n",
       "9             DoS   97.825524       2.174476              3779   \n",
       "\n",
       "   No Detected Samples  \n",
       "0                 4554  \n",
       "1                    1  \n",
       "2                   38  \n",
       "3                  500  \n",
       "4                  152  \n",
       "5                    5  \n",
       "6                   26  \n",
       "7                 1549  \n",
       "8                    7  \n",
       "9                   84  "
      ]
     },
     "execution_count": 123,
     "metadata": {},
     "output_type": "execute_result"
    }
   ],
   "source": [
    "summary3"
   ]
  },
  {
   "cell_type": "code",
   "execution_count": 124,
   "id": "4010412b-4228-4604-8312-c2a617bb6dc3",
   "metadata": {},
   "outputs": [],
   "source": [
    "summary3.to_csv('~/04_Semester_4/revisi/csv_files/summary_base_test_with_tl.csv', index=False)"
   ]
  },
  {
   "cell_type": "code",
   "execution_count": 125,
   "id": "148abc51-bac3-458c-ba16-efdda3b7d249",
   "metadata": {},
   "outputs": [],
   "source": [
    "summary2_tl = pd.read_csv('~/04_Semester_4/revisi/csv_files/summary_base5+_test_tl.csv')"
   ]
  },
  {
   "cell_type": "code",
   "execution_count": 126,
   "id": "835611a2-8e3b-469a-8744-d72bb0aa3d60",
   "metadata": {},
   "outputs": [],
   "source": [
    "improve = pd.read_csv('~/04_Semester_4/revisi/csv_files/summary_first_test.csv')"
   ]
  },
  {
   "cell_type": "code",
   "execution_count": 127,
   "id": "11e40c6b-f3da-454e-b0c8-33b0d24cbc8b",
   "metadata": {},
   "outputs": [],
   "source": [
    "improve['Detected %'] = summary2_tl['Detected %'] - improve['Detected %']"
   ]
  },
  {
   "cell_type": "code",
   "execution_count": 128,
   "id": "3fb7470b-3cc8-43df-80eb-c6b0604097ad",
   "metadata": {},
   "outputs": [],
   "source": [
    "improve['Detected Samples'] = summary2_tl['Detected Samples'] - improve['Detected Samples']"
   ]
  },
  {
   "cell_type": "code",
   "execution_count": 129,
   "id": "ad994f03-0cd6-4e10-89ab-6db32ecb931f",
   "metadata": {},
   "outputs": [],
   "source": [
    "del improve['No Detected %']"
   ]
  },
  {
   "cell_type": "code",
   "execution_count": 130,
   "id": "4483a0d6-8076-49d6-9072-aaf3355a768c",
   "metadata": {},
   "outputs": [],
   "source": [
    "del improve['No Detected Samples']"
   ]
  },
  {
   "cell_type": "code",
   "execution_count": 131,
   "id": "b431e513-20bf-48a5-8589-f1498616dcf7",
   "metadata": {},
   "outputs": [],
   "source": [
    "improve.rename(columns={'Detected %':'Detection Improvement %',\n",
    "                        'Detected Samples' : 'Detection Improvement'}, inplace=True)"
   ]
  },
  {
   "cell_type": "code",
   "execution_count": 132,
   "id": "309793fb-ba04-4f84-b3a1-7fde6f7a9286",
   "metadata": {},
   "outputs": [
    {
     "data": {
      "text/html": [
       "<div>\n",
       "<style scoped>\n",
       "    .dataframe tbody tr th:only-of-type {\n",
       "        vertical-align: middle;\n",
       "    }\n",
       "\n",
       "    .dataframe tbody tr th {\n",
       "        vertical-align: top;\n",
       "    }\n",
       "\n",
       "    .dataframe thead th {\n",
       "        text-align: right;\n",
       "    }\n",
       "</style>\n",
       "<table border=\"1\" class=\"dataframe\">\n",
       "  <thead>\n",
       "    <tr style=\"text-align: right;\">\n",
       "      <th></th>\n",
       "      <th>Traffic</th>\n",
       "      <th>Detection Improvement %</th>\n",
       "      <th>Detection Improvement</th>\n",
       "    </tr>\n",
       "  </thead>\n",
       "  <tbody>\n",
       "    <tr>\n",
       "      <th>0</th>\n",
       "      <td>Normal</td>\n",
       "      <td>-2.144413</td>\n",
       "      <td>-1615</td>\n",
       "    </tr>\n",
       "    <tr>\n",
       "      <th>1</th>\n",
       "      <td>Exploits</td>\n",
       "      <td>31.896034</td>\n",
       "      <td>9032</td>\n",
       "    </tr>\n",
       "    <tr>\n",
       "      <th>2</th>\n",
       "      <td>Fuzzers</td>\n",
       "      <td>48.147976</td>\n",
       "      <td>10360</td>\n",
       "    </tr>\n",
       "    <tr>\n",
       "      <th>3</th>\n",
       "      <td>Analysis</td>\n",
       "      <td>58.199357</td>\n",
       "      <td>362</td>\n",
       "    </tr>\n",
       "    <tr>\n",
       "      <th>4</th>\n",
       "      <td>Backdoor</td>\n",
       "      <td>29.691877</td>\n",
       "      <td>106</td>\n",
       "    </tr>\n",
       "    <tr>\n",
       "      <th>5</th>\n",
       "      <td>Shellcode</td>\n",
       "      <td>11.515553</td>\n",
       "      <td>174</td>\n",
       "    </tr>\n",
       "    <tr>\n",
       "      <th>6</th>\n",
       "      <td>Worms</td>\n",
       "      <td>58.045977</td>\n",
       "      <td>101</td>\n",
       "    </tr>\n",
       "  </tbody>\n",
       "</table>\n",
       "</div>"
      ],
      "text/plain": [
       "     Traffic  Detection Improvement %  Detection Improvement\n",
       "0     Normal                -2.144413                  -1615\n",
       "1   Exploits                31.896034                   9032\n",
       "2    Fuzzers                48.147976                  10360\n",
       "3   Analysis                58.199357                    362\n",
       "4   Backdoor                29.691877                    106\n",
       "5  Shellcode                11.515553                    174\n",
       "6      Worms                58.045977                    101"
      ]
     },
     "execution_count": 132,
     "metadata": {},
     "output_type": "execute_result"
    }
   ],
   "source": [
    "improve"
   ]
  },
  {
   "cell_type": "code",
   "execution_count": 133,
   "id": "7e5b5f19-efe9-4515-8082-3a32e3bcb8ea",
   "metadata": {},
   "outputs": [],
   "source": [
    "summary3_tl = pd.read_csv('~/04_Semester_4/revisi/csv_files/summary_base_test_with_tl.csv')"
   ]
  },
  {
   "cell_type": "code",
   "execution_count": 134,
   "id": "a0c50d52-4fb7-4179-86c6-15f5724bdd53",
   "metadata": {},
   "outputs": [],
   "source": [
    "improve =pd.read_csv('~/04_Semester_4/revisi/csv_files/summary_full_test.csv')"
   ]
  },
  {
   "cell_type": "code",
   "execution_count": 135,
   "id": "2c3664da-e72a-47ba-93b8-3c4503b6b980",
   "metadata": {},
   "outputs": [],
   "source": [
    "improve['Detected %'] = summary3_tl['Detected %'] - improve['Detected %']"
   ]
  },
  {
   "cell_type": "code",
   "execution_count": 136,
   "id": "53fdca19-0525-463f-b130-b179b0d6f08f",
   "metadata": {},
   "outputs": [],
   "source": [
    "improve['Detected Samples'] = summary3_tl['Detected Samples'] - improve['Detected Samples']"
   ]
  },
  {
   "cell_type": "code",
   "execution_count": 137,
   "id": "abdfca54-9d0a-42cc-b35a-9ac8ceb5651f",
   "metadata": {},
   "outputs": [],
   "source": [
    "del improve['No Detected %']"
   ]
  },
  {
   "cell_type": "code",
   "execution_count": 138,
   "id": "212fdfee-86f3-4d8c-9d58-9a73b6b38e15",
   "metadata": {},
   "outputs": [],
   "source": [
    "del improve['No Detected Samples']"
   ]
  },
  {
   "cell_type": "code",
   "execution_count": 139,
   "id": "69a2dfb2-9c0d-48de-81ca-3aa3a244b1f2",
   "metadata": {},
   "outputs": [],
   "source": [
    "improve.rename(columns={'Detected %':'Detection Improvement',\n",
    "                        'Detected Samples %' : 'Detection Improvement'}, inplace=True)"
   ]
  },
  {
   "cell_type": "code",
   "execution_count": 140,
   "id": "765bb03c-8ab0-4222-8108-443db28da110",
   "metadata": {},
   "outputs": [
    {
     "data": {
      "text/html": [
       "<div>\n",
       "<style scoped>\n",
       "    .dataframe tbody tr th:only-of-type {\n",
       "        vertical-align: middle;\n",
       "    }\n",
       "\n",
       "    .dataframe tbody tr th {\n",
       "        vertical-align: top;\n",
       "    }\n",
       "\n",
       "    .dataframe thead th {\n",
       "        text-align: right;\n",
       "    }\n",
       "</style>\n",
       "<table border=\"1\" class=\"dataframe\">\n",
       "  <thead>\n",
       "    <tr style=\"text-align: right;\">\n",
       "      <th></th>\n",
       "      <th>Traffic</th>\n",
       "      <th>Detection Improvement</th>\n",
       "      <th>Detected Samples</th>\n",
       "    </tr>\n",
       "  </thead>\n",
       "  <tbody>\n",
       "    <tr>\n",
       "      <th>0</th>\n",
       "      <td>Normal</td>\n",
       "      <td>-0.014660</td>\n",
       "      <td>-47</td>\n",
       "    </tr>\n",
       "    <tr>\n",
       "      <th>1</th>\n",
       "      <td>Analysis</td>\n",
       "      <td>2.250804</td>\n",
       "      <td>14</td>\n",
       "    </tr>\n",
       "    <tr>\n",
       "      <th>2</th>\n",
       "      <td>Backdoor</td>\n",
       "      <td>7.282913</td>\n",
       "      <td>26</td>\n",
       "    </tr>\n",
       "    <tr>\n",
       "      <th>3</th>\n",
       "      <td>Fuzzers</td>\n",
       "      <td>1.738161</td>\n",
       "      <td>374</td>\n",
       "    </tr>\n",
       "    <tr>\n",
       "      <th>4</th>\n",
       "      <td>Shellcode</td>\n",
       "      <td>5.294507</td>\n",
       "      <td>80</td>\n",
       "    </tr>\n",
       "    <tr>\n",
       "      <th>5</th>\n",
       "      <td>Worms</td>\n",
       "      <td>0.000000</td>\n",
       "      <td>0</td>\n",
       "    </tr>\n",
       "    <tr>\n",
       "      <th>6</th>\n",
       "      <td>Generic</td>\n",
       "      <td>0.068782</td>\n",
       "      <td>147</td>\n",
       "    </tr>\n",
       "    <tr>\n",
       "      <th>7</th>\n",
       "      <td>Exploits</td>\n",
       "      <td>3.626797</td>\n",
       "      <td>1027</td>\n",
       "    </tr>\n",
       "    <tr>\n",
       "      <th>8</th>\n",
       "      <td>Reconnaissance</td>\n",
       "      <td>0.101232</td>\n",
       "      <td>12</td>\n",
       "    </tr>\n",
       "    <tr>\n",
       "      <th>9</th>\n",
       "      <td>DoS</td>\n",
       "      <td>3.339374</td>\n",
       "      <td>129</td>\n",
       "    </tr>\n",
       "  </tbody>\n",
       "</table>\n",
       "</div>"
      ],
      "text/plain": [
       "          Traffic  Detection Improvement  Detected Samples\n",
       "0          Normal              -0.014660               -47\n",
       "1        Analysis               2.250804                14\n",
       "2        Backdoor               7.282913                26\n",
       "3         Fuzzers               1.738161               374\n",
       "4       Shellcode               5.294507                80\n",
       "5           Worms               0.000000                 0\n",
       "6         Generic               0.068782               147\n",
       "7        Exploits               3.626797              1027\n",
       "8  Reconnaissance               0.101232                12\n",
       "9             DoS               3.339374               129"
      ]
     },
     "execution_count": 140,
     "metadata": {},
     "output_type": "execute_result"
    }
   ],
   "source": [
    "improve"
   ]
  },
  {
   "cell_type": "code",
   "execution_count": null,
   "id": "e7c8718d-4942-4574-95d5-67e994793c3d",
   "metadata": {},
   "outputs": [],
   "source": []
  },
  {
   "cell_type": "code",
   "execution_count": null,
   "id": "f6f0b061-44e0-43d6-aa75-a362ab6f11fa",
   "metadata": {},
   "outputs": [],
   "source": []
  },
  {
   "cell_type": "code",
   "execution_count": null,
   "id": "b6bb1099-4bbb-40c1-9441-d168766bb218",
   "metadata": {},
   "outputs": [],
   "source": []
  }
 ],
 "metadata": {
  "kernelspec": {
   "display_name": "python3.11",
   "language": "python",
   "name": "python3.11"
  },
  "language_info": {
   "codemirror_mode": {
    "name": "ipython",
    "version": 3
   },
   "file_extension": ".py",
   "mimetype": "text/x-python",
   "name": "python",
   "nbconvert_exporter": "python",
   "pygments_lexer": "ipython3",
   "version": "3.11.0rc1"
  }
 },
 "nbformat": 4,
 "nbformat_minor": 5
}
