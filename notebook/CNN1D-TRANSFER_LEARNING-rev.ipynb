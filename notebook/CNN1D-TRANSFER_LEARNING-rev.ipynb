{
 "cells": [
  {
   "cell_type": "markdown",
   "id": "270b15e6-b026-4bc3-95d5-10c3d85a5ee5",
   "metadata": {},
   "source": [
    "# CNN1D - TRANSFER LEARNING"
   ]
  },
  {
   "cell_type": "code",
   "execution_count": null,
   "id": "4fd5d5ec-a86a-47d2-b337-b2f75196b665",
   "metadata": {},
   "outputs": [],
   "source": [
    "# Imports modules and packages\n",
    "import tensorflow as tf\n",
    "import keras\n",
    "import matplotlib.pyplot as plt\n",
    "import numpy as np\n",
    "import pandas as pd\n",
    "import seaborn as sns\n",
    "from tensorflow.keras import datasets, layers, models, mixed_precision\n",
    "from tensorflow.keras.callbacks import EarlyStopping\n",
    "from sklearn.preprocessing import StandardScaler\n",
    "from sklearn.metrics import confusion_matrix, classification_report\n",
    "from keras.models import load_model, Sequential\n",
    "from keras.layers import Dense, Dropout\n",
    "pd.options.mode.chained_assignment = None  # default='warn'\n",
    "sns.set() # Set seaborn"
   ]
  },
  {
   "cell_type": "markdown",
   "id": "251e7625-8337-4a31-827b-c9aceeb8b00a",
   "metadata": {},
   "source": [
    "### Base 4 Train & Base 4 test"
   ]
  },
  {
   "cell_type": "code",
   "execution_count": null,
   "id": "377789a1-7835-4faf-bc26-002d1a08fc54",
   "metadata": {},
   "outputs": [],
   "source": [
    "data_train = pd.read_csv('~/04_Semester_4/revisi/csv_files/UNSW_NB15_base4_train.csv', low_memory=False)"
   ]
  },
  {
   "cell_type": "code",
   "execution_count": null,
   "id": "010ffc3b-803a-4792-91f7-af07f97830d8",
   "metadata": {},
   "outputs": [],
   "source": [
    "# Select the 'proto' and 'state' values\n",
    "data_train= data_train.loc[(data_train['proto'] == 'tcp') | (data_train['proto'] =='udp') | (data_train['proto'] =='icmp') | (data_train['proto'] =='arp') | (data_train['proto'] =='ipv6-icmp') | (data_train['proto'] =='igmp') | (data_train['proto'] =='rarp'), :]\n",
    "data_train = data_train.loc[(data_train['state'] == 'RST') | (data_train['state'] =='REQ') | (data_train['state'] =='INT') | (data_train['state'] =='FIN') | (data_train['state'] =='CON') | (data_train['state'] =='ECO') | (data_train['state'] =='ACC') | (data_train['state'] =='PAR'), :]\n",
    "\n",
    "# Extracting dataset labels\n",
    "data_labels=data_train[['label']]\n",
    "\n",
    "# Drop the invalid features and select data features\n",
    "data_features=data_train[['proto','srcip','sport','dstip','dsport','spkts','dpkts','sbytes','dbytes','state','stime','ltime','dur']]"
   ]
  },
  {
   "cell_type": "code",
   "execution_count": null,
   "id": "60552eb0-3c65-4c4b-81b2-815417d795c6",
   "metadata": {},
   "outputs": [],
   "source": [
    "# Preprocess IP and ports features\n",
    "# IP Source Address\n",
    "data_features['srcip'] = data_features['srcip'].apply(lambda x: x.split(\".\")[-1])\n",
    "data_features['srcip'] = data_features['srcip'].apply(lambda x: x.split(\":\")[-1])\n",
    "data_features['srcip'] = data_features['srcip'].apply(lambda x: int(x, 16))\n",
    "\n",
    "# IP Destination Address\n",
    "data_features['dstip'] = data_features['dstip'].apply(lambda x: x.split(\".\")[-1])\n",
    "data_features['dstip'] = data_features['dstip'].apply(lambda x: x.split(\":\")[-1])\n",
    "data_features['dstip'] = data_features['dstip'].apply(lambda x: int(x, 16))\n",
    "\n",
    "# Ports\n",
    "data_features['sport'] = data_features['sport'].apply(lambda x: x.replace('0x','') if \"0x\" in str(x) else x)\n",
    "data_features['dsport'] = data_features['dsport'].apply(lambda x: x.replace('0x','') if \"0x\" in str(x) else x)\n",
    "\n",
    "# Convert all ports with 0 decimal, and HEX to DEC\n",
    "data_features['sport'] = data_features['sport'].apply(lambda x: str(x)[:-2] if str(x)[-2:] == '.0' else str(x))\n",
    "data_features['sport'] = data_features['sport'].apply(lambda x: -1 if str(x).isalpha()==True else int(x,16))\n",
    "\n",
    "data_features['dsport'] = data_features['dsport'].apply(lambda x: str(x)[:-2] if str(x)[-2:] == '.0' else str(x))\n",
    "data_features['dsport'] = data_features['dsport'].apply(lambda x: \"None\" if x==\"-\" else x)\n",
    "data_features['dsport'] = data_features['dsport'].apply(lambda x: -1 if str(x).isalpha()==True else int(x,16))\n",
    "\n",
    "# Convert some fields to logarithmic\n",
    "log1p_col = ['dur', 'sbytes', 'dbytes', 'spkts']\n",
    "\n",
    "for col in log1p_col:\n",
    "    data_features[col] = data_features[col].apply(np.log1p)\n",
    "\n",
    "# Transform to One hot encoding - FEATURES\n",
    "data_features=pd.get_dummies(data_features)\n",
    "\n",
    "# Normalize all data features\n",
    "data_features = StandardScaler().fit_transform(data_features)\n",
    "\n",
    "#Add dimension to data features\n",
    "data_features = np.expand_dims(data_features, axis=2)\n",
    "\n",
    "x_train1, y_train1=data_features, data_labels"
   ]
  },
  {
   "cell_type": "code",
   "execution_count": null,
   "id": "03b6aac8-8d5f-4216-99f7-2813a5b4d4a5",
   "metadata": {},
   "outputs": [],
   "source": [
    "print(x_train1.shape)\n",
    "print(y_train1.shape)\n",
    "print(y_train1.value_counts())"
   ]
  },
  {
   "cell_type": "code",
   "execution_count": null,
   "id": "4d51f8b0-5e56-4289-a7fc-2e8df38df6ac",
   "metadata": {},
   "outputs": [],
   "source": [
    "data = pd.read_csv('~/04_Semester_4/revisi/csv_files/UNSW_NB15_base4_test.csv', low_memory=False)"
   ]
  },
  {
   "cell_type": "code",
   "execution_count": null,
   "id": "c07b5bc5-2899-47ac-b549-f3e9b4782d07",
   "metadata": {},
   "outputs": [],
   "source": [
    "data.shape"
   ]
  },
  {
   "cell_type": "code",
   "execution_count": null,
   "id": "cb105d37-aa33-43e6-8549-5652bf689603",
   "metadata": {},
   "outputs": [],
   "source": [
    "# Select the 'proto' and 'state' values that I want\n",
    "data = data.loc[(data['proto'] == 'tcp') | (data['proto'] =='udp') | (data['proto'] =='icmp') | (data['proto'] =='arp') | (data['proto'] =='ipv6-icmp') | (data['proto'] =='igmp') | (data['proto'] =='rarp'), :]\n",
    "data = data.loc[(data['state'] == 'RST') | (data['state'] =='REQ') | (data['state'] =='INT') | (data['state'] =='FIN') | (data['state'] =='CON') | (data['state'] =='ECO') | (data['state'] =='ACC') | (data['state'] =='PAR'), :]\n",
    "\n",
    "# Extracting dataset labels\n",
    "data_labels=data[['label']]\n",
    "\n",
    "# Drop the invalid features and select interested data features\n",
    "data_features=data[['proto','srcip','sport','dstip','dsport','spkts','dpkts','sbytes','dbytes','state','stime','ltime','dur']]\n",
    "\n",
    "\"\"\"PREPROCESSING\"\"\"\n",
    "\n",
    "# Preprocess IP and ports features\n",
    "# IP Source Address\n",
    "data_features['srcip'] = data_features['srcip'].apply(lambda x: x.split(\".\")[-1])\n",
    "data_features['srcip'] = data_features['srcip'].apply(lambda x: x.split(\":\")[-1])\n",
    "data_features['srcip'] = data_features['srcip'].apply(lambda x: int(x, 16))\n",
    "\n",
    "# IP Destination Address\n",
    "data_features['dstip'] = data_features['dstip'].apply(lambda x: x.split(\".\")[-1])\n",
    "data_features['dstip'] = data_features['dstip'].apply(lambda x: x.split(\":\")[-1])\n",
    "data_features['dstip'] = data_features['dstip'].apply(lambda x: int(x, 16))\n",
    "\n",
    "# Ports\n",
    "data_features['sport'] = data_features['sport'].apply(lambda x: x.replace('0x','') if \"0x\" in str(x) else x)\n",
    "data_features['dsport'] = data_features['dsport'].apply(lambda x: x.replace('0x','') if \"0x\" in str(x) else x)\n",
    "\n",
    "# Convert all ports with 0 decimal, and HEX to DEC\n",
    "data_features['sport'] = data_features['sport'].apply(lambda x: str(x)[:-2] if str(x)[-2:] == '.0' else str(x))\n",
    "data_features['sport'] = data_features['sport'].apply(lambda x: -1 if str(x).isalpha()==True else int(x,16))\n",
    "\n",
    "data_features['dsport'] = data_features['dsport'].apply(lambda x: str(x)[:-2] if str(x)[-2:] == '.0' else str(x))\n",
    "data_features['dsport'] = data_features['dsport'].apply(lambda x: \"None\" if x==\"-\" else x)\n",
    "data_features['dsport'] = data_features['dsport'].apply(lambda x: -1 if str(x).isalpha()==True else int(x,16))\n",
    "\n",
    "# Convert field to int format\n",
    "data_features['srcip'] = data_features['srcip'].astype(int)\n",
    "data_features['sport'] = data_features['sport'].astype(int)\n",
    "data_features['dstip'] = data_features['dstip'].astype(int)\n",
    "data_features['dsport'] = data_features['dsport'].astype(int)\n",
    "\n",
    "# Convert some fields to logarithmic\n",
    "log1p_col = ['dur', 'sbytes', 'dbytes', 'spkts']\n",
    "\n",
    "for col in log1p_col:\n",
    "    data_features[col] = data_features[col].apply(np.log1p)\n",
    "\n",
    "\n",
    "# Generate 1 new columns to fit with training\n",
    "auxCol=data_features['sbytes']\n",
    "auxCol=0\n",
    "data_features.insert(13, 'proto_igmp', auxCol, True)\n",
    "\n",
    "# Insert the new column in data labels\n",
    "data_labels = pd.get_dummies(data_labels)\n",
    "\n",
    "# Transform to One hot encoding - FEATURES\n",
    "data_features=pd.get_dummies(data_features)\n",
    "\n",
    "# Normalize all data features\n",
    "data_features = StandardScaler().fit_transform(data_features)\n",
    "\n",
    "#Add dimension to data features\n",
    "data_features = np.expand_dims(data_features, axis=2)\n",
    "\n",
    "x_test1, y_test1=data_features, data_labels"
   ]
  },
  {
   "cell_type": "code",
   "execution_count": null,
   "id": "3e7518a4-7c10-4d4f-a141-23541a02433a",
   "metadata": {},
   "outputs": [],
   "source": [
    "print(x_test1.shape)\n",
    "print(y_test1.shape)\n",
    "print(y_test1.value_counts())"
   ]
  },
  {
   "cell_type": "code",
   "execution_count": null,
   "id": "06373f4e-e4e8-46cb-bd3d-9df55e916a0f",
   "metadata": {},
   "outputs": [],
   "source": [
    "# Clear Session and Memory Growth\n",
    "def clear_session():\n",
    "    tf.keras.backend.clear_session()\n",
    "    gpus = tf.config.experimental.list_physical_devices('GPU')\n",
    "    if gpus:\n",
    "        try:\n",
    "            for gpu in gpus:\n",
    "                tf.config.experimental.set_memory_growth(gpu, True)\n",
    "        except RuntimeError as e:\n",
    "            print(e)\n",
    "    return"
   ]
  },
  {
   "cell_type": "code",
   "execution_count": null,
   "id": "cf640dea-d03f-4868-acf4-e77325ea33c9",
   "metadata": {},
   "outputs": [],
   "source": [
    "# Early Stopping\n",
    "filepath = '../tmp/checkpoint.model2_tl.keras'\n",
    "callbacks = [\n",
    "        keras.callbacks.EarlyStopping(monitor = 'val_loss', patience = 5),\n",
    "        keras.callbacks.ModelCheckpoint(filepath = filepath, monitor = 'val_loss',save_best_only = True)]"
   ]
  },
  {
   "cell_type": "code",
   "execution_count": null,
   "id": "f2e13725-5725-4005-bca2-4ee77556792b",
   "metadata": {},
   "outputs": [],
   "source": [
    "# Model building and definition\n",
    "def model_cnn():\n",
    "    model = Sequential()\n",
    "    pretrained_model_tl = load_model('model_iotbot_24_512.keras')\n",
    "    pretrained_model_tl.trainable=False\n",
    "    pretrained_model_tl.pop()\n",
    "    pretrained_model_tl.pop()\n",
    "    pretrained_model_tl.pop() \n",
    "    model.add(pretrained_model_tl)\n",
    "    model.add(layers.Flatten())   \n",
    "    model.add(Dense(512, activation='relu'))\n",
    "    model.add(layers.Dropout(0.4))    \n",
    "    model.add(Dense(256, activation='relu'))\n",
    "    model.add(layers.Dropout(0.3))\n",
    "    model.add(Dense(128, activation='relu'))\n",
    "    model.add(layers.Dropout(0.2))\n",
    "    adam = keras.optimizers.Adam(learning_rate=6e-5)\n",
    "    loss = keras.losses.BinaryCrossentropy()\n",
    "    model.compile(optimizer = adam, loss = loss, metrics = ['accuracy'])\n",
    "    return model"
   ]
  },
  {
   "cell_type": "code",
   "execution_count": null,
   "id": "4308391a-6873-44ec-aa60-4312a6dd3d05",
   "metadata": {},
   "outputs": [],
   "source": [
    "model_cnn().summary()"
   ]
  },
  {
   "cell_type": "code",
   "execution_count": null,
   "id": "8ca48270-55d8-4f35-a119-114170fb6535",
   "metadata": {},
   "outputs": [],
   "source": [
    "# Clear session and Memory Growth\n",
    "clear_session()\n",
    "# Create a Strategy.\n",
    "mixed_precision.set_global_policy('mixed_float16')\n",
    "if tf.config.list_physical_devices('GPU'):\n",
    "    strategy = tf.distribute.MirroredStrategy()\n",
    "else:  # Use the Default Strategy\n",
    "    strategy = tf.distribute.get_strategy()\n",
    "print(\"Number of devices: {}\".format(strategy.num_replicas_in_sync))\n",
    "# Open a strategy scope.\n",
    "with strategy.scope():\n",
    "    model=model_cnn()\n",
    "history = model.fit(x_train1, y_train1, validation_data=(x_test1, y_test1), epochs=30, batch_size=2048, callbacks=callbacks)\n",
    "history1 = history"
   ]
  },
  {
   "cell_type": "code",
   "execution_count": null,
   "id": "2a52281e-aa58-41d0-986f-5ef25bdf87df",
   "metadata": {},
   "outputs": [],
   "source": [
    "#Evaluate the model\n",
    "# 174/174 [=============] - 12s 70ms/step - loss: 0.0338 - accuracy: 0.9889 - val_loss: 0.0300 - val_accuracy: 0.9904, 2e-5\n",
    "# 174/174 [=============] - 12s 68ms/step - loss: 0.0269 - accuracy: 0.9912 - val_loss: 0.0241 - val_accuracy: 0.9920, 6e-5\n",
    "# 174/174 [=============] - 12s 69ms/step - loss: 0.0249 - accuracy: 0.9917 - val_loss: 0.0226 - val_accuracy: 0.9922; 1e-4\n",
    "results1 = model.evaluate(x_test1, y_test1, verbose=1)\n",
    "print(\"test loss, test acc:\", results1)"
   ]
  },
  {
   "cell_type": "code",
   "execution_count": null,
   "id": "b606fe1c-1499-4ba0-ab29-d4c504a869f2",
   "metadata": {},
   "outputs": [],
   "source": [
    "# summarize history for loss\n",
    "train_loss = history.history['loss']\n",
    "test_loss = history.history['val_loss']\n",
    "x = list(range(1, len(test_loss) + 1))\n",
    "plt.plot(x, test_loss, color = 'orange', label = 'Test loss')\n",
    "plt.plot(x, train_loss, label = 'Training loss')\n",
    "plt.legend()\n",
    "plt.grid(visible=True)\n",
    "plt.xlabel('Epoch')\n",
    "plt.ylabel('Loss')\n",
    "plt.title('Loss vs. Epoch', weight='bold', fontsize=18)\n",
    "plt.show()"
   ]
  },
  {
   "cell_type": "code",
   "execution_count": null,
   "id": "71a6eb74-41bb-487c-b622-00cb9f306c24",
   "metadata": {},
   "outputs": [],
   "source": [
    "# summarize history for accuracy\n",
    "train_acc = history.history['accuracy']\n",
    "test_acc = history.history['val_accuracy']\n",
    "x = list(range(1, len(test_acc) + 1))\n",
    "plt.plot(x, test_acc, color = 'orange', label = 'Test accuracy')\n",
    "plt.plot(x, train_acc, label = 'Training accuracy')\n",
    "plt.legend()\n",
    "plt.grid(visible=True)\n",
    "plt.xlabel('Epoch')\n",
    "plt.ylabel('Accuracy')\n",
    "plt.title('Accuracy vs. Epoch', weight='bold', fontsize=18)\n",
    "plt.show()"
   ]
  },
  {
   "cell_type": "code",
   "execution_count": null,
   "id": "b0a1a198-3854-44c0-ba02-7022dec8b1b6",
   "metadata": {},
   "outputs": [],
   "source": [
    "# Prediction\n",
    "#model = load_model('/home/riki/project_dl/finale/model/base5_train_test.keras')\n",
    "predicted1 = model.predict(x_test1)"
   ]
  },
  {
   "cell_type": "code",
   "execution_count": null,
   "id": "7a4e7a8b-e15c-4a76-b61c-1526b0556177",
   "metadata": {},
   "outputs": [],
   "source": [
    "df1 = pd.DataFrame(y_test1)\n",
    "df1['predicted'] = predicted1"
   ]
  },
  {
   "cell_type": "code",
   "execution_count": null,
   "id": "dfce1206-cb3a-4811-9a4b-174d86090dc8",
   "metadata": {},
   "outputs": [],
   "source": [
    "cf1 = confusion_matrix(y_test1, np.round(predicted1))"
   ]
  },
  {
   "cell_type": "code",
   "execution_count": null,
   "id": "ec7c3fb1-f333-4a75-8cb2-b9ab2b7da83f",
   "metadata": {},
   "outputs": [],
   "source": [
    "cmatrix_df1 = pd.DataFrame(cf1, index = ['Normal', 'Attack'], columns = ['Normal', 'Attack'])\n",
    "plt.title('Confusion matrix of the base 4 train & test with TL', weight='bold', fontsize=14)\n",
    "plt.tick_params(length=0)\n",
    "plt.xlabel('Attacks')\n",
    "plt.ylabel('Predicted Attacks')\n",
    "sns.heatmap(cmatrix_df1, annot=True, fmt=\"d\", cbar=False, cmap='Blues')\n",
    "plt.show()"
   ]
  },
  {
   "cell_type": "code",
   "execution_count": null,
   "id": "000d5b7a-202a-47ae-8480-8faa8eb7b612",
   "metadata": {},
   "outputs": [],
   "source": [
    "# Precision, Recall & F1 Score\n",
    "class_report1 = classification_report(y_test1, np.round(predicted1))\n",
    "print(class_report1)"
   ]
  },
  {
   "cell_type": "code",
   "execution_count": null,
   "id": "aa9c081b-43d7-445c-a73e-6d2f06ee5542",
   "metadata": {},
   "outputs": [],
   "source": [
    "# Precision, Recall & F1-Score\n",
    "class_report1 = classification_report(y_test1, np.round(predicted1), target_names = ['Normal', 'Attack'],output_dict=True) \n",
    "plt.tick_params(axis='both', which='major', labelsize=10, labelbottom = False, bottom=False, top = False, labeltop=True)\n",
    "plt.tick_params(length=0)\n",
    "sns.heatmap(pd.DataFrame(class_report1).iloc[:-1, :-3].T, square=True, cbar=False,cmap='Blues', annot=True) \n",
    "plt.show()"
   ]
  },
  {
   "cell_type": "code",
   "execution_count": null,
   "id": "9f60263e-21a5-4be5-89db-e3d0db42cbd7",
   "metadata": {},
   "outputs": [],
   "source": [
    "model.save('model/base5_train_test_tl.keras')"
   ]
  },
  {
   "cell_type": "code",
   "execution_count": null,
   "id": "4059e727-d8d8-42f1-8c62-9be165dabc03",
   "metadata": {},
   "outputs": [],
   "source": [
    "# adding normal column in data label\n",
    "normal=data_labels['label']\n",
    "normal=normal.replace(1,2)\n",
    "normal=normal.replace(0,1)\n",
    "normal=normal.replace(2,0)\n",
    "data_labels.insert(1, 'normal', normal)"
   ]
  },
  {
   "cell_type": "code",
   "execution_count": null,
   "id": "3b0b0f1c-a292-472f-bb1d-d1553229fb0d",
   "metadata": {},
   "outputs": [],
   "source": [
    "df1 = pd.DataFrame(np.round(predicted1))\n",
    "df1.index = data.index\n",
    "df1.columns = ['pred_attack']\n",
    "df1['pred_normal'] = 1- df1['pred_attack']\n",
    "df1['attack']=data['label']\n",
    "df1['category']=data['attack_cat']\n",
    "df1['normal']=data_labels['normal']\n",
    "df1.head()"
   ]
  },
  {
   "cell_type": "code",
   "execution_count": null,
   "id": "4d3bef2e-a2a0-4965-959e-840126034f72",
   "metadata": {},
   "outputs": [],
   "source": [
    "df1.value_counts('category')"
   ]
  },
  {
   "cell_type": "code",
   "execution_count": null,
   "id": "c5e9248f-b396-4bf7-86ab-11af21311a67",
   "metadata": {},
   "outputs": [],
   "source": [
    "dff1=df1\n",
    "df1=pd.get_dummies(df1)\n",
    "df1=round(df1)"
   ]
  },
  {
   "cell_type": "code",
   "execution_count": null,
   "id": "24facf56-47eb-490c-b1e3-4285704d81f3",
   "metadata": {},
   "outputs": [],
   "source": [
    "normal=df1.loc[df1['category_normal'] == 1]\n",
    "normal=normal[['pred_attack', 'pred_normal', 'attack', 'normal']]\n",
    "normal_pred=normal[['pred_attack','pred_normal']]\n",
    "normal_check=normal[['attack','normal']]\n",
    "\n",
    "generic=df1.loc[df1['category_generic'] == 1]\n",
    "generic=generic[['pred_attack', 'pred_normal', 'attack', 'normal']]\n",
    "generic_pred=generic[['pred_attack','pred_normal']]\n",
    "generic_check=generic[['attack','normal']]\n",
    "\n",
    "dos=df1.loc[df1['category_dos'] == 1]\n",
    "dos=dos[['pred_attack', 'pred_normal', 'attack', 'normal']]\n",
    "dos_pred=dos[['pred_attack','pred_normal']]\n",
    "dos_check=dos[['attack','normal']]\n",
    "\n",
    "reconnaissance=df1.loc[df1['category_reconnaissance'] == 1]\n",
    "reconnaissance=reconnaissance[['pred_attack', 'pred_normal', 'attack', 'normal']]\n",
    "reconnaissance_pred=reconnaissance[['pred_attack','pred_normal']]\n",
    "reconnaissance_check=reconnaissance[['attack','normal']]"
   ]
  },
  {
   "cell_type": "code",
   "execution_count": null,
   "id": "f9333ab8-c70a-46f2-b962-f1f4f2b88094",
   "metadata": {},
   "outputs": [],
   "source": [
    "#Correctly detected\n",
    "countdata=pd.DataFrame()\n",
    "normal_c = normal['pred_normal'] * normal['normal']\n",
    "generic_c = generic['pred_attack'] * generic['attack']\n",
    "reconnaissance_c = reconnaissance['pred_attack'] * reconnaissance['attack']\n",
    "dos_c = dos['pred_attack'] * dos['attack']"
   ]
  },
  {
   "cell_type": "code",
   "execution_count": null,
   "id": "5d659eae-d350-4bf0-a730-678c1d10c449",
   "metadata": {},
   "outputs": [],
   "source": [
    "# Count 0 and 1\n",
    "normal_c0 = (normal_c == 0).sum()\n",
    "normal_c1 = len(normal) - normal_c0\n",
    "\n",
    "reconnaissance_c0 = (reconnaissance_c == 0).sum()\n",
    "reconnaissance_c1 = len(reconnaissance_c) - reconnaissance_c0\n",
    "\n",
    "generic_c0 = (generic_c == 0).sum()\n",
    "generic_c1 = len(generic) - generic_c0\n",
    "\n",
    "dos_c0 = (dos_c == 0).sum()\n",
    "dos_c1 = len(dos) - dos_c0"
   ]
  },
  {
   "cell_type": "code",
   "execution_count": null,
   "id": "7dcec572-e1f6-4a40-98be-f8aac3c56c25",
   "metadata": {},
   "outputs": [],
   "source": [
    "normal_0, normal_1 = normal_c0*100 / len(normal), normal_c1*100 / len(normal)\n",
    "print(\"There are {:.2f} % of NO detected and {:.2f} % of detected samples\".format(normal_0, normal_1))"
   ]
  },
  {
   "cell_type": "code",
   "execution_count": null,
   "id": "66c26ab9-1ec8-4d94-8f3a-d89020c3f15e",
   "metadata": {},
   "outputs": [],
   "source": [
    "generic_0, generic_1 = generic_c0*100 / len(generic), generic_c1*100 / len(generic)\n",
    "print(\"There are {:.2f} % of NO detected and {:.2f} % of detected samples\".format(generic_0, generic_1))"
   ]
  },
  {
   "cell_type": "code",
   "execution_count": null,
   "id": "6489ebf2-bc98-4b1b-85d8-e495ab19e3ad",
   "metadata": {},
   "outputs": [],
   "source": [
    "reconnaissance_0, reconnaissance_1 = reconnaissance_c0*100 / len(reconnaissance), reconnaissance_c1*100 / len(reconnaissance)\n",
    "print(\"There are {:.2f} % of NO detected and {:.2f} % of detected samples\".format(reconnaissance_0, reconnaissance_1))"
   ]
  },
  {
   "cell_type": "code",
   "execution_count": null,
   "id": "2a7592f1-a667-411e-8851-5a7b06d821fd",
   "metadata": {},
   "outputs": [],
   "source": [
    "dos_0, dos_1 = dos_c0*100 / len(dos), dos_c1*100 / len(dos)\n",
    "print(\"There are {:.2f} % of NO detected and {:.2f} % of detected samples\".format(dos_0, dos_1))"
   ]
  },
  {
   "cell_type": "code",
   "execution_count": null,
   "id": "0dfe181a-3a85-4a04-b205-1b7be96618b5",
   "metadata": {},
   "outputs": [],
   "source": [
    "summary1 = pd.DataFrame({\"Traffic\":\n",
    "                   [\"Normal\", \"generic\", \"reconnaissance\", \"dos\"],\n",
    "                   \"Detected %\": [normal_1, generic_1, reconnaissance_1 ,dos_1],\n",
    "                   \"No Detected %\": [normal_0, generic_0, reconnaissance_0 ,dos_0],\n",
    "                   \"Detected Samples\": [normal_c1, generic_c1, reconnaissance_c1 ,dos_c1],\n",
    "                   \"No Detected Samples\": [normal_c0, generic_c0, reconnaissance_c0 ,dos_c0]})"
   ]
  },
  {
   "cell_type": "code",
   "execution_count": null,
   "id": "6bce8598-f88a-419e-9f27-1e02cb6de3c1",
   "metadata": {},
   "outputs": [],
   "source": [
    "dff1['category_pred'] = np.where(((df1['attack'] == 1) & (df1['pred_attack'] == 1)) | ((df1['normal'] == 1) & (df1['pred_normal'] == 1)), 'Detected', 'No Detected')\n"
   ]
  },
  {
   "cell_type": "code",
   "execution_count": null,
   "id": "cfca3d78-f86e-4a10-9303-ad6826ca5df0",
   "metadata": {},
   "outputs": [],
   "source": [
    "data_plot1=dff1[['category', 'category_pred']]"
   ]
  },
  {
   "cell_type": "code",
   "execution_count": null,
   "id": "c3cdad13-3836-448f-8462-1d3ffeab4c17",
   "metadata": {},
   "outputs": [],
   "source": [
    "data_plot1"
   ]
  },
  {
   "cell_type": "code",
   "execution_count": null,
   "id": "f879b16d-3771-498a-806b-b2c4bf8a7d2f",
   "metadata": {},
   "outputs": [],
   "source": [
    "# Plotting target label distribution\n",
    "plt.figure(figsize=(15,5))\n",
    "sns.set_theme(style=\"darkgrid\")\n",
    "sns.countplot(x=data_plot1['category'], data=data_plot1, palette='CMRmap', hue=data_plot1['category_pred'])\n",
    "plt.title('Deteksi serangan pada Base 4 Test dengan TL', weight='bold', fontsize='18')\n",
    "plt.xticks(weight='bold', fontsize=12)\n",
    "plt.show()"
   ]
  },
  {
   "cell_type": "code",
   "execution_count": null,
   "id": "35c4c29e-c132-41b9-9b4b-e3ec293d68d5",
   "metadata": {},
   "outputs": [],
   "source": [
    "summary1"
   ]
  },
  {
   "cell_type": "code",
   "execution_count": null,
   "id": "8368eb9f-9c6c-47c3-bc0e-d9b023be1600",
   "metadata": {},
   "outputs": [],
   "source": [
    "summary1.to_csv('~/04_Semester_4/revisi/csv_files/summary_base5_train_test_tl.csv', index=False)"
   ]
  },
  {
   "cell_type": "markdown",
   "id": "10f78e09-cc9a-4114-8bab-f750827468a9",
   "metadata": {},
   "source": [
    "#04_Semester_4/revisi/model/model_iotbot_10.keras\n",
    "model.save('../model/base5_train_test_tl.keras')"
   ]
  },
  {
   "cell_type": "markdown",
   "id": "116a4245-6091-49e0-90b5-18b143397661",
   "metadata": {},
   "source": [
    "## Base 4 Train & First Test"
   ]
  },
  {
   "cell_type": "code",
   "execution_count": null,
   "id": "9e07af28-a805-45b8-bdd1-6b2b965dc3a0",
   "metadata": {},
   "outputs": [],
   "source": [
    "# Load base 4 data train\n",
    "data_train = pd.read_csv('~/04_Semester_4/revisi/csv_files/UNSW_NB15_base4_train.csv', low_memory=False)"
   ]
  },
  {
   "cell_type": "code",
   "execution_count": null,
   "id": "a0862c1a-91e3-47c3-98ae-6b11f83f2ff6",
   "metadata": {},
   "outputs": [],
   "source": [
    "# Select the 'proto' and 'state' values\n",
    "data_train= data_train.loc[(data_train['proto'] == 'tcp') | (data_train['proto'] =='udp') | (data_train['proto'] =='icmp') | (data_train['proto'] =='arp') | (data_train['proto'] =='ipv6-icmp') | (data_train['proto'] =='igmp') | (data_train['proto'] =='rarp'), :]\n",
    "data_train = data_train.loc[(data_train['state'] == 'RST') | (data_train['state'] =='REQ') | (data_train['state'] =='INT') | (data_train['state'] =='FIN') | (data_train['state'] =='CON') | (data_train['state'] =='ECO') | (data_train['state'] =='ACC') | (data_train['state'] =='PAR'), :]\n",
    "\n",
    "# Extracting dataset labels\n",
    "data_labels=data_train[['label']]\n",
    "\n",
    "# Drop the invalid features and select data features\n",
    "data_features=data_train[['proto','srcip','sport','dstip','dsport','spkts','dpkts','sbytes','dbytes','state','stime','ltime','dur']]"
   ]
  },
  {
   "cell_type": "code",
   "execution_count": null,
   "id": "1cbd014d-f793-4f33-bca5-3bd6ec0971b1",
   "metadata": {},
   "outputs": [],
   "source": [
    "# Preprocess IP and ports features\n",
    "# IP Source Address\n",
    "data_features['srcip'] = data_features['srcip'].apply(lambda x: x.split(\".\")[-1])\n",
    "data_features['srcip'] = data_features['srcip'].apply(lambda x: x.split(\":\")[-1])\n",
    "data_features['srcip'] = data_features['srcip'].apply(lambda x: int(x, 16))\n",
    "\n",
    "# IP Destination Address\n",
    "data_features['dstip'] = data_features['dstip'].apply(lambda x: x.split(\".\")[-1])\n",
    "data_features['dstip'] = data_features['dstip'].apply(lambda x: x.split(\":\")[-1])\n",
    "data_features['dstip'] = data_features['dstip'].apply(lambda x: int(x, 16))\n",
    "\n",
    "# Ports\n",
    "data_features['sport'] = data_features['sport'].apply(lambda x: x.replace('0x','') if \"0x\" in str(x) else x)\n",
    "data_features['dsport'] = data_features['dsport'].apply(lambda x: x.replace('0x','') if \"0x\" in str(x) else x)\n",
    "\n",
    "# Convert all ports with 0 decimal, and HEX to DEC\n",
    "data_features['sport'] = data_features['sport'].apply(lambda x: str(x)[:-2] if str(x)[-2:] == '.0' else str(x))\n",
    "data_features['sport'] = data_features['sport'].apply(lambda x: -1 if str(x).isalpha()==True else int(x,16))\n",
    "\n",
    "data_features['dsport'] = data_features['dsport'].apply(lambda x: str(x)[:-2] if str(x)[-2:] == '.0' else str(x))\n",
    "data_features['dsport'] = data_features['dsport'].apply(lambda x: \"None\" if x==\"-\" else x)\n",
    "data_features['dsport'] = data_features['dsport'].apply(lambda x: -1 if str(x).isalpha()==True else int(x,16))\n",
    "\n",
    "# Convert some fields to logarithmic\n",
    "log1p_col = ['dur', 'sbytes', 'dbytes', 'spkts']\n",
    "\n",
    "for col in log1p_col:\n",
    "    data_features[col] = data_features[col].apply(np.log1p)\n",
    "\n",
    "# Transform to One hot encoding - FEATURES\n",
    "data_features=pd.get_dummies(data_features)\n",
    "\n",
    "# Normalize all data features\n",
    "data_features = StandardScaler().fit_transform(data_features)\n",
    "\n",
    "#Add dimension to data features\n",
    "data_features = np.expand_dims(data_features, axis=2)"
   ]
  },
  {
   "cell_type": "code",
   "execution_count": null,
   "id": "6c16b8c2-8cbd-4153-b720-76cb4d3192d1",
   "metadata": {},
   "outputs": [],
   "source": [
    "# original dataset\n",
    "x_train2, y_train2 = data_features, data_labels"
   ]
  },
  {
   "cell_type": "code",
   "execution_count": null,
   "id": "3e556449-0db4-446d-8aad-32a306e65b42",
   "metadata": {},
   "outputs": [],
   "source": [
    "print(x_train2.shape)\n",
    "print(y_train2.shape)\n",
    "print(y_train2.value_counts())"
   ]
  },
  {
   "cell_type": "code",
   "execution_count": null,
   "id": "0de222e7-645f-45f0-9eac-36a9a9b58107",
   "metadata": {},
   "outputs": [],
   "source": [
    "# Load base 5+ test\n",
    "data = pd.read_csv('~/04_Semester_4/revisi/csv_files/UNSW_NB15_first_test.csv', low_memory=False)"
   ]
  },
  {
   "cell_type": "code",
   "execution_count": null,
   "id": "99e0c85c-fe24-412e-b0d5-c6290b38e700",
   "metadata": {},
   "outputs": [],
   "source": [
    "# Select the 'proto' and 'state' values that I want\n",
    "data = data.loc[(data['proto'] == 'tcp') | (data['proto'] =='udp') | (data['proto'] =='icmp') | (data['proto'] =='arp') | (data['proto'] =='ipv6-icmp') | (data['proto'] =='igmp') | (data['proto'] =='rarp'), :]\n",
    "data = data.loc[(data['state'] == 'RST') | (data['state'] =='REQ') | (data['state'] =='INT') | (data['state'] =='FIN') | (data['state'] =='CON') | (data['state'] =='ECO') | (data['state'] =='ACC') | (data['state'] =='PAR'), :]\n",
    "\n",
    "# Extracting dataset labels\n",
    "data_labels=data[['label']]\n",
    "\n",
    "# Drop the invalid features and select interested data features\n",
    "data_features=data[['proto','srcip','sport','dstip','dsport','spkts','dpkts','sbytes','dbytes','state','stime','ltime','dur']]\n",
    "\n",
    "\"\"\"PREPROCESSING\"\"\"\n",
    "\n",
    "# Preprocess IP and ports features\n",
    "# IP Source Address\n",
    "data_features['srcip'] = data_features['srcip'].apply(lambda x: x.split(\".\")[-1])\n",
    "data_features['srcip'] = data_features['srcip'].apply(lambda x: x.split(\":\")[-1])\n",
    "data_features['srcip'] = data_features['srcip'].apply(lambda x: int(x, 16))\n",
    "\n",
    "# IP Destination Address\n",
    "data_features['dstip'] = data_features['dstip'].apply(lambda x: x.split(\".\")[-1])\n",
    "data_features['dstip'] = data_features['dstip'].apply(lambda x: x.split(\":\")[-1])\n",
    "data_features['dstip'] = data_features['dstip'].apply(lambda x: int(x, 16))\n",
    "\n",
    "# Ports\n",
    "data_features['sport'] = data_features['sport'].apply(lambda x: x.replace('0x','') if \"0x\" in str(x) else x)\n",
    "data_features['dsport'] = data_features['dsport'].apply(lambda x: x.replace('0x','') if \"0x\" in str(x) else x)\n",
    "\n",
    "# Convert all ports with 0 decimal, and HEX to DEC\n",
    "data_features['sport'] = data_features['sport'].apply(lambda x: str(x)[:-2] if str(x)[-2:] == '.0' else str(x))\n",
    "data_features['sport'] = data_features['sport'].apply(lambda x: -1 if str(x).isalpha()==True else int(x,16))\n",
    "\n",
    "data_features['dsport'] = data_features['dsport'].apply(lambda x: str(x)[:-2] if str(x)[-2:] == '.0' else str(x))\n",
    "data_features['dsport'] = data_features['dsport'].apply(lambda x: \"None\" if x==\"-\" else x)\n",
    "data_features['dsport'] = data_features['dsport'].apply(lambda x: -1 if str(x).isalpha()==True else int(x,16))\n",
    "\n",
    "# Convert field to int format\n",
    "data_features['srcip'] = data_features['srcip'].astype(int)\n",
    "data_features['sport'] = data_features['sport'].astype(int)\n",
    "data_features['dstip'] = data_features['dstip'].astype(int)\n",
    "data_features['dsport'] = data_features['dsport'].astype(int)\n",
    "\n",
    "# Convert some fields to logarithmic\n",
    "log1p_col = ['dur', 'sbytes', 'dbytes', 'spkts']\n",
    "\n",
    "for col in log1p_col:\n",
    "    data_features[col] = data_features[col].apply(np.log1p)\n",
    "\n",
    "  \n",
    "# Insert the new column in data labels\n",
    "data_labels = pd.get_dummies(data_labels)\n",
    "\n",
    "# Transform to One hot encoding - FEATURES\n",
    "data_features=pd.get_dummies(data_features)\n",
    "\n",
    "# Normalize all data features\n",
    "data_features = StandardScaler().fit_transform(data_features)\n",
    "\n",
    "#Add dimension to data features\n",
    "data_features = np.expand_dims(data_features, axis=2)\n",
    "\n",
    "x_test2, y_test2 = data_features, data_labels"
   ]
  },
  {
   "cell_type": "code",
   "execution_count": null,
   "id": "4c19b78f-14ee-45ef-bad0-622f1604fdd5",
   "metadata": {},
   "outputs": [],
   "source": [
    "print(x_test2.shape)\n",
    "print(y_test2.shape)\n",
    "print(y_test2.value_counts())"
   ]
  },
  {
   "cell_type": "code",
   "execution_count": null,
   "id": "cac7f837-7a17-4469-b6c7-58e3194147f0",
   "metadata": {},
   "outputs": [],
   "source": [
    "# Early Stopping\n",
    "\n",
    "filepath = '~/project_dl/finale/tmp/checkpoint.model.keras' # define where the model is saved\n",
    "callbacks = [\n",
    "        keras.callbacks.EarlyStopping(\n",
    "            monitor = 'val_loss', # Use accuracy to monitor the model\n",
    "            patience = 5 # Stop after 3 steps with lower accuracy\n",
    "        ),\n",
    "        keras.callbacks.ModelCheckpoint(\n",
    "            filepath = filepath, # file where the checkpoint is saved\n",
    "            monitor = 'val_loss', # Don't overwrite the saved model unless val_loss is worse\n",
    "            save_best_only = True)]# Only save model if it is the best"
   ]
  },
  {
   "cell_type": "code",
   "execution_count": null,
   "id": "4e7c7f74-6f20-4fb0-b22a-f30dbbb166ca",
   "metadata": {},
   "outputs": [],
   "source": [
    "# Clear session and Memory Growth\n",
    "clear_session()\n",
    "\n",
    "# Create a Strategy.\n",
    "mixed_precision.set_global_policy('mixed_float16')\n",
    "\n",
    "if tf.config.list_physical_devices('GPU'):\n",
    "    strategy = tf.distribute.MirroredStrategy()\n",
    "else:  # Use the Default Strategy\n",
    "    strategy = tf.distribute.get_strategy()\n",
    "\n",
    "print(\"Number of devices: {}\".format(strategy.num_replicas_in_sync))\n",
    "\n",
    "# Open a strategy scope.\n",
    "with strategy.scope():\n",
    "\n",
    "    model1=model_cnn()\n",
    "\n",
    "    #x_train, x_test, y_train, y_test = train_test_split(data_features, data_labels, train_size=0.75, random_state=42,shuffle=True)\n",
    "\n",
    "\n",
    "# Train the model on all available devices. 3e-5\n",
    "history = model1.fit(x_train2, y_train2, validation_data=(x_test2, y_test2), epochs=50, batch_size=2048, callbacks=callbacks)\n",
    "history2 = history"
   ]
  },
  {
   "cell_type": "code",
   "execution_count": null,
   "id": "46a21b20-e973-4947-8e35-6a06ea89317c",
   "metadata": {},
   "outputs": [],
   "source": [
    "#Evaluate the model\n",
    "# 174/174 [==============] - 12s 68ms/step - loss: 0.0234 - accuracy: 0.9919 - val_loss: 0.2111 - val_accuracy: 0.9466, 5e-4, epoch 20\n",
    "# 174/174 [==============] - 12s 67ms/step - loss: 0.0263 - accuracy: 0.9914 - val_loss: 0.2188 - val_accuracy: 0.9380, 1e-4, epoch 22\n",
    "# 174/174 [==============] - 12s 68ms/step - loss: 0.0270 - accuracy: 0.9911 - val_loss: 0.1964 - val_accuracy: 0.9469, 6e-5, epoch 30\n",
    "# 174/174 [==============] - 12s 68ms/step - loss: 0.0306 - accuracy: 0.9901 - val_loss: 0.2595 - val_accuracy: 0.9177, 4e-5, epoch 23\n",
    "# 174/174 [==============] - 12s 66ms/step - loss: 0.0343 - accuracy: 0.9889 - val_loss: 0.2713 - val_accuracy: 0.9055, 2e-5, epoch 30\n",
    "\n",
    "# 348/348 [==============] - 14s 40ms/step - loss: 0.0278 - accuracy: 0.9908 - val_loss: 0.2063 - val_accuracy: 0.9369, 4e-5\n",
    "# 87/87 [================] - 16s 187ms/step - loss: 0.0292 - accuracy: 0.9908 - val_loss: 0.1723 - val_accuracy: 0.9559, 6e-5\n",
    "# 87/87 [================] - 16s 188ms/step - loss: 0.0277 - accuracy: 0.9912 - val_loss: 0.1570 - val_accuracy: 0.9678\n",
    "# 87/87 [================] - 16s 186ms/step - loss: 0.0283 - accuracy: 0.9909 - val_loss: 0.1604 - val_accuracy: 0.9637, 6.5e-5\n",
    "# 87/87 [================] - 16s 188ms/step - loss: 0.0266 - accuracy: 0.9915 - val_loss: 0.1595 - val_accuracy: 0.9667\n",
    "# 87/87 [================] - 16s 190ms/step - loss: 0.0278 - accuracy: 0.9912 - val_loss: 0.1502 - val_accuracy: 0.9669, 7e-5\n",
    "# 87/87 [================] - 16s 184ms/step - loss: 0.0270 - accuracy: 0.9914 - val_loss: 0.1623 - val_accuracy: 0.9654\n",
    "# 87/87 [================] - 16s 186ms/step - loss: 0.0279 - accuracy: 0.9910 - val_loss: 0.1629 - val_accuracy: 0.9679, 7.5e-5\n",
    "# 87/87 [================] - 16s 184ms/step - loss: 0.0276 - accuracy: 0.9911 - val_loss: 0.1593 - val_accuracy: 0.9608, 8e-5\n",
    "\n",
    "# test loss, test acc: [0.15425102412700653, 0.9671387076377869]\n",
    "\n",
    "results2 = model1.evaluate(x_test2, y_test2, verbose=1)\n",
    "print(\"test loss, test acc:\", results2)"
   ]
  },
  {
   "cell_type": "code",
   "execution_count": null,
   "id": "f5f5327a-8cb1-4ba0-86fc-b308c04b76d4",
   "metadata": {},
   "outputs": [],
   "source": [
    "# summarize history for loss\n",
    "train_loss = history.history['loss']\n",
    "test_loss = history.history['val_loss']\n",
    "x = list(range(1, len(test_loss) + 1))\n",
    "plt.plot(x, test_loss, color = 'orange', label = 'Test loss')\n",
    "plt.plot(x, train_loss, label = 'Training loss')\n",
    "plt.legend()\n",
    "plt.grid(visible=True)\n",
    "plt.xlabel('Epoch')\n",
    "plt.ylabel('Loss')\n",
    "plt.title('Loss vs. Epoch', weight='bold', fontsize=18)\n",
    "plt.show()"
   ]
  },
  {
   "cell_type": "code",
   "execution_count": null,
   "id": "cdca6fbe-58fd-4a6a-8476-34fb69695f3b",
   "metadata": {},
   "outputs": [],
   "source": [
    "# summarize history for accuracy\n",
    "train_acc = history.history['accuracy']\n",
    "test_acc = history.history['val_accuracy']\n",
    "x = list(range(1, len(test_acc) + 1))\n",
    "plt.plot(x, test_acc, color = 'orange', label = 'Test accuracy')\n",
    "plt.plot(x, train_acc, label = 'Training accuracy')\n",
    "plt.legend()\n",
    "plt.grid(visible=True)\n",
    "plt.xlabel('Epoch')\n",
    "plt.ylabel('Accuracy')\n",
    "plt.title('Accuracy vs. Epoch', weight='bold', fontsize=18)\n",
    "plt.show()"
   ]
  },
  {
   "cell_type": "code",
   "execution_count": null,
   "id": "8ea848ab-91d5-49b2-8841-b4dce09e116e",
   "metadata": {},
   "outputs": [],
   "source": [
    "# Prediction\n",
    "predicted2 = model1.predict(x_test2)"
   ]
  },
  {
   "cell_type": "code",
   "execution_count": null,
   "id": "262a91e3-2dc4-4169-9ee7-c2126d0279f9",
   "metadata": {},
   "outputs": [],
   "source": [
    "df2 = pd.DataFrame(y_test2)\n",
    "df2['predicted'] = predicted2"
   ]
  },
  {
   "cell_type": "code",
   "execution_count": null,
   "id": "4544633f-bf6d-4cef-9ea2-7d23e87c3503",
   "metadata": {},
   "outputs": [],
   "source": [
    "cf2 = confusion_matrix(y_test2, np.round(predicted2))"
   ]
  },
  {
   "cell_type": "code",
   "execution_count": null,
   "id": "6a9de980-854a-4d6d-b2ad-041a354c9edd",
   "metadata": {},
   "outputs": [],
   "source": [
    "cmatrix_df2 = pd.DataFrame(cf2, index = ['Attack', 'Normal'], columns = ['Attack', 'Normal'])\n",
    "plt.title('Confusion matrix of the base 5+ test with TL', weight='bold', fontsize=14)\n",
    "plt.tick_params(length=0)\n",
    "plt.xlabel('Attacks')\n",
    "plt.ylabel('Predicted Attacks')\n",
    "sns.heatmap(cmatrix_df2, annot=True, fmt=\"d\", cbar=False, cmap='Blues')\n",
    "plt.show()"
   ]
  },
  {
   "cell_type": "code",
   "execution_count": null,
   "id": "9033fcf6-f70c-43e6-a7fd-5523ba75d0d9",
   "metadata": {},
   "outputs": [],
   "source": [
    "# Precision, Recall & F1 Score\n",
    "class_report2 = classification_report(y_test2, np.round(predicted2))\n",
    "print(class_report2)"
   ]
  },
  {
   "cell_type": "code",
   "execution_count": null,
   "id": "873f4a2d-9798-481e-a13b-f53c5ba1086c",
   "metadata": {},
   "outputs": [],
   "source": [
    "# Precision, Recall & F1-Score\n",
    "class_report2 = classification_report(y_test2, np.round(predicted2), target_names = ['Attack', 'Normal'],output_dict=True) \n",
    "plt.tick_params(axis='both', which='major', labelsize=10, labelbottom = False, bottom=False, top = False, labeltop=True)\n",
    "plt.tick_params(length=0)\n",
    "sns.heatmap(pd.DataFrame(class_report2).iloc[:-1, :-3].T, square=True, cbar=False,cmap='Blues', annot=True) \n",
    "plt.show()"
   ]
  },
  {
   "cell_type": "code",
   "execution_count": null,
   "id": "29cc3f95-cce5-433d-ac47-d359a0435f27",
   "metadata": {},
   "outputs": [],
   "source": [
    "# adding normal column in data label\n",
    "normal=data_labels['label']\n",
    "normal=normal.replace(1,2)\n",
    "normal=normal.replace(0,1)\n",
    "normal=normal.replace(2,0)\n",
    "data_labels.insert(1, 'normal', normal)"
   ]
  },
  {
   "cell_type": "code",
   "execution_count": null,
   "id": "83a55272-9c65-4e0a-ba0c-86cb56d0de0b",
   "metadata": {},
   "outputs": [],
   "source": [
    "df2 = pd.DataFrame(np.round(predicted2))\n",
    "df2.index = data.index\n",
    "df2.columns = ['pred_attack']\n",
    "df2['pred_normal'] = 1- df2['pred_attack']\n",
    "df2['attack']=data['label']\n",
    "df2['category']=data['attack_cat']\n",
    "df2['normal']=data_labels['normal']\n",
    "df2.head()"
   ]
  },
  {
   "cell_type": "code",
   "execution_count": null,
   "id": "0587dcbf-be72-453c-956d-b16d75637c51",
   "metadata": {},
   "outputs": [],
   "source": [
    "df2.value_counts('category')"
   ]
  },
  {
   "cell_type": "code",
   "execution_count": null,
   "id": "6e6ef09a-39d9-4f0b-ab9b-b706bb4963eb",
   "metadata": {},
   "outputs": [],
   "source": [
    "dff2=df2\n",
    "df2=pd.get_dummies(df2)\n",
    "df2=round(df2)"
   ]
  },
  {
   "cell_type": "code",
   "execution_count": null,
   "id": "7ceee6b2-9422-44f8-9e28-c8032f08a966",
   "metadata": {},
   "outputs": [],
   "source": [
    "normal=df2.loc[df2['category_normal'] == 1]\n",
    "normal=normal[['pred_attack', 'pred_normal', 'attack', 'normal']]\n",
    "normal_pred=normal[['pred_attack','pred_normal']]\n",
    "normal_check=normal[['attack','normal']]\n",
    "\n",
    "exploits=df2.loc[df2['category_exploits'] == 1]\n",
    "exploits=exploits[['pred_attack', 'pred_normal', 'attack', 'normal']]\n",
    "exploits_pred=exploits[['pred_attack','pred_normal']]\n",
    "exploits_check=exploits[['attack','normal']]\n",
    "\n",
    "fuzzers=df2.loc[df2['category_fuzzers'] == 1]\n",
    "fuzzers=fuzzers[['pred_attack', 'pred_normal', 'attack', 'normal']]\n",
    "fuzzers_pred=fuzzers[['pred_attack','pred_normal']]\n",
    "fuzzers_check=fuzzers[['attack','normal']]\n",
    "\n",
    "analysis=df2.loc[df2['category_analysis'] == 1]\n",
    "analysis=analysis[['pred_attack', 'pred_normal', 'attack', 'normal']]\n",
    "analysis_pred=analysis[['pred_attack','pred_normal']]\n",
    "analysis_check=analysis[['attack','normal']]\n",
    "\n",
    "backdoor=df2.loc[df2['category_backdoor'] == 1]\n",
    "backdoor=backdoor[['pred_attack', 'pred_normal', 'attack', 'normal']]\n",
    "backdoor_pred=backdoor[['pred_attack','pred_normal']]\n",
    "backdoor_check=backdoor[['attack','normal']]\n",
    "\n",
    "shellcode=df2.loc[df2['category_shellcode'] == 1]\n",
    "shellcode=shellcode[['pred_attack', 'pred_normal', 'attack', 'normal']]\n",
    "shellcode_pred=shellcode[['pred_attack','pred_normal']]\n",
    "shellcode_check=shellcode[['attack','normal']]\n",
    "\n",
    "worms=df2.loc[df2['category_worms'] == 1]\n",
    "worms=worms[['pred_attack', 'pred_normal', 'attack', 'normal']]\n",
    "worms_pred=worms[['pred_attack','pred_normal']]\n",
    "worms_check=worms[['attack','normal']]"
   ]
  },
  {
   "cell_type": "code",
   "execution_count": null,
   "id": "c83972f3-a5e0-42bf-8959-62eeb6ffc0a5",
   "metadata": {},
   "outputs": [],
   "source": [
    "#Correctly detected\n",
    "countdata=pd.DataFrame()\n",
    "normal_c = normal['pred_normal'] * normal['normal']\n",
    "exploits_c = exploits['pred_attack'] * exploits['attack']\n",
    "fuzzers_c = fuzzers['pred_attack'] * fuzzers['attack']\n",
    "analysis_c = analysis['pred_attack'] * analysis['attack']\n",
    "backdoor_c = backdoor['pred_attack'] * backdoor['attack']\n",
    "shellcode_c = shellcode['pred_attack'] * shellcode['attack']\n",
    "worms_c = worms['pred_attack'] * worms['attack']"
   ]
  },
  {
   "cell_type": "code",
   "execution_count": null,
   "id": "df33b365-bce0-4bf8-bcf2-17ed476d330e",
   "metadata": {},
   "outputs": [],
   "source": [
    "# Count 0 and 1\n",
    "normal_c0 = (normal_c == 0).sum()\n",
    "normal_c1 = len(normal) - normal_c0\n",
    "\n",
    "exploits_c0 = (exploits_c == 0).sum()\n",
    "exploits_c1 = len(exploits) - exploits_c0\n",
    "\n",
    "fuzzers_c0 = (fuzzers_c == 0).sum()\n",
    "fuzzers_c1 = len(fuzzers) - fuzzers_c0\n",
    "\n",
    "analysis_c0 = (analysis_c == 0).sum()\n",
    "analysis_c1 = len(analysis) - analysis_c0\n",
    "\n",
    "backdoor_c0 = (backdoor_c == 0).sum()\n",
    "backdoor_c1 = len(backdoor) - backdoor_c0\n",
    "\n",
    "shellcode_c0 = (shellcode_c == 0).sum()\n",
    "shellcode_c1 = len(shellcode) - shellcode_c0\n",
    "\n",
    "worms_c0 = (worms_c == 0).sum()\n",
    "worms_c1 = len(worms) - worms_c0"
   ]
  },
  {
   "cell_type": "code",
   "execution_count": null,
   "id": "213bfd63-fbe6-4eeb-a0a9-fd9962b15886",
   "metadata": {},
   "outputs": [],
   "source": [
    "normal_0, normal_1 = normal_c0*100 / len(normal), normal_c1*100 / len(normal)\n",
    "print(\"There are {:.2f} % of NO detected and {:.2f} % of detected samples\".format(normal_0, normal_1))"
   ]
  },
  {
   "cell_type": "code",
   "execution_count": null,
   "id": "74f0a251-4122-4696-a88f-1fcca5a0d898",
   "metadata": {},
   "outputs": [],
   "source": [
    "analysis_0, analysis_1 = analysis_c0*100 / len(analysis), analysis_c1*100 / len(analysis)\n",
    "print(\"There are {:.2f} % of NO detected and {:.2f} % of detected samples\".format(analysis_0, analysis_1))"
   ]
  },
  {
   "cell_type": "code",
   "execution_count": null,
   "id": "36af44f7-6326-4c4e-beb4-6f9937e8b5f5",
   "metadata": {},
   "outputs": [],
   "source": [
    "backdoor_0, backdoor_1 = backdoor_c0*100 / len(backdoor), backdoor_c1*100 / len(backdoor)\n",
    "print(\"There are {:.2f} % of NO detected and {:.2f} % of detected samples\".format(backdoor_0, backdoor_1))"
   ]
  },
  {
   "cell_type": "code",
   "execution_count": null,
   "id": "05a44c16-8a45-4210-a209-230c22d1f6b8",
   "metadata": {},
   "outputs": [],
   "source": [
    "shellcode_0, shellcode_1 = shellcode_c0*100 / len(shellcode), shellcode_c1*100 / len(shellcode)\n",
    "print(\"There are {:.2f} % of NO detected and {:.2f} % of detected samples\".format(shellcode_0, shellcode_1))"
   ]
  },
  {
   "cell_type": "code",
   "execution_count": null,
   "id": "8780c243-58fa-4d98-8cb6-ebabbba3320e",
   "metadata": {},
   "outputs": [],
   "source": [
    "worms_0, worms_1 = worms_c0*100 / len(worms), worms_c1*100 / len(worms)\n",
    "print(\"There are {:.2f} % of NO detected and {:.2f} % of detected samples\".format(worms_0, worms_1))"
   ]
  },
  {
   "cell_type": "code",
   "execution_count": null,
   "id": "d7826379-4a14-41b9-b9a4-1242765ce303",
   "metadata": {},
   "outputs": [],
   "source": [
    "exploits_0, exploits_1 = exploits_c0*100 / len(exploits), exploits_c1*100 / len(exploits)\n",
    "print(\"There are {:.2f} % of NO detected and {:.2f} % of detected samples\".format(exploits_0, exploits_1))"
   ]
  },
  {
   "cell_type": "code",
   "execution_count": null,
   "id": "3e7fc3be-5fdf-4fdd-b6b1-bb3caf40a835",
   "metadata": {},
   "outputs": [],
   "source": [
    "fuzzers_0, fuzzers_1 = fuzzers_c0*100 / len(fuzzers), fuzzers_c1*100 / len(fuzzers)\n",
    "print(\"There are {:.2f} % of NO detected and {:.2f} % of detected samples\".format(fuzzers_0, fuzzers_1))"
   ]
  },
  {
   "cell_type": "code",
   "execution_count": null,
   "id": "61858a97-e211-4762-934d-0c0d138d6ffe",
   "metadata": {},
   "outputs": [],
   "source": [
    "summary2 = pd.DataFrame({\"Traffic\":\n",
    "                   [\"Normal\", \"Exploits\",\"Fuzzers\", \"Analysis\", \"Backdoor\", \"Shellcode\", \"Worms\"],\n",
    "                   \"Detected %\": [normal_1, exploits_1, fuzzers_1,analysis_1, backdoor_1, shellcode_1, worms_1],\n",
    "                   \"No Detected %\": [normal_0, exploits_0, fuzzers_0, analysis_0, backdoor_0, shellcode_0, worms_0],\n",
    "                   \"Detected Samples\": [normal_c1, exploits_c1, fuzzers_c1, analysis_c1, backdoor_c1, shellcode_c1, worms_c1],\n",
    "                   \"No Detected Samples\": [normal_c0,  exploits_c0, fuzzers_c0, analysis_c0, backdoor_c0, shellcode_c0, worms_c0]})"
   ]
  },
  {
   "cell_type": "code",
   "execution_count": null,
   "id": "37f740a9-bbf4-46eb-92f4-a976ffdfb583",
   "metadata": {},
   "outputs": [],
   "source": [
    "dff2['category_pred'] = np.where(((df2['attack'] == 1) & (df2['pred_attack'] == 1)) | ((df2['normal'] == 1) & (df2['pred_normal'] == 1)), 'Detected', 'No Detected')"
   ]
  },
  {
   "cell_type": "code",
   "execution_count": null,
   "id": "aa65c0df-9083-4b40-9a6d-badab5bac909",
   "metadata": {},
   "outputs": [],
   "source": [
    "data_plot2=dff2[['category', 'category_pred']]"
   ]
  },
  {
   "cell_type": "code",
   "execution_count": null,
   "id": "de6aa2cf-90a9-4215-b361-c8ab0a1895f9",
   "metadata": {},
   "outputs": [],
   "source": [
    "data_plot2"
   ]
  },
  {
   "cell_type": "code",
   "execution_count": null,
   "id": "26f4060b-a9f0-4566-a9a1-918a03f947c5",
   "metadata": {},
   "outputs": [],
   "source": [
    "# Plotting target label distribution\n",
    "plt.figure(figsize=(15,5))\n",
    "sns.set_theme(style=\"darkgrid\")\n",
    "sns.countplot(x=data_plot2['category'], data=data_plot2,palette='CMRmap', hue=data_plot2['category_pred'])\n",
    "plt.title('Deteksi Serangan pada First Test dengan TL', weight='bold', fontsize='18')\n",
    "plt.xticks(weight='bold', fontsize=12)\n",
    "plt.show()"
   ]
  },
  {
   "cell_type": "code",
   "execution_count": null,
   "id": "17181159-bda0-42e8-8c76-15e8a5652675",
   "metadata": {},
   "outputs": [],
   "source": [
    "summary2"
   ]
  },
  {
   "cell_type": "code",
   "execution_count": null,
   "id": "1f9fb7b9-c282-4e36-876d-f24d700ee235",
   "metadata": {},
   "outputs": [],
   "source": [
    "summary2.to_csv('~/04_Semester_4/revisi/csv_files/summary_base5+_test_tl.csv', index=False)"
   ]
  },
  {
   "cell_type": "code",
   "execution_count": null,
   "id": "00f8106c-69d4-4c0a-88a2-875c59f3cf3c",
   "metadata": {},
   "outputs": [],
   "source": [
    "model1.save('model/base5_test_plus_tl.keras')"
   ]
  },
  {
   "cell_type": "code",
   "execution_count": null,
   "id": "7b4b7af4-e965-4184-a9cb-4210274adc52",
   "metadata": {},
   "outputs": [],
   "source": [
    "#model.save('/home/riki/project_dl/finale/model/base5+_cnn1d_tl.h5')"
   ]
  },
  {
   "cell_type": "markdown",
   "id": "4ad2e311-f327-43c5-a567-6394cb18ac2f",
   "metadata": {},
   "source": [
    "### C. Base5 Train & Full Test"
   ]
  },
  {
   "cell_type": "code",
   "execution_count": null,
   "id": "16665b33-6df1-45d8-99c1-76947f41e3bf",
   "metadata": {},
   "outputs": [],
   "source": [
    "x_train3, y_train3 = x_train2, y_train2"
   ]
  },
  {
   "cell_type": "code",
   "execution_count": null,
   "id": "7141dce8-f1f4-4974-88bc-3a80c77cc789",
   "metadata": {},
   "outputs": [],
   "source": [
    "data = pd.read_csv('~/04_Semester_4/revisi/csv_files/UNSW_NB15_full_test.csv', low_memory=False)"
   ]
  },
  {
   "cell_type": "code",
   "execution_count": null,
   "id": "940328ae-e8c2-4e5e-96cb-a6c409a63ffa",
   "metadata": {},
   "outputs": [],
   "source": [
    "# Select the 'proto' and 'state' values that I want\n",
    "data = data.loc[(data['proto'] == 'tcp') | (data['proto'] =='udp') | (data['proto'] =='icmp') | (data['proto'] =='arp') | (data['proto'] =='ipv6-icmp') | (data['proto'] =='igmp') | (data['proto'] =='rarp'), :]\n",
    "data = data.loc[(data['state'] == 'RST') | (data['state'] =='REQ') | (data['state'] =='INT') | (data['state'] =='FIN') | (data['state'] =='CON') | (data['state'] =='ECO') | (data['state'] =='ACC') | (data['state'] =='PAR'), :]\n",
    "\n",
    "# Extracting dataset labels\n",
    "data_labels=data[['label']]\n",
    "\n",
    "# Drop the invalid features and select interested data features\n",
    "data_features=data[['proto','srcip','sport','dstip','dsport','spkts','dpkts','sbytes','dbytes','state','stime','ltime','dur']]\n",
    "\n",
    "\"\"\"PREPROCESSING\"\"\"\n",
    "\n",
    "# Preprocess IP and ports features\n",
    "# IP Source Address\n",
    "data_features['srcip'] = data_features['srcip'].apply(lambda x: x.split(\".\")[-1])\n",
    "data_features['srcip'] = data_features['srcip'].apply(lambda x: x.split(\":\")[-1])\n",
    "data_features['srcip'] = data_features['srcip'].apply(lambda x: int(x, 16))\n",
    "\n",
    "# IP Destination Address\n",
    "data_features['dstip'] = data_features['dstip'].apply(lambda x: x.split(\".\")[-1])\n",
    "data_features['dstip'] = data_features['dstip'].apply(lambda x: x.split(\":\")[-1])\n",
    "data_features['dstip'] = data_features['dstip'].apply(lambda x: int(x, 16))\n",
    "\n",
    "# Ports\n",
    "data_features['sport'] = data_features['sport'].apply(lambda x: x.replace('0x','') if \"0x\" in str(x) else x)\n",
    "data_features['dsport'] = data_features['dsport'].apply(lambda x: x.replace('0x','') if \"0x\" in str(x) else x)\n",
    "\n",
    "# Convert all ports with 0 decimal, and HEX to DEC\n",
    "data_features['sport'] = data_features['sport'].apply(lambda x: str(x)[:-2] if str(x)[-2:] == '.0' else str(x))\n",
    "data_features['sport'] = data_features['sport'].apply(lambda x: -1 if str(x).isalpha()==True else int(x,16))\n",
    "\n",
    "data_features['dsport'] = data_features['dsport'].apply(lambda x: str(x)[:-2] if str(x)[-2:] == '.0' else str(x))\n",
    "data_features['dsport'] = data_features['dsport'].apply(lambda x: \"None\" if x==\"-\" else x)\n",
    "data_features['dsport'] = data_features['dsport'].apply(lambda x: -1 if str(x).isalpha()==True else int(x,16))\n",
    "\n",
    "# Convert field to int format\n",
    "data_features['srcip'] = data_features['srcip'].astype(int)\n",
    "data_features['sport'] = data_features['sport'].astype(int)\n",
    "data_features['dstip'] = data_features['dstip'].astype(int)\n",
    "data_features['dsport'] = data_features['dsport'].astype(int)\n",
    "\n",
    "# Convert some fields to logarithmic\n",
    "log1p_col = ['dur', 'sbytes', 'dbytes', 'spkts']\n",
    "\n",
    "for col in log1p_col:\n",
    "    data_features[col] = data_features[col].apply(np.log1p)\n",
    "    \n",
    "# Insert the new column in data labels\n",
    "data_labels = pd.get_dummies(data_labels)\n",
    "\n",
    "# Transform to One hot encoding - FEATURES\n",
    "data_features=pd.get_dummies(data_features)\n",
    "\n",
    "# Normalize all data features\n",
    "data_features = StandardScaler().fit_transform(data_features)\n",
    "\n",
    "#Add dimension to data features\n",
    "data_features = np.expand_dims(data_features, axis=2)\n",
    "\n",
    "x_test3, y_test3=data_features, data_labels"
   ]
  },
  {
   "cell_type": "code",
   "execution_count": null,
   "id": "c23131cf-5a63-409e-974e-49ad033886e6",
   "metadata": {},
   "outputs": [],
   "source": [
    "print(x_test3.shape)\n",
    "print(y_test3.shape)\n",
    "print(y_test3.value_counts())"
   ]
  },
  {
   "cell_type": "code",
   "execution_count": null,
   "id": "4b04103d-c8ce-4791-9b53-a88067f01c0b",
   "metadata": {},
   "outputs": [],
   "source": [
    "# Clear session and Memory Growth\n",
    "clear_session()\n",
    "\n",
    "# Create a Strategy.\n",
    "mixed_precision.set_global_policy('mixed_float16')\n",
    "\n",
    "if tf.config.list_physical_devices('GPU'):\n",
    "    strategy = tf.distribute.MirroredStrategy()\n",
    "else:  # Use the Default Strategy\n",
    "    strategy = tf.distribute.get_strategy()\n",
    "\n",
    "print(\"Number of devices: {}\".format(strategy.num_replicas_in_sync))\n",
    "\n",
    "# Open a strategy scope.\n",
    "with strategy.scope():\n",
    "\n",
    "    model=model_cnn()\n",
    "\n",
    "    #x_train, x_test, y_train, y_test = train_test_split(data_features, data_labels, train_size=0.75, random_state=42,shuffle=True)\n",
    "\n",
    "\n",
    "# Train the model on all available devices.\n",
    "history = model.fit(x_train3, y_train3, validation_data=(x_test3, y_test3), epochs=50, batch_size=2048, callbacks=callbacks)\n",
    "history3 = history"
   ]
  },
  {
   "cell_type": "code",
   "execution_count": null,
   "id": "20a89c33-93c3-4c51-9c3b-a471c0d33fc1",
   "metadata": {},
   "outputs": [],
   "source": [
    "#Evaluate the model\n",
    "# 174/174 [=========] - 20s 116ms/step - loss: 0.0272 - accuracy: 0.9911 - val_loss: 0.0536 - val_accuracy: 0.9886. 6e-5\n",
    "# 174/174 [=========] - 20s 114ms/step - loss: 0.0341 - accuracy: 0.9888 - val_loss: 0.0624 - val_accuracy: 0.9823. 2e-5\n",
    "# 87/87 [===========] 18s 213ms/step - loss: 0.0295 - accuracy: 0.9904 - val_loss: 0.0564 - val_accuracy: 0.9862, 6e-5\n",
    "results4 = model.evaluate(x_test3, y_test3, verbose=1)\n",
    "#test loss, test acc: [0.07396313548088074, 0.9728277325630188]\n",
    "\n",
    "print(\"test loss, test acc:\", results4)"
   ]
  },
  {
   "cell_type": "code",
   "execution_count": null,
   "id": "cce2b2bc-de32-4876-ad6c-631117026807",
   "metadata": {},
   "outputs": [],
   "source": [
    "results3 = model1.evaluate(x_test3, y_test3, verbose=1)\n",
    "#test loss, test acc: [0.07396313548088074, 0.9728277325630188]\n",
    "# 18829/18829 [==============================] - 114s 6ms/step - loss: 0.0509 - accuracy: 0.9882, 6e-5\n",
    "# 18829/18829 [==============================] - 105s 6ms/step - loss: 0.0532 - accuracy: 0.9872\n"
   ]
  },
  {
   "cell_type": "code",
   "execution_count": null,
   "id": "d271cb3d-6b5d-45f9-96b1-c90cd747d107",
   "metadata": {},
   "outputs": [],
   "source": [
    "# summarize history for loss\n",
    "train_loss = history.history['loss']\n",
    "test_loss = history.history['val_loss']\n",
    "x = list(range(1, len(test_loss) + 1))\n",
    "plt.plot(x, test_loss, color = 'orange', label = 'Test loss')\n",
    "plt.plot(x, train_loss, label = 'Training loss')\n",
    "plt.legend()\n",
    "plt.grid(visible=True)\n",
    "plt.xlabel('Epoch')\n",
    "plt.ylabel('Loss')\n",
    "plt.title('Loss vs. Epoch', weight='bold', fontsize=18)\n",
    "plt.show()"
   ]
  },
  {
   "cell_type": "code",
   "execution_count": null,
   "id": "29d50c01-d77a-490a-9841-ba01a68fb816",
   "metadata": {},
   "outputs": [],
   "source": [
    "# summarize history for accuracy\n",
    "train_acc = history.history['accuracy']\n",
    "test_acc = history.history['val_accuracy']\n",
    "x = list(range(1, len(test_acc) + 1))\n",
    "plt.plot(x, test_acc, color = 'orange', label = 'Test accuracy')\n",
    "plt.plot(x, train_acc, label = 'Training accuracy')\n",
    "plt.legend()\n",
    "plt.grid(visible=True)\n",
    "plt.xlabel('Epoch')\n",
    "plt.ylabel('Accuracy')\n",
    "plt.title('Accuracy vs. Epoch', weight='bold', fontsize=18)\n",
    "plt.show()"
   ]
  },
  {
   "cell_type": "markdown",
   "id": "b5ebebdc-99dd-4cea-8870-a5411d43339e",
   "metadata": {},
   "source": [
    "model =  load_model('model/base5_test_plus_tl.keras')"
   ]
  },
  {
   "cell_type": "code",
   "execution_count": null,
   "id": "a0ab163d-a74f-4ea3-a906-0a8cf1381665",
   "metadata": {},
   "outputs": [],
   "source": [
    "# Prediction\n",
    "predicted3 = model.predict(x_test3)"
   ]
  },
  {
   "cell_type": "code",
   "execution_count": null,
   "id": "252f23a6-674c-484c-9e3d-96d6a97409f9",
   "metadata": {},
   "outputs": [],
   "source": [
    "df3 = pd.DataFrame(y_test3)\n",
    "df3['predicted'] = predicted3"
   ]
  },
  {
   "cell_type": "code",
   "execution_count": null,
   "id": "4374b182-6e61-4235-8fc6-fd630431e63f",
   "metadata": {},
   "outputs": [],
   "source": [
    "cf3 = confusion_matrix(y_test3, np.round(predicted3))"
   ]
  },
  {
   "cell_type": "code",
   "execution_count": null,
   "id": "0db8e6f0-db16-435d-8dcf-f37581c6ee5c",
   "metadata": {},
   "outputs": [],
   "source": [
    "cmatrix_df3 = pd.DataFrame(cf3, index = ['Attack', 'Normal'], columns = ['Attack', 'Normal'])\n",
    "plt.title('Confusion matrix dari Full test', weight='bold', fontsize=14)\n",
    "plt.tick_params(length=0)\n",
    "plt.xlabel('Attacks')\n",
    "plt.ylabel('Predicted Attacks')\n",
    "sns.heatmap(cmatrix_df3, annot=True, fmt=\"d\", cbar=False, cmap='Blues')\n",
    "plt.show()"
   ]
  },
  {
   "cell_type": "code",
   "execution_count": null,
   "id": "44cffde7-ad22-4e01-82a8-c0b07e9c572e",
   "metadata": {},
   "outputs": [],
   "source": [
    "# Precision, Recall & F1 Score\n",
    "class_report3 = classification_report(y_test3, np.round(predicted3))\n",
    "print(class_report3)"
   ]
  },
  {
   "cell_type": "code",
   "execution_count": null,
   "id": "b52fd4fb-adbb-4c3b-abc0-85afcd1e0d04",
   "metadata": {},
   "outputs": [],
   "source": [
    "# Precision, Recall & F1-Score\n",
    "class_report3 = classification_report(y_test3, np.round(predicted3), target_names = ['Attack', 'Normal'],output_dict=True) \n",
    "plt.tick_params(axis='both', which='major', labelsize=10, labelbottom = False, bottom=False, top = False, labeltop=True)\n",
    "plt.tick_params(length=0)\n",
    "sns.heatmap(pd.DataFrame(class_report3).iloc[:-1, :-3].T, square=True, cbar=False,cmap='Blues', annot=True) \n",
    "plt.show()"
   ]
  },
  {
   "cell_type": "code",
   "execution_count": null,
   "id": "68775fb1-3133-427b-be8f-131ed03de45d",
   "metadata": {},
   "outputs": [],
   "source": [
    "class_report3"
   ]
  },
  {
   "cell_type": "code",
   "execution_count": null,
   "id": "b2955ded-aaa1-4185-8f5c-08309355eea3",
   "metadata": {},
   "outputs": [],
   "source": [
    "# adding normal column in data label\n",
    "normal=data_labels['label']\n",
    "normal=normal.replace(1,2)\n",
    "normal=normal.replace(0,1)\n",
    "normal=normal.replace(2,0)\n",
    "data_labels.insert(1, 'normal', normal)"
   ]
  },
  {
   "cell_type": "code",
   "execution_count": null,
   "id": "93f3a28d-e24b-4b2b-b0df-8d1d010bae4e",
   "metadata": {},
   "outputs": [],
   "source": [
    "df3 = pd.DataFrame(np.round(predicted3))\n",
    "df3.index = y_test3.index\n",
    "df3.columns = ['pred_attack']\n",
    "df3['pred_normal'] = 1- df3['pred_attack']\n",
    "df3['attack']=data['label']\n",
    "df3['category']=data['attack_cat']\n",
    "df3['normal']=data_labels['normal']\n",
    "df3.head()"
   ]
  },
  {
   "cell_type": "code",
   "execution_count": null,
   "id": "47ef713d-0420-4a04-aa3c-9bc21eee85e1",
   "metadata": {},
   "outputs": [],
   "source": [
    "df3.value_counts('category')"
   ]
  },
  {
   "cell_type": "code",
   "execution_count": null,
   "id": "9706822a-d7c2-45d7-aa11-c4e1c3db1f17",
   "metadata": {},
   "outputs": [],
   "source": [
    "dff3=df3\n",
    "df3=pd.get_dummies(df3)\n",
    "df3=round(df3)"
   ]
  },
  {
   "cell_type": "code",
   "execution_count": null,
   "id": "34e2522f-da85-4b5c-a852-8556cbc1a8f6",
   "metadata": {},
   "outputs": [],
   "source": [
    "analysis=df3.loc[df3['category_analysis'] == 1]\n",
    "analysis=analysis[['pred_attack', 'pred_normal', 'attack', 'normal']]\n",
    "analysis_pred=analysis[['pred_attack','pred_normal']]\n",
    "analysis_check=analysis[['attack','normal']]\n",
    "\n",
    "backdoor=df3.loc[df3['category_backdoor'] == 1]\n",
    "backdoor=backdoor[['pred_attack', 'pred_normal', 'attack', 'normal']]\n",
    "backdoor_pred=backdoor[['pred_attack','pred_normal']]\n",
    "backdoor_check=backdoor[['attack','normal']]\n",
    "\n",
    "fuzzers=df3.loc[df3['category_fuzzers'] == 1]\n",
    "fuzzers=fuzzers[['pred_attack', 'pred_normal', 'attack', 'normal']]\n",
    "fuzzers_pred=fuzzers[['pred_attack','pred_normal']]\n",
    "fuzzers_check=fuzzers[['attack','normal']]\n",
    "\n",
    "normal=df3.loc[df3['category_normal'] == 1]\n",
    "normal=normal[['pred_attack', 'pred_normal', 'attack', 'normal']]\n",
    "normal_pred=normal[['pred_attack','pred_normal']]\n",
    "normal_check=normal[['attack','normal']]\n",
    "\n",
    "shellcode=df3.loc[df3['category_shellcode'] == 1]\n",
    "shellcode=shellcode[['pred_attack', 'pred_normal', 'attack', 'normal']]\n",
    "shellcode_pred=shellcode[['pred_attack','pred_normal']]\n",
    "shellcode_check=shellcode[['attack','normal']]\n",
    "\n",
    "worms=df3.loc[df3['category_worms'] == 1]\n",
    "worms=worms[['pred_attack', 'pred_normal', 'attack', 'normal']]\n",
    "worms_pred=worms[['pred_attack','pred_normal']]\n",
    "worms_check=worms[['attack','normal']]\n",
    "\n",
    "generic=df3.loc[df3['category_generic'] == 1]\n",
    "generic=generic[['pred_attack', 'pred_normal', 'attack', 'normal']]\n",
    "generic_pred=generic[['pred_attack','pred_normal']]\n",
    "generic_check=generic[['attack','normal']]\n",
    "\n",
    "exploits=df3.loc[df3['category_exploits'] == 1]\n",
    "exploits=exploits[['pred_attack', 'pred_normal', 'attack', 'normal']]\n",
    "exploits_pred=exploits[['pred_attack','pred_normal']]\n",
    "exploits_check=exploits[['attack','normal']]\n",
    "\n",
    "reconnaissance=df3.loc[df3['category_reconnaissance'] == 1]\n",
    "reconnaissance=reconnaissance[['pred_attack', 'pred_normal', 'attack', 'normal']]\n",
    "reconnaissance_pred=reconnaissance[['pred_attack','pred_normal']]\n",
    "reconnaissance_check=reconnaissance[['attack','normal']]\n",
    "\n",
    "dos=df3.loc[df3['category_dos'] == 1]\n",
    "dos=dos[['pred_attack', 'pred_normal', 'attack', 'normal']]\n",
    "dos_pred=dos[['pred_attack','pred_normal']]\n",
    "dos_check=dos[['attack','normal']]"
   ]
  },
  {
   "cell_type": "code",
   "execution_count": null,
   "id": "b4da717c-f9b6-4994-a118-05096facac9c",
   "metadata": {},
   "outputs": [],
   "source": [
    "#Correctly detected\n",
    "countdata=pd.DataFrame()\n",
    "normal_c = normal['pred_normal'] * normal['normal']\n",
    "analysis_c = analysis['pred_attack'] * analysis['attack']\n",
    "backdoor_c = backdoor['pred_attack'] * backdoor['attack']\n",
    "fuzzers_c = fuzzers['pred_attack'] * fuzzers['attack']\n",
    "shellcode_c = shellcode['pred_attack'] * shellcode['attack']\n",
    "worms_c = worms['pred_attack'] * worms['attack']\n",
    "generic_c = generic['pred_attack'] * generic['attack']\n",
    "exploits_c = exploits['pred_attack'] * exploits['attack']\n",
    "reconnaissance_c = reconnaissance['pred_attack'] * reconnaissance['attack']\n",
    "dos_c = dos['pred_attack'] * dos['attack']"
   ]
  },
  {
   "cell_type": "code",
   "execution_count": null,
   "id": "d25c7569-812f-471c-90ef-c378b8c6818b",
   "metadata": {},
   "outputs": [],
   "source": [
    "# Count 0 and 1\n",
    "normal_c0 = (normal_c == 0).sum()\n",
    "normal_c1 = len(normal) - normal_c0\n",
    "\n",
    "analysis_c0 = (analysis_c == 0).sum()\n",
    "analysis_c1 = len(analysis) - analysis_c0\n",
    "\n",
    "backdoor_c0 = (backdoor_c == 0).sum()\n",
    "backdoor_c1 = len(backdoor) - backdoor_c0\n",
    "\n",
    "fuzzers_c0 = (fuzzers_c == 0).sum()\n",
    "fuzzers_c1 = len(fuzzers) - fuzzers_c0\n",
    "\n",
    "shellcode_c0 = (shellcode_c == 0).sum()\n",
    "shellcode_c1 = len(shellcode) - shellcode_c0\n",
    "\n",
    "worms_c0 = (worms_c == 0).sum()\n",
    "worms_c1 = len(worms) - worms_c0\n",
    "\n",
    "generic_c0 = (generic_c == 0).sum()\n",
    "generic_c1 = len(generic) - generic_c0\n",
    "\n",
    "exploits_c0 = (exploits_c == 0).sum()\n",
    "exploits_c1 = len(exploits) - exploits_c0\n",
    "\n",
    "reconnaissance_c0 = (reconnaissance_c == 0).sum()\n",
    "reconnaissance_c1 = len(reconnaissance) - reconnaissance_c0\n",
    "\n",
    "dos_c0 = (dos_c == 0).sum()\n",
    "dos_c1 = len(dos) - dos_c0"
   ]
  },
  {
   "cell_type": "code",
   "execution_count": null,
   "id": "bd0e8ed0-3f60-47d5-9099-d4817a4b1881",
   "metadata": {},
   "outputs": [],
   "source": [
    "normal_0, normal_1 = normal_c0*100 / len(normal), normal_c1*100 / len(normal)\n",
    "print(\"There are {:.2f} % of NO detected and {:.2f} % of detected samples\".format(normal_0, normal_1))"
   ]
  },
  {
   "cell_type": "code",
   "execution_count": null,
   "id": "d41595a9-44ca-4603-9678-c1986d7efd97",
   "metadata": {},
   "outputs": [],
   "source": [
    "analysis_0, analysis_1 = analysis_c0*100 / len(analysis), analysis_c1*100 / len(analysis)\n",
    "print(\"There are {:.2f} % of NO detected and {:.2f} % of detected samples\".format(analysis_0, analysis_1))"
   ]
  },
  {
   "cell_type": "code",
   "execution_count": null,
   "id": "86b879fd-0b46-42cd-a3c2-243d7242d572",
   "metadata": {},
   "outputs": [],
   "source": [
    "backdoor_0, backdoor_1 = backdoor_c0*100 / len(backdoor), backdoor_c1*100 / len(backdoor)\n",
    "print(\"There are {:.2f} % of NO detected and {:.2f} % of detected samples\".format(backdoor_0, backdoor_1))"
   ]
  },
  {
   "cell_type": "code",
   "execution_count": null,
   "id": "460e3bd6-ff34-4c23-90be-8d8e8059e5f6",
   "metadata": {},
   "outputs": [],
   "source": [
    "fuzzers_0, fuzzers_1 = fuzzers_c0*100 / len(fuzzers), fuzzers_c1*100 / len(fuzzers)\n",
    "print(\"There are {:.2f} % of NO detected and {:.2f} % of detected samples\".format(fuzzers_0, fuzzers_1))\n"
   ]
  },
  {
   "cell_type": "code",
   "execution_count": null,
   "id": "d4d5d553-f7fa-44f2-98dc-84a8718178ab",
   "metadata": {},
   "outputs": [],
   "source": [
    "shellcode_0, shellcode_1 = shellcode_c0*100 / len(shellcode), shellcode_c1*100 / len(shellcode)\n",
    "print(\"There are {:.2f} % of NO detected and {:.2f} % of detected samples\".format(shellcode_0, shellcode_1))\n"
   ]
  },
  {
   "cell_type": "code",
   "execution_count": null,
   "id": "38df1ba8-1d44-44b5-93c0-570ed474c38d",
   "metadata": {},
   "outputs": [],
   "source": [
    "worms_0, worms_1 = worms_c0*100 / len(worms), worms_c1*100 / len(worms)\n",
    "print(\"There are {:.2f} % of NO detected and {:.2f} % of detected samples\".format(worms_0, worms_1))"
   ]
  },
  {
   "cell_type": "code",
   "execution_count": null,
   "id": "307dbe6d-400f-42c6-980d-09eddebf398b",
   "metadata": {},
   "outputs": [],
   "source": [
    "generic_0, generic_1 = generic_c0*100 / len(generic), generic_c1*100 / len(generic)\n",
    "print(\"There are {:.2f} % of NO detected and {:.2f} % of detected samples\".format(generic_0, generic_1))\n"
   ]
  },
  {
   "cell_type": "code",
   "execution_count": null,
   "id": "71599d7b-1244-4a51-85e6-b661ad506a90",
   "metadata": {},
   "outputs": [],
   "source": [
    "exploits_0, exploits_1 = exploits_c0*100 / len(exploits), exploits_c1*100 / len(exploits)\n",
    "print(\"There are {:.2f} % of NO detected and {:.2f} % of detected samples\".format(exploits_0, exploits_1))"
   ]
  },
  {
   "cell_type": "code",
   "execution_count": null,
   "id": "bb9aa5fc-8c26-4ebc-af3a-8c06cb22d4d7",
   "metadata": {},
   "outputs": [],
   "source": [
    "reconnaissance_0, reconnaissance_1 = reconnaissance_c0*100 / len(reconnaissance), reconnaissance_c1*100 / len(reconnaissance)\n",
    "print(\"There are {:.2f} % of NO detected and {:.2f} % of detected samples\".format(reconnaissance_0, reconnaissance_1))"
   ]
  },
  {
   "cell_type": "code",
   "execution_count": null,
   "id": "1b89e4da-66fe-4cf6-b21e-ce90dd5aadc4",
   "metadata": {},
   "outputs": [],
   "source": [
    "dos_0, dos_1 = dos_c0*100 / len(dos), dos_c1*100 / len(dos)\n",
    "print(\"There are {:.2f} % of NO detected and {:.2f} % of detected samples\".format(dos_0, dos_1))"
   ]
  },
  {
   "cell_type": "code",
   "execution_count": null,
   "id": "deba8483-aa50-4298-a54b-74997dfd0843",
   "metadata": {},
   "outputs": [],
   "source": [
    "summary3 = pd.DataFrame({\"Traffic\":\n",
    "                   [\"Normal\", \"Analysis\", \"Backdoor\", \"Fuzzers\", \"Shellcode\", \"Worms\", \"Generic\", \"Exploits\", \"Reconnaissance\", \"DoS\"],\n",
    "                   \"Detected %\": [normal_1, analysis_1, backdoor_1, fuzzers_1, shellcode_1, worms_1, generic_1, exploits_1, reconnaissance_1, dos_1],\n",
    "                   \"No Detected %\": [normal_0, analysis_0, backdoor_0, fuzzers_0, shellcode_0, worms_0, generic_0, exploits_0, reconnaissance_0, dos_0],\n",
    "                   \"Detected Samples\": [normal_c1, analysis_c1, backdoor_c1, fuzzers_c1, shellcode_c1, worms_c1, generic_c1, exploits_c1, reconnaissance_c1, dos_c1],\n",
    "                   \"No Detected Samples\": [normal_c0, analysis_c0, backdoor_c0, fuzzers_c0, shellcode_c0, worms_c0, generic_c0, exploits_c0, reconnaissance_c0, dos_c0]})"
   ]
  },
  {
   "cell_type": "code",
   "execution_count": null,
   "id": "6a1bcddd-8bbb-438a-a50b-c98d846eaf4e",
   "metadata": {},
   "outputs": [],
   "source": [
    "dff3['category_pred'] = np.where(((df3['attack'] == 1) & (df3['pred_attack'] == 1)) | ((df3['normal'] == 1) & (df3['pred_normal'] == 1)), 'Detected', 'No Detected')"
   ]
  },
  {
   "cell_type": "code",
   "execution_count": null,
   "id": "887383a4-2870-4d28-87ed-7ed7b390c7a2",
   "metadata": {},
   "outputs": [],
   "source": [
    "data_plot3=dff3[['category', 'category_pred']]"
   ]
  },
  {
   "cell_type": "code",
   "execution_count": null,
   "id": "8d279b77-c01f-4d78-a358-28848600a4b9",
   "metadata": {},
   "outputs": [],
   "source": [
    "data_plot3"
   ]
  },
  {
   "cell_type": "code",
   "execution_count": null,
   "id": "616c231b-a395-4ca3-a1a4-32664dab11b5",
   "metadata": {},
   "outputs": [],
   "source": [
    "# Plotting target label distribution\n",
    "plt.figure(figsize=(15,5))\n",
    "sns.set_theme(style=\"darkgrid\")\n",
    "sns.countplot(x=data_plot3['category'], data=data_plot3, hue=data_plot3['category_pred'])\n",
    "plt.title('Deteksi Serangan di Full Test Dataset', weight='bold', fontsize='18')\n",
    "plt.xticks(weight='bold', fontsize=12)\n",
    "plt.show()"
   ]
  },
  {
   "cell_type": "code",
   "execution_count": null,
   "id": "8da01faf-2dde-49cc-b124-92f9cc919def",
   "metadata": {},
   "outputs": [],
   "source": [
    "summary3"
   ]
  },
  {
   "cell_type": "code",
   "execution_count": null,
   "id": "4010412b-4228-4604-8312-c2a617bb6dc3",
   "metadata": {},
   "outputs": [],
   "source": [
    "summary3.to_csv('~/04_Semester_4/revisi/csv_files/summary_base_test_with_tl.csv', index=False)"
   ]
  },
  {
   "cell_type": "code",
   "execution_count": null,
   "id": "148abc51-bac3-458c-ba16-efdda3b7d249",
   "metadata": {},
   "outputs": [],
   "source": [
    "summary2_tl = pd.read_csv('~/04_Semester_4/revisi/csv_files/summary_base5+_test_tl.csv')"
   ]
  },
  {
   "cell_type": "code",
   "execution_count": null,
   "id": "835611a2-8e3b-469a-8744-d72bb0aa3d60",
   "metadata": {},
   "outputs": [],
   "source": [
    "improve = pd.read_csv('~/04_Semester_4/revisi/csv_files/summary_first_test.csv')"
   ]
  },
  {
   "cell_type": "code",
   "execution_count": null,
   "id": "11e40c6b-f3da-454e-b0c8-33b0d24cbc8b",
   "metadata": {},
   "outputs": [],
   "source": [
    "improve['Detected %'] = summary2_tl['Detected %'] - improve['Detected %']"
   ]
  },
  {
   "cell_type": "code",
   "execution_count": null,
   "id": "3fb7470b-3cc8-43df-80eb-c6b0604097ad",
   "metadata": {},
   "outputs": [],
   "source": [
    "improve['Detected Samples'] = summary2_tl['Detected Samples'] - improve['Detected Samples']"
   ]
  },
  {
   "cell_type": "code",
   "execution_count": null,
   "id": "ad994f03-0cd6-4e10-89ab-6db32ecb931f",
   "metadata": {},
   "outputs": [],
   "source": [
    "del improve['No Detected %']"
   ]
  },
  {
   "cell_type": "code",
   "execution_count": null,
   "id": "4483a0d6-8076-49d6-9072-aaf3355a768c",
   "metadata": {},
   "outputs": [],
   "source": [
    "del improve['No Detected Samples']"
   ]
  },
  {
   "cell_type": "code",
   "execution_count": null,
   "id": "b431e513-20bf-48a5-8589-f1498616dcf7",
   "metadata": {},
   "outputs": [],
   "source": [
    "improve.rename(columns={'Detected %':'Detection Improvement %',\n",
    "                        'Detected Samples' : 'Detection Improvement'}, inplace=True)"
   ]
  },
  {
   "cell_type": "code",
   "execution_count": null,
   "id": "309793fb-ba04-4f84-b3a1-7fde6f7a9286",
   "metadata": {},
   "outputs": [],
   "source": [
    "improve"
   ]
  },
  {
   "cell_type": "code",
   "execution_count": null,
   "id": "7e5b5f19-efe9-4515-8082-3a32e3bcb8ea",
   "metadata": {},
   "outputs": [],
   "source": [
    "summary3_tl = pd.read_csv('~/04_Semester_4/revisi/csv_files/summary_base_test_with_tl.csv')"
   ]
  },
  {
   "cell_type": "code",
   "execution_count": null,
   "id": "a0c50d52-4fb7-4179-86c6-15f5724bdd53",
   "metadata": {},
   "outputs": [],
   "source": [
    "improve =pd.read_csv('~/04_Semester_4/revisi/csv_files/summary_full_test.csv')"
   ]
  },
  {
   "cell_type": "code",
   "execution_count": null,
   "id": "2c3664da-e72a-47ba-93b8-3c4503b6b980",
   "metadata": {},
   "outputs": [],
   "source": [
    "improve['Detected %'] = summary3_tl['Detected %'] - improve['Detected %']"
   ]
  },
  {
   "cell_type": "code",
   "execution_count": null,
   "id": "53fdca19-0525-463f-b130-b179b0d6f08f",
   "metadata": {},
   "outputs": [],
   "source": [
    "improve['Detected Samples'] = summary3_tl['Detected Samples'] - improve['Detected Samples']"
   ]
  },
  {
   "cell_type": "code",
   "execution_count": null,
   "id": "abdfca54-9d0a-42cc-b35a-9ac8ceb5651f",
   "metadata": {},
   "outputs": [],
   "source": [
    "del improve['No Detected %']"
   ]
  },
  {
   "cell_type": "code",
   "execution_count": null,
   "id": "212fdfee-86f3-4d8c-9d58-9a73b6b38e15",
   "metadata": {},
   "outputs": [],
   "source": [
    "del improve['No Detected Samples']"
   ]
  },
  {
   "cell_type": "code",
   "execution_count": null,
   "id": "69a2dfb2-9c0d-48de-81ca-3aa3a244b1f2",
   "metadata": {},
   "outputs": [],
   "source": [
    "improve.rename(columns={'Detected %':'Detection Improvement',\n",
    "                        'Detected Samples %' : 'Detection Improvement'}, inplace=True)"
   ]
  },
  {
   "cell_type": "code",
   "execution_count": null,
   "id": "765bb03c-8ab0-4222-8108-443db28da110",
   "metadata": {},
   "outputs": [],
   "source": [
    "improve"
   ]
  },
  {
   "cell_type": "code",
   "execution_count": null,
   "id": "e7c8718d-4942-4574-95d5-67e994793c3d",
   "metadata": {},
   "outputs": [],
   "source": []
  },
  {
   "cell_type": "code",
   "execution_count": null,
   "id": "f6f0b061-44e0-43d6-aa75-a362ab6f11fa",
   "metadata": {},
   "outputs": [],
   "source": []
  },
  {
   "cell_type": "code",
   "execution_count": null,
   "id": "b6bb1099-4bbb-40c1-9441-d168766bb218",
   "metadata": {},
   "outputs": [],
   "source": []
  }
 ],
 "metadata": {
  "kernelspec": {
   "display_name": "python3.11",
   "language": "python",
   "name": "python3.11"
  },
  "language_info": {
   "codemirror_mode": {
    "name": "ipython",
    "version": 3
   },
   "file_extension": ".py",
   "mimetype": "text/x-python",
   "name": "python",
   "nbconvert_exporter": "python",
   "pygments_lexer": "ipython3",
   "version": "3.11.0rc1"
  }
 },
 "nbformat": 4,
 "nbformat_minor": 5
}
