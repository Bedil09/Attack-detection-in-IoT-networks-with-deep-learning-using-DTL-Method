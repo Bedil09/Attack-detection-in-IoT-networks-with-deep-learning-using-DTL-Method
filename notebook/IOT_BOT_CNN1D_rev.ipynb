{
 "cells": [
  {
   "cell_type": "code",
   "execution_count": 1,
   "id": "990346fc-c1e7-4be5-83a5-f78eff553883",
   "metadata": {},
   "outputs": [
    {
     "name": "stderr",
     "output_type": "stream",
     "text": [
      "2024-12-07 14:25:16.429745: E external/local_xla/xla/stream_executor/cuda/cuda_dnn.cc:9261] Unable to register cuDNN factory: Attempting to register factory for plugin cuDNN when one has already been registered\n",
      "2024-12-07 14:25:16.430188: E external/local_xla/xla/stream_executor/cuda/cuda_fft.cc:607] Unable to register cuFFT factory: Attempting to register factory for plugin cuFFT when one has already been registered\n",
      "2024-12-07 14:25:16.873168: E external/local_xla/xla/stream_executor/cuda/cuda_blas.cc:1515] Unable to register cuBLAS factory: Attempting to register factory for plugin cuBLAS when one has already been registered\n",
      "2024-12-07 14:25:18.089486: I tensorflow/core/platform/cpu_feature_guard.cc:182] This TensorFlow binary is optimized to use available CPU instructions in performance-critical operations.\n",
      "To enable the following instructions: AVX2 FMA, in other operations, rebuild TensorFlow with the appropriate compiler flags.\n",
      "2024-12-07 14:25:30.929575: W tensorflow/compiler/tf2tensorrt/utils/py_utils.cc:38] TF-TRT Warning: Could not find TensorRT\n"
     ]
    }
   ],
   "source": [
    "# Imports modules and packages\n",
    "import tensorflow as tf\n",
    "import keras\n",
    "import matplotlib.pyplot as plt\n",
    "import numpy as np\n",
    "import pandas as pd\n",
    "import seaborn as sns\n",
    "\n",
    "from tensorflow.keras import datasets, layers, models\n",
    "from tensorflow.keras.callbacks import EarlyStopping\n",
    "from tensorflow.keras import mixed_precision\n",
    "from sklearn.preprocessing import StandardScaler\n",
    "from sklearn.model_selection import train_test_split\n",
    "from sklearn.metrics import confusion_matrix, classification_report\n",
    "from keras.models import load_model, Sequential\n",
    "from keras.layers import Dense, Dropout, AveragePooling1D, Normalization, SpatialDropout1D\n",
    "\n",
    "# Disable warns\n",
    "pd.options.mode.chained_assignment = None  # default='warn'\n",
    "\n",
    "# Set seaborn\n",
    "sns.set()"
   ]
  },
  {
   "cell_type": "markdown",
   "id": "670b3a4e-1434-4ace-86d9-8e98e3844b1a",
   "metadata": {},
   "source": [
    "## Import dataset"
   ]
  },
  {
   "cell_type": "markdown",
   "id": "cad69fe6-3ade-49d9-9d53-e7af19bc713b",
   "metadata": {},
   "source": [
    "### Data Train"
   ]
  },
  {
   "cell_type": "code",
   "execution_count": 2,
   "id": "dfa45e95-68f3-44cf-b122-bc40e21856f2",
   "metadata": {},
   "outputs": [],
   "source": [
    "# Read the dataset\n",
    "data = pd.read_csv('../csv_files/IoT_Botnet_Full5pc_train.csv', low_memory=False)\n",
    "\n",
    "# Select the 'proto' and 'state' values that I want\n",
    "data = data.loc[(data['proto'] == 'tcp') | (data['proto'] =='udp') | (data['proto'] =='icmp') | (data['proto'] =='arp') | (data['proto'] =='igmp'), :]\n",
    "data = data.loc[(data['state'] == 'RST') | (data['state'] =='REQ') | (data['state'] =='INT') | (data['state'] =='FIN') | (data['state'] =='CON') | (data['state'] =='ECO') | (data['state'] =='ACC') | (data['state'] =='PAR'), :]\n",
    "\n",
    "# Extracting dataset labels\n",
    "data_labels=data[['attack']]\n",
    "\n",
    "# Select interested data features\n",
    "data_features=data[['proto','saddr','sport','daddr','dport','spkts','dpkts','sbytes','dbytes','state','stime','ltime','dur']]\n",
    "\n",
    "# Filling NaN values with -1\n",
    "data_features = data_features.fillna(value=-1)\n",
    "\"\"\"PREPROCESSING\"\"\"\n",
    "\n",
    "# Preprocess IP and ports features\n",
    "# IP Source Address\n",
    "data_features['saddr'] = data_features['saddr'].apply(lambda x: x.split(\".\")[-1])\n",
    "data_features['saddr'] = data_features['saddr'].apply(lambda x: x.split(\":\")[-1])\n",
    "data_features['saddr'] = data_features['saddr'].apply(lambda x: int(x, 16))\n",
    "\n",
    "# IP Destination Address\n",
    "data_features['daddr'] = data_features['daddr'].apply(lambda x: x.split(\".\")[-1])\n",
    "data_features['daddr'] = data_features['daddr'].apply(lambda x: x.split(\":\")[-1])\n",
    "data_features['daddr'] = data_features['daddr'].apply(lambda x: int(x, 16))\n",
    "\n",
    "# Ports\n",
    "data_features['sport'] = data_features['sport'].apply(lambda x: x.replace('0x','') if \"0x\" in str(x) else x)\n",
    "data_features['dport'] = data_features['dport'].apply(lambda x: x.replace('0x','') if \"0x\" in str(x) else x)\n",
    "\n",
    "# Convert all ports with 0 decimal, and HEX to DEC\n",
    "data_features['sport'] = data_features['sport'].apply(lambda x: str(x)[:-2] if str(x)[-2:] == '.0' else str(x))\n",
    "data_features['sport'] = data_features['sport'].apply(lambda x: -1 if str(x).isalpha()==True else int(x,16))\n",
    "\n",
    "data_features['dport'] = data_features['dport'].apply(lambda x: str(x)[:-2] if str(x)[-2:] == '.0' else str(x))\n",
    "data_features['dport'] = data_features['dport'].apply(lambda x: -1 if str(x).isalpha()==True else int(x,16))\n",
    "\n",
    "# Convert field to int format\n",
    "data_features['saddr'] = data_features['saddr'].astype(int)\n",
    "data_features['sport'] = data_features['sport'].astype(int)\n",
    "data_features['daddr'] = data_features['daddr'].astype(int)\n",
    "data_features['dport'] = data_features['dport'].astype(int)\n",
    "\n",
    "# Convert some fields to logarithmic\n",
    "log1p_col = ['dur', 'sbytes', 'dbytes', 'spkts']\n",
    "\n",
    "for col in log1p_col:\n",
    "    data_features[col] = data_features[col].apply(np.log1p)\n",
    "\n",
    "# Generate 2 new columns to fit with training\n",
    "auxCol=data_features['sbytes']\n",
    "auxCol=0\n",
    "data_features.insert(13, 'proto_igmp', auxCol, True)\n",
    "data_features.insert(14, 'state_PAR', auxCol, True)\n",
    "    \n",
    "# Transform to One hot encoding\n",
    "data_features=pd.get_dummies(data_features)\n",
    "data_labels = pd.get_dummies(data_labels)\n",
    "\n",
    "# Normalize all data features\n",
    "data_features = StandardScaler().fit_transform(data_features)\n",
    "\n",
    "#Add dimension to data features\n",
    "data_features = np.expand_dims(data_features, axis=2)\n",
    "\n",
    "x_train, y_train = data_features, data_labels"
   ]
  },
  {
   "cell_type": "markdown",
   "id": "f5bfe751-f7af-47a2-9e1c-ce7b4d8222dc",
   "metadata": {},
   "source": [
    "### Data Test"
   ]
  },
  {
   "cell_type": "code",
   "execution_count": 9,
   "id": "0de1a9a9-8dd9-4418-8ff5-a7bbfef7a24f",
   "metadata": {},
   "outputs": [],
   "source": [
    "# Read the dataset\n",
    "data = pd.read_csv('~/04_Semester_4/revisi/csv_files/IoT_Botnet_Full5pc_test.csv', low_memory=False)\n",
    "\n",
    "# Select the 'proto' and 'state'\n",
    "data = data.loc[(data['proto'] == 'tcp') | (data['proto'] =='udp') | (data['proto'] =='icmp') | (data['proto'] =='arp') | (data['proto'] =='igmp'), :]\n",
    "data = data.loc[(data['state'] == 'RST') | (data['state'] =='REQ') | (data['state'] =='INT') | (data['state'] =='FIN') | (data['state'] =='CON') | (data['state'] =='ECO') | (data['state'] =='ACC') | (data['state'] =='PAR'), :]\n",
    "\n",
    "# Extracting dataset labels\n",
    "data_labels=data[['attack']]\n",
    "\n",
    "# Select the data features\n",
    "data_features=data[['proto','saddr','sport','daddr','dport','spkts','dpkts','sbytes','dbytes','state','stime','ltime','dur']]\n",
    "\n",
    "# Filling NaN values with -1\n",
    "data_features = data_features.fillna(value=-1)\n",
    "\n",
    "\"\"\"PREPROCESSING\"\"\"\n",
    "\n",
    "# Preprocess IP and ports features\n",
    "# IP Source Address\n",
    "data_features['saddr'] = data_features['saddr'].apply(lambda x: x.split(\".\")[-1])\n",
    "data_features['saddr'] = data_features['saddr'].apply(lambda x: x.split(\":\")[-1])\n",
    "data_features['saddr'] = data_features['saddr'].apply(lambda x: int(x, 16))\n",
    "\n",
    "# IP Destination Address\n",
    "data_features['daddr'] = data_features['daddr'].apply(lambda x: x.split(\".\")[-1])\n",
    "data_features['daddr'] = data_features['daddr'].apply(lambda x: x.split(\":\")[-1])\n",
    "data_features['daddr'] = data_features['daddr'].apply(lambda x: int(x, 16))\n",
    "\n",
    "# Ports\n",
    "data_features['sport'] = data_features['sport'].apply(lambda x: x.replace('0x','') if \"0x\" in str(x) else x)\n",
    "data_features['dport'] = data_features['dport'].apply(lambda x: x.replace('0x','') if \"0x\" in str(x) else x)\n",
    "\n",
    "# Convert all ports with 0 decimal, and HEX to DEC\n",
    "data_features['sport'] = data_features['sport'].apply(lambda x: str(x)[:-2] if str(x)[-2:] == '.0' else str(x))\n",
    "data_features['sport'] = data_features['sport'].apply(lambda x: -1 if str(x).isalpha()==True else int(x,16))\n",
    "\n",
    "data_features['dport'] = data_features['dport'].apply(lambda x: str(x)[:-2] if str(x)[-2:] == '.0' else str(x))\n",
    "data_features['dport'] = data_features['dport'].apply(lambda x: -1 if str(x).isalpha()==True else int(x,16))\n",
    "\n",
    "# Convert field to int format\n",
    "data_features['saddr'] = data_features['saddr'].astype(int)\n",
    "data_features['sport'] = data_features['sport'].astype(int)\n",
    "data_features['daddr'] = data_features['daddr'].astype(int)\n",
    "data_features['dport'] = data_features['dport'].astype(int)\n",
    "\n",
    "# Convert some fields to logarithmic\n",
    "log1p_col = ['dur', 'sbytes', 'dbytes', 'spkts']\n",
    "\n",
    "for col in log1p_col:\n",
    "    data_features[col] = data_features[col].apply(np.log1p)\n",
    "\n",
    "# Generate 2 new columns to fit with training\n",
    "auxCol=data_features['sbytes']\n",
    "auxCol=0\n",
    "data_features.insert(13, 'proto_igmp', auxCol, True)\n",
    "data_features.insert(14, 'state_PAR', auxCol, True)\n",
    "    \n",
    "# Transform to One hot encoding\n",
    "data_features=pd.get_dummies(data_features)\n",
    "data_labels = pd.get_dummies(data_labels)\n",
    "\n",
    "# Normalize all data features\n",
    "data_features = StandardScaler().fit_transform(data_features)\n",
    "\n",
    "#Add dimension to data features\n",
    "data_features = np.expand_dims(data_features, axis=2)\n",
    "\n",
    "x_test, y_test = data_features, data_labels"
   ]
  },
  {
   "cell_type": "markdown",
   "id": "7f85923a-c7d3-441f-9562-1b7789d2e231",
   "metadata": {},
   "source": [
    "### Define the Model"
   ]
  },
  {
   "cell_type": "code",
   "execution_count": 14,
   "id": "dcb9909d-4294-481f-848a-5fc482d54dea",
   "metadata": {},
   "outputs": [],
   "source": [
    "# Clear Session & Memory Growth\n",
    "def clear_session():\n",
    "    tf.keras.backend.clear_session()\n",
    "    gpus = tf.config.experimental.list_physical_devices('GPU')\n",
    "    if gpus:\n",
    "        try:\n",
    "            for gpu in gpus:\n",
    "                tf.config.experimental.set_memory_growth(gpu, True)\n",
    "        except RuntimeError as e:\n",
    "            print(e)\n",
    "    return\n",
    "\n",
    "# Early Stopping\n",
    "\n",
    "filepath = '../tmp/checkpoint.model_iotbot_5pc.keras' \n",
    "callbacks = [\n",
    "        keras.callbacks.EarlyStopping(\n",
    "            monitor = 'val_loss', \n",
    "            patience = 5 \n",
    "        ),\n",
    "        keras.callbacks.ModelCheckpoint(\n",
    "            filepath = filepath, \n",
    "            monitor = 'val_loss', \n",
    "            save_best_only = True)]"
   ]
  },
  {
   "cell_type": "code",
   "execution_count": 16,
   "id": "93d135ed-ba0a-4fe0-aa17-5a1f7f77dfbe",
   "metadata": {},
   "outputs": [],
   "source": [
    "# Model building and definition\n",
    "def model_cnn():\n",
    "    # define the inputs\n",
    "    inputs = (24,1)\n",
    "    # define the model architecture\n",
    "    model = Sequential()\n",
    "    # Layer 1 : Conv1D, Normalization, AveragePooling and Dropout\n",
    "    model.add(layers.Conv1D(filters=64,  input_shape=inputs, kernel_size=(24), activation='relu', padding='same'))\n",
    "    model.add(layers.Normalization())\n",
    "    model.add(layers.MaxPooling1D(pool_size=(2),padding='same'))\n",
    "    model.add(layers.SpatialDropout1D(0.05))\n",
    "    # Layer 2 : Conv1D, Normalization, AveragePooling and Dropout\n",
    "    model.add(layers.Conv1D(filters=64, kernel_size=(24), activation='relu', padding='same'))\n",
    "    model.add(layers.Normalization())\n",
    "    model.add(layers.MaxPooling1D(pool_size=(2),padding='same'))\n",
    "    model.add(layers.SpatialDropout1D(0.05)) \n",
    "    # Flatten layer\n",
    "    model.add(layers.Flatten())\n",
    "    # Fully connected layer\n",
    "    model.add(Dense(512, activation='relu'))\n",
    "    #Adding the output layer\n",
    "    model.add(Dense(1, activation='sigmoid'))\n",
    "    # Adding the optimizer\n",
    "    adam = keras.optimizers.Adam(learning_rate=2e-5)\n",
    "    loss = keras.losses.BinaryCrossentropy()\n",
    "    model.compile(optimizer = adam,\n",
    "                  loss = loss,\n",
    "                  metrics = ['accuracy'])\n",
    "\n",
    "    return model"
   ]
  },
  {
   "cell_type": "markdown",
   "id": "45a634e1-9230-422f-8bff-f957a6202094",
   "metadata": {},
   "source": [
    "### Train the Model"
   ]
  },
  {
   "cell_type": "code",
   "execution_count": 18,
   "id": "0e95e181-f0c7-4e11-b970-74750d4e3de0",
   "metadata": {},
   "outputs": [
    {
     "name": "stdout",
     "output_type": "stream",
     "text": [
      "Physical devices cannot be modified after being initialized\n",
      "WARNING:tensorflow:Mixed precision compatibility check (mixed_float16): WARNING\n",
      "Your GPU may run slowly with dtype policy mixed_float16 because it does not have compute capability of at least 7.0. Your GPU:\n",
      "  NVIDIA GeForce MX110, compute capability 5.0\n",
      "See https://developer.nvidia.com/cuda-gpus for a list of GPUs and their compute capabilities.\n",
      "If you will use compatible GPU(s) not attached to this host, e.g. by running a multi-worker model, you can ignore this warning. This message will only be logged once\n",
      "INFO:tensorflow:Using MirroredStrategy with devices ('/job:localhost/replica:0/task:0/device:GPU:0',)\n",
      "Number of devices: 1\n"
     ]
    },
    {
     "name": "stderr",
     "output_type": "stream",
     "text": [
      "2024-12-07 14:28:12.743035: I external/local_xla/xla/stream_executor/cuda/cuda_executor.cc:901] successful NUMA node read from SysFS had negative value (-1), but there must be at least one NUMA node, so returning NUMA node zero. See more at https://github.com/torvalds/linux/blob/v6.0/Documentation/ABI/testing/sysfs-bus-pci#L344-L355\n",
      "2024-12-07 14:28:13.332117: W external/local_tsl/tsl/framework/cpu_allocator_impl.cc:83] Allocation of 281048064 exceeds 10% of free system memory.\n",
      "2024-12-07 14:28:13.969744: W external/local_tsl/tsl/framework/cpu_allocator_impl.cc:83] Allocation of 281048064 exceeds 10% of free system memory.\n",
      "2024-12-07 14:28:14.385992: W external/local_tsl/tsl/framework/cpu_allocator_impl.cc:83] Allocation of 281048064 exceeds 10% of free system memory.\n"
     ]
    },
    {
     "name": "stdout",
     "output_type": "stream",
     "text": [
      "Epoch 1/15\n",
      "INFO:tensorflow:Reduce to /job:localhost/replica:0/task:0/device:CPU:0 then broadcast to ('/job:localhost/replica:0/task:0/device:CPU:0',).\n",
      "INFO:tensorflow:Reduce to /job:localhost/replica:0/task:0/device:CPU:0 then broadcast to ('/job:localhost/replica:0/task:0/device:CPU:0',).\n",
      "INFO:tensorflow:Reduce to /job:localhost/replica:0/task:0/device:CPU:0 then broadcast to ('/job:localhost/replica:0/task:0/device:CPU:0',).\n",
      "INFO:tensorflow:Reduce to /job:localhost/replica:0/task:0/device:CPU:0 then broadcast to ('/job:localhost/replica:0/task:0/device:CPU:0',).\n",
      "INFO:tensorflow:Reduce to /job:localhost/replica:0/task:0/device:CPU:0 then broadcast to ('/job:localhost/replica:0/task:0/device:CPU:0',).\n",
      "INFO:tensorflow:Reduce to /job:localhost/replica:0/task:0/device:CPU:0 then broadcast to ('/job:localhost/replica:0/task:0/device:CPU:0',).\n",
      "INFO:tensorflow:Reduce to /job:localhost/replica:0/task:0/device:CPU:0 then broadcast to ('/job:localhost/replica:0/task:0/device:CPU:0',).\n",
      "INFO:tensorflow:Reduce to /job:localhost/replica:0/task:0/device:CPU:0 then broadcast to ('/job:localhost/replica:0/task:0/device:CPU:0',).\n"
     ]
    },
    {
     "name": "stderr",
     "output_type": "stream",
     "text": [
      "2024-12-07 14:28:25.464815: I external/local_xla/xla/stream_executor/cuda/cuda_dnn.cc:454] Loaded cuDNN version 8904\n",
      "2024-12-07 14:28:37.518129: I external/local_xla/xla/service/service.cc:168] XLA service 0x77d026498c10 initialized for platform CUDA (this does not guarantee that XLA will be used). Devices:\n",
      "2024-12-07 14:28:37.518173: I external/local_xla/xla/service/service.cc:176]   StreamExecutor device (0): NVIDIA GeForce MX110, Compute Capability 5.0\n",
      "2024-12-07 14:28:38.977536: I tensorflow/compiler/mlir/tensorflow/utils/dump_mlir_util.cc:269] disabling MLIR crash reproducer, set env var `MLIR_CRASH_REPRODUCER_DIRECTORY` to enable.\n",
      "WARNING: All log messages before absl::InitializeLog() is called are written to STDERR\n",
      "I0000 00:00:1733556520.597235    4192 device_compiler.h:186] Compiled cluster using XLA!  This line is logged at most once for the lifetime of the process.\n"
     ]
    },
    {
     "name": "stdout",
     "output_type": "stream",
     "text": [
      "11436/11436 [==============================] - ETA: 0s - loss: 0.0110 - accuracy: 0.9994INFO:tensorflow:Reduce to /job:localhost/replica:0/task:0/device:CPU:0 then broadcast to ('/job:localhost/replica:0/task:0/device:CPU:0',).\n",
      "INFO:tensorflow:Reduce to /job:localhost/replica:0/task:0/device:CPU:0 then broadcast to ('/job:localhost/replica:0/task:0/device:CPU:0',).\n",
      "11436/11436 [==============================] - 524s 44ms/step - loss: 0.0110 - accuracy: 0.9994 - val_loss: 8.3456e-04 - val_accuracy: 0.9999\n",
      "Epoch 2/15\n",
      "11436/11436 [==============================] - 486s 43ms/step - loss: 3.3708e-04 - accuracy: 0.9999 - val_loss: 3.2243e-04 - val_accuracy: 0.9999\n",
      "Epoch 3/15\n",
      "11436/11436 [==============================] - 496s 43ms/step - loss: 1.9785e-04 - accuracy: 0.9999 - val_loss: 1.5313e-04 - val_accuracy: 0.9999\n",
      "Epoch 4/15\n",
      "11436/11436 [==============================] - 497s 43ms/step - loss: 1.3600e-04 - accuracy: 1.0000 - val_loss: 9.5239e-05 - val_accuracy: 1.0000\n",
      "Epoch 5/15\n",
      "11436/11436 [==============================] - 474s 41ms/step - loss: 1.0264e-04 - accuracy: 1.0000 - val_loss: 6.0415e-05 - val_accuracy: 1.0000\n",
      "Epoch 6/15\n",
      "11436/11436 [==============================] - 458s 40ms/step - loss: 7.7227e-05 - accuracy: 1.0000 - val_loss: 9.0607e-05 - val_accuracy: 1.0000\n",
      "Epoch 7/15\n",
      "11436/11436 [==============================] - 461s 40ms/step - loss: 7.7070e-05 - accuracy: 1.0000 - val_loss: 7.9160e-05 - val_accuracy: 1.0000\n",
      "Epoch 8/15\n",
      "11436/11436 [==============================] - 455s 40ms/step - loss: 6.9355e-05 - accuracy: 1.0000 - val_loss: 5.8156e-05 - val_accuracy: 1.0000\n",
      "Epoch 9/15\n",
      "11436/11436 [==============================] - 443s 39ms/step - loss: 5.6369e-05 - accuracy: 1.0000 - val_loss: 1.8744e-04 - val_accuracy: 0.9999\n",
      "Epoch 10/15\n",
      "11436/11436 [==============================] - 441s 39ms/step - loss: 5.6001e-05 - accuracy: 1.0000 - val_loss: 4.6031e-05 - val_accuracy: 1.0000\n",
      "Epoch 11/15\n",
      "11436/11436 [==============================] - 433s 38ms/step - loss: 5.6264e-05 - accuracy: 1.0000 - val_loss: 5.1180e-05 - val_accuracy: 1.0000\n",
      "Epoch 12/15\n",
      "11436/11436 [==============================] - 438s 38ms/step - loss: 5.3404e-05 - accuracy: 1.0000 - val_loss: 5.4929e-05 - val_accuracy: 1.0000\n",
      "Epoch 13/15\n",
      "11436/11436 [==============================] - 436s 38ms/step - loss: 5.2788e-05 - accuracy: 1.0000 - val_loss: 1.1122e-04 - val_accuracy: 1.0000\n",
      "Epoch 14/15\n",
      "11436/11436 [==============================] - 435s 38ms/step - loss: 4.4678e-05 - accuracy: 1.0000 - val_loss: 4.8885e-05 - val_accuracy: 1.0000\n",
      "Epoch 15/15\n",
      "11436/11436 [==============================] - 433s 38ms/step - loss: 4.9445e-05 - accuracy: 1.0000 - val_loss: 5.2657e-05 - val_accuracy: 1.0000\n"
     ]
    }
   ],
   "source": [
    "# Clear session and Memory Growth\n",
    "clear_session()\n",
    "\n",
    "# Create a Strategy.\n",
    "mixed_precision.set_global_policy('mixed_float16')\n",
    "\n",
    "if tf.config.list_physical_devices('GPU'):\n",
    "    strategy = tf.distribute.MirroredStrategy()\n",
    "else:  # Use the Default Strategy\n",
    "    strategy = tf.distribute.get_strategy()\n",
    "\n",
    "print(\"Number of devices: {}\".format(strategy.num_replicas_in_sync))\n",
    "\n",
    "# Open a strategy scope.\n",
    "with strategy.scope():\n",
    "    model=model_cnn()\n",
    "# Train the model on all available devices.\n",
    "history = model.fit(x_train, y_train, validation_data=(x_test, y_test), epochs=15, batch_size=256, callbacks=callbacks)"
   ]
  },
  {
   "cell_type": "code",
   "execution_count": 19,
   "id": "b7520315-8b64-4394-95a0-d86901f92a5f",
   "metadata": {},
   "outputs": [
    {
     "name": "stdout",
     "output_type": "stream",
     "text": [
      "22874/22874 [==============================] - 122s 5ms/step - loss: 5.2662e-05 - accuracy: 1.0000\n",
      "test loss, test acc: [5.266158768790774e-05, 0.9999849796295166]\n"
     ]
    }
   ],
   "source": [
    "results = model.evaluate(x_test, y_test, verbose=1)\n",
    "print(\"test loss, test acc:\", results)"
   ]
  },
  {
   "cell_type": "code",
   "execution_count": 20,
   "id": "d0c7e881-54af-4e3c-aaca-79c2a784b97e",
   "metadata": {},
   "outputs": [
    {
     "name": "stdout",
     "output_type": "stream",
     "text": [
      "22874/22874 [==============================] - 122s 5ms/step - loss: 5.2662e-05 - accuracy: 1.0000\n",
      "test loss, test acc: [5.266158768790774e-05, 0.9999849796295166]\n"
     ]
    }
   ],
   "source": [
    "results = model.evaluate(x_test, y_test, verbose=1)\n",
    "print(\"test loss, test acc:\", results)"
   ]
  },
  {
   "cell_type": "code",
   "execution_count": 21,
   "id": "0fa986d2-1a5b-41b5-ac86-6834e2a44ed2",
   "metadata": {},
   "outputs": [
    {
     "data": {
      "image/png": "[encoded data removed]",
      "text/plain": [
       "<Figure size 640x480 with 1 Axes>"
      ]
     },
     "metadata": {},
     "output_type": "display_data"
    }
   ],
   "source": [
    "# summarize history for loss\n",
    "train_loss = history.history['loss']\n",
    "test_loss = history.history['val_loss']\n",
    "x = list(range(1, len(test_loss) + 1))\n",
    "plt.plot(x, test_loss, color = 'orange', label = 'Test loss')\n",
    "plt.plot(x, train_loss, label = 'Training loss')\n",
    "plt.legend()\n",
    "plt.grid(visible=True)\n",
    "plt.xlabel('Epoch')\n",
    "plt.ylabel('Loss')\n",
    "plt.title('Loss vs. Epoch', weight='bold', fontsize=18)\n",
    "plt.show()"
   ]
  },
  {
   "cell_type": "code",
   "execution_count": 22,
   "id": "a7348e0c-d89c-4191-97c2-0c8c18400bce",
   "metadata": {},
   "outputs": [
    {
     "data": {
      "image/png": "[encoded data removed]",
      "text/plain": [
       "<Figure size 640x480 with 1 Axes>"
      ]
     },
     "metadata": {},
     "output_type": "display_data"
    }
   ],
   "source": [
    "# summarize history for accuracy\n",
    "train_acc = history.history['accuracy']\n",
    "test_acc = history.history['val_accuracy']\n",
    "x = list(range(1, len(test_acc) + 1))\n",
    "plt.plot(x, test_acc, color = 'orange', label = 'Test accuracy')\n",
    "plt.plot(x, train_acc, label = 'Training accuracy')\n",
    "plt.legend()\n",
    "plt.grid(visible=True)\n",
    "plt.xlabel('Epoch')\n",
    "plt.ylabel('Accuracy')\n",
    "plt.title('Accuracy vs. Epoch', weight='bold', fontsize=18)\n",
    "plt.show()"
   ]
  },
  {
   "cell_type": "code",
   "execution_count": 23,
   "id": "a72b0c92-7097-40f5-a844-1d9a0d0e8df7",
   "metadata": {},
   "outputs": [
    {
     "name": "stdout",
     "output_type": "stream",
     "text": [
      "22874/22874 [==============================] - 86s 4ms/step\n"
     ]
    }
   ],
   "source": [
    "# Prediction\n",
    "predicted = model.predict(x_test)"
   ]
  },
  {
   "cell_type": "code",
   "execution_count": 24,
   "id": "b99b2aae-bdaf-4424-8a69-95e7b38d2c07",
   "metadata": {},
   "outputs": [],
   "source": [
    "df = pd.DataFrame(y_test)\n",
    "df['predicted'] = predicted"
   ]
  },
  {
   "cell_type": "code",
   "execution_count": 25,
   "id": "8b299ea5-f4eb-4d95-8858-cfa0e7d04ea9",
   "metadata": {},
   "outputs": [
    {
     "name": "stdout",
     "output_type": "stream",
     "text": [
      "FPR : [1.         0.01886792]\n",
      "FNR : [0.00000000e+00 1.22977364e-05]\n"
     ]
    }
   ],
   "source": [
    "from sklearn.metrics import det_curve\n",
    "fpr, fnr, threshold = det_curve(y_test, np.round(predicted))\n",
    "print(\"FPR :\", fpr)\n",
    "print(\"FNR :\", fnr)"
   ]
  },
  {
   "cell_type": "code",
   "execution_count": 26,
   "id": "c08a685e-ec64-49ea-878d-8a3cc4bac160",
   "metadata": {},
   "outputs": [],
   "source": [
    "cf = confusion_matrix(y_test, np.round(predicted))"
   ]
  },
  {
   "cell_type": "code",
   "execution_count": 27,
   "id": "62f20dab-048f-4c1f-b55d-d3eadc90359c",
   "metadata": {},
   "outputs": [
    {
     "data": {
      "image/png": "[encoded data removed]",
      "text/plain": [
       "<Figure size 640x480 with 1 Axes>"
      ]
     },
     "metadata": {},
     "output_type": "display_data"
    }
   ],
   "source": [
    "cmatrix_df = pd.DataFrame(cf, index = ['Normal', 'Attack'], columns = ['Normal', 'Attack'])\n",
    "plt.title('Confusion matrix dari Model', weight='bold', fontsize=14)\n",
    "plt.tick_params(length=0)\n",
    "plt.xlabel('Attacks')\n",
    "plt.ylabel('Predicted Attacks')\n",
    "sns.heatmap(cmatrix_df, annot=True, fmt=\"d\", cbar=False, cmap='Blues')\n",
    "plt.show()"
   ]
  },
  {
   "cell_type": "code",
   "execution_count": 28,
   "id": "c780ee85-509f-48cd-bbbf-605c18215a45",
   "metadata": {},
   "outputs": [
    {
     "name": "stdout",
     "output_type": "stream",
     "text": [
      "              precision    recall  f1-score   support\n",
      "\n",
      "           0       0.92      0.98      0.95       106\n",
      "           1       1.00      1.00      1.00    731842\n",
      "\n",
      "    accuracy                           1.00    731948\n",
      "   macro avg       0.96      0.99      0.97    731948\n",
      "weighted avg       1.00      1.00      1.00    731948\n",
      "\n"
     ]
    }
   ],
   "source": [
    "# Precision, Recall & F1 Score\n",
    "class_report = classification_report(y_test, np.round(predicted))\n",
    "print(class_report)"
   ]
  },
  {
   "cell_type": "code",
   "execution_count": 29,
   "id": "d0969ac3-1772-4dab-a902-8f3feaf9ca8a",
   "metadata": {},
   "outputs": [
    {
     "data": {
      "image/png": "[encoded data removed]",
      "text/plain": [
       "<Figure size 640x480 with 1 Axes>"
      ]
     },
     "metadata": {},
     "output_type": "display_data"
    }
   ],
   "source": [
    "# Precision, Recall & F1-Score\n",
    "class_report = classification_report(y_test, np.round(predicted), target_names = ['Normal', 'Attack'],output_dict=True) \n",
    "plt.tick_params(axis='both', which='major', labelsize=10, labelbottom = False, bottom=False, top = False, labeltop=True)\n",
    "plt.tick_params(length=0)\n",
    "sns.heatmap(pd.DataFrame(class_report).iloc[:-1, :-3].T, square=True, cbar=False,cmap='Blues', annot=True) \n",
    "plt.show()"
   ]
  },
  {
   "cell_type": "code",
   "execution_count": 30,
   "id": "e5b38947-a2f3-4888-96dc-4736bb7acf8d",
   "metadata": {},
   "outputs": [],
   "source": [
    "#Evaluate the model\n",
    "#model = load_model(('/home/riki/project_dl/finale/model/cnn1d_base_model.keras')\n",
    "model.save('~/04_Semester_4/revisi/model_iotbot_10_512.keras')"
   ]
  },
  {
   "cell_type": "code",
   "execution_count": 31,
   "id": "fb90485c-9abd-43e6-8dcc-62a1f107341c",
   "metadata": {},
   "outputs": [],
   "source": [
    "# adding normal column in data label\n",
    "normal=data_labels['attack']\n",
    "normal=normal.replace(1,2)\n",
    "normal=normal.replace(0,1)\n",
    "normal=normal.replace(2,0)\n",
    "data_labels.insert(1, 'normal', normal)"
   ]
  },
  {
   "cell_type": "code",
   "execution_count": 32,
   "id": "db6949c8-8834-4422-8498-8d4cb25541eb",
   "metadata": {},
   "outputs": [
    {
     "data": {
      "text/html": [
       "<div>\n",
       "<style scoped>\n",
       "    .dataframe tbody tr th:only-of-type {\n",
       "        vertical-align: middle;\n",
       "    }\n",
       "\n",
       "    .dataframe tbody tr th {\n",
       "        vertical-align: top;\n",
       "    }\n",
       "\n",
       "    .dataframe thead th {\n",
       "        text-align: right;\n",
       "    }\n",
       "</style>\n",
       "<table border=\"1\" class=\"dataframe\">\n",
       "  <thead>\n",
       "    <tr style=\"text-align: right;\">\n",
       "      <th></th>\n",
       "      <th>pred_attack</th>\n",
       "      <th>pred_normal</th>\n",
       "      <th>attack</th>\n",
       "      <th>category</th>\n",
       "      <th>normal</th>\n",
       "    </tr>\n",
       "  </thead>\n",
       "  <tbody>\n",
       "    <tr>\n",
       "      <th>0</th>\n",
       "      <td>1.0</td>\n",
       "      <td>0.0</td>\n",
       "      <td>1</td>\n",
       "      <td>DoS</td>\n",
       "      <td>0</td>\n",
       "    </tr>\n",
       "    <tr>\n",
       "      <th>1</th>\n",
       "      <td>1.0</td>\n",
       "      <td>0.0</td>\n",
       "      <td>1</td>\n",
       "      <td>DDoS</td>\n",
       "      <td>0</td>\n",
       "    </tr>\n",
       "    <tr>\n",
       "      <th>2</th>\n",
       "      <td>1.0</td>\n",
       "      <td>0.0</td>\n",
       "      <td>1</td>\n",
       "      <td>DDoS</td>\n",
       "      <td>0</td>\n",
       "    </tr>\n",
       "    <tr>\n",
       "      <th>3</th>\n",
       "      <td>1.0</td>\n",
       "      <td>0.0</td>\n",
       "      <td>1</td>\n",
       "      <td>DDoS</td>\n",
       "      <td>0</td>\n",
       "    </tr>\n",
       "    <tr>\n",
       "      <th>4</th>\n",
       "      <td>1.0</td>\n",
       "      <td>0.0</td>\n",
       "      <td>1</td>\n",
       "      <td>DoS</td>\n",
       "      <td>0</td>\n",
       "    </tr>\n",
       "  </tbody>\n",
       "</table>\n",
       "</div>"
      ],
      "text/plain": [
       "   pred_attack  pred_normal  attack category  normal\n",
       "0          1.0          0.0       1      DoS       0\n",
       "1          1.0          0.0       1     DDoS       0\n",
       "2          1.0          0.0       1     DDoS       0\n",
       "3          1.0          0.0       1     DDoS       0\n",
       "4          1.0          0.0       1      DoS       0"
      ]
     },
     "execution_count": 32,
     "metadata": {},
     "output_type": "execute_result"
    }
   ],
   "source": [
    "df1 = pd.DataFrame(np.round(predicted))\n",
    "df1.index = data.index\n",
    "df1.columns = ['pred_attack']\n",
    "df1['pred_normal'] = 1- df1['pred_attack']\n",
    "df1['attack']=data['attack']\n",
    "df1['category']=data['category']\n",
    "df1['normal']=data_labels['normal']\n",
    "df1.head()"
   ]
  },
  {
   "cell_type": "code",
   "execution_count": 33,
   "id": "094c65a6-6e8b-4898-954a-bb08cb2c03b9",
   "metadata": {},
   "outputs": [
    {
     "data": {
      "text/plain": [
       "category\n",
       "DDoS              385282\n",
       "DoS               330097\n",
       "Reconnaissance     16447\n",
       "Normal               106\n",
       "Theft                 16\n",
       "Name: count, dtype: int64"
      ]
     },
     "execution_count": 33,
     "metadata": {},
     "output_type": "execute_result"
    }
   ],
   "source": [
    "df1.value_counts('category')"
   ]
  },
  {
   "cell_type": "code",
   "execution_count": 34,
   "id": "39b867f3-1e6f-4dcd-91bd-34ab36b68e46",
   "metadata": {},
   "outputs": [
    {
     "data": {
      "text/html": [
       "<div>\n",
       "<style scoped>\n",
       "    .dataframe tbody tr th:only-of-type {\n",
       "        vertical-align: middle;\n",
       "    }\n",
       "\n",
       "    .dataframe tbody tr th {\n",
       "        vertical-align: top;\n",
       "    }\n",
       "\n",
       "    .dataframe thead th {\n",
       "        text-align: right;\n",
       "    }\n",
       "</style>\n",
       "<table border=\"1\" class=\"dataframe\">\n",
       "  <thead>\n",
       "    <tr style=\"text-align: right;\">\n",
       "      <th></th>\n",
       "      <th>pred_attack</th>\n",
       "      <th>pred_normal</th>\n",
       "      <th>attack</th>\n",
       "      <th>normal</th>\n",
       "      <th>category_DDoS</th>\n",
       "      <th>category_DoS</th>\n",
       "      <th>category_Normal</th>\n",
       "      <th>category_Reconnaissance</th>\n",
       "      <th>category_Theft</th>\n",
       "    </tr>\n",
       "  </thead>\n",
       "  <tbody>\n",
       "    <tr>\n",
       "      <th>0</th>\n",
       "      <td>1.0</td>\n",
       "      <td>0.0</td>\n",
       "      <td>1</td>\n",
       "      <td>0</td>\n",
       "      <td>False</td>\n",
       "      <td>True</td>\n",
       "      <td>False</td>\n",
       "      <td>False</td>\n",
       "      <td>False</td>\n",
       "    </tr>\n",
       "    <tr>\n",
       "      <th>1</th>\n",
       "      <td>1.0</td>\n",
       "      <td>0.0</td>\n",
       "      <td>1</td>\n",
       "      <td>0</td>\n",
       "      <td>True</td>\n",
       "      <td>False</td>\n",
       "      <td>False</td>\n",
       "      <td>False</td>\n",
       "      <td>False</td>\n",
       "    </tr>\n",
       "    <tr>\n",
       "      <th>2</th>\n",
       "      <td>1.0</td>\n",
       "      <td>0.0</td>\n",
       "      <td>1</td>\n",
       "      <td>0</td>\n",
       "      <td>True</td>\n",
       "      <td>False</td>\n",
       "      <td>False</td>\n",
       "      <td>False</td>\n",
       "      <td>False</td>\n",
       "    </tr>\n",
       "    <tr>\n",
       "      <th>3</th>\n",
       "      <td>1.0</td>\n",
       "      <td>0.0</td>\n",
       "      <td>1</td>\n",
       "      <td>0</td>\n",
       "      <td>True</td>\n",
       "      <td>False</td>\n",
       "      <td>False</td>\n",
       "      <td>False</td>\n",
       "      <td>False</td>\n",
       "    </tr>\n",
       "    <tr>\n",
       "      <th>4</th>\n",
       "      <td>1.0</td>\n",
       "      <td>0.0</td>\n",
       "      <td>1</td>\n",
       "      <td>0</td>\n",
       "      <td>False</td>\n",
       "      <td>True</td>\n",
       "      <td>False</td>\n",
       "      <td>False</td>\n",
       "      <td>False</td>\n",
       "    </tr>\n",
       "    <tr>\n",
       "      <th>...</th>\n",
       "      <td>...</td>\n",
       "      <td>...</td>\n",
       "      <td>...</td>\n",
       "      <td>...</td>\n",
       "      <td>...</td>\n",
       "      <td>...</td>\n",
       "      <td>...</td>\n",
       "      <td>...</td>\n",
       "      <td>...</td>\n",
       "    </tr>\n",
       "    <tr>\n",
       "      <th>733699</th>\n",
       "      <td>1.0</td>\n",
       "      <td>0.0</td>\n",
       "      <td>1</td>\n",
       "      <td>0</td>\n",
       "      <td>False</td>\n",
       "      <td>True</td>\n",
       "      <td>False</td>\n",
       "      <td>False</td>\n",
       "      <td>False</td>\n",
       "    </tr>\n",
       "    <tr>\n",
       "      <th>733700</th>\n",
       "      <td>1.0</td>\n",
       "      <td>0.0</td>\n",
       "      <td>1</td>\n",
       "      <td>0</td>\n",
       "      <td>False</td>\n",
       "      <td>True</td>\n",
       "      <td>False</td>\n",
       "      <td>False</td>\n",
       "      <td>False</td>\n",
       "    </tr>\n",
       "    <tr>\n",
       "      <th>733701</th>\n",
       "      <td>1.0</td>\n",
       "      <td>0.0</td>\n",
       "      <td>1</td>\n",
       "      <td>0</td>\n",
       "      <td>False</td>\n",
       "      <td>True</td>\n",
       "      <td>False</td>\n",
       "      <td>False</td>\n",
       "      <td>False</td>\n",
       "    </tr>\n",
       "    <tr>\n",
       "      <th>733702</th>\n",
       "      <td>1.0</td>\n",
       "      <td>0.0</td>\n",
       "      <td>1</td>\n",
       "      <td>0</td>\n",
       "      <td>True</td>\n",
       "      <td>False</td>\n",
       "      <td>False</td>\n",
       "      <td>False</td>\n",
       "      <td>False</td>\n",
       "    </tr>\n",
       "    <tr>\n",
       "      <th>733703</th>\n",
       "      <td>1.0</td>\n",
       "      <td>0.0</td>\n",
       "      <td>1</td>\n",
       "      <td>0</td>\n",
       "      <td>True</td>\n",
       "      <td>False</td>\n",
       "      <td>False</td>\n",
       "      <td>False</td>\n",
       "      <td>False</td>\n",
       "    </tr>\n",
       "  </tbody>\n",
       "</table>\n",
       "<p>731948 rows × 9 columns</p>\n",
       "</div>"
      ],
      "text/plain": [
       "        pred_attack  pred_normal  attack  normal  category_DDoS  category_DoS  \\\n",
       "0               1.0          0.0       1       0          False          True   \n",
       "1               1.0          0.0       1       0           True         False   \n",
       "2               1.0          0.0       1       0           True         False   \n",
       "3               1.0          0.0       1       0           True         False   \n",
       "4               1.0          0.0       1       0          False          True   \n",
       "...             ...          ...     ...     ...            ...           ...   \n",
       "733699          1.0          0.0       1       0          False          True   \n",
       "733700          1.0          0.0       1       0          False          True   \n",
       "733701          1.0          0.0       1       0          False          True   \n",
       "733702          1.0          0.0       1       0           True         False   \n",
       "733703          1.0          0.0       1       0           True         False   \n",
       "\n",
       "        category_Normal  category_Reconnaissance  category_Theft  \n",
       "0                 False                    False           False  \n",
       "1                 False                    False           False  \n",
       "2                 False                    False           False  \n",
       "3                 False                    False           False  \n",
       "4                 False                    False           False  \n",
       "...                 ...                      ...             ...  \n",
       "733699            False                    False           False  \n",
       "733700            False                    False           False  \n",
       "733701            False                    False           False  \n",
       "733702            False                    False           False  \n",
       "733703            False                    False           False  \n",
       "\n",
       "[731948 rows x 9 columns]"
      ]
     },
     "execution_count": 34,
     "metadata": {},
     "output_type": "execute_result"
    }
   ],
   "source": [
    "dff1=df1\n",
    "df1=pd.get_dummies(df1)\n",
    "df1=round(df1)\n",
    "df1"
   ]
  },
  {
   "cell_type": "code",
   "execution_count": 35,
   "id": "071aa947-5a9d-46a8-b47c-02fdab9a83e9",
   "metadata": {},
   "outputs": [],
   "source": [
    "ddos=df1.loc[df1['category_DDoS'] == 1]\n",
    "ddos=ddos[['pred_attack', 'pred_normal', 'attack', 'normal']]\n",
    "ddos_pred=ddos[['pred_attack','pred_normal']]\n",
    "ddos_check=ddos[['attack','normal']]\n",
    "\n",
    "normal=df1.loc[df1['category_Normal'] == 1]\n",
    "normal=normal[['pred_attack', 'pred_normal', 'attack', 'normal']]\n",
    "normal_pred=normal[['pred_attack','pred_normal']]\n",
    "normal_check=normal[['attack','normal']]\n",
    "\n",
    "theft=df1.loc[df1['category_Theft'] == 1]\n",
    "theft=theft[['pred_attack', 'pred_normal', 'attack', 'normal']]\n",
    "theft_pred=theft[['pred_attack','pred_normal']]\n",
    "theft_check=theft[['attack','normal']]\n",
    "\n",
    "reconnaissance=df1.loc[df1['category_Reconnaissance'] == 1]\n",
    "reconnaissance=reconnaissance[['pred_attack', 'pred_normal', 'attack', 'normal']]\n",
    "reconnaissance_pred=reconnaissance[['pred_attack','pred_normal']]\n",
    "reconnaissance_check=reconnaissance[['attack','normal']]\n",
    "\n",
    "dos=df1.loc[df1['category_DoS'] == 1]\n",
    "dos=dos[['pred_attack', 'pred_normal', 'attack', 'normal']]\n",
    "dos_pred=dos[['pred_attack','pred_normal']]\n",
    "dos_check=dos[['attack','normal']]"
   ]
  },
  {
   "cell_type": "code",
   "execution_count": 36,
   "id": "6f24f22f-696b-4a28-922c-ffc1dbcc6637",
   "metadata": {},
   "outputs": [],
   "source": [
    "#Correctly detected\n",
    "countdata=pd.DataFrame()\n",
    "normal_c = normal['pred_normal'] * normal['normal']\n",
    "ddos_c = ddos['pred_attack'] * ddos['attack']\n",
    "theft_c = theft['pred_attack'] * theft['attack']\n",
    "reconnaissance_c = reconnaissance['pred_attack'] * reconnaissance['attack']\n",
    "dos_c = dos['pred_attack'] * dos['attack']"
   ]
  },
  {
   "cell_type": "code",
   "execution_count": 37,
   "id": "6785240e-b465-4c84-959b-fd1df472d557",
   "metadata": {},
   "outputs": [],
   "source": [
    "# Count 0 and 1\n",
    "normal_c0 = (normal_c == 0).sum()\n",
    "normal_c1 = len(normal) - normal_c0\n",
    "\n",
    "ddos_c0 = (ddos_c == 0).sum()\n",
    "ddos_c1 = len(ddos) - ddos_c0\n",
    "\n",
    "theft_c0 = (theft_c == 0).sum()\n",
    "theft_c1 = len(theft) - theft_c0\n",
    "\n",
    "reconnaissance_c0 = (reconnaissance_c == 0).sum()\n",
    "reconnaissance_c1 = len(reconnaissance) - reconnaissance_c0\n",
    "\n",
    "dos_c0 = (dos_c == 0).sum()\n",
    "dos_c1 = len(dos) - dos_c0"
   ]
  },
  {
   "cell_type": "code",
   "execution_count": 38,
   "id": "761a543e-81d1-498d-a7cd-301148b82da7",
   "metadata": {},
   "outputs": [
    {
     "name": "stdout",
     "output_type": "stream",
     "text": [
      "There are 1.89 % of NO detected and 98.11 % of detected samples\n"
     ]
    }
   ],
   "source": [
    "normal_0, normal_1 = normal_c0*100 / len(normal), normal_c1*100 / len(normal)\n",
    "print(\"There are {:.2f} % of NO detected and {:.2f} % of detected samples\".format(normal_0, normal_1))"
   ]
  },
  {
   "cell_type": "code",
   "execution_count": 39,
   "id": "0083ad5c-e19e-403b-a782-fa3ea91daffe",
   "metadata": {},
   "outputs": [
    {
     "name": "stdout",
     "output_type": "stream",
     "text": [
      "There are 0.00 % of NO detected and 100.00 % of detected samples\n"
     ]
    }
   ],
   "source": [
    "ddos_0, ddos_1 = ddos_c0*100 / len(ddos), ddos_c1*100 / len(ddos)\n",
    "print(\"There are {:.2f} % of NO detected and {:.2f} % of detected samples\".format(ddos_0, ddos_1))"
   ]
  },
  {
   "cell_type": "code",
   "execution_count": 40,
   "id": "63574453-744e-4fc3-b1ac-c6f3a7a66ce7",
   "metadata": {},
   "outputs": [
    {
     "name": "stdout",
     "output_type": "stream",
     "text": [
      "There are 0.00 % of NO detected and 100.00 % of detected samples\n"
     ]
    }
   ],
   "source": [
    "theft_0, theft_1 = theft_c0*100 / len(theft), theft_c1*100 / len(theft)\n",
    "print(\"There are {:.2f} % of NO detected and {:.2f} % of detected samples\".format(theft_0, theft_1))"
   ]
  },
  {
   "cell_type": "code",
   "execution_count": 41,
   "id": "17a57a1f-1fa1-450c-b640-7aa67dbb5640",
   "metadata": {},
   "outputs": [
    {
     "name": "stdout",
     "output_type": "stream",
     "text": [
      "There are 0.05 % of NO detected and 99.95 % of detected samples\n"
     ]
    }
   ],
   "source": [
    "reconnaissance_0, reconnaissance_1 = reconnaissance_c0*100 / len(reconnaissance), reconnaissance_c1*100 / len(reconnaissance)\n",
    "print(\"There are {:.2f} % of NO detected and {:.2f} % of detected samples\".format(reconnaissance_0, reconnaissance_1))"
   ]
  },
  {
   "cell_type": "code",
   "execution_count": 42,
   "id": "02d24c4d-6b9b-4754-af07-4670d6677684",
   "metadata": {},
   "outputs": [
    {
     "name": "stdout",
     "output_type": "stream",
     "text": [
      "There are 0.00 % of NO detected and 100.00 % of detected samples\n"
     ]
    }
   ],
   "source": [
    "dos_0, dos_1 = dos_c0*100 / len(dos), dos_c1*100 / len(dos)\n",
    "print(\"There are {:.2f} % of NO detected and {:.2f} % of detected samples\".format(dos_0, dos_1))"
   ]
  },
  {
   "cell_type": "code",
   "execution_count": 43,
   "id": "5f7692de-324f-4d46-bec2-72f1fb429d24",
   "metadata": {},
   "outputs": [],
   "source": [
    "summary = pd.DataFrame({\"Traffic\":\n",
    "                   [\"Normal\", \"ddos\", \"theft\", \"Reconnaissance\", \"DoS\"],\n",
    "                   \"Detected %\": [normal_1, ddos_1, theft_1, reconnaissance_1, dos_1],\n",
    "                   \"No Detected %\": [normal_0, ddos_0, theft_0, reconnaissance_0, dos_0],\n",
    "                   \"Detected Samples\": [normal_c1, ddos_c1, theft_c1, reconnaissance_c1, dos_c1],\n",
    "                   \"No Detected Samples\": [normal_c0, ddos_c0, theft_c0, reconnaissance_c0, dos_c0]})"
   ]
  },
  {
   "cell_type": "code",
   "execution_count": 44,
   "id": "6a87b838-8dd5-40fd-a079-f0e4b1fdef11",
   "metadata": {},
   "outputs": [],
   "source": [
    "dff1['category_pred'] = np.where(((df1['attack'] == 1) & (df1['pred_attack'] == 1)) | ((df1['normal'] == 1) & (df1['pred_normal'] == 1)), 'Detected', 'No Detected')"
   ]
  },
  {
   "cell_type": "code",
   "execution_count": 45,
   "id": "1c8ae580-4435-4591-a5af-66cd4acfd98a",
   "metadata": {},
   "outputs": [],
   "source": [
    "data_plot=dff1[['category', 'category_pred']]"
   ]
  },
  {
   "cell_type": "code",
   "execution_count": 46,
   "id": "92b850ee-eabb-43d4-a236-7bc440f14a26",
   "metadata": {},
   "outputs": [
    {
     "data": {
      "text/html": [
       "<div>\n",
       "<style scoped>\n",
       "    .dataframe tbody tr th:only-of-type {\n",
       "        vertical-align: middle;\n",
       "    }\n",
       "\n",
       "    .dataframe tbody tr th {\n",
       "        vertical-align: top;\n",
       "    }\n",
       "\n",
       "    .dataframe thead th {\n",
       "        text-align: right;\n",
       "    }\n",
       "</style>\n",
       "<table border=\"1\" class=\"dataframe\">\n",
       "  <thead>\n",
       "    <tr style=\"text-align: right;\">\n",
       "      <th></th>\n",
       "      <th>category</th>\n",
       "      <th>category_pred</th>\n",
       "    </tr>\n",
       "  </thead>\n",
       "  <tbody>\n",
       "    <tr>\n",
       "      <th>0</th>\n",
       "      <td>DoS</td>\n",
       "      <td>Detected</td>\n",
       "    </tr>\n",
       "    <tr>\n",
       "      <th>1</th>\n",
       "      <td>DDoS</td>\n",
       "      <td>Detected</td>\n",
       "    </tr>\n",
       "    <tr>\n",
       "      <th>2</th>\n",
       "      <td>DDoS</td>\n",
       "      <td>Detected</td>\n",
       "    </tr>\n",
       "    <tr>\n",
       "      <th>3</th>\n",
       "      <td>DDoS</td>\n",
       "      <td>Detected</td>\n",
       "    </tr>\n",
       "    <tr>\n",
       "      <th>4</th>\n",
       "      <td>DoS</td>\n",
       "      <td>Detected</td>\n",
       "    </tr>\n",
       "    <tr>\n",
       "      <th>...</th>\n",
       "      <td>...</td>\n",
       "      <td>...</td>\n",
       "    </tr>\n",
       "    <tr>\n",
       "      <th>733699</th>\n",
       "      <td>DoS</td>\n",
       "      <td>Detected</td>\n",
       "    </tr>\n",
       "    <tr>\n",
       "      <th>733700</th>\n",
       "      <td>DoS</td>\n",
       "      <td>Detected</td>\n",
       "    </tr>\n",
       "    <tr>\n",
       "      <th>733701</th>\n",
       "      <td>DoS</td>\n",
       "      <td>Detected</td>\n",
       "    </tr>\n",
       "    <tr>\n",
       "      <th>733702</th>\n",
       "      <td>DDoS</td>\n",
       "      <td>Detected</td>\n",
       "    </tr>\n",
       "    <tr>\n",
       "      <th>733703</th>\n",
       "      <td>DDoS</td>\n",
       "      <td>Detected</td>\n",
       "    </tr>\n",
       "  </tbody>\n",
       "</table>\n",
       "<p>731948 rows × 2 columns</p>\n",
       "</div>"
      ],
      "text/plain": [
       "       category category_pred\n",
       "0           DoS      Detected\n",
       "1          DDoS      Detected\n",
       "2          DDoS      Detected\n",
       "3          DDoS      Detected\n",
       "4           DoS      Detected\n",
       "...         ...           ...\n",
       "733699      DoS      Detected\n",
       "733700      DoS      Detected\n",
       "733701      DoS      Detected\n",
       "733702     DDoS      Detected\n",
       "733703     DDoS      Detected\n",
       "\n",
       "[731948 rows x 2 columns]"
      ]
     },
     "execution_count": 46,
     "metadata": {},
     "output_type": "execute_result"
    }
   ],
   "source": [
    "data_plot"
   ]
  },
  {
   "cell_type": "code",
   "execution_count": 47,
   "id": "0ddd611f-fab8-4005-a177-c10072d4b0a8",
   "metadata": {},
   "outputs": [
    {
     "data": {
      "image/png": "[encoded data removed]",
      "text/plain": [
       "<Figure size 1500x500 with 1 Axes>"
      ]
     },
     "metadata": {},
     "output_type": "display_data"
    }
   ],
   "source": [
    "# Plotting target label distribution\n",
    "plt.figure(figsize=(15,5))\n",
    "sns.set_theme(style=\"darkgrid\")\n",
    "sns.countplot(x=data_plot['category'], data=data_plot,palette='CMRmap', hue=data_plot['category_pred'])\n",
    "plt.title('The detection of the attacks in IoT Bot dataset', weight='bold', fontsize='18')\n",
    "plt.xticks(weight='bold', fontsize=12)\n",
    "plt.show()"
   ]
  },
  {
   "cell_type": "code",
   "execution_count": 48,
   "id": "a34df9ff-45df-4c6e-81d0-aa2b784c3991",
   "metadata": {},
   "outputs": [
    {
     "data": {
      "text/html": [
       "<div>\n",
       "<style scoped>\n",
       "    .dataframe tbody tr th:only-of-type {\n",
       "        vertical-align: middle;\n",
       "    }\n",
       "\n",
       "    .dataframe tbody tr th {\n",
       "        vertical-align: top;\n",
       "    }\n",
       "\n",
       "    .dataframe thead th {\n",
       "        text-align: right;\n",
       "    }\n",
       "</style>\n",
       "<table border=\"1\" class=\"dataframe\">\n",
       "  <thead>\n",
       "    <tr style=\"text-align: right;\">\n",
       "      <th></th>\n",
       "      <th>Traffic</th>\n",
       "      <th>Detected %</th>\n",
       "      <th>No Detected %</th>\n",
       "      <th>Detected Samples</th>\n",
       "      <th>No Detected Samples</th>\n",
       "    </tr>\n",
       "  </thead>\n",
       "  <tbody>\n",
       "    <tr>\n",
       "      <th>0</th>\n",
       "      <td>Normal</td>\n",
       "      <td>98.113208</td>\n",
       "      <td>1.886792</td>\n",
       "      <td>104</td>\n",
       "      <td>2</td>\n",
       "    </tr>\n",
       "    <tr>\n",
       "      <th>1</th>\n",
       "      <td>ddos</td>\n",
       "      <td>100.000000</td>\n",
       "      <td>0.000000</td>\n",
       "      <td>385282</td>\n",
       "      <td>0</td>\n",
       "    </tr>\n",
       "    <tr>\n",
       "      <th>2</th>\n",
       "      <td>theft</td>\n",
       "      <td>100.000000</td>\n",
       "      <td>0.000000</td>\n",
       "      <td>16</td>\n",
       "      <td>0</td>\n",
       "    </tr>\n",
       "    <tr>\n",
       "      <th>3</th>\n",
       "      <td>Reconnaissance</td>\n",
       "      <td>99.945279</td>\n",
       "      <td>0.054721</td>\n",
       "      <td>16438</td>\n",
       "      <td>9</td>\n",
       "    </tr>\n",
       "    <tr>\n",
       "      <th>4</th>\n",
       "      <td>DoS</td>\n",
       "      <td>100.000000</td>\n",
       "      <td>0.000000</td>\n",
       "      <td>330097</td>\n",
       "      <td>0</td>\n",
       "    </tr>\n",
       "  </tbody>\n",
       "</table>\n",
       "</div>"
      ],
      "text/plain": [
       "          Traffic  Detected %  No Detected %  Detected Samples  \\\n",
       "0          Normal   98.113208       1.886792               104   \n",
       "1            ddos  100.000000       0.000000            385282   \n",
       "2           theft  100.000000       0.000000                16   \n",
       "3  Reconnaissance   99.945279       0.054721             16438   \n",
       "4             DoS  100.000000       0.000000            330097   \n",
       "\n",
       "   No Detected Samples  \n",
       "0                    2  \n",
       "1                    0  \n",
       "2                    0  \n",
       "3                    9  \n",
       "4                    0  "
      ]
     },
     "execution_count": 48,
     "metadata": {},
     "output_type": "execute_result"
    }
   ],
   "source": [
    "summary"
   ]
  },
  {
   "cell_type": "code",
   "execution_count": 49,
   "id": "2167c3cb-28bf-4862-8018-6a900e05583b",
   "metadata": {},
   "outputs": [],
   "source": [
    "summary.to_csv('~/04_Semester_4/revisi/csv_files/iotbot_model_24_512.csv', index=False)"
   ]
  },
  {
   "cell_type": "code",
   "execution_count": 50,
   "id": "72d7e334-9e37-476c-bf52-6d3284b9471f",
   "metadata": {},
   "outputs": [],
   "source": [
    "model.save('model_iotbot_24_512.keras')"
   ]
  },
  {
   "cell_type": "code",
   "execution_count": null,
   "id": "3cff114c-ee2a-4a90-af5e-c5891afb41bd",
   "metadata": {},
   "outputs": [],
   "source": [
    "new_model = tf.keras.models.load_model('my_model.keras')"
   ]
  }
 ],
 "metadata": {
  "kernelspec": {
   "display_name": "python3.11",
   "language": "python",
   "name": "python3.11"
  },
  "language_info": {
   "codemirror_mode": {
    "name": "ipython",
    "version": 3
   },
   "file_extension": ".py",
   "mimetype": "text/x-python",
   "name": "python",
   "nbconvert_exporter": "python",
   "pygments_lexer": "ipython3",
   "version": "3.11.0rc1"
  }
 },
 "nbformat": 4,
 "nbformat_minor": 5
}
